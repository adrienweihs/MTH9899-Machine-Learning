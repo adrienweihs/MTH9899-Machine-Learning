{
 "cells": [
  {
   "cell_type": "code",
   "execution_count": 1,
   "metadata": {
    "ExecuteTime": {
     "end_time": "2019-05-21T02:59:03.403863Z",
     "start_time": "2019-05-21T02:59:02.304246Z"
    }
   },
   "outputs": [],
   "source": [
    "import numpy as np\n",
    "import pandas as pd\n",
    "import matplotlib.pyplot as plt\n",
    "import torch\n",
    "from sklearn.model_selection import RandomizedSearchCV\n",
    "from sklearn.metrics import r2_score\n",
    "from sklearn.model_selection import train_test_split\n",
    "import pickle"
   ]
  },
  {
   "cell_type": "code",
   "execution_count": 2,
   "metadata": {
    "ExecuteTime": {
     "end_time": "2019-05-21T02:59:04.617038Z",
     "start_time": "2019-05-21T02:59:03.405471Z"
    }
   },
   "outputs": [
    {
     "data": {
      "text/html": [
       "<div>\n",
       "<style scoped>\n",
       "    .dataframe tbody tr th:only-of-type {\n",
       "        vertical-align: middle;\n",
       "    }\n",
       "\n",
       "    .dataframe tbody tr th {\n",
       "        vertical-align: top;\n",
       "    }\n",
       "\n",
       "    .dataframe thead th {\n",
       "        text-align: right;\n",
       "    }\n",
       "</style>\n",
       "<table border=\"1\" class=\"dataframe\">\n",
       "  <thead>\n",
       "    <tr style=\"text-align: right;\">\n",
       "      <th></th>\n",
       "      <th>Date</th>\n",
       "      <th>sec_id</th>\n",
       "      <th>fut_ret</th>\n",
       "      <th>vol</th>\n",
       "      <th>X1</th>\n",
       "      <th>X3</th>\n",
       "      <th>X4</th>\n",
       "      <th>X6</th>\n",
       "      <th>X7</th>\n",
       "      <th>X1_norm</th>\n",
       "      <th>X3_norm</th>\n",
       "      <th>X4_norm</th>\n",
       "      <th>X6_norm</th>\n",
       "      <th>X7_norm</th>\n",
       "      <th>log_vol</th>\n",
       "    </tr>\n",
       "  </thead>\n",
       "  <tbody>\n",
       "    <tr>\n",
       "      <th>0</th>\n",
       "      <td>0.0</td>\n",
       "      <td>0.000000</td>\n",
       "      <td>0.037521</td>\n",
       "      <td>0.000563</td>\n",
       "      <td>0.002766</td>\n",
       "      <td>0.000000</td>\n",
       "      <td>0.0</td>\n",
       "      <td>0.0</td>\n",
       "      <td>0.000000e+00</td>\n",
       "      <td>2.128681</td>\n",
       "      <td>0.095161</td>\n",
       "      <td>-0.109858</td>\n",
       "      <td>0.180895</td>\n",
       "      <td>-0.080587</td>\n",
       "      <td>0.269877</td>\n",
       "    </tr>\n",
       "    <tr>\n",
       "      <th>1</th>\n",
       "      <td>0.0</td>\n",
       "      <td>0.000502</td>\n",
       "      <td>0.005565</td>\n",
       "      <td>0.000805</td>\n",
       "      <td>-0.000461</td>\n",
       "      <td>0.000000</td>\n",
       "      <td>0.0</td>\n",
       "      <td>0.0</td>\n",
       "      <td>0.000000e+00</td>\n",
       "      <td>-0.674305</td>\n",
       "      <td>0.095161</td>\n",
       "      <td>-0.109858</td>\n",
       "      <td>0.180895</td>\n",
       "      <td>-0.080587</td>\n",
       "      <td>0.879423</td>\n",
       "    </tr>\n",
       "    <tr>\n",
       "      <th>2</th>\n",
       "      <td>0.0</td>\n",
       "      <td>0.001005</td>\n",
       "      <td>-0.008732</td>\n",
       "      <td>0.000584</td>\n",
       "      <td>0.001580</td>\n",
       "      <td>-0.000464</td>\n",
       "      <td>0.0</td>\n",
       "      <td>0.0</td>\n",
       "      <td>3.921761e-13</td>\n",
       "      <td>1.098681</td>\n",
       "      <td>-5.279814</td>\n",
       "      <td>-0.109858</td>\n",
       "      <td>0.180895</td>\n",
       "      <td>-0.080587</td>\n",
       "      <td>0.331473</td>\n",
       "    </tr>\n",
       "    <tr>\n",
       "      <th>3</th>\n",
       "      <td>0.0</td>\n",
       "      <td>0.001507</td>\n",
       "      <td>0.000695</td>\n",
       "      <td>0.000326</td>\n",
       "      <td>0.000243</td>\n",
       "      <td>0.000000</td>\n",
       "      <td>0.0</td>\n",
       "      <td>0.0</td>\n",
       "      <td>0.000000e+00</td>\n",
       "      <td>-0.062127</td>\n",
       "      <td>0.095161</td>\n",
       "      <td>-0.109858</td>\n",
       "      <td>0.180895</td>\n",
       "      <td>-0.080587</td>\n",
       "      <td>-0.598987</td>\n",
       "    </tr>\n",
       "    <tr>\n",
       "      <th>4</th>\n",
       "      <td>0.0</td>\n",
       "      <td>0.002009</td>\n",
       "      <td>-0.002755</td>\n",
       "      <td>0.000461</td>\n",
       "      <td>0.000259</td>\n",
       "      <td>0.000000</td>\n",
       "      <td>0.0</td>\n",
       "      <td>0.0</td>\n",
       "      <td>0.000000e+00</td>\n",
       "      <td>-0.048683</td>\n",
       "      <td>0.095161</td>\n",
       "      <td>-0.109858</td>\n",
       "      <td>0.180895</td>\n",
       "      <td>-0.080587</td>\n",
       "      <td>-0.057603</td>\n",
       "    </tr>\n",
       "  </tbody>\n",
       "</table>\n",
       "</div>"
      ],
      "text/plain": [
       "   Date    sec_id   fut_ret       vol        X1        X3   X4   X6  \\\n",
       "0   0.0  0.000000  0.037521  0.000563  0.002766  0.000000  0.0  0.0   \n",
       "1   0.0  0.000502  0.005565  0.000805 -0.000461  0.000000  0.0  0.0   \n",
       "2   0.0  0.001005 -0.008732  0.000584  0.001580 -0.000464  0.0  0.0   \n",
       "3   0.0  0.001507  0.000695  0.000326  0.000243  0.000000  0.0  0.0   \n",
       "4   0.0  0.002009 -0.002755  0.000461  0.000259  0.000000  0.0  0.0   \n",
       "\n",
       "             X7   X1_norm   X3_norm   X4_norm   X6_norm   X7_norm   log_vol  \n",
       "0  0.000000e+00  2.128681  0.095161 -0.109858  0.180895 -0.080587  0.269877  \n",
       "1  0.000000e+00 -0.674305  0.095161 -0.109858  0.180895 -0.080587  0.879423  \n",
       "2  3.921761e-13  1.098681 -5.279814 -0.109858  0.180895 -0.080587  0.331473  \n",
       "3  0.000000e+00 -0.062127  0.095161 -0.109858  0.180895 -0.080587 -0.598987  \n",
       "4  0.000000e+00 -0.048683  0.095161 -0.109858  0.180895 -0.080587 -0.057603  "
      ]
     },
     "execution_count": 2,
     "metadata": {},
     "output_type": "execute_result"
    }
   ],
   "source": [
    "data=pd.read_csv(\"trimmed_data_v3.csv\",index_col=0)\n",
    "\n",
    "# 扔掉nan\n",
    "data=data[~np.isnan(data.vol)]\n",
    "data.head()"
   ]
  },
  {
   "cell_type": "code",
   "execution_count": 3,
   "metadata": {
    "ExecuteTime": {
     "end_time": "2019-05-21T02:59:04.621799Z",
     "start_time": "2019-05-21T02:59:04.618799Z"
    }
   },
   "outputs": [
    {
     "name": "stdout",
     "output_type": "stream",
     "text": [
      "371652\n"
     ]
    }
   ],
   "source": [
    "print(len(data))"
   ]
  },
  {
   "cell_type": "code",
   "execution_count": 23,
   "metadata": {
    "ExecuteTime": {
     "end_time": "2019-05-21T03:02:15.517221Z",
     "start_time": "2019-05-21T03:02:15.511983Z"
    }
   },
   "outputs": [
    {
     "data": {
      "text/plain": [
       "Date       0.758794\n",
       "sec_id     0.000000\n",
       "fut_ret    0.007288\n",
       "vol        0.000514\n",
       "X1        -0.000410\n",
       "X3         0.000000\n",
       "X4         0.000000\n",
       "X6        -0.000073\n",
       "X7         0.000000\n",
       "X1_norm   -0.629850\n",
       "X3_norm    0.095161\n",
       "X4_norm   -0.109858\n",
       "X6_norm   -0.180296\n",
       "X7_norm   -0.080587\n",
       "log_vol    0.118069\n",
       "Name: 300792, dtype: float64"
      ]
     },
     "execution_count": 23,
     "metadata": {},
     "output_type": "execute_result"
    }
   ],
   "source": [
    "data.iloc[277938]"
   ]
  },
  {
   "cell_type": "code",
   "execution_count": 22,
   "metadata": {
    "ExecuteTime": {
     "end_time": "2019-05-21T03:02:08.439173Z",
     "start_time": "2019-05-21T03:02:08.433418Z"
    }
   },
   "outputs": [
    {
     "data": {
      "text/plain": [
       "Date       0.753769\n",
       "sec_id     0.993973\n",
       "fut_ret    0.002754\n",
       "vol        0.000838\n",
       "X1        -0.000026\n",
       "X3         0.000000\n",
       "X4         0.000000\n",
       "X6         0.000000\n",
       "X7         0.000000\n",
       "X1_norm   -0.296064\n",
       "X3_norm    0.095161\n",
       "X4_norm   -0.109858\n",
       "X6_norm    0.180895\n",
       "X7_norm   -0.080587\n",
       "log_vol    0.949744\n",
       "Name: 300779, dtype: float64"
      ]
     },
     "execution_count": 22,
     "metadata": {},
     "output_type": "execute_result"
    }
   ],
   "source": [
    "data.iloc[277937]"
   ]
  },
  {
   "cell_type": "code",
   "execution_count": 26,
   "metadata": {
    "ExecuteTime": {
     "end_time": "2019-05-21T03:03:00.096832Z",
     "start_time": "2019-05-21T03:03:00.092612Z"
    }
   },
   "outputs": [],
   "source": [
    "data_train=data.iloc[:277938]\n",
    "data_test=data.iloc[277938:]"
   ]
  },
  {
   "cell_type": "code",
   "execution_count": 27,
   "metadata": {
    "ExecuteTime": {
     "end_time": "2019-05-21T03:03:00.572000Z",
     "start_time": "2019-05-21T03:03:00.568816Z"
    }
   },
   "outputs": [
    {
     "name": "stdout",
     "output_type": "stream",
     "text": [
      "277938\n",
      "93714\n"
     ]
    }
   ],
   "source": [
    "print(len(data_train))\n",
    "print(len(data_test))"
   ]
  },
  {
   "cell_type": "code",
   "execution_count": null,
   "metadata": {},
   "outputs": [],
   "source": []
  }
 ],
 "metadata": {
  "kernelspec": {
   "display_name": "Python 3",
   "language": "python",
   "name": "python3"
  },
  "language_info": {
   "codemirror_mode": {
    "name": "ipython",
    "version": 3
   },
   "file_extension": ".py",
   "mimetype": "text/x-python",
   "name": "python",
   "nbconvert_exporter": "python",
   "pygments_lexer": "ipython3",
   "version": "3.7.3"
  },
  "latex_envs": {
   "LaTeX_envs_menu_present": true,
   "autoclose": true,
   "autocomplete": true,
   "bibliofile": "biblio.bib",
   "cite_by": "apalike",
   "current_citInitial": 1,
   "eqLabelWithNumbers": false,
   "eqNumInitial": 1,
   "hotkeys": {
    "equation": "Ctrl-E",
    "itemize": "Ctrl-I"
   },
   "labels_anchors": false,
   "latex_user_defs": false,
   "report_style_numbering": false,
   "user_envs_cfg": false
  },
  "toc": {
   "base_numbering": 1,
   "nav_menu": {},
   "number_sections": true,
   "sideBar": true,
   "skip_h1_title": false,
   "title_cell": "Table of Contents",
   "title_sidebar": "Contents",
   "toc_cell": false,
   "toc_position": {},
   "toc_section_display": true,
   "toc_window_display": false
  },
  "varInspector": {
   "cols": {
    "lenName": 16,
    "lenType": 16,
    "lenVar": 40
   },
   "kernels_config": {
    "python": {
     "delete_cmd_postfix": "",
     "delete_cmd_prefix": "del ",
     "library": "var_list.py",
     "varRefreshCmd": "print(var_dic_list())"
    },
    "r": {
     "delete_cmd_postfix": ") ",
     "delete_cmd_prefix": "rm(",
     "library": "var_list.r",
     "varRefreshCmd": "cat(var_dic_list()) "
    }
   },
   "types_to_exclude": [
    "module",
    "function",
    "builtin_function_or_method",
    "instance",
    "_Feature"
   ],
   "window_display": false
  }
 },
 "nbformat": 4,
 "nbformat_minor": 2
}
