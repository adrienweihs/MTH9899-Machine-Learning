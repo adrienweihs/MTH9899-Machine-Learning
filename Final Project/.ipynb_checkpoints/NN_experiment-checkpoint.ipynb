{
 "cells": [
  {
   "cell_type": "code",
   "execution_count": 40,
   "metadata": {
    "ExecuteTime": {
     "end_time": "2019-05-21T03:04:10.933736Z",
     "start_time": "2019-05-21T03:04:10.925980Z"
    }
   },
   "outputs": [],
   "source": [
    "import numpy as np\n",
    "import pandas as pd\n",
    "import matplotlib.pyplot as plt\n",
    "import torch\n",
    "from sklearn.model_selection import RandomizedSearchCV\n",
    "from sklearn.metrics import r2_score\n",
    "from sklearn.model_selection import train_test_split\n",
    "import pickle"
   ]
  },
  {
   "cell_type": "code",
   "execution_count": 117,
   "metadata": {
    "ExecuteTime": {
     "end_time": "2019-05-21T04:28:54.706119Z",
     "start_time": "2019-05-21T04:28:53.531311Z"
    }
   },
   "outputs": [
    {
     "name": "stdout",
     "output_type": "stream",
     "text": [
      "0 1852\n"
     ]
    },
    {
     "data": {
      "text/html": [
       "<div>\n",
       "<style scoped>\n",
       "    .dataframe tbody tr th:only-of-type {\n",
       "        vertical-align: middle;\n",
       "    }\n",
       "\n",
       "    .dataframe tbody tr th {\n",
       "        vertical-align: top;\n",
       "    }\n",
       "\n",
       "    .dataframe thead th {\n",
       "        text-align: right;\n",
       "    }\n",
       "</style>\n",
       "<table border=\"1\" class=\"dataframe\">\n",
       "  <thead>\n",
       "    <tr style=\"text-align: right;\">\n",
       "      <th></th>\n",
       "      <th>Date</th>\n",
       "      <th>sec_id</th>\n",
       "      <th>fut_ret</th>\n",
       "      <th>vol</th>\n",
       "      <th>X1</th>\n",
       "      <th>X3</th>\n",
       "      <th>X4</th>\n",
       "      <th>X6</th>\n",
       "      <th>X7</th>\n",
       "      <th>X1_norm</th>\n",
       "      <th>X3_norm</th>\n",
       "      <th>X4_norm</th>\n",
       "      <th>X6_norm</th>\n",
       "      <th>X7_norm</th>\n",
       "      <th>log_vol</th>\n",
       "    </tr>\n",
       "  </thead>\n",
       "  <tbody>\n",
       "    <tr>\n",
       "      <th>0</th>\n",
       "      <td>0.0</td>\n",
       "      <td>0.000000</td>\n",
       "      <td>0.037521</td>\n",
       "      <td>0.000563</td>\n",
       "      <td>0.002766</td>\n",
       "      <td>0.000000</td>\n",
       "      <td>0.0</td>\n",
       "      <td>0.0</td>\n",
       "      <td>0.000000e+00</td>\n",
       "      <td>2.128681</td>\n",
       "      <td>0.095161</td>\n",
       "      <td>-0.109858</td>\n",
       "      <td>0.180895</td>\n",
       "      <td>-0.080587</td>\n",
       "      <td>0.269877</td>\n",
       "    </tr>\n",
       "    <tr>\n",
       "      <th>1</th>\n",
       "      <td>0.0</td>\n",
       "      <td>0.000502</td>\n",
       "      <td>0.005565</td>\n",
       "      <td>0.000805</td>\n",
       "      <td>-0.000461</td>\n",
       "      <td>0.000000</td>\n",
       "      <td>0.0</td>\n",
       "      <td>0.0</td>\n",
       "      <td>0.000000e+00</td>\n",
       "      <td>-0.674305</td>\n",
       "      <td>0.095161</td>\n",
       "      <td>-0.109858</td>\n",
       "      <td>0.180895</td>\n",
       "      <td>-0.080587</td>\n",
       "      <td>0.879423</td>\n",
       "    </tr>\n",
       "    <tr>\n",
       "      <th>2</th>\n",
       "      <td>0.0</td>\n",
       "      <td>0.001005</td>\n",
       "      <td>-0.008732</td>\n",
       "      <td>0.000584</td>\n",
       "      <td>0.001580</td>\n",
       "      <td>-0.000464</td>\n",
       "      <td>0.0</td>\n",
       "      <td>0.0</td>\n",
       "      <td>3.921761e-13</td>\n",
       "      <td>1.098681</td>\n",
       "      <td>-5.279814</td>\n",
       "      <td>-0.109858</td>\n",
       "      <td>0.180895</td>\n",
       "      <td>-0.080587</td>\n",
       "      <td>0.331473</td>\n",
       "    </tr>\n",
       "    <tr>\n",
       "      <th>3</th>\n",
       "      <td>0.0</td>\n",
       "      <td>0.001507</td>\n",
       "      <td>0.000695</td>\n",
       "      <td>0.000326</td>\n",
       "      <td>0.000243</td>\n",
       "      <td>0.000000</td>\n",
       "      <td>0.0</td>\n",
       "      <td>0.0</td>\n",
       "      <td>0.000000e+00</td>\n",
       "      <td>-0.062127</td>\n",
       "      <td>0.095161</td>\n",
       "      <td>-0.109858</td>\n",
       "      <td>0.180895</td>\n",
       "      <td>-0.080587</td>\n",
       "      <td>-0.598987</td>\n",
       "    </tr>\n",
       "    <tr>\n",
       "      <th>4</th>\n",
       "      <td>0.0</td>\n",
       "      <td>0.002009</td>\n",
       "      <td>-0.002755</td>\n",
       "      <td>0.000461</td>\n",
       "      <td>0.000259</td>\n",
       "      <td>0.000000</td>\n",
       "      <td>0.0</td>\n",
       "      <td>0.0</td>\n",
       "      <td>0.000000e+00</td>\n",
       "      <td>-0.048683</td>\n",
       "      <td>0.095161</td>\n",
       "      <td>-0.109858</td>\n",
       "      <td>0.180895</td>\n",
       "      <td>-0.080587</td>\n",
       "      <td>-0.057603</td>\n",
       "    </tr>\n",
       "  </tbody>\n",
       "</table>\n",
       "</div>"
      ],
      "text/plain": [
       "   Date    sec_id   fut_ret       vol        X1        X3   X4   X6  \\\n",
       "0   0.0  0.000000  0.037521  0.000563  0.002766  0.000000  0.0  0.0   \n",
       "1   0.0  0.000502  0.005565  0.000805 -0.000461  0.000000  0.0  0.0   \n",
       "2   0.0  0.001005 -0.008732  0.000584  0.001580 -0.000464  0.0  0.0   \n",
       "3   0.0  0.001507  0.000695  0.000326  0.000243  0.000000  0.0  0.0   \n",
       "4   0.0  0.002009 -0.002755  0.000461  0.000259  0.000000  0.0  0.0   \n",
       "\n",
       "             X7   X1_norm   X3_norm   X4_norm   X6_norm   X7_norm   log_vol  \n",
       "0  0.000000e+00  2.128681  0.095161 -0.109858  0.180895 -0.080587  0.269877  \n",
       "1  0.000000e+00 -0.674305  0.095161 -0.109858  0.180895 -0.080587  0.879423  \n",
       "2  3.921761e-13  1.098681 -5.279814 -0.109858  0.180895 -0.080587  0.331473  \n",
       "3  0.000000e+00 -0.062127  0.095161 -0.109858  0.180895 -0.080587 -0.598987  \n",
       "4  0.000000e+00 -0.048683  0.095161 -0.109858  0.180895 -0.080587 -0.057603  "
      ]
     },
     "execution_count": 117,
     "metadata": {},
     "output_type": "execute_result"
    }
   ],
   "source": [
    "data=pd.read_csv(\"trimmed_data_v3.csv\",index_col=0)\n",
    "\n",
    "data=data[~np.isnan(data.vol)]\n",
    "\n",
    "print(sum(np.isnan(data.vol)),sum(data.vol==0))\n",
    "data.head()"
   ]
  },
  {
   "cell_type": "code",
   "execution_count": 118,
   "metadata": {
    "ExecuteTime": {
     "end_time": "2019-05-21T04:28:54.923989Z",
     "start_time": "2019-05-21T04:28:54.848147Z"
    }
   },
   "outputs": [
    {
     "name": "stdout",
     "output_type": "stream",
     "text": [
      "0\n",
      "0.00016147414862643927\n"
     ]
    }
   ],
   "source": [
    "vol=data.vol\n",
    "vol=vol[vol!=0]\n",
    "print(sum(np.isnan(vol)))\n",
    "vol_min=min(vol)\n",
    "print(vol_min)"
   ]
  },
  {
   "cell_type": "code",
   "execution_count": 119,
   "metadata": {
    "ExecuteTime": {
     "end_time": "2019-05-21T04:29:27.889226Z",
     "start_time": "2019-05-21T04:28:56.355613Z"
    }
   },
   "outputs": [
    {
     "name": "stdout",
     "output_type": "stream",
     "text": [
      "0\n"
     ]
    }
   ],
   "source": [
    "def fun(srs):\n",
    "    if srs.vol==0:\n",
    "        srs.vol=vol_min\n",
    "    return srs\n",
    "\n",
    "data=data.apply(fun,axis=1)\n",
    "print(sum(data.vol==0))"
   ]
  },
  {
   "cell_type": "code",
   "execution_count": 120,
   "metadata": {
    "ExecuteTime": {
     "end_time": "2019-05-21T04:29:28.040202Z",
     "start_time": "2019-05-21T04:29:28.016834Z"
    }
   },
   "outputs": [],
   "source": [
    "data['ret_vol']=data.fut_ret/data.vol\n",
    "\n",
    "data_train=data.iloc[:277938]\n",
    "data_test=data.iloc[277938:]"
   ]
  },
  {
   "cell_type": "code",
   "execution_count": 39,
   "metadata": {
    "ExecuteTime": {
     "end_time": "2019-05-21T02:58:06.394440Z",
     "start_time": "2019-05-21T02:58:06.391732Z"
    }
   },
   "outputs": [
    {
     "ename": "SyntaxError",
     "evalue": "EOF while scanning triple-quoted string literal (<ipython-input-39-f4f00d2cd2a2>, line 4)",
     "output_type": "error",
     "traceback": [
      "\u001b[0;36m  File \u001b[0;32m\"<ipython-input-39-f4f00d2cd2a2>\"\u001b[0;36m, line \u001b[0;32m4\u001b[0m\n\u001b[0;31m    data['ret_vol_scale']=(data['ret_vol']-mid_ran)/half_ran\u001b[0m\n\u001b[0m                                                            \n^\u001b[0m\n\u001b[0;31mSyntaxError\u001b[0m\u001b[0;31m:\u001b[0m EOF while scanning triple-quoted string literal\n"
     ]
    }
   ],
   "source": [
    "'''\n",
    "mid_ran=(np.max(np.array(data.ret_vol))+np.min(np.array(data.ret_vol)))/2\n",
    "half_ran=(np.max(np.array(data.ret_vol))-np.min(np.array(data.ret_vol)))/2\n",
    "data['ret_vol_scale']=(data['ret_vol']-mid_ran)/half_ran\n",
    "'''"
   ]
  },
  {
   "cell_type": "code",
   "execution_count": 121,
   "metadata": {
    "ExecuteTime": {
     "end_time": "2019-05-21T04:29:28.373872Z",
     "start_time": "2019-05-21T04:29:28.174977Z"
    }
   },
   "outputs": [
    {
     "data": {
      "image/png": "[encoded data removed]",
      "text/plain": [
       "<Figure size 1152x504 with 1 Axes>"
      ]
     },
     "metadata": {
      "needs_background": "light"
     },
     "output_type": "display_data"
    }
   ],
   "source": [
    "plt.figure(figsize=(16,7))\n",
    "plt.hist(np.array(data['ret_vol']),range=(-100,100),bins=30)\n",
    "plt.show()"
   ]
  },
  {
   "cell_type": "code",
   "execution_count": 122,
   "metadata": {
    "ExecuteTime": {
     "end_time": "2019-05-21T04:29:28.569175Z",
     "start_time": "2019-05-21T04:29:28.538982Z"
    }
   },
   "outputs": [
    {
     "name": "stdout",
     "output_type": "stream",
     "text": [
      "(277938, 3) (277938,) (277938, 2)\n"
     ]
    },
    {
     "data": {
      "text/plain": [
       "'\\nX_train, X_test, y_train, y_test = train_test_split(X, y, test_size=0.2)\\nX_train, X_cv, y_train, y_cv = train_test_split(X_train, y_train, test_size=0.25)\\nprint(np.shape(X_train))\\n\\nZ_train=X_train[:,-2:]\\nZ_test=X_test[:,-2:]\\nZ_cv=X_cv[:,-2:]\\n\\nX_train=X_train[:,:-2]\\nX_test=X_test[:,:-2]\\nX_cv=X_cv[:,:-2]\\nprint(np.shape(X_train))\\n\\ntrain_all=(X_train,y_train)\\ncv_all=(X_cv,y_cv)\\n'"
      ]
     },
     "execution_count": 122,
     "metadata": {},
     "output_type": "execute_result"
    }
   ],
   "source": [
    "X_train=np.array(data_train[['sec_id','X1_norm','X3']])\n",
    "#X=np.array(data[['sec_id','X1','X3','X4','X6','X7']])\n",
    "#X=np.array(data[['sec_id','vol','X1','X']])\n",
    "y_train=np.array(data_train['ret_vol'])\n",
    "Z_train=np.array(data_train[['fut_ret','vol']])\n",
    "\n",
    "train_all=(X_train,y_train)\n",
    "\n",
    "print(np.shape(X_train),np.shape(y_train),np.shape(Z_train))\n",
    "\n",
    "X_test=np.array(data_test[['sec_id','X1_norm','X3']])\n",
    "y_test=np.array(data_test['ret_vol'])\n",
    "Z_test=np.array(data_test[['fut_ret','vol']])\n",
    "\n",
    "test_all=(X_test,y_test)\n",
    "\n",
    "# test:cv:train=2:2:6\n",
    "'''\n",
    "X_train, X_test, y_train, y_test = train_test_split(X, y, test_size=0.2)\n",
    "X_train, X_cv, y_train, y_cv = train_test_split(X_train, y_train, test_size=0.25)\n",
    "print(np.shape(X_train))\n",
    "\n",
    "Z_train=X_train[:,-2:]\n",
    "Z_test=X_test[:,-2:]\n",
    "Z_cv=X_cv[:,-2:]\n",
    "\n",
    "X_train=X_train[:,:-2]\n",
    "X_test=X_test[:,:-2]\n",
    "X_cv=X_cv[:,:-2]\n",
    "print(np.shape(X_train))\n",
    "\n",
    "train_all=(X_train,y_train)\n",
    "cv_all=(X_cv,y_cv)\n",
    "'''"
   ]
  },
  {
   "cell_type": "code",
   "execution_count": 123,
   "metadata": {
    "ExecuteTime": {
     "end_time": "2019-05-21T04:29:28.727142Z",
     "start_time": "2019-05-21T04:29:28.710431Z"
    }
   },
   "outputs": [],
   "source": [
    "def init_weights(m):\n",
    "    if type(m) == torch.nn.Linear:\n",
    "        torch.nn.init.torch.nn.init.kaiming_normal_(m.weight)\n",
    "        m.bias.data.fill_(0.01)\n",
    "        \n",
    "        \n",
    "def NN(data_set, test_set, nodes=[16], epoch=1000, learning_rate=1e-3, is_drop=False, l2_reg=0, is_leaky=False,\n",
    "        is_batch=False):\n",
    "    x = torch.tensor(data_set[0], dtype=torch.float32)\n",
    "    y = torch.tensor(data_set[1][:, np.newaxis], dtype=torch.float32)\n",
    "    \n",
    "    # model initialize\n",
    "    out_size = 1\n",
    "    F = x.shape[1]\n",
    "    layer_num = len(nodes)\n",
    "\n",
    "    # add layers\n",
    "    model = torch.nn.Sequential()\n",
    "    model.add_module(\"linear 0\", torch.nn.Linear(F, nodes[0]))\n",
    "    if is_batch:\n",
    "        model.add_module(\"batch 0\",torch.nn.BatchNorm1d(nodes[0]))   \n",
    "    if is_drop:\n",
    "        model.add_module(\"drop 0\", torch.nn.Dropout(0.5))\n",
    "    model.add_module(\"relu 0\", torch.nn.ReLU() if not is_leaky else torch.nn.PReLU())\n",
    "    \n",
    "\n",
    "    for i in range(layer_num-1):\n",
    "        model.add_module(\"linear \"+str(i+1),torch.nn.Linear(nodes[i], nodes[i+1]))\n",
    "        if is_batch:\n",
    "            model.add_module(\"batch \"+str(i+1),torch.nn.BatchNorm1d(nodes[i+1]))\n",
    "        if is_drop:\n",
    "            model.add_module(\"drop \"+str(i+1), torch.nn.Dropout(0.5))\n",
    "        model.add_module(\"relu \"+str(i+1), torch.nn.ReLU() if not is_leaky else torch.nn.PReLU())\n",
    "        \n",
    "    \n",
    "    # HE initial\n",
    "    model.apply(init_weights)\n",
    "    \n",
    "    #output layer\n",
    "    model.add_module(\"linear \"+str(layer_num),\n",
    "                     torch.nn.Linear(nodes[-1], out_size))\n",
    "\n",
    "    # loss\n",
    "    loss_fn = torch.nn.MSELoss()    \n",
    "    #loss_fn=torch.nn.L1Loss()\n",
    "    \n",
    "    # optimizer\n",
    "    optimizer = torch.optim.Adam(\n",
    "        model.parameters(), lr=learning_rate, weight_decay=l2_reg)\n",
    "\n",
    "    # training\n",
    "    loss_history = []\n",
    "    loss_old=float('inf')\n",
    "    loss_new=0\n",
    "    count=0\n",
    "\n",
    "    for t in range(epoch):\n",
    "        y_pred = model(x)\n",
    "\n",
    "        loss_new = loss_fn(y_pred, y)\n",
    "        \n",
    "        if abs(loss_old-loss_new)<1e-9:\n",
    "            count=count+1\n",
    "        else:\n",
    "            count=0\n",
    "            \n",
    "        if count>30:\n",
    "            print(\"converge epoch: \",t)\n",
    "            break\n",
    "            \n",
    "        loss_old = loss_new\n",
    "        \n",
    "        #if loss<0.000296:\n",
    "        #    print(\"converge epoch: \",t)\n",
    "        #    break\n",
    "\n",
    "        if t % 1000== 999:\n",
    "            print(\"epoch \", t+1, \", loss is \", loss_new.item())\n",
    "        #loss_history.append(loss.item())\n",
    "\n",
    "        optimizer.zero_grad()\n",
    "\n",
    "        loss_new.backward()\n",
    "\n",
    "        optimizer.step()\n",
    "\n",
    "    # plot loss evolution\n",
    "    #plt.figure(figsize=(14, 7))\n",
    "    #plt.plot(range(len(loss_history)), loss_history)\n",
    "    #plt.xlabel(\"epoch\")\n",
    "    #plt.ylabel(\"loss\")\n",
    "    #plt.show()\n",
    "\n",
    "    # testing\n",
    "    x_test = torch.tensor(test_set[0], dtype=torch.float32)\n",
    "    y_test = torch.tensor(test_set[1][:, np.newaxis], dtype=torch.float32)\n",
    "    \n",
    "    y_in_pred = model(x)\n",
    "    y_out_pred = model(x_test)\n",
    "    \n",
    "    err_in = loss_fn(y_in_pred, y).item()\n",
    "    err_out = loss_fn(y_out_pred, y_test).item()\n",
    "    \n",
    "       \n",
    "    y=data_set[1]\n",
    "    y_test=test_set[1]\n",
    "    y_in_pred=torch.Tensor.numpy(y_in_pred.data)\n",
    "    y_in_pred.reshape(y_in_pred.shape[0])\n",
    "    y_out_pred=torch.Tensor.numpy(y_out_pred.data)\n",
    "    y_out_pred.reshape(y_out_pred.shape[0])\n",
    "    \n",
    "    r2_in = r2_score(y, y_in_pred)\n",
    "    r2_out = r2_score(y_test, y_out_pred)\n",
    "\n",
    "    #print(\"\\nin-sample error: \", err_in)\n",
    "    #print(\"out-of-sample error: \", err_out)\n",
    "    #print(\"in-sample r2: \", r2_in)\n",
    "    #print(\"out-of-sample r2: \", r2_out)\n",
    "\n",
    "    return (model,r2_out,err_in)"
   ]
  },
  {
   "cell_type": "code",
   "execution_count": 124,
   "metadata": {
    "ExecuteTime": {
     "end_time": "2019-05-21T04:29:28.890508Z",
     "start_time": "2019-05-21T04:29:28.876720Z"
    }
   },
   "outputs": [],
   "source": [
    "# for test\n",
    "def test_r2(model,X = X_test,y = y_test, Z = Z_test, plot=True):   \n",
    "    y_pred=model(torch.tensor(Ｘ, dtype=torch.float32))\n",
    "    y_pred=torch.Tensor.numpy(y_pred.data)\n",
    "    y_pred=y_pred.reshape(y_pred.shape[0])\n",
    "    # reverse back to none scale\n",
    "    #y_pred=y_pred*half_ran+mid_ran\n",
    "    \n",
    "    y_pred=y_pred*Z[:,1]\n",
    "    if plot:\n",
    "        plt.figure(figsize=(16,7))\n",
    "        plt.subplot(1, 2, 1)\n",
    "        plt.hist(y_pred,range=(-0.1,0.1),bins=30)\n",
    "        plt.subplot(1, 2, 2)\n",
    "        plt.hist(Z[:,0],range=(-0.1,0.1),bins=30)\n",
    "        plt.show()\n",
    "    r2 = r2_score(Z[:,0], y_pred)\n",
    "    return (r2,y_pred)\n",
    "\n",
    "\n",
    "def MDA(model,X = X_test,y = y_test, Z = Z_test):\n",
    "    feature_num=X.shape[1]\n",
    "    r2_origin = test_r2(model,X,y,Z,plot=False)[0]\n",
    "    print(\"origin: \",r2_origin)\n",
    "    for i in range(feature_num):\n",
    "        r2_new_lst=[]\n",
    "        for j in range(10):\n",
    "            X_new=X.copy()\n",
    "            np.random.shuffle(X_new[:,i])\n",
    "            r2_new=test_r2(model,X_new,y,Z,plot=False)[0]\n",
    "            r2_new_lst.append(r2_new)\n",
    "        is_valid=\" *\"\n",
    "        if np.mean(r2_new_lst)>r2_origin:\n",
    "            is_valid=\" \"\n",
    "        if abs(np.mean(r2_new_lst)-r2_origin)/abs(r2_origin)<0.01:\n",
    "            is_valid=\" \"\n",
    "        print(\"suffle feature \",i,\": \",np.mean(r2_new_lst),is_valid)"
   ]
  },
  {
   "cell_type": "markdown",
   "metadata": {},
   "source": [
    "## Experiment"
   ]
  },
  {
   "cell_type": "code",
   "execution_count": 139,
   "metadata": {
    "ExecuteTime": {
     "end_time": "2019-05-21T04:32:15.731635Z",
     "start_time": "2019-05-21T04:32:15.723975Z"
    }
   },
   "outputs": [],
   "source": [
    "grid_history=[]"
   ]
  },
  {
   "cell_type": "code",
   "execution_count": 146,
   "metadata": {
    "ExecuteTime": {
     "end_time": "2019-05-21T04:34:13.881942Z",
     "start_time": "2019-05-21T04:33:45.301669Z"
    }
   },
   "outputs": [
    {
     "name": "stdout",
     "output_type": "stream",
     "text": [
      "epoch  1000 , loss is  866.05078125\n",
      "1 :  0.0007569601670852633    866.05322265625    [4] False 0.1 True True\n"
     ]
    }
   ],
   "source": [
    "nodes_list=[\n",
    "    [4]\n",
    "]          \n",
    "\n",
    "t=1 \n",
    "for nodes in nodes_list:\n",
    "    for epoch in [1000]:\n",
    "        for lr in [1]:\n",
    "            for isdrop in [False]:\n",
    "                for l2reg in [1e-1]:\n",
    "                    for isleaky in [True]:\n",
    "                        for isbatch in [True]:\n",
    "                            model,r2,mse=NN(train_all,test_all,nodes, epoch, lr, isdrop, l2reg, isleaky, isbatch)\n",
    "                            grid_history.append([r2,model,mse,nodes, epoch, lr, isdrop, l2reg, isleaky, isbatch])\n",
    "                            print(t,\": \",r2,\"  \",mse,\"  \",nodes, isdrop, l2reg, isleaky, isbatch)\n",
    "                            t=t+1\n",
    "\n"
   ]
  },
  {
   "cell_type": "code",
   "execution_count": 147,
   "metadata": {
    "ExecuteTime": {
     "end_time": "2019-05-21T04:34:14.967452Z",
     "start_time": "2019-05-21T04:34:14.155590Z"
    }
   },
   "outputs": [
    {
     "name": "stdout",
     "output_type": "stream",
     "text": [
      "[866.05322265625, [4], 1000, 1, False, 0.1, True, True]\n",
      "0.0007569601670852633\n"
     ]
    },
    {
     "data": {
      "image/png": "[encoded data removed]",
      "text/plain": [
       "<Figure size 1152x504 with 2 Axes>"
      ]
     },
     "metadata": {
      "needs_background": "light"
     },
     "output_type": "display_data"
    },
    {
     "data": {
      "image/png": "[encoded data removed]",
      "text/plain": [
       "<Figure size 1152x504 with 2 Axes>"
      ]
     },
     "metadata": {
      "needs_background": "light"
     },
     "output_type": "display_data"
    },
    {
     "name": "stdout",
     "output_type": "stream",
     "text": [
      "0.0009499893292935768 , in sample:  0.0007236344061095634 \n",
      "\n"
     ]
    }
   ],
   "source": [
    "#for i in range(1,len(grid_history)+1):\n",
    "i=1\n",
    "print(grid_history[-i][2:])\n",
    "print(grid_history[-i][0])\n",
    "print(test_r2(grid_history[-i][1])[0],\", in sample: \",test_r2(grid_history[-i][1],X_train,y_train,Z_train)[0],'\\n')\n",
    "\n"
   ]
  },
  {
   "cell_type": "code",
   "execution_count": 73,
   "metadata": {
    "ExecuteTime": {
     "end_time": "2019-05-21T03:18:28.896144Z",
     "start_time": "2019-05-21T03:18:28.672171Z"
    }
   },
   "outputs": [
    {
     "name": "stdout",
     "output_type": "stream",
     "text": [
      "origin:  0.0011178646256899682\n",
      "suffle feature  0 :  0.0010850710528873652  *\n",
      "suffle feature  1 :  -0.0007431589176577491  *\n",
      "suffle feature  2 :  0.0011178529887882593  \n"
     ]
    }
   ],
   "source": [
    "MDA(grid_history[-i][1])"
   ]
  },
  {
   "cell_type": "code",
   "execution_count": 134,
   "metadata": {
    "ExecuteTime": {
     "end_time": "2019-05-21T04:31:00.968666Z",
     "start_time": "2019-05-21T04:31:00.962480Z"
    }
   },
   "outputs": [
    {
     "name": "stdout",
     "output_type": "stream",
     "text": [
      "[[0.0008734815409242591, Sequential(\n",
      "  (linear 0): Linear(in_features=3, out_features=4, bias=True)\n",
      "  (batch 0): BatchNorm1d(4, eps=1e-05, momentum=0.1, affine=True, track_running_stats=True)\n",
      "  (relu 0): PReLU(num_parameters=1)\n",
      "  (linear 1): Linear(in_features=4, out_features=1, bias=True)\n",
      "), 866.0606689453125, [4], 3000, 1, False, 0.1, True, True], [0.0007640967153825784, Sequential(\n",
      "  (linear 0): Linear(in_features=3, out_features=4, bias=True)\n",
      "  (batch 0): BatchNorm1d(4, eps=1e-05, momentum=0.1, affine=True, track_running_stats=True)\n",
      "  (relu 0): PReLU(num_parameters=1)\n",
      "  (linear 1): Linear(in_features=4, out_features=1, bias=True)\n",
      "), 866.0592041015625, [4], 1000, 1, False, 0.1, True, True], [0.0009776045083892404, Sequential(\n",
      "  (linear 0): Linear(in_features=3, out_features=4, bias=True)\n",
      "  (batch 0): BatchNorm1d(4, eps=1e-05, momentum=0.1, affine=True, track_running_stats=True)\n",
      "  (relu 0): PReLU(num_parameters=1)\n",
      "  (linear 1): Linear(in_features=4, out_features=1, bias=True)\n",
      "), 866.056396484375, [4], 1000, 1, False, 0.1, True, True]]\n"
     ]
    }
   ],
   "source": [
    "print(grid_history)"
   ]
  },
  {
   "cell_type": "code",
   "execution_count": 151,
   "metadata": {
    "ExecuteTime": {
     "end_time": "2019-05-21T04:34:47.769558Z",
     "start_time": "2019-05-21T04:34:47.734508Z"
    }
   },
   "outputs": [],
   "source": [
    "torch.save(grid_history[-2][1],'NN')"
   ]
  },
  {
   "cell_type": "code",
   "execution_count": 152,
   "metadata": {
    "ExecuteTime": {
     "end_time": "2019-05-21T04:34:48.405053Z",
     "start_time": "2019-05-21T04:34:48.376588Z"
    }
   },
   "outputs": [
    {
     "data": {
      "text/plain": [
       "Sequential(\n",
       "  (linear 0): Linear(in_features=3, out_features=4, bias=True)\n",
       "  (batch 0): BatchNorm1d(4, eps=1e-05, momentum=0.1, affine=True, track_running_stats=True)\n",
       "  (relu 0): PReLU(num_parameters=1)\n",
       "  (linear 1): Linear(in_features=4, out_features=1, bias=True)\n",
       ")"
      ]
     },
     "execution_count": 152,
     "metadata": {},
     "output_type": "execute_result"
    }
   ],
   "source": [
    "model = torch.load('NN')\n",
    "model.eval()"
   ]
  },
  {
   "cell_type": "code",
   "execution_count": 153,
   "metadata": {
    "ExecuteTime": {
     "end_time": "2019-05-21T04:34:49.653260Z",
     "start_time": "2019-05-21T04:34:48.984732Z"
    }
   },
   "outputs": [
    {
     "data": {
      "image/png": "[encoded data removed]",
      "text/plain": [
       "<Figure size 1152x504 with 2 Axes>"
      ]
     },
     "metadata": {
      "needs_background": "light"
     },
     "output_type": "display_data"
    },
    {
     "name": "stdout",
     "output_type": "stream",
     "text": [
      "0.0005865490428452746\n"
     ]
    },
    {
     "data": {
      "image/png": "[encoded data removed]",
      "text/plain": [
       "<Figure size 1152x504 with 2 Axes>"
      ]
     },
     "metadata": {
      "needs_background": "light"
     },
     "output_type": "display_data"
    },
    {
     "name": "stdout",
     "output_type": "stream",
     "text": [
      "0.0011058563357113638\n"
     ]
    }
   ],
   "source": [
    "r2_NN_1,NN_train_pred = test_r2(model,X_train,y_train,Z_train)\n",
    "print(r2_NN_1)\n",
    "r2_NN_2,NN_test_pred = test_r2(model)\n",
    "print(r2_NN_2)"
   ]
  },
  {
   "cell_type": "code",
   "execution_count": null,
   "metadata": {},
   "outputs": [],
   "source": []
  },
  {
   "cell_type": "markdown",
   "metadata": {},
   "source": [
    "## Aggregate"
   ]
  },
  {
   "cell_type": "markdown",
   "metadata": {},
   "source": [
    "### NN"
   ]
  },
  {
   "cell_type": "code",
   "execution_count": 158,
   "metadata": {
    "ExecuteTime": {
     "end_time": "2019-05-21T16:59:58.783958Z",
     "start_time": "2019-05-21T16:59:58.709759Z"
    }
   },
   "outputs": [
    {
     "name": "stdout",
     "output_type": "stream",
     "text": [
      "(277938,) (93714,)\n",
      "0.0005865490428452746 0.0011058563357113638\n"
     ]
    }
   ],
   "source": [
    "model = torch.load('NN')\n",
    "model.eval()\n",
    "\n",
    "r2_NN_1,NN_train_pred = test_r2(model,X_train,y_train,Z_train,False)\n",
    "r2_NN_2,NN_test_pred = test_r2(model,plot=False)\n",
    "print(np.shape(NN_train_pred),np.shape(NN_test_pred))\n",
    "print(r2_NN_1,r2_NN_2)"
   ]
  },
  {
   "cell_type": "markdown",
   "metadata": {},
   "source": [
    "### Light GBM"
   ]
  },
  {
   "cell_type": "code",
   "execution_count": 176,
   "metadata": {
    "ExecuteTime": {
     "end_time": "2019-05-21T17:24:22.779175Z",
     "start_time": "2019-05-21T17:24:22.770086Z"
    }
   },
   "outputs": [
    {
     "name": "stdout",
     "output_type": "stream",
     "text": [
      "(277938,) (93714,)\n",
      "0.0016084083573307817 0.0005731492141478611\n"
     ]
    }
   ],
   "source": [
    "import pickle\n",
    "with open ('Light_GBM_data', 'rb') as fp:\n",
    "    result_copy = pickle.load(fp)\n",
    "GBM_train_pred,r2_GBM_1,GBM_test_pred,r2_GBM_2=result_copy\n",
    "GBM_train_pred=np.array(GBM_train_pred)\n",
    "GBM_test_pred=np.array(GBM_test_pred)\n",
    "print(np.shape(GBM_train_pred),np.shape(GBM_test_pred))\n",
    "print(r2_GBM_1,r2_GBM_2)"
   ]
  },
  {
   "cell_type": "markdown",
   "metadata": {},
   "source": [
    "### Regression"
   ]
  },
  {
   "cell_type": "code",
   "execution_count": 171,
   "metadata": {
    "ExecuteTime": {
     "end_time": "2019-05-21T17:14:01.761641Z",
     "start_time": "2019-05-21T17:14:01.740248Z"
    }
   },
   "outputs": [
    {
     "name": "stdout",
     "output_type": "stream",
     "text": [
      "(277938,) (93714,)\n",
      "0.0009318110379955558 0.001069811660696196\n",
      "(277938,) (93714,)\n",
      "0.0009696237406092711 0.001042140045127038\n"
     ]
    }
   ],
   "source": [
    "with open ('Regression_data', 'rb') as fp:\n",
    "    result_copy_2 = pickle.load(fp)\n",
    "RE1_train_pred,r2_RE1_1,RE1_test_pred,r2_RE1_2,  RE2_train_pred,r2_RE2_1,RE2_test_pred,r2_RE2_2=result_copy_2\n",
    "\n",
    "RE2_train_pred=np.reshape(RE2_train_pred,np.shape(RE2_train_pred)[1])\n",
    "RE2_test_pred=np.reshape(RE2_test_pred,np.shape(RE2_test_pred)[1])\n",
    "\n",
    "RE1_train_pred=np.array(RE1_train_pred)\n",
    "RE1_test_pred=np.array(RE1_test_pred)\n",
    "RE2_train_pred=np.array(RE2_train_pred)\n",
    "RE2_test_pred=np.array(RE2_test_pred)\n",
    "\n",
    "\n",
    "print(np.shape(RE1_train_pred),np.shape(RE1_test_pred))\n",
    "print(r2_RE1_1,r2_RE1_2)\n",
    "print(np.shape(RE2_train_pred),np.shape(RE2_test_pred))\n",
    "print(r2_RE2_1,r2_RE2_2)"
   ]
  },
  {
   "cell_type": "markdown",
   "metadata": {},
   "source": [
    "### Forest"
   ]
  },
  {
   "cell_type": "code",
   "execution_count": 180,
   "metadata": {
    "ExecuteTime": {
     "end_time": "2019-05-21T17:27:17.702388Z",
     "start_time": "2019-05-21T17:27:17.679651Z"
    }
   },
   "outputs": [
    {
     "name": "stdout",
     "output_type": "stream",
     "text": [
      "(277938,) (93714,)\n",
      "0.002520454683766049 0.0013839741152076313\n",
      "(277938,) (93714,)\n",
      "0.0033591569831005197 0.001025948013207656\n"
     ]
    }
   ],
   "source": [
    "with open ('forest_data1', 'rb') as fp:\n",
    "    result_copy_3 = pickle.load(fp)\n",
    "RF1_train_pred,r2_RF1_1,RF1_test_pred,r2_RF1_2=result_copy_3\n",
    "\n",
    "with open ('forest_data3', 'rb') as fp:\n",
    "    result_copy_4 = pickle.load(fp)\n",
    "RF2_train_pred,r2_RF2_1,RF2_test_pred,r2_RF2_2=result_copy_4\n",
    "\n",
    "r2_RF1_1=r2_RF1_1[0]\n",
    "r2_RF1_2=r2_RF1_2[0]\n",
    "r2_RF2_1=r2_RF2_1[0]\n",
    "r2_RF2_2=r2_RF2_2[0]\n",
    "\n",
    "print(np.shape(RF1_train_pred),np.shape(RF1_test_pred))\n",
    "print(r2_RF1_1,r2_RF1_2)\n",
    "print(np.shape(RF2_train_pred),np.shape(RF2_test_pred))\n",
    "print(r2_RF2_1,r2_RF2_2)"
   ]
  },
  {
   "cell_type": "markdown",
   "metadata": {},
   "source": [
    "### Combine Data"
   ]
  },
  {
   "cell_type": "code",
   "execution_count": 181,
   "metadata": {
    "ExecuteTime": {
     "end_time": "2019-05-21T17:27:20.793085Z",
     "start_time": "2019-05-21T17:27:20.779973Z"
    }
   },
   "outputs": [],
   "source": [
    "d=[[r2_NN_1,r2_NN_2],[r2_GBM_1,r2_GBM_2],[r2_RE1_1,r2_RE1_2],[r2_RE2_1,r2_RE2_2],[r2_RF1_1,r2_RF1_2],[r2_RF2_1,r2_RF2_2]]\n",
    "\n",
    "result=pd.DataFrame(data=d,columns=['train','test'],index=['NN','GBM','Regression1','Regression2','Forest1','Forest2'])"
   ]
  },
  {
   "cell_type": "code",
   "execution_count": 182,
   "metadata": {
    "ExecuteTime": {
     "end_time": "2019-05-21T17:27:21.452227Z",
     "start_time": "2019-05-21T17:27:21.431293Z"
    },
    "scrolled": true
   },
   "outputs": [
    {
     "data": {
      "text/html": [
       "<div>\n",
       "<style scoped>\n",
       "    .dataframe tbody tr th:only-of-type {\n",
       "        vertical-align: middle;\n",
       "    }\n",
       "\n",
       "    .dataframe tbody tr th {\n",
       "        vertical-align: top;\n",
       "    }\n",
       "\n",
       "    .dataframe thead th {\n",
       "        text-align: right;\n",
       "    }\n",
       "</style>\n",
       "<table border=\"1\" class=\"dataframe\">\n",
       "  <thead>\n",
       "    <tr style=\"text-align: right;\">\n",
       "      <th></th>\n",
       "      <th>train</th>\n",
       "      <th>test</th>\n",
       "    </tr>\n",
       "  </thead>\n",
       "  <tbody>\n",
       "    <tr>\n",
       "      <th>NN</th>\n",
       "      <td>0.000587</td>\n",
       "      <td>0.001106</td>\n",
       "    </tr>\n",
       "    <tr>\n",
       "      <th>GBM</th>\n",
       "      <td>0.001608</td>\n",
       "      <td>0.000573</td>\n",
       "    </tr>\n",
       "    <tr>\n",
       "      <th>Regression1</th>\n",
       "      <td>0.000932</td>\n",
       "      <td>0.001070</td>\n",
       "    </tr>\n",
       "    <tr>\n",
       "      <th>Regression2</th>\n",
       "      <td>0.000970</td>\n",
       "      <td>0.001042</td>\n",
       "    </tr>\n",
       "    <tr>\n",
       "      <th>Forest1</th>\n",
       "      <td>0.002520</td>\n",
       "      <td>0.001384</td>\n",
       "    </tr>\n",
       "    <tr>\n",
       "      <th>Forest2</th>\n",
       "      <td>0.003359</td>\n",
       "      <td>0.001026</td>\n",
       "    </tr>\n",
       "  </tbody>\n",
       "</table>\n",
       "</div>"
      ],
      "text/plain": [
       "                train      test\n",
       "NN           0.000587  0.001106\n",
       "GBM          0.001608  0.000573\n",
       "Regression1  0.000932  0.001070\n",
       "Regression2  0.000970  0.001042\n",
       "Forest1      0.002520  0.001384\n",
       "Forest2      0.003359  0.001026"
      ]
     },
     "execution_count": 182,
     "metadata": {},
     "output_type": "execute_result"
    }
   ],
   "source": [
    "result"
   ]
  },
  {
   "cell_type": "code",
   "execution_count": 191,
   "metadata": {
    "ExecuteTime": {
     "end_time": "2019-05-21T17:54:45.250241Z",
     "start_time": "2019-05-21T17:54:45.235695Z"
    }
   },
   "outputs": [
    {
     "name": "stdout",
     "output_type": "stream",
     "text": [
      "(277938, 6)\n",
      "(93714, 6)\n"
     ]
    }
   ],
   "source": [
    "X_train=np.array([NN_train_pred,RE1_train_pred,RE2_train_pred,GBM_train_pred,RF1_train_pred,RF2_train_pred])\n",
    "X_train=X_train.T\n",
    "print(np.shape(X_train))\n",
    "y_train=np.array(data_train['fut_ret'])\n",
    "train=(X_train,y_train)\n",
    "\n",
    "\n",
    "X_test=np.array([NN_test_pred,RE1_test_pred,RE2_test_pred,GBM_test_pred,RF1_test_pred,RF2_test_pred])\n",
    "X_test=X_test.T\n",
    "print(np.shape(X_test))\n",
    "y_test=np.array(data_test['fut_ret'])\n",
    "test=(X_test,y_test)"
   ]
  },
  {
   "cell_type": "markdown",
   "metadata": {},
   "source": [
    "## AGG"
   ]
  },
  {
   "cell_type": "code",
   "execution_count": 244,
   "metadata": {
    "ExecuteTime": {
     "end_time": "2019-05-22T00:05:52.821555Z",
     "start_time": "2019-05-22T00:05:52.753849Z"
    }
   },
   "outputs": [
    {
     "data": {
      "text/html": [
       "<style  type=\"text/css\" >\n",
       "    #T_5d0b39ae_7c25_11e9_a259_912324cc0286row0_col0 {\n",
       "            background-color:  #000000;\n",
       "            color:  #f1f1f1;\n",
       "        }    #T_5d0b39ae_7c25_11e9_a259_912324cc0286row0_col1 {\n",
       "            background-color:  #6c6c6c;\n",
       "            color:  #000000;\n",
       "        }    #T_5d0b39ae_7c25_11e9_a259_912324cc0286row0_col2 {\n",
       "            background-color:  #4b4b4b;\n",
       "            color:  #f1f1f1;\n",
       "        }    #T_5d0b39ae_7c25_11e9_a259_912324cc0286row0_col3 {\n",
       "            background-color:  #ffffff;\n",
       "            color:  #000000;\n",
       "        }    #T_5d0b39ae_7c25_11e9_a259_912324cc0286row0_col4 {\n",
       "            background-color:  #ffffff;\n",
       "            color:  #000000;\n",
       "        }    #T_5d0b39ae_7c25_11e9_a259_912324cc0286row0_col5 {\n",
       "            background-color:  #ffffff;\n",
       "            color:  #000000;\n",
       "        }    #T_5d0b39ae_7c25_11e9_a259_912324cc0286row1_col0 {\n",
       "            background-color:  #5a5a5a;\n",
       "            color:  #f1f1f1;\n",
       "        }    #T_5d0b39ae_7c25_11e9_a259_912324cc0286row1_col1 {\n",
       "            background-color:  #000000;\n",
       "            color:  #f1f1f1;\n",
       "        }    #T_5d0b39ae_7c25_11e9_a259_912324cc0286row1_col2 {\n",
       "            background-color:  #272727;\n",
       "            color:  #f1f1f1;\n",
       "        }    #T_5d0b39ae_7c25_11e9_a259_912324cc0286row1_col3 {\n",
       "            background-color:  #d6d6d6;\n",
       "            color:  #000000;\n",
       "        }    #T_5d0b39ae_7c25_11e9_a259_912324cc0286row1_col4 {\n",
       "            background-color:  #e0e0e0;\n",
       "            color:  #000000;\n",
       "        }    #T_5d0b39ae_7c25_11e9_a259_912324cc0286row1_col5 {\n",
       "            background-color:  #cfcfcf;\n",
       "            color:  #000000;\n",
       "        }    #T_5d0b39ae_7c25_11e9_a259_912324cc0286row2_col0 {\n",
       "            background-color:  #424242;\n",
       "            color:  #f1f1f1;\n",
       "        }    #T_5d0b39ae_7c25_11e9_a259_912324cc0286row2_col1 {\n",
       "            background-color:  #292929;\n",
       "            color:  #f1f1f1;\n",
       "        }    #T_5d0b39ae_7c25_11e9_a259_912324cc0286row2_col2 {\n",
       "            background-color:  #000000;\n",
       "            color:  #f1f1f1;\n",
       "        }    #T_5d0b39ae_7c25_11e9_a259_912324cc0286row2_col3 {\n",
       "            background-color:  #e0e0e0;\n",
       "            color:  #000000;\n",
       "        }    #T_5d0b39ae_7c25_11e9_a259_912324cc0286row2_col4 {\n",
       "            background-color:  #e4e4e4;\n",
       "            color:  #000000;\n",
       "        }    #T_5d0b39ae_7c25_11e9_a259_912324cc0286row2_col5 {\n",
       "            background-color:  #d2d2d2;\n",
       "            color:  #000000;\n",
       "        }    #T_5d0b39ae_7c25_11e9_a259_912324cc0286row3_col0 {\n",
       "            background-color:  #ffffff;\n",
       "            color:  #000000;\n",
       "        }    #T_5d0b39ae_7c25_11e9_a259_912324cc0286row3_col1 {\n",
       "            background-color:  #ffffff;\n",
       "            color:  #000000;\n",
       "        }    #T_5d0b39ae_7c25_11e9_a259_912324cc0286row3_col2 {\n",
       "            background-color:  #ffffff;\n",
       "            color:  #000000;\n",
       "        }    #T_5d0b39ae_7c25_11e9_a259_912324cc0286row3_col3 {\n",
       "            background-color:  #000000;\n",
       "            color:  #f1f1f1;\n",
       "        }    #T_5d0b39ae_7c25_11e9_a259_912324cc0286row3_col4 {\n",
       "            background-color:  #c8c8c8;\n",
       "            color:  #000000;\n",
       "        }    #T_5d0b39ae_7c25_11e9_a259_912324cc0286row3_col5 {\n",
       "            background-color:  #c4c4c4;\n",
       "            color:  #000000;\n",
       "        }    #T_5d0b39ae_7c25_11e9_a259_912324cc0286row4_col0 {\n",
       "            background-color:  #b2b2b2;\n",
       "            color:  #000000;\n",
       "        }    #T_5d0b39ae_7c25_11e9_a259_912324cc0286row4_col1 {\n",
       "            background-color:  #bbbbbb;\n",
       "            color:  #000000;\n",
       "        }    #T_5d0b39ae_7c25_11e9_a259_912324cc0286row4_col2 {\n",
       "            background-color:  #b6b6b6;\n",
       "            color:  #000000;\n",
       "        }    #T_5d0b39ae_7c25_11e9_a259_912324cc0286row4_col3 {\n",
       "            background-color:  #8c8c8c;\n",
       "            color:  #000000;\n",
       "        }    #T_5d0b39ae_7c25_11e9_a259_912324cc0286row4_col4 {\n",
       "            background-color:  #000000;\n",
       "            color:  #f1f1f1;\n",
       "        }    #T_5d0b39ae_7c25_11e9_a259_912324cc0286row4_col5 {\n",
       "            background-color:  #313131;\n",
       "            color:  #f1f1f1;\n",
       "        }    #T_5d0b39ae_7c25_11e9_a259_912324cc0286row5_col0 {\n",
       "            background-color:  #e1e1e1;\n",
       "            color:  #000000;\n",
       "        }    #T_5d0b39ae_7c25_11e9_a259_912324cc0286row5_col1 {\n",
       "            background-color:  #dadada;\n",
       "            color:  #000000;\n",
       "        }    #T_5d0b39ae_7c25_11e9_a259_912324cc0286row5_col2 {\n",
       "            background-color:  #d4d4d4;\n",
       "            color:  #000000;\n",
       "        }    #T_5d0b39ae_7c25_11e9_a259_912324cc0286row5_col3 {\n",
       "            background-color:  #adadad;\n",
       "            color:  #000000;\n",
       "        }    #T_5d0b39ae_7c25_11e9_a259_912324cc0286row5_col4 {\n",
       "            background-color:  #3e3e3e;\n",
       "            color:  #f1f1f1;\n",
       "        }    #T_5d0b39ae_7c25_11e9_a259_912324cc0286row5_col5 {\n",
       "            background-color:  #000000;\n",
       "            color:  #f1f1f1;\n",
       "        }</style><table id=\"T_5d0b39ae_7c25_11e9_a259_912324cc0286\" ><thead>    <tr>        <th class=\"blank level0\" ></th>        <th class=\"col_heading level0 col0\" >0</th>        <th class=\"col_heading level0 col1\" >1</th>        <th class=\"col_heading level0 col2\" >2</th>        <th class=\"col_heading level0 col3\" >3</th>        <th class=\"col_heading level0 col4\" >4</th>        <th class=\"col_heading level0 col5\" >5</th>    </tr></thead><tbody>\n",
       "                <tr>\n",
       "                        <th id=\"T_5d0b39ae_7c25_11e9_a259_912324cc0286level0_row0\" class=\"row_heading level0 row0\" >0</th>\n",
       "                        <td id=\"T_5d0b39ae_7c25_11e9_a259_912324cc0286row0_col0\" class=\"data row0 col0\" >1</td>\n",
       "                        <td id=\"T_5d0b39ae_7c25_11e9_a259_912324cc0286row0_col1\" class=\"data row0 col1\" >0.85913</td>\n",
       "                        <td id=\"T_5d0b39ae_7c25_11e9_a259_912324cc0286row0_col2\" class=\"data row0 col2\" >0.897415</td>\n",
       "                        <td id=\"T_5d0b39ae_7c25_11e9_a259_912324cc0286row0_col3\" class=\"data row0 col3\" >0.60345</td>\n",
       "                        <td id=\"T_5d0b39ae_7c25_11e9_a259_912324cc0286row0_col4\" class=\"data row0 col4\" >0.723201</td>\n",
       "                        <td id=\"T_5d0b39ae_7c25_11e9_a259_912324cc0286row0_col5\" class=\"data row0 col5\" >0.650287</td>\n",
       "            </tr>\n",
       "            <tr>\n",
       "                        <th id=\"T_5d0b39ae_7c25_11e9_a259_912324cc0286level0_row1\" class=\"row_heading level0 row1\" >1</th>\n",
       "                        <td id=\"T_5d0b39ae_7c25_11e9_a259_912324cc0286row1_col0\" class=\"data row1 col0\" >0.85913</td>\n",
       "                        <td id=\"T_5d0b39ae_7c25_11e9_a259_912324cc0286row1_col1\" class=\"data row1 col1\" >1</td>\n",
       "                        <td id=\"T_5d0b39ae_7c25_11e9_a259_912324cc0286row1_col2\" class=\"data row1 col2\" >0.946554</td>\n",
       "                        <td id=\"T_5d0b39ae_7c25_11e9_a259_912324cc0286row1_col3\" class=\"data row1 col3\" >0.667631</td>\n",
       "                        <td id=\"T_5d0b39ae_7c25_11e9_a259_912324cc0286row1_col4\" class=\"data row1 col4\" >0.756882</td>\n",
       "                        <td id=\"T_5d0b39ae_7c25_11e9_a259_912324cc0286row1_col5\" class=\"data row1 col5\" >0.716414</td>\n",
       "            </tr>\n",
       "            <tr>\n",
       "                        <th id=\"T_5d0b39ae_7c25_11e9_a259_912324cc0286level0_row2\" class=\"row_heading level0 row2\" >2</th>\n",
       "                        <td id=\"T_5d0b39ae_7c25_11e9_a259_912324cc0286row2_col0\" class=\"data row2 col0\" >0.897415</td>\n",
       "                        <td id=\"T_5d0b39ae_7c25_11e9_a259_912324cc0286row2_col1\" class=\"data row2 col1\" >0.946554</td>\n",
       "                        <td id=\"T_5d0b39ae_7c25_11e9_a259_912324cc0286row2_col2\" class=\"data row2 col2\" >1</td>\n",
       "                        <td id=\"T_5d0b39ae_7c25_11e9_a259_912324cc0286row2_col3\" class=\"data row2 col3\" >0.652905</td>\n",
       "                        <td id=\"T_5d0b39ae_7c25_11e9_a259_912324cc0286row2_col4\" class=\"data row2 col4\" >0.752784</td>\n",
       "                        <td id=\"T_5d0b39ae_7c25_11e9_a259_912324cc0286row2_col5\" class=\"data row2 col5\" >0.711959</td>\n",
       "            </tr>\n",
       "            <tr>\n",
       "                        <th id=\"T_5d0b39ae_7c25_11e9_a259_912324cc0286level0_row3\" class=\"row_heading level0 row3\" >3</th>\n",
       "                        <td id=\"T_5d0b39ae_7c25_11e9_a259_912324cc0286row3_col0\" class=\"data row3 col0\" >0.60345</td>\n",
       "                        <td id=\"T_5d0b39ae_7c25_11e9_a259_912324cc0286row3_col1\" class=\"data row3 col1\" >0.667631</td>\n",
       "                        <td id=\"T_5d0b39ae_7c25_11e9_a259_912324cc0286row3_col2\" class=\"data row3 col2\" >0.652905</td>\n",
       "                        <td id=\"T_5d0b39ae_7c25_11e9_a259_912324cc0286row3_col3\" class=\"data row3 col3\" >1</td>\n",
       "                        <td id=\"T_5d0b39ae_7c25_11e9_a259_912324cc0286row3_col4\" class=\"data row3 col4\" >0.782894</td>\n",
       "                        <td id=\"T_5d0b39ae_7c25_11e9_a259_912324cc0286row3_col5\" class=\"data row3 col5\" >0.731884</td>\n",
       "            </tr>\n",
       "            <tr>\n",
       "                        <th id=\"T_5d0b39ae_7c25_11e9_a259_912324cc0286level0_row4\" class=\"row_heading level0 row4\" >4</th>\n",
       "                        <td id=\"T_5d0b39ae_7c25_11e9_a259_912324cc0286row4_col0\" class=\"data row4 col0\" >0.723201</td>\n",
       "                        <td id=\"T_5d0b39ae_7c25_11e9_a259_912324cc0286row4_col1\" class=\"data row4 col1\" >0.756882</td>\n",
       "                        <td id=\"T_5d0b39ae_7c25_11e9_a259_912324cc0286row4_col2\" class=\"data row4 col2\" >0.752784</td>\n",
       "                        <td id=\"T_5d0b39ae_7c25_11e9_a259_912324cc0286row4_col3\" class=\"data row4 col3\" >0.782894</td>\n",
       "                        <td id=\"T_5d0b39ae_7c25_11e9_a259_912324cc0286row4_col4\" class=\"data row4 col4\" >1</td>\n",
       "                        <td id=\"T_5d0b39ae_7c25_11e9_a259_912324cc0286row4_col5\" class=\"data row4 col5\" >0.932917</td>\n",
       "            </tr>\n",
       "            <tr>\n",
       "                        <th id=\"T_5d0b39ae_7c25_11e9_a259_912324cc0286level0_row5\" class=\"row_heading level0 row5\" >5</th>\n",
       "                        <td id=\"T_5d0b39ae_7c25_11e9_a259_912324cc0286row5_col0\" class=\"data row5 col0\" >0.650287</td>\n",
       "                        <td id=\"T_5d0b39ae_7c25_11e9_a259_912324cc0286row5_col1\" class=\"data row5 col1\" >0.716414</td>\n",
       "                        <td id=\"T_5d0b39ae_7c25_11e9_a259_912324cc0286row5_col2\" class=\"data row5 col2\" >0.711959</td>\n",
       "                        <td id=\"T_5d0b39ae_7c25_11e9_a259_912324cc0286row5_col3\" class=\"data row5 col3\" >0.731884</td>\n",
       "                        <td id=\"T_5d0b39ae_7c25_11e9_a259_912324cc0286row5_col4\" class=\"data row5 col4\" >0.932917</td>\n",
       "                        <td id=\"T_5d0b39ae_7c25_11e9_a259_912324cc0286row5_col5\" class=\"data row5 col5\" >1</td>\n",
       "            </tr>\n",
       "    </tbody></table>"
      ],
      "text/plain": [
       "<pandas.io.formats.style.Styler at 0x7f86e1c54978>"
      ]
     },
     "execution_count": 244,
     "metadata": {},
     "output_type": "execute_result"
    }
   ],
   "source": [
    "d=X_train\n",
    "d=pd.DataFrame(d)\n",
    "corr = d.corr()\n",
    "corr.style.background_gradient(cmap='binary')"
   ]
  },
  {
   "cell_type": "code",
   "execution_count": 198,
   "metadata": {
    "ExecuteTime": {
     "end_time": "2019-05-21T18:01:28.567989Z",
     "start_time": "2019-05-21T18:01:28.350005Z"
    }
   },
   "outputs": [
    {
     "data": {
      "image/png": "[encoded data removed]",
      "text/plain": [
       "<Figure size 1152x504 with 1 Axes>"
      ]
     },
     "metadata": {
      "needs_background": "light"
     },
     "output_type": "display_data"
    }
   ],
   "source": [
    "plt.figure(figsize=(16,7))\n",
    "plt.hist(y_test,range=(-0.1,0.1),bins=30)\n",
    "plt.show()"
   ]
  },
  {
   "cell_type": "code",
   "execution_count": 199,
   "metadata": {
    "ExecuteTime": {
     "end_time": "2019-05-21T18:02:15.178214Z",
     "start_time": "2019-05-21T18:02:14.260103Z"
    }
   },
   "outputs": [
    {
     "data": {
      "image/png": "[encoded data removed]",
      "text/plain": [
       "<Figure size 432x288 with 1 Axes>"
      ]
     },
     "metadata": {
      "needs_background": "light"
     },
     "output_type": "display_data"
    },
    {
     "data": {
      "image/png": "[encoded data removed]",
      "text/plain": [
       "<Figure size 432x288 with 1 Axes>"
      ]
     },
     "metadata": {
      "needs_background": "light"
     },
     "output_type": "display_data"
    },
    {
     "data": {
      "image/png": "[encoded data removed]",
      "text/plain": [
       "<Figure size 432x288 with 1 Axes>"
      ]
     },
     "metadata": {
      "needs_background": "light"
     },
     "output_type": "display_data"
    },
    {
     "data": {
      "image/png": "[encoded data removed]",
      "text/plain": [
       "<Figure size 432x288 with 1 Axes>"
      ]
     },
     "metadata": {
      "needs_background": "light"
     },
     "output_type": "display_data"
    },
    {
     "data": {
      "image/png": "[encoded data removed]",
      "text/plain": [
       "<Figure size 432x288 with 1 Axes>"
      ]
     },
     "metadata": {
      "needs_background": "light"
     },
     "output_type": "display_data"
    },
    {
     "data": {
      "image/png": "[encoded data removed]",
      "text/plain": [
       "<Figure size 432x288 with 1 Axes>"
      ]
     },
     "metadata": {
      "needs_background": "light"
     },
     "output_type": "display_data"
    }
   ],
   "source": [
    "for i in [NN_train_pred,RE1_train_pred,RE2_train_pred,GBM_train_pred,RF1_train_pred,RF2_train_pred]:\n",
    "    plt.hist(i,range=(-0.01,0.01),bins=30)\n",
    "    plt.show()"
   ]
  },
  {
   "cell_type": "markdown",
   "metadata": {},
   "source": [
    "### NN"
   ]
  },
  {
   "cell_type": "code",
   "execution_count": 183,
   "metadata": {
    "ExecuteTime": {
     "end_time": "2019-05-21T17:48:32.297488Z",
     "start_time": "2019-05-21T17:48:32.284739Z"
    }
   },
   "outputs": [],
   "source": [
    "def agg_test(model,plot=True):   \n",
    "    y_pred=model(torch.tensor(Ｘ_train, dtype=torch.float32))\n",
    "    y_pred=torch.Tensor.numpy(y_pred.data)\n",
    "    y_pred_in=y_pred.reshape(y_pred.shape[0])\n",
    "    r2_in = r2_score(y_train, y_pred_in)\n",
    "    \n",
    "    y_pred=model(torch.tensor(Ｘ_test, dtype=torch.float32))\n",
    "    y_pred=torch.Tensor.numpy(y_pred.data)\n",
    "    y_pred_out=y_pred.reshape(y_pred.shape[0])\n",
    "    r2_out = r2_score(y_test, y_pred_out)\n",
    "    \n",
    "    print(\"in: \",r2_in,\"  out:\",r2_out)\n",
    "    \n",
    "    if plot:\n",
    "        plt.figure(figsize=(16,7))\n",
    "        plt.subplot(2, 2, 1)\n",
    "        plt.hist(y_pred_in,range=(-0.1,0.1),bins=30)\n",
    "        plt.subplot(2, 2, 2)\n",
    "        plt.hist(y_train,range=(-0.1,0.1),bins=30)\n",
    "        plt.subplot(2, 2, 3)\n",
    "        plt.hist(y_pred_out,range=(-0.1,0.1),bins=30)\n",
    "        plt.subplot(2, 2, 4)\n",
    "        plt.hist(y_test,range=(-0.1,0.1),bins=30)\n",
    "        plt.show()\n",
    "    \n",
    "    return (r2_in,r2_out,y_pred_in,y_pred_out)"
   ]
  },
  {
   "cell_type": "code",
   "execution_count": 201,
   "metadata": {
    "ExecuteTime": {
     "end_time": "2019-05-21T18:05:00.035446Z",
     "start_time": "2019-05-21T18:04:56.328382Z"
    }
   },
   "outputs": [
    {
     "name": "stdout",
     "output_type": "stream",
     "text": [
      "converge epoch:  182\n",
      "1 :  -1.1511563474897457e-05    0.00033021654235199094    [2] False 0.1 True True\n",
      "in:  -3.353976907316536e-07   out: -1.1511563474897457e-05\n"
     ]
    },
    {
     "data": {
      "image/png": "[encoded data removed]",
      "text/plain": [
       "<Figure size 1152x504 with 4 Axes>"
      ]
     },
     "metadata": {
      "needs_background": "light"
     },
     "output_type": "display_data"
    }
   ],
   "source": [
    "history=[]\n",
    "\n",
    "nodes_list=[\n",
    "    [2]\n",
    "]          \n",
    "\n",
    "t=1 \n",
    "for nodes in nodes_list:\n",
    "    for epoch in [3000]:\n",
    "        for lr in [0.1]:\n",
    "            for isdrop in [False]:\n",
    "                for l2reg in [1e-1]:\n",
    "                    for isleaky in [True]:\n",
    "                        for isbatch in [True]:\n",
    "                            model,r2,mse=NN(train,test,nodes, epoch, lr, isdrop, l2reg, isleaky, isbatch)\n",
    "                            history.append([r2,model,mse,nodes, epoch, lr, isdrop, l2reg, isleaky, isbatch])\n",
    "                            print(t,\": \",r2,\"  \",mse,\"  \",nodes, isdrop, l2reg, isleaky, isbatch)\n",
    "                            t=t+1\n",
    "                            agg_test(model)\n"
   ]
  },
  {
   "cell_type": "markdown",
   "metadata": {},
   "source": [
    "### Linear"
   ]
  },
  {
   "cell_type": "code",
   "execution_count": 256,
   "metadata": {
    "ExecuteTime": {
     "end_time": "2019-05-22T00:23:20.981390Z",
     "start_time": "2019-05-22T00:23:20.976048Z"
    }
   },
   "outputs": [],
   "source": [
    "from sklearn.linear_model import LinearRegression\n",
    "from sklearn.linear_model import Lasso\n",
    "from sklearn.linear_model import Ridge"
   ]
  },
  {
   "cell_type": "code",
   "execution_count": 221,
   "metadata": {
    "ExecuteTime": {
     "end_time": "2019-05-21T20:15:06.419394Z",
     "start_time": "2019-05-21T20:15:06.380962Z"
    }
   },
   "outputs": [
    {
     "name": "stdout",
     "output_type": "stream",
     "text": [
      "Linear regression in sample R2: 0.0030318509364627433\n",
      "Linear regression out sample R2: 0.000330595122359556\n",
      "Coefficients: [-0.38091614 -0.63629457  0.31110783  0.10499433  1.77391626  0.15752912]\n"
     ]
    }
   ],
   "source": [
    "linReg = LinearRegression().fit(X_train, y_train)\n",
    "print('Linear regression in sample R2:', linReg.score(X_train, y_train))\n",
    "print('Linear regression out sample R2:',linReg.score(X_test, y_test))\n",
    "print('Coefficients:', linReg.coef_)"
   ]
  },
  {
   "cell_type": "code",
   "execution_count": 222,
   "metadata": {
    "ExecuteTime": {
     "end_time": "2019-05-21T20:15:08.259085Z",
     "start_time": "2019-05-21T20:15:08.223614Z"
    }
   },
   "outputs": [
    {
     "name": "stdout",
     "output_type": "stream",
     "text": [
      "Linear regression in sample R2: 0.0024990480999838027\n",
      "Linear regression out sample R2: 0.0013840677319513217\n",
      "Coefficients: [0.         0.         0.         0.         0.98196248 0.        ]\n"
     ]
    }
   ],
   "source": [
    "LasReg = Lasso(alpha=2e-7).fit(X_train,y_train)\n",
    "print('Linear regression in sample R2:', LasReg.score(X_train, y_train))\n",
    "print('Linear regression out sample R2:',LasReg.score(X_test, y_test))\n",
    "print('Coefficients:', LasReg.coef_)"
   ]
  },
  {
   "cell_type": "code",
   "execution_count": 236,
   "metadata": {
    "ExecuteTime": {
     "end_time": "2019-05-21T20:17:35.770361Z",
     "start_time": "2019-05-21T20:17:35.745112Z"
    }
   },
   "outputs": [
    {
     "name": "stdout",
     "output_type": "stream",
     "text": [
      "Linear regression in sample R2: 0.0020824317287647665\n",
      "Linear regression out sample R2: 0.0013074145177582874\n",
      "Coefficients: [0.06413138 0.06565366 0.07662776 0.21591552 0.38343369 0.23063881]\n"
     ]
    }
   ],
   "source": [
    "RidReg = Ridge(alpha=2e-1).fit(X_train,y_train)\n",
    "print('Linear regression in sample R2:', RidReg.score(X_train, y_train))\n",
    "print('Linear regression out sample R2:',RidReg.score(X_test, y_test))\n",
    "print('Coefficients:', RidReg.coef_)"
   ]
  },
  {
   "cell_type": "markdown",
   "metadata": {},
   "source": [
    "### Forest"
   ]
  },
  {
   "cell_type": "code",
   "execution_count": 258,
   "metadata": {
    "ExecuteTime": {
     "end_time": "2019-05-22T00:26:51.221158Z",
     "start_time": "2019-05-22T00:26:51.150570Z"
    }
   },
   "outputs": [],
   "source": [
    "from sklearn.ensemble import RandomForestRegressor"
   ]
  },
  {
   "cell_type": "code",
   "execution_count": 269,
   "metadata": {
    "ExecuteTime": {
     "end_time": "2019-05-22T00:37:42.482102Z",
     "start_time": "2019-05-22T00:36:58.575359Z"
    }
   },
   "outputs": [
    {
     "name": "stdout",
     "output_type": "stream",
     "text": [
      "Linear regression in sample R2: 0.00483267478156979\n",
      "Linear regression out sample R2: 0.0008435821121753896\n"
     ]
    }
   ],
   "source": [
    "ranf=RandomForestRegressor(n_estimators = 200,max_depth = 2).fit(X_train,y_train)\n",
    "print('Linear regression in sample R2:', ranf.score(X_train, y_train))\n",
    "print('Linear regression out sample R2:',ranf.score(X_test, y_test))"
   ]
  },
  {
   "cell_type": "code",
   "execution_count": null,
   "metadata": {},
   "outputs": [],
   "source": []
  }
 ],
 "metadata": {
  "kernelspec": {
   "display_name": "Python 3",
   "language": "python",
   "name": "python3"
  },
  "language_info": {
   "codemirror_mode": {
    "name": "ipython",
    "version": 3
   },
   "file_extension": ".py",
   "mimetype": "text/x-python",
   "name": "python",
   "nbconvert_exporter": "python",
   "pygments_lexer": "ipython3",
   "version": "3.7.3"
  },
  "latex_envs": {
   "LaTeX_envs_menu_present": true,
   "autoclose": true,
   "autocomplete": true,
   "bibliofile": "biblio.bib",
   "cite_by": "apalike",
   "current_citInitial": 1,
   "eqLabelWithNumbers": false,
   "eqNumInitial": 1,
   "hotkeys": {
    "equation": "Ctrl-E",
    "itemize": "Ctrl-I"
   },
   "labels_anchors": false,
   "latex_user_defs": false,
   "report_style_numbering": false,
   "user_envs_cfg": false
  },
  "toc": {
   "base_numbering": 1,
   "nav_menu": {},
   "number_sections": true,
   "sideBar": true,
   "skip_h1_title": false,
   "title_cell": "Table of Contents",
   "title_sidebar": "Contents",
   "toc_cell": false,
   "toc_position": {},
   "toc_section_display": true,
   "toc_window_display": false
  },
  "varInspector": {
   "cols": {
    "lenName": 16,
    "lenType": 16,
    "lenVar": 40
   },
   "kernels_config": {
    "python": {
     "delete_cmd_postfix": "",
     "delete_cmd_prefix": "del ",
     "library": "var_list.py",
     "varRefreshCmd": "print(var_dic_list())"
    },
    "r": {
     "delete_cmd_postfix": ") ",
     "delete_cmd_prefix": "rm(",
     "library": "var_list.r",
     "varRefreshCmd": "cat(var_dic_list()) "
    }
   },
   "types_to_exclude": [
    "module",
    "function",
    "builtin_function_or_method",
    "instance",
    "_Feature"
   ],
   "window_display": false
  }
 },
 "nbformat": 4,
 "nbformat_minor": 2
}
