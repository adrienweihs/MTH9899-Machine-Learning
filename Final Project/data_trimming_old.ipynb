{
 "cells": [
  {
   "cell_type": "code",
   "execution_count": 1,
   "metadata": {},
   "outputs": [],
   "source": [
    "import numpy as np\n",
    "import pandas as pd\n",
    "import matplotlib.pyplot as plt\n",
    "import statsmodels.api as sm\n",
    "from scipy.stats import pearsonr, moment\n",
    "\n",
    "from IPython.display import display"
   ]
  },
  {
   "cell_type": "markdown",
   "metadata": {},
   "source": [
    "# 1. Trim our data."
   ]
  },
  {
   "cell_type": "markdown",
   "metadata": {},
   "source": [
    "## 1.1. Read in data and have a look at it."
   ]
  },
  {
   "cell_type": "code",
   "execution_count": 2,
   "metadata": {},
   "outputs": [
    {
     "name": "stdout",
     "output_type": "stream",
     "text": [
      "head of raw data:\n"
     ]
    },
    {
     "data": {
      "text/html": [
       "<div>\n",
       "<style scoped>\n",
       "    .dataframe tbody tr th:only-of-type {\n",
       "        vertical-align: middle;\n",
       "    }\n",
       "\n",
       "    .dataframe tbody tr th {\n",
       "        vertical-align: top;\n",
       "    }\n",
       "\n",
       "    .dataframe thead th {\n",
       "        text-align: right;\n",
       "    }\n",
       "</style>\n",
       "<table border=\"1\" class=\"dataframe\">\n",
       "  <thead>\n",
       "    <tr style=\"text-align: right;\">\n",
       "      <th></th>\n",
       "      <th>Date</th>\n",
       "      <th>Time</th>\n",
       "      <th>sec_id</th>\n",
       "      <th>fut_ret</th>\n",
       "      <th>vol</th>\n",
       "      <th>X1</th>\n",
       "      <th>X2</th>\n",
       "      <th>X3</th>\n",
       "      <th>X4</th>\n",
       "      <th>X5</th>\n",
       "      <th>X6</th>\n",
       "      <th>X7</th>\n",
       "    </tr>\n",
       "  </thead>\n",
       "  <tbody>\n",
       "    <tr>\n",
       "      <th>0</th>\n",
       "      <td>0</td>\n",
       "      <td>0</td>\n",
       "      <td>0</td>\n",
       "      <td>0.037521</td>\n",
       "      <td>0.000563</td>\n",
       "      <td>0.002766</td>\n",
       "      <td>-0.000187</td>\n",
       "      <td>0.000000</td>\n",
       "      <td>0.0</td>\n",
       "      <td>-0.000170</td>\n",
       "      <td>0.0</td>\n",
       "      <td>0.000000e+00</td>\n",
       "    </tr>\n",
       "    <tr>\n",
       "      <th>1</th>\n",
       "      <td>0</td>\n",
       "      <td>0</td>\n",
       "      <td>1</td>\n",
       "      <td>0.005565</td>\n",
       "      <td>0.000805</td>\n",
       "      <td>-0.000461</td>\n",
       "      <td>-0.000231</td>\n",
       "      <td>0.000000</td>\n",
       "      <td>0.0</td>\n",
       "      <td>0.000282</td>\n",
       "      <td>0.0</td>\n",
       "      <td>0.000000e+00</td>\n",
       "    </tr>\n",
       "    <tr>\n",
       "      <th>2</th>\n",
       "      <td>0</td>\n",
       "      <td>0</td>\n",
       "      <td>2</td>\n",
       "      <td>-0.008732</td>\n",
       "      <td>0.000584</td>\n",
       "      <td>0.001580</td>\n",
       "      <td>-0.000082</td>\n",
       "      <td>-0.000464</td>\n",
       "      <td>0.0</td>\n",
       "      <td>-0.000234</td>\n",
       "      <td>0.0</td>\n",
       "      <td>3.921761e-13</td>\n",
       "    </tr>\n",
       "    <tr>\n",
       "      <th>3</th>\n",
       "      <td>0</td>\n",
       "      <td>0</td>\n",
       "      <td>3</td>\n",
       "      <td>0.000695</td>\n",
       "      <td>0.000326</td>\n",
       "      <td>0.000243</td>\n",
       "      <td>-0.000125</td>\n",
       "      <td>0.000000</td>\n",
       "      <td>0.0</td>\n",
       "      <td>0.000104</td>\n",
       "      <td>0.0</td>\n",
       "      <td>0.000000e+00</td>\n",
       "    </tr>\n",
       "    <tr>\n",
       "      <th>4</th>\n",
       "      <td>0</td>\n",
       "      <td>0</td>\n",
       "      <td>4</td>\n",
       "      <td>-0.002755</td>\n",
       "      <td>0.000461</td>\n",
       "      <td>0.000259</td>\n",
       "      <td>-0.000291</td>\n",
       "      <td>0.000000</td>\n",
       "      <td>0.0</td>\n",
       "      <td>0.000138</td>\n",
       "      <td>0.0</td>\n",
       "      <td>0.000000e+00</td>\n",
       "    </tr>\n",
       "  </tbody>\n",
       "</table>\n",
       "</div>"
      ],
      "text/plain": [
       "   Date  Time  sec_id   fut_ret       vol        X1        X2        X3   X4  \\\n",
       "0     0     0       0  0.037521  0.000563  0.002766 -0.000187  0.000000  0.0   \n",
       "1     0     0       1  0.005565  0.000805 -0.000461 -0.000231  0.000000  0.0   \n",
       "2     0     0       2 -0.008732  0.000584  0.001580 -0.000082 -0.000464  0.0   \n",
       "3     0     0       3  0.000695  0.000326  0.000243 -0.000125  0.000000  0.0   \n",
       "4     0     0       4 -0.002755  0.000461  0.000259 -0.000291  0.000000  0.0   \n",
       "\n",
       "         X5   X6            X7  \n",
       "0 -0.000170  0.0  0.000000e+00  \n",
       "1  0.000282  0.0  0.000000e+00  \n",
       "2 -0.000234  0.0  3.921761e-13  \n",
       "3  0.000104  0.0  0.000000e+00  \n",
       "4  0.000138  0.0  0.000000e+00  "
      ]
     },
     "metadata": {},
     "output_type": "display_data"
    },
    {
     "name": "stdout",
     "output_type": "stream",
     "text": [
      "description of raw data\n"
     ]
    },
    {
     "data": {
      "text/html": [
       "<div>\n",
       "<style scoped>\n",
       "    .dataframe tbody tr th:only-of-type {\n",
       "        vertical-align: middle;\n",
       "    }\n",
       "\n",
       "    .dataframe tbody tr th {\n",
       "        vertical-align: top;\n",
       "    }\n",
       "\n",
       "    .dataframe thead th {\n",
       "        text-align: right;\n",
       "    }\n",
       "</style>\n",
       "<table border=\"1\" class=\"dataframe\">\n",
       "  <thead>\n",
       "    <tr style=\"text-align: right;\">\n",
       "      <th></th>\n",
       "      <th>Date</th>\n",
       "      <th>Time</th>\n",
       "      <th>sec_id</th>\n",
       "      <th>fut_ret</th>\n",
       "      <th>vol</th>\n",
       "      <th>X1</th>\n",
       "      <th>X2</th>\n",
       "      <th>X3</th>\n",
       "      <th>X4</th>\n",
       "      <th>X5</th>\n",
       "      <th>X6</th>\n",
       "      <th>X7</th>\n",
       "    </tr>\n",
       "  </thead>\n",
       "  <tbody>\n",
       "    <tr>\n",
       "      <th>count</th>\n",
       "      <td>392539.000000</td>\n",
       "      <td>392539.0</td>\n",
       "      <td>392539.000000</td>\n",
       "      <td>392539.000000</td>\n",
       "      <td>362441.000000</td>\n",
       "      <td>392539.000000</td>\n",
       "      <td>3.925390e+05</td>\n",
       "      <td>392539.000000</td>\n",
       "      <td>392539.000000</td>\n",
       "      <td>3.925390e+05</td>\n",
       "      <td>392539.000000</td>\n",
       "      <td>392539.000000</td>\n",
       "    </tr>\n",
       "    <tr>\n",
       "      <th>mean</th>\n",
       "      <td>99.415750</td>\n",
       "      <td>0.0</td>\n",
       "      <td>994.498906</td>\n",
       "      <td>0.000135</td>\n",
       "      <td>0.000564</td>\n",
       "      <td>0.000315</td>\n",
       "      <td>4.680045e-07</td>\n",
       "      <td>-0.000008</td>\n",
       "      <td>0.000031</td>\n",
       "      <td>8.290503e-08</td>\n",
       "      <td>-0.000037</td>\n",
       "      <td>0.000001</td>\n",
       "    </tr>\n",
       "    <tr>\n",
       "      <th>std</th>\n",
       "      <td>57.753533</td>\n",
       "      <td>0.0</td>\n",
       "      <td>574.905400</td>\n",
       "      <td>0.017272</td>\n",
       "      <td>0.000186</td>\n",
       "      <td>0.001151</td>\n",
       "      <td>2.999635e-04</td>\n",
       "      <td>0.000086</td>\n",
       "      <td>0.000282</td>\n",
       "      <td>2.997019e-04</td>\n",
       "      <td>0.000203</td>\n",
       "      <td>0.000017</td>\n",
       "    </tr>\n",
       "    <tr>\n",
       "      <th>min</th>\n",
       "      <td>0.000000</td>\n",
       "      <td>0.0</td>\n",
       "      <td>0.000000</td>\n",
       "      <td>-1.917905</td>\n",
       "      <td>0.000000</td>\n",
       "      <td>-0.009900</td>\n",
       "      <td>-1.391000e-03</td>\n",
       "      <td>-0.001497</td>\n",
       "      <td>0.000000</td>\n",
       "      <td>-1.475798e-03</td>\n",
       "      <td>-0.008484</td>\n",
       "      <td>0.000000</td>\n",
       "    </tr>\n",
       "    <tr>\n",
       "      <th>25%</th>\n",
       "      <td>49.000000</td>\n",
       "      <td>0.0</td>\n",
       "      <td>497.000000</td>\n",
       "      <td>-0.006237</td>\n",
       "      <td>0.000418</td>\n",
       "      <td>-0.000056</td>\n",
       "      <td>-2.020000e-04</td>\n",
       "      <td>0.000000</td>\n",
       "      <td>0.000000</td>\n",
       "      <td>-2.016605e-04</td>\n",
       "      <td>0.000000</td>\n",
       "      <td>0.000000</td>\n",
       "    </tr>\n",
       "    <tr>\n",
       "      <th>50%</th>\n",
       "      <td>99.000000</td>\n",
       "      <td>0.0</td>\n",
       "      <td>993.000000</td>\n",
       "      <td>0.000000</td>\n",
       "      <td>0.000548</td>\n",
       "      <td>0.000100</td>\n",
       "      <td>-0.000000e+00</td>\n",
       "      <td>0.000000</td>\n",
       "      <td>0.000000</td>\n",
       "      <td>-2.529583e-08</td>\n",
       "      <td>0.000000</td>\n",
       "      <td>0.000000</td>\n",
       "    </tr>\n",
       "    <tr>\n",
       "      <th>75%</th>\n",
       "      <td>149.000000</td>\n",
       "      <td>0.0</td>\n",
       "      <td>1492.000000</td>\n",
       "      <td>0.006087</td>\n",
       "      <td>0.000692</td>\n",
       "      <td>0.000768</td>\n",
       "      <td>2.030000e-04</td>\n",
       "      <td>0.000000</td>\n",
       "      <td>0.000000</td>\n",
       "      <td>2.021301e-04</td>\n",
       "      <td>0.000000</td>\n",
       "      <td>0.000000</td>\n",
       "    </tr>\n",
       "    <tr>\n",
       "      <th>max</th>\n",
       "      <td>199.000000</td>\n",
       "      <td>0.0</td>\n",
       "      <td>1991.000000</td>\n",
       "      <td>0.710399</td>\n",
       "      <td>0.002324</td>\n",
       "      <td>0.009900</td>\n",
       "      <td>1.422000e-03</td>\n",
       "      <td>0.000000</td>\n",
       "      <td>0.009157</td>\n",
       "      <td>1.399313e-03</td>\n",
       "      <td>0.000000</td>\n",
       "      <td>0.000817</td>\n",
       "    </tr>\n",
       "  </tbody>\n",
       "</table>\n",
       "</div>"
      ],
      "text/plain": [
       "                Date      Time         sec_id        fut_ret            vol  \\\n",
       "count  392539.000000  392539.0  392539.000000  392539.000000  362441.000000   \n",
       "mean       99.415750       0.0     994.498906       0.000135       0.000564   \n",
       "std        57.753533       0.0     574.905400       0.017272       0.000186   \n",
       "min         0.000000       0.0       0.000000      -1.917905       0.000000   \n",
       "25%        49.000000       0.0     497.000000      -0.006237       0.000418   \n",
       "50%        99.000000       0.0     993.000000       0.000000       0.000548   \n",
       "75%       149.000000       0.0    1492.000000       0.006087       0.000692   \n",
       "max       199.000000       0.0    1991.000000       0.710399       0.002324   \n",
       "\n",
       "                  X1            X2             X3             X4  \\\n",
       "count  392539.000000  3.925390e+05  392539.000000  392539.000000   \n",
       "mean        0.000315  4.680045e-07      -0.000008       0.000031   \n",
       "std         0.001151  2.999635e-04       0.000086       0.000282   \n",
       "min        -0.009900 -1.391000e-03      -0.001497       0.000000   \n",
       "25%        -0.000056 -2.020000e-04       0.000000       0.000000   \n",
       "50%         0.000100 -0.000000e+00       0.000000       0.000000   \n",
       "75%         0.000768  2.030000e-04       0.000000       0.000000   \n",
       "max         0.009900  1.422000e-03       0.000000       0.009157   \n",
       "\n",
       "                 X5             X6             X7  \n",
       "count  3.925390e+05  392539.000000  392539.000000  \n",
       "mean   8.290503e-08      -0.000037       0.000001  \n",
       "std    2.997019e-04       0.000203       0.000017  \n",
       "min   -1.475798e-03      -0.008484       0.000000  \n",
       "25%   -2.016605e-04       0.000000       0.000000  \n",
       "50%   -2.529583e-08       0.000000       0.000000  \n",
       "75%    2.021301e-04       0.000000       0.000000  \n",
       "max    1.399313e-03       0.000000       0.000817  "
      ]
     },
     "execution_count": 2,
     "metadata": {},
     "output_type": "execute_result"
    }
   ],
   "source": [
    "# read raw data.\n",
    "data_raw = pd.read_csv('dat_final.csv')\n",
    "\n",
    "print('head of raw data:')\n",
    "display(data_raw.head())\n",
    "print('description of raw data')\n",
    "data_raw.describe()"
   ]
  },
  {
   "cell_type": "markdown",
   "metadata": {},
   "source": [
    "From the description, we notice that\n",
    "- The label 'Time' is invalid. So we drop it.\n",
    "- 'fut_ret is more likely to be residual return rather than raw return, since its sample average is very close to 0."
   ]
  },
  {
   "cell_type": "markdown",
   "metadata": {},
   "source": [
    "## 1.2. Drop 'Time' label."
   ]
  },
  {
   "cell_type": "code",
   "execution_count": 3,
   "metadata": {},
   "outputs": [
    {
     "data": {
      "text/plain": [
       "0"
      ]
     },
     "execution_count": 3,
     "metadata": {},
     "output_type": "execute_result"
    }
   ],
   "source": [
    "np.sum(data_raw['Time']!=0)  # make sure all values are 0."
   ]
  },
  {
   "cell_type": "code",
   "execution_count": 4,
   "metadata": {},
   "outputs": [],
   "source": [
    "data = data_raw.drop(columns=['Time'])"
   ]
  },
  {
   "cell_type": "markdown",
   "metadata": {},
   "source": [
    "## 1.3. Plot correlation heatmap pairwise among features."
   ]
  },
  {
   "cell_type": "code",
   "execution_count": 5,
   "metadata": {},
   "outputs": [
    {
     "data": {
      "text/html": [
       "<style  type=\"text/css\" >\n",
       "    #T_fa89a5de_740c_11e9_8bbd_d46d6d2df482row0_col0 {\n",
       "            background-color:  #000000;\n",
       "            color:  #f1f1f1;\n",
       "        }    #T_fa89a5de_740c_11e9_8bbd_d46d6d2df482row0_col1 {\n",
       "            background-color:  #fafafa;\n",
       "            color:  #000000;\n",
       "        }    #T_fa89a5de_740c_11e9_8bbd_d46d6d2df482row0_col2 {\n",
       "            background-color:  #ffffff;\n",
       "            color:  #000000;\n",
       "        }    #T_fa89a5de_740c_11e9_8bbd_d46d6d2df482row0_col3 {\n",
       "            background-color:  #fcfcfc;\n",
       "            color:  #000000;\n",
       "        }    #T_fa89a5de_740c_11e9_8bbd_d46d6d2df482row0_col4 {\n",
       "            background-color:  #f6f6f6;\n",
       "            color:  #000000;\n",
       "        }    #T_fa89a5de_740c_11e9_8bbd_d46d6d2df482row0_col5 {\n",
       "            background-color:  #fefefe;\n",
       "            color:  #000000;\n",
       "        }    #T_fa89a5de_740c_11e9_8bbd_d46d6d2df482row0_col6 {\n",
       "            background-color:  #e6e6e6;\n",
       "            color:  #000000;\n",
       "        }    #T_fa89a5de_740c_11e9_8bbd_d46d6d2df482row0_col7 {\n",
       "            background-color:  #f6f6f6;\n",
       "            color:  #000000;\n",
       "        }    #T_fa89a5de_740c_11e9_8bbd_d46d6d2df482row0_col8 {\n",
       "            background-color:  #ffffff;\n",
       "            color:  #000000;\n",
       "        }    #T_fa89a5de_740c_11e9_8bbd_d46d6d2df482row0_col9 {\n",
       "            background-color:  #e6e6e6;\n",
       "            color:  #000000;\n",
       "        }    #T_fa89a5de_740c_11e9_8bbd_d46d6d2df482row0_col10 {\n",
       "            background-color:  #eaeaea;\n",
       "            color:  #000000;\n",
       "        }    #T_fa89a5de_740c_11e9_8bbd_d46d6d2df482row1_col0 {\n",
       "            background-color:  #f6f6f6;\n",
       "            color:  #000000;\n",
       "        }    #T_fa89a5de_740c_11e9_8bbd_d46d6d2df482row1_col1 {\n",
       "            background-color:  #000000;\n",
       "            color:  #f1f1f1;\n",
       "        }    #T_fa89a5de_740c_11e9_8bbd_d46d6d2df482row1_col2 {\n",
       "            background-color:  #fefefe;\n",
       "            color:  #000000;\n",
       "        }    #T_fa89a5de_740c_11e9_8bbd_d46d6d2df482row1_col3 {\n",
       "            background-color:  #ababab;\n",
       "            color:  #000000;\n",
       "        }    #T_fa89a5de_740c_11e9_8bbd_d46d6d2df482row1_col4 {\n",
       "            background-color:  #f4f4f4;\n",
       "            color:  #000000;\n",
       "        }    #T_fa89a5de_740c_11e9_8bbd_d46d6d2df482row1_col5 {\n",
       "            background-color:  #ffffff;\n",
       "            color:  #000000;\n",
       "        }    #T_fa89a5de_740c_11e9_8bbd_d46d6d2df482row1_col6 {\n",
       "            background-color:  #ebebeb;\n",
       "            color:  #000000;\n",
       "        }    #T_fa89a5de_740c_11e9_8bbd_d46d6d2df482row1_col7 {\n",
       "            background-color:  #f9f9f9;\n",
       "            color:  #000000;\n",
       "        }    #T_fa89a5de_740c_11e9_8bbd_d46d6d2df482row1_col8 {\n",
       "            background-color:  #fefefe;\n",
       "            color:  #000000;\n",
       "        }    #T_fa89a5de_740c_11e9_8bbd_d46d6d2df482row1_col9 {\n",
       "            background-color:  #eaeaea;\n",
       "            color:  #000000;\n",
       "        }    #T_fa89a5de_740c_11e9_8bbd_d46d6d2df482row1_col10 {\n",
       "            background-color:  #e9e9e9;\n",
       "            color:  #000000;\n",
       "        }    #T_fa89a5de_740c_11e9_8bbd_d46d6d2df482row2_col0 {\n",
       "            background-color:  #f6f6f6;\n",
       "            color:  #000000;\n",
       "        }    #T_fa89a5de_740c_11e9_8bbd_d46d6d2df482row2_col1 {\n",
       "            background-color:  #f9f9f9;\n",
       "            color:  #000000;\n",
       "        }    #T_fa89a5de_740c_11e9_8bbd_d46d6d2df482row2_col2 {\n",
       "            background-color:  #000000;\n",
       "            color:  #f1f1f1;\n",
       "        }    #T_fa89a5de_740c_11e9_8bbd_d46d6d2df482row2_col3 {\n",
       "            background-color:  #f0f0f0;\n",
       "            color:  #000000;\n",
       "        }    #T_fa89a5de_740c_11e9_8bbd_d46d6d2df482row2_col4 {\n",
       "            background-color:  #efefef;\n",
       "            color:  #000000;\n",
       "        }    #T_fa89a5de_740c_11e9_8bbd_d46d6d2df482row2_col5 {\n",
       "            background-color:  #ffffff;\n",
       "            color:  #000000;\n",
       "        }    #T_fa89a5de_740c_11e9_8bbd_d46d6d2df482row2_col6 {\n",
       "            background-color:  #e9e9e9;\n",
       "            color:  #000000;\n",
       "        }    #T_fa89a5de_740c_11e9_8bbd_d46d6d2df482row2_col7 {\n",
       "            background-color:  #f3f3f3;\n",
       "            color:  #000000;\n",
       "        }    #T_fa89a5de_740c_11e9_8bbd_d46d6d2df482row2_col8 {\n",
       "            background-color:  #ffffff;\n",
       "            color:  #000000;\n",
       "        }    #T_fa89a5de_740c_11e9_8bbd_d46d6d2df482row2_col9 {\n",
       "            background-color:  #ededed;\n",
       "            color:  #000000;\n",
       "        }    #T_fa89a5de_740c_11e9_8bbd_d46d6d2df482row2_col10 {\n",
       "            background-color:  #e8e8e8;\n",
       "            color:  #000000;\n",
       "        }    #T_fa89a5de_740c_11e9_8bbd_d46d6d2df482row3_col0 {\n",
       "            background-color:  #ffffff;\n",
       "            color:  #000000;\n",
       "        }    #T_fa89a5de_740c_11e9_8bbd_d46d6d2df482row3_col1 {\n",
       "            background-color:  #b0b0b0;\n",
       "            color:  #000000;\n",
       "        }    #T_fa89a5de_740c_11e9_8bbd_d46d6d2df482row3_col2 {\n",
       "            background-color:  #fcfcfc;\n",
       "            color:  #000000;\n",
       "        }    #T_fa89a5de_740c_11e9_8bbd_d46d6d2df482row3_col3 {\n",
       "            background-color:  #000000;\n",
       "            color:  #f1f1f1;\n",
       "        }    #T_fa89a5de_740c_11e9_8bbd_d46d6d2df482row3_col4 {\n",
       "            background-color:  #dfdfdf;\n",
       "            color:  #000000;\n",
       "        }    #T_fa89a5de_740c_11e9_8bbd_d46d6d2df482row3_col5 {\n",
       "            background-color:  #fefefe;\n",
       "            color:  #000000;\n",
       "        }    #T_fa89a5de_740c_11e9_8bbd_d46d6d2df482row3_col6 {\n",
       "            background-color:  #f6f6f6;\n",
       "            color:  #000000;\n",
       "        }    #T_fa89a5de_740c_11e9_8bbd_d46d6d2df482row3_col7 {\n",
       "            background-color:  #ffffff;\n",
       "            color:  #000000;\n",
       "        }    #T_fa89a5de_740c_11e9_8bbd_d46d6d2df482row3_col8 {\n",
       "            background-color:  #fefefe;\n",
       "            color:  #000000;\n",
       "        }    #T_fa89a5de_740c_11e9_8bbd_d46d6d2df482row3_col9 {\n",
       "            background-color:  #ebebeb;\n",
       "            color:  #000000;\n",
       "        }    #T_fa89a5de_740c_11e9_8bbd_d46d6d2df482row3_col10 {\n",
       "            background-color:  #e4e4e4;\n",
       "            color:  #000000;\n",
       "        }    #T_fa89a5de_740c_11e9_8bbd_d46d6d2df482row4_col0 {\n",
       "            background-color:  #f6f6f6;\n",
       "            color:  #000000;\n",
       "        }    #T_fa89a5de_740c_11e9_8bbd_d46d6d2df482row4_col1 {\n",
       "            background-color:  #f7f7f7;\n",
       "            color:  #000000;\n",
       "        }    #T_fa89a5de_740c_11e9_8bbd_d46d6d2df482row4_col2 {\n",
       "            background-color:  #f8f8f8;\n",
       "            color:  #000000;\n",
       "        }    #T_fa89a5de_740c_11e9_8bbd_d46d6d2df482row4_col3 {\n",
       "            background-color:  #dcdcdc;\n",
       "            color:  #000000;\n",
       "        }    #T_fa89a5de_740c_11e9_8bbd_d46d6d2df482row4_col4 {\n",
       "            background-color:  #000000;\n",
       "            color:  #f1f1f1;\n",
       "        }    #T_fa89a5de_740c_11e9_8bbd_d46d6d2df482row4_col5 {\n",
       "            background-color:  #fefefe;\n",
       "            color:  #000000;\n",
       "        }    #T_fa89a5de_740c_11e9_8bbd_d46d6d2df482row4_col6 {\n",
       "            background-color:  #f2f2f2;\n",
       "            color:  #000000;\n",
       "        }    #T_fa89a5de_740c_11e9_8bbd_d46d6d2df482row4_col7 {\n",
       "            background-color:  #f2f2f2;\n",
       "            color:  #000000;\n",
       "        }    #T_fa89a5de_740c_11e9_8bbd_d46d6d2df482row4_col8 {\n",
       "            background-color:  #fefefe;\n",
       "            color:  #000000;\n",
       "        }    #T_fa89a5de_740c_11e9_8bbd_d46d6d2df482row4_col9 {\n",
       "            background-color:  #eaeaea;\n",
       "            color:  #000000;\n",
       "        }    #T_fa89a5de_740c_11e9_8bbd_d46d6d2df482row4_col10 {\n",
       "            background-color:  #dbdbdb;\n",
       "            color:  #000000;\n",
       "        }    #T_fa89a5de_740c_11e9_8bbd_d46d6d2df482row5_col0 {\n",
       "            background-color:  #f6f6f6;\n",
       "            color:  #000000;\n",
       "        }    #T_fa89a5de_740c_11e9_8bbd_d46d6d2df482row5_col1 {\n",
       "            background-color:  #fafafa;\n",
       "            color:  #000000;\n",
       "        }    #T_fa89a5de_740c_11e9_8bbd_d46d6d2df482row5_col2 {\n",
       "            background-color:  #ffffff;\n",
       "            color:  #000000;\n",
       "        }    #T_fa89a5de_740c_11e9_8bbd_d46d6d2df482row5_col3 {\n",
       "            background-color:  #f2f2f2;\n",
       "            color:  #000000;\n",
       "        }    #T_fa89a5de_740c_11e9_8bbd_d46d6d2df482row5_col4 {\n",
       "            background-color:  #f6f6f6;\n",
       "            color:  #000000;\n",
       "        }    #T_fa89a5de_740c_11e9_8bbd_d46d6d2df482row5_col5 {\n",
       "            background-color:  #000000;\n",
       "            color:  #f1f1f1;\n",
       "        }    #T_fa89a5de_740c_11e9_8bbd_d46d6d2df482row5_col6 {\n",
       "            background-color:  #e9e9e9;\n",
       "            color:  #000000;\n",
       "        }    #T_fa89a5de_740c_11e9_8bbd_d46d6d2df482row5_col7 {\n",
       "            background-color:  #f3f3f3;\n",
       "            color:  #000000;\n",
       "        }    #T_fa89a5de_740c_11e9_8bbd_d46d6d2df482row5_col8 {\n",
       "            background-color:  #ffffff;\n",
       "            color:  #000000;\n",
       "        }    #T_fa89a5de_740c_11e9_8bbd_d46d6d2df482row5_col9 {\n",
       "            background-color:  #eeeeee;\n",
       "            color:  #000000;\n",
       "        }    #T_fa89a5de_740c_11e9_8bbd_d46d6d2df482row5_col10 {\n",
       "            background-color:  #eaeaea;\n",
       "            color:  #000000;\n",
       "        }    #T_fa89a5de_740c_11e9_8bbd_d46d6d2df482row6_col0 {\n",
       "            background-color:  #f2f2f2;\n",
       "            color:  #000000;\n",
       "        }    #T_fa89a5de_740c_11e9_8bbd_d46d6d2df482row6_col1 {\n",
       "            background-color:  #fbfbfb;\n",
       "            color:  #000000;\n",
       "        }    #T_fa89a5de_740c_11e9_8bbd_d46d6d2df482row6_col2 {\n",
       "            background-color:  #ffffff;\n",
       "            color:  #000000;\n",
       "        }    #T_fa89a5de_740c_11e9_8bbd_d46d6d2df482row6_col3 {\n",
       "            background-color:  #ffffff;\n",
       "            color:  #000000;\n",
       "        }    #T_fa89a5de_740c_11e9_8bbd_d46d6d2df482row6_col4 {\n",
       "            background-color:  #ffffff;\n",
       "            color:  #000000;\n",
       "        }    #T_fa89a5de_740c_11e9_8bbd_d46d6d2df482row6_col5 {\n",
       "            background-color:  #fefefe;\n",
       "            color:  #000000;\n",
       "        }    #T_fa89a5de_740c_11e9_8bbd_d46d6d2df482row6_col6 {\n",
       "            background-color:  #000000;\n",
       "            color:  #f1f1f1;\n",
       "        }    #T_fa89a5de_740c_11e9_8bbd_d46d6d2df482row6_col7 {\n",
       "            background-color:  #fbfbfb;\n",
       "            color:  #000000;\n",
       "        }    #T_fa89a5de_740c_11e9_8bbd_d46d6d2df482row6_col8 {\n",
       "            background-color:  #ffffff;\n",
       "            color:  #000000;\n",
       "        }    #T_fa89a5de_740c_11e9_8bbd_d46d6d2df482row6_col9 {\n",
       "            background-color:  #e0e0e0;\n",
       "            color:  #000000;\n",
       "        }    #T_fa89a5de_740c_11e9_8bbd_d46d6d2df482row6_col10 {\n",
       "            background-color:  #ffffff;\n",
       "            color:  #000000;\n",
       "        }    #T_fa89a5de_740c_11e9_8bbd_d46d6d2df482row7_col0 {\n",
       "            background-color:  #f9f9f9;\n",
       "            color:  #000000;\n",
       "        }    #T_fa89a5de_740c_11e9_8bbd_d46d6d2df482row7_col1 {\n",
       "            background-color:  #ffffff;\n",
       "            color:  #000000;\n",
       "        }    #T_fa89a5de_740c_11e9_8bbd_d46d6d2df482row7_col2 {\n",
       "            background-color:  #ffffff;\n",
       "            color:  #000000;\n",
       "        }    #T_fa89a5de_740c_11e9_8bbd_d46d6d2df482row7_col3 {\n",
       "            background-color:  #ffffff;\n",
       "            color:  #000000;\n",
       "        }    #T_fa89a5de_740c_11e9_8bbd_d46d6d2df482row7_col4 {\n",
       "            background-color:  #f5f5f5;\n",
       "            color:  #000000;\n",
       "        }    #T_fa89a5de_740c_11e9_8bbd_d46d6d2df482row7_col5 {\n",
       "            background-color:  #ffffff;\n",
       "            color:  #000000;\n",
       "        }    #T_fa89a5de_740c_11e9_8bbd_d46d6d2df482row7_col6 {\n",
       "            background-color:  #f1f1f1;\n",
       "            color:  #000000;\n",
       "        }    #T_fa89a5de_740c_11e9_8bbd_d46d6d2df482row7_col7 {\n",
       "            background-color:  #000000;\n",
       "            color:  #f1f1f1;\n",
       "        }    #T_fa89a5de_740c_11e9_8bbd_d46d6d2df482row7_col8 {\n",
       "            background-color:  #fefefe;\n",
       "            color:  #000000;\n",
       "        }    #T_fa89a5de_740c_11e9_8bbd_d46d6d2df482row7_col9 {\n",
       "            background-color:  #fafafa;\n",
       "            color:  #000000;\n",
       "        }    #T_fa89a5de_740c_11e9_8bbd_d46d6d2df482row7_col10 {\n",
       "            background-color:  #e3e3e3;\n",
       "            color:  #000000;\n",
       "        }    #T_fa89a5de_740c_11e9_8bbd_d46d6d2df482row8_col0 {\n",
       "            background-color:  #f7f7f7;\n",
       "            color:  #000000;\n",
       "        }    #T_fa89a5de_740c_11e9_8bbd_d46d6d2df482row8_col1 {\n",
       "            background-color:  #f9f9f9;\n",
       "            color:  #000000;\n",
       "        }    #T_fa89a5de_740c_11e9_8bbd_d46d6d2df482row8_col2 {\n",
       "            background-color:  #ffffff;\n",
       "            color:  #000000;\n",
       "        }    #T_fa89a5de_740c_11e9_8bbd_d46d6d2df482row8_col3 {\n",
       "            background-color:  #f2f2f2;\n",
       "            color:  #000000;\n",
       "        }    #T_fa89a5de_740c_11e9_8bbd_d46d6d2df482row8_col4 {\n",
       "            background-color:  #f6f6f6;\n",
       "            color:  #000000;\n",
       "        }    #T_fa89a5de_740c_11e9_8bbd_d46d6d2df482row8_col5 {\n",
       "            background-color:  #ffffff;\n",
       "            color:  #000000;\n",
       "        }    #T_fa89a5de_740c_11e9_8bbd_d46d6d2df482row8_col6 {\n",
       "            background-color:  #eaeaea;\n",
       "            color:  #000000;\n",
       "        }    #T_fa89a5de_740c_11e9_8bbd_d46d6d2df482row8_col7 {\n",
       "            background-color:  #f3f3f3;\n",
       "            color:  #000000;\n",
       "        }    #T_fa89a5de_740c_11e9_8bbd_d46d6d2df482row8_col8 {\n",
       "            background-color:  #000000;\n",
       "            color:  #f1f1f1;\n",
       "        }    #T_fa89a5de_740c_11e9_8bbd_d46d6d2df482row8_col9 {\n",
       "            background-color:  #eeeeee;\n",
       "            color:  #000000;\n",
       "        }    #T_fa89a5de_740c_11e9_8bbd_d46d6d2df482row8_col10 {\n",
       "            background-color:  #e9e9e9;\n",
       "            color:  #000000;\n",
       "        }    #T_fa89a5de_740c_11e9_8bbd_d46d6d2df482row9_col0 {\n",
       "            background-color:  #eeeeee;\n",
       "            color:  #000000;\n",
       "        }    #T_fa89a5de_740c_11e9_8bbd_d46d6d2df482row9_col1 {\n",
       "            background-color:  #f5f5f5;\n",
       "            color:  #000000;\n",
       "        }    #T_fa89a5de_740c_11e9_8bbd_d46d6d2df482row9_col2 {\n",
       "            background-color:  #fefefe;\n",
       "            color:  #000000;\n",
       "        }    #T_fa89a5de_740c_11e9_8bbd_d46d6d2df482row9_col3 {\n",
       "            background-color:  #f0f0f0;\n",
       "            color:  #000000;\n",
       "        }    #T_fa89a5de_740c_11e9_8bbd_d46d6d2df482row9_col4 {\n",
       "            background-color:  #f2f2f2;\n",
       "            color:  #000000;\n",
       "        }    #T_fa89a5de_740c_11e9_8bbd_d46d6d2df482row9_col5 {\n",
       "            background-color:  #ffffff;\n",
       "            color:  #000000;\n",
       "        }    #T_fa89a5de_740c_11e9_8bbd_d46d6d2df482row9_col6 {\n",
       "            background-color:  #dcdcdc;\n",
       "            color:  #000000;\n",
       "        }    #T_fa89a5de_740c_11e9_8bbd_d46d6d2df482row9_col7 {\n",
       "            background-color:  #ffffff;\n",
       "            color:  #000000;\n",
       "        }    #T_fa89a5de_740c_11e9_8bbd_d46d6d2df482row9_col8 {\n",
       "            background-color:  #fefefe;\n",
       "            color:  #000000;\n",
       "        }    #T_fa89a5de_740c_11e9_8bbd_d46d6d2df482row9_col9 {\n",
       "            background-color:  #000000;\n",
       "            color:  #f1f1f1;\n",
       "        }    #T_fa89a5de_740c_11e9_8bbd_d46d6d2df482row9_col10 {\n",
       "            background-color:  #fafafa;\n",
       "            color:  #000000;\n",
       "        }    #T_fa89a5de_740c_11e9_8bbd_d46d6d2df482row10_col0 {\n",
       "            background-color:  #f7f7f7;\n",
       "            color:  #000000;\n",
       "        }    #T_fa89a5de_740c_11e9_8bbd_d46d6d2df482row10_col1 {\n",
       "            background-color:  #f9f9f9;\n",
       "            color:  #000000;\n",
       "        }    #T_fa89a5de_740c_11e9_8bbd_d46d6d2df482row10_col2 {\n",
       "            background-color:  #fefefe;\n",
       "            color:  #000000;\n",
       "        }    #T_fa89a5de_740c_11e9_8bbd_d46d6d2df482row10_col3 {\n",
       "            background-color:  #eeeeee;\n",
       "            color:  #000000;\n",
       "        }    #T_fa89a5de_740c_11e9_8bbd_d46d6d2df482row10_col4 {\n",
       "            background-color:  #e7e7e7;\n",
       "            color:  #000000;\n",
       "        }    #T_fa89a5de_740c_11e9_8bbd_d46d6d2df482row10_col5 {\n",
       "            background-color:  #ffffff;\n",
       "            color:  #000000;\n",
       "        }    #T_fa89a5de_740c_11e9_8bbd_d46d6d2df482row10_col6 {\n",
       "            background-color:  #ffffff;\n",
       "            color:  #000000;\n",
       "        }    #T_fa89a5de_740c_11e9_8bbd_d46d6d2df482row10_col7 {\n",
       "            background-color:  #ececec;\n",
       "            color:  #000000;\n",
       "        }    #T_fa89a5de_740c_11e9_8bbd_d46d6d2df482row10_col8 {\n",
       "            background-color:  #fefefe;\n",
       "            color:  #000000;\n",
       "        }    #T_fa89a5de_740c_11e9_8bbd_d46d6d2df482row10_col9 {\n",
       "            background-color:  #ffffff;\n",
       "            color:  #000000;\n",
       "        }    #T_fa89a5de_740c_11e9_8bbd_d46d6d2df482row10_col10 {\n",
       "            background-color:  #000000;\n",
       "            color:  #f1f1f1;\n",
       "        }</style><table id=\"T_fa89a5de_740c_11e9_8bbd_d46d6d2df482\" ><thead>    <tr>        <th class=\"blank level0\" ></th>        <th class=\"col_heading level0 col0\" >Date</th>        <th class=\"col_heading level0 col1\" >sec_id</th>        <th class=\"col_heading level0 col2\" >fut_ret</th>        <th class=\"col_heading level0 col3\" >vol</th>        <th class=\"col_heading level0 col4\" >X1</th>        <th class=\"col_heading level0 col5\" >X2</th>        <th class=\"col_heading level0 col6\" >X3</th>        <th class=\"col_heading level0 col7\" >X4</th>        <th class=\"col_heading level0 col8\" >X5</th>        <th class=\"col_heading level0 col9\" >X6</th>        <th class=\"col_heading level0 col10\" >X7</th>    </tr></thead><tbody>\n",
       "                <tr>\n",
       "                        <th id=\"T_fa89a5de_740c_11e9_8bbd_d46d6d2df482level0_row0\" class=\"row_heading level0 row0\" >Date</th>\n",
       "                        <td id=\"T_fa89a5de_740c_11e9_8bbd_d46d6d2df482row0_col0\" class=\"data row0 col0\" >1</td>\n",
       "                        <td id=\"T_fa89a5de_740c_11e9_8bbd_d46d6d2df482row0_col1\" class=\"data row0 col1\" >-0.000360042</td>\n",
       "                        <td id=\"T_fa89a5de_740c_11e9_8bbd_d46d6d2df482row0_col2\" class=\"data row0 col2\" >0.000959238</td>\n",
       "                        <td id=\"T_fa89a5de_740c_11e9_8bbd_d46d6d2df482row0_col3\" class=\"data row0 col3\" >-0.037649</td>\n",
       "                        <td id=\"T_fa89a5de_740c_11e9_8bbd_d46d6d2df482row0_col4\" class=\"data row0 col4\" >0.00178204</td>\n",
       "                        <td id=\"T_fa89a5de_740c_11e9_8bbd_d46d6d2df482row0_col5\" class=\"data row0 col5\" >0.00150207</td>\n",
       "                        <td id=\"T_fa89a5de_740c_11e9_8bbd_d46d6d2df482row0_col6\" class=\"data row0 col6\" >0.0154429</td>\n",
       "                        <td id=\"T_fa89a5de_740c_11e9_8bbd_d46d6d2df482row0_col7\" class=\"data row0 col7\" >-0.0109058</td>\n",
       "                        <td id=\"T_fa89a5de_740c_11e9_8bbd_d46d6d2df482row0_col8\" class=\"data row0 col8\" >-0.00469048</td>\n",
       "                        <td id=\"T_fa89a5de_740c_11e9_8bbd_d46d6d2df482row0_col9\" class=\"data row0 col9\" >0.0328281</td>\n",
       "                        <td id=\"T_fa89a5de_740c_11e9_8bbd_d46d6d2df482row0_col10\" class=\"data row0 col10\" >-0.00314545</td>\n",
       "            </tr>\n",
       "            <tr>\n",
       "                        <th id=\"T_fa89a5de_740c_11e9_8bbd_d46d6d2df482level0_row1\" class=\"row_heading level0 row1\" >sec_id</th>\n",
       "                        <td id=\"T_fa89a5de_740c_11e9_8bbd_d46d6d2df482row1_col0\" class=\"data row1 col0\" >-0.000360042</td>\n",
       "                        <td id=\"T_fa89a5de_740c_11e9_8bbd_d46d6d2df482row1_col1\" class=\"data row1 col1\" >1</td>\n",
       "                        <td id=\"T_fa89a5de_740c_11e9_8bbd_d46d6d2df482row1_col2\" class=\"data row1 col2\" >0.00386634</td>\n",
       "                        <td id=\"T_fa89a5de_740c_11e9_8bbd_d46d6d2df482row1_col3\" class=\"data row1 col3\" >0.294814</td>\n",
       "                        <td id=\"T_fa89a5de_740c_11e9_8bbd_d46d6d2df482row1_col4\" class=\"data row1 col4\" >0.00979511</td>\n",
       "                        <td id=\"T_fa89a5de_740c_11e9_8bbd_d46d6d2df482row1_col5\" class=\"data row1 col5\" >-0.00243256</td>\n",
       "                        <td id=\"T_fa89a5de_740c_11e9_8bbd_d46d6d2df482row1_col6\" class=\"data row1 col6\" >-0.00658754</td>\n",
       "                        <td id=\"T_fa89a5de_740c_11e9_8bbd_d46d6d2df482row1_col7\" class=\"data row1 col7\" >-0.0231365</td>\n",
       "                        <td id=\"T_fa89a5de_740c_11e9_8bbd_d46d6d2df482row1_col8\" class=\"data row1 col8\" >0.00279693</td>\n",
       "                        <td id=\"T_fa89a5de_740c_11e9_8bbd_d46d6d2df482row1_col9\" class=\"data row1 col9\" >0.0175532</td>\n",
       "                        <td id=\"T_fa89a5de_740c_11e9_8bbd_d46d6d2df482row1_col10\" class=\"data row1 col10\" >0.000984823</td>\n",
       "            </tr>\n",
       "            <tr>\n",
       "                        <th id=\"T_fa89a5de_740c_11e9_8bbd_d46d6d2df482level0_row2\" class=\"row_heading level0 row2\" >fut_ret</th>\n",
       "                        <td id=\"T_fa89a5de_740c_11e9_8bbd_d46d6d2df482row2_col0\" class=\"data row2 col0\" >0.000959238</td>\n",
       "                        <td id=\"T_fa89a5de_740c_11e9_8bbd_d46d6d2df482row2_col1\" class=\"data row2 col1\" >0.00386634</td>\n",
       "                        <td id=\"T_fa89a5de_740c_11e9_8bbd_d46d6d2df482row2_col2\" class=\"data row2 col2\" >1</td>\n",
       "                        <td id=\"T_fa89a5de_740c_11e9_8bbd_d46d6d2df482row2_col3\" class=\"data row2 col3\" >0.0108265</td>\n",
       "                        <td id=\"T_fa89a5de_740c_11e9_8bbd_d46d6d2df482row2_col4\" class=\"data row2 col4\" >0.0296427</td>\n",
       "                        <td id=\"T_fa89a5de_740c_11e9_8bbd_d46d6d2df482row2_col5\" class=\"data row2 col5\" >-0.00100191</td>\n",
       "                        <td id=\"T_fa89a5de_740c_11e9_8bbd_d46d6d2df482row2_col6\" class=\"data row2 col6\" >0.00238215</td>\n",
       "                        <td id=\"T_fa89a5de_740c_11e9_8bbd_d46d6d2df482row2_col7\" class=\"data row2 col7\" >0.00126917</td>\n",
       "                        <td id=\"T_fa89a5de_740c_11e9_8bbd_d46d6d2df482row2_col8\" class=\"data row2 col8\" >-0.00137804</td>\n",
       "                        <td id=\"T_fa89a5de_740c_11e9_8bbd_d46d6d2df482row2_col9\" class=\"data row2 col9\" >0.00457898</td>\n",
       "                        <td id=\"T_fa89a5de_740c_11e9_8bbd_d46d6d2df482row2_col10\" class=\"data row2 col10\" >0.00529302</td>\n",
       "            </tr>\n",
       "            <tr>\n",
       "                        <th id=\"T_fa89a5de_740c_11e9_8bbd_d46d6d2df482level0_row3\" class=\"row_heading level0 row3\" >vol</th>\n",
       "                        <td id=\"T_fa89a5de_740c_11e9_8bbd_d46d6d2df482row3_col0\" class=\"data row3 col0\" >-0.037649</td>\n",
       "                        <td id=\"T_fa89a5de_740c_11e9_8bbd_d46d6d2df482row3_col1\" class=\"data row3 col1\" >0.294814</td>\n",
       "                        <td id=\"T_fa89a5de_740c_11e9_8bbd_d46d6d2df482row3_col2\" class=\"data row3 col2\" >0.0108265</td>\n",
       "                        <td id=\"T_fa89a5de_740c_11e9_8bbd_d46d6d2df482row3_col3\" class=\"data row3 col3\" >1</td>\n",
       "                        <td id=\"T_fa89a5de_740c_11e9_8bbd_d46d6d2df482row3_col4\" class=\"data row3 col4\" >0.0938776</td>\n",
       "                        <td id=\"T_fa89a5de_740c_11e9_8bbd_d46d6d2df482row3_col5\" class=\"data row3 col5\" >0.00325418</td>\n",
       "                        <td id=\"T_fa89a5de_740c_11e9_8bbd_d46d6d2df482row3_col6\" class=\"data row3 col6\" >-0.0521775</td>\n",
       "                        <td id=\"T_fa89a5de_740c_11e9_8bbd_d46d6d2df482row3_col7\" class=\"data row3 col7\" >-0.0483511</td>\n",
       "                        <td id=\"T_fa89a5de_740c_11e9_8bbd_d46d6d2df482row3_col8\" class=\"data row3 col8\" >0.00206698</td>\n",
       "                        <td id=\"T_fa89a5de_740c_11e9_8bbd_d46d6d2df482row3_col9\" class=\"data row3 col9\" >0.0121984</td>\n",
       "                        <td id=\"T_fa89a5de_740c_11e9_8bbd_d46d6d2df482row3_col10\" class=\"data row3 col10\" >0.021107</td>\n",
       "            </tr>\n",
       "            <tr>\n",
       "                        <th id=\"T_fa89a5de_740c_11e9_8bbd_d46d6d2df482level0_row4\" class=\"row_heading level0 row4\" >X1</th>\n",
       "                        <td id=\"T_fa89a5de_740c_11e9_8bbd_d46d6d2df482row4_col0\" class=\"data row4 col0\" >0.00178204</td>\n",
       "                        <td id=\"T_fa89a5de_740c_11e9_8bbd_d46d6d2df482row4_col1\" class=\"data row4 col1\" >0.00979511</td>\n",
       "                        <td id=\"T_fa89a5de_740c_11e9_8bbd_d46d6d2df482row4_col2\" class=\"data row4 col2\" >0.0296427</td>\n",
       "                        <td id=\"T_fa89a5de_740c_11e9_8bbd_d46d6d2df482row4_col3\" class=\"data row4 col3\" >0.0938776</td>\n",
       "                        <td id=\"T_fa89a5de_740c_11e9_8bbd_d46d6d2df482row4_col4\" class=\"data row4 col4\" >1</td>\n",
       "                        <td id=\"T_fa89a5de_740c_11e9_8bbd_d46d6d2df482row4_col5\" class=\"data row4 col5\" >0.00251701</td>\n",
       "                        <td id=\"T_fa89a5de_740c_11e9_8bbd_d46d6d2df482row4_col6\" class=\"data row4 col6\" >-0.0372248</td>\n",
       "                        <td id=\"T_fa89a5de_740c_11e9_8bbd_d46d6d2df482row4_col7\" class=\"data row4 col7\" >0.00555938</td>\n",
       "                        <td id=\"T_fa89a5de_740c_11e9_8bbd_d46d6d2df482row4_col8\" class=\"data row4 col8\" >0.00154414</td>\n",
       "                        <td id=\"T_fa89a5de_740c_11e9_8bbd_d46d6d2df482row4_col9\" class=\"data row4 col9\" >0.016531</td>\n",
       "                        <td id=\"T_fa89a5de_740c_11e9_8bbd_d46d6d2df482row4_col10\" class=\"data row4 col10\" >0.0636026</td>\n",
       "            </tr>\n",
       "            <tr>\n",
       "                        <th id=\"T_fa89a5de_740c_11e9_8bbd_d46d6d2df482level0_row5\" class=\"row_heading level0 row5\" >X2</th>\n",
       "                        <td id=\"T_fa89a5de_740c_11e9_8bbd_d46d6d2df482row5_col0\" class=\"data row5 col0\" >0.00150207</td>\n",
       "                        <td id=\"T_fa89a5de_740c_11e9_8bbd_d46d6d2df482row5_col1\" class=\"data row5 col1\" >-0.00243256</td>\n",
       "                        <td id=\"T_fa89a5de_740c_11e9_8bbd_d46d6d2df482row5_col2\" class=\"data row5 col2\" >-0.00100191</td>\n",
       "                        <td id=\"T_fa89a5de_740c_11e9_8bbd_d46d6d2df482row5_col3\" class=\"data row5 col3\" >0.00325418</td>\n",
       "                        <td id=\"T_fa89a5de_740c_11e9_8bbd_d46d6d2df482row5_col4\" class=\"data row5 col4\" >0.00251701</td>\n",
       "                        <td id=\"T_fa89a5de_740c_11e9_8bbd_d46d6d2df482row5_col5\" class=\"data row5 col5\" >1</td>\n",
       "                        <td id=\"T_fa89a5de_740c_11e9_8bbd_d46d6d2df482row5_col6\" class=\"data row5 col6\" >0.00211169</td>\n",
       "                        <td id=\"T_fa89a5de_740c_11e9_8bbd_d46d6d2df482row5_col7\" class=\"data row5 col7\" >0.00138603</td>\n",
       "                        <td id=\"T_fa89a5de_740c_11e9_8bbd_d46d6d2df482row5_col8\" class=\"data row5 col8\" >-0.00236831</td>\n",
       "                        <td id=\"T_fa89a5de_740c_11e9_8bbd_d46d6d2df482row5_col9\" class=\"data row5 col9\" >0.000528103</td>\n",
       "                        <td id=\"T_fa89a5de_740c_11e9_8bbd_d46d6d2df482row5_col10\" class=\"data row5 col10\" >-0.000807402</td>\n",
       "            </tr>\n",
       "            <tr>\n",
       "                        <th id=\"T_fa89a5de_740c_11e9_8bbd_d46d6d2df482level0_row6\" class=\"row_heading level0 row6\" >X3</th>\n",
       "                        <td id=\"T_fa89a5de_740c_11e9_8bbd_d46d6d2df482row6_col0\" class=\"data row6 col0\" >0.0154429</td>\n",
       "                        <td id=\"T_fa89a5de_740c_11e9_8bbd_d46d6d2df482row6_col1\" class=\"data row6 col1\" >-0.00658754</td>\n",
       "                        <td id=\"T_fa89a5de_740c_11e9_8bbd_d46d6d2df482row6_col2\" class=\"data row6 col2\" >0.00238215</td>\n",
       "                        <td id=\"T_fa89a5de_740c_11e9_8bbd_d46d6d2df482row6_col3\" class=\"data row6 col3\" >-0.0521775</td>\n",
       "                        <td id=\"T_fa89a5de_740c_11e9_8bbd_d46d6d2df482row6_col4\" class=\"data row6 col4\" >-0.0372248</td>\n",
       "                        <td id=\"T_fa89a5de_740c_11e9_8bbd_d46d6d2df482row6_col5\" class=\"data row6 col5\" >0.00211169</td>\n",
       "                        <td id=\"T_fa89a5de_740c_11e9_8bbd_d46d6d2df482row6_col6\" class=\"data row6 col6\" >1</td>\n",
       "                        <td id=\"T_fa89a5de_740c_11e9_8bbd_d46d6d2df482row6_col7\" class=\"data row6 col7\" >-0.0310279</td>\n",
       "                        <td id=\"T_fa89a5de_740c_11e9_8bbd_d46d6d2df482row6_col8\" class=\"data row6 col8\" >-0.00177341</td>\n",
       "                        <td id=\"T_fa89a5de_740c_11e9_8bbd_d46d6d2df482row6_col9\" class=\"data row6 col9\" >0.0581475</td>\n",
       "                        <td id=\"T_fa89a5de_740c_11e9_8bbd_d46d6d2df482row6_col10\" class=\"data row6 col10\" >-0.0944369</td>\n",
       "            </tr>\n",
       "            <tr>\n",
       "                        <th id=\"T_fa89a5de_740c_11e9_8bbd_d46d6d2df482level0_row7\" class=\"row_heading level0 row7\" >X4</th>\n",
       "                        <td id=\"T_fa89a5de_740c_11e9_8bbd_d46d6d2df482row7_col0\" class=\"data row7 col0\" >-0.0109058</td>\n",
       "                        <td id=\"T_fa89a5de_740c_11e9_8bbd_d46d6d2df482row7_col1\" class=\"data row7 col1\" >-0.0231365</td>\n",
       "                        <td id=\"T_fa89a5de_740c_11e9_8bbd_d46d6d2df482row7_col2\" class=\"data row7 col2\" >0.00126917</td>\n",
       "                        <td id=\"T_fa89a5de_740c_11e9_8bbd_d46d6d2df482row7_col3\" class=\"data row7 col3\" >-0.0483511</td>\n",
       "                        <td id=\"T_fa89a5de_740c_11e9_8bbd_d46d6d2df482row7_col4\" class=\"data row7 col4\" >0.00555938</td>\n",
       "                        <td id=\"T_fa89a5de_740c_11e9_8bbd_d46d6d2df482row7_col5\" class=\"data row7 col5\" >0.00138603</td>\n",
       "                        <td id=\"T_fa89a5de_740c_11e9_8bbd_d46d6d2df482row7_col6\" class=\"data row7 col6\" >-0.0310279</td>\n",
       "                        <td id=\"T_fa89a5de_740c_11e9_8bbd_d46d6d2df482row7_col7\" class=\"data row7 col7\" >1</td>\n",
       "                        <td id=\"T_fa89a5de_740c_11e9_8bbd_d46d6d2df482row7_col8\" class=\"data row7 col8\" >0.000967802</td>\n",
       "                        <td id=\"T_fa89a5de_740c_11e9_8bbd_d46d6d2df482row7_col9\" class=\"data row7 col9\" >-0.0511142</td>\n",
       "                        <td id=\"T_fa89a5de_740c_11e9_8bbd_d46d6d2df482row7_col10\" class=\"data row7 col10\" >0.0288947</td>\n",
       "            </tr>\n",
       "            <tr>\n",
       "                        <th id=\"T_fa89a5de_740c_11e9_8bbd_d46d6d2df482level0_row8\" class=\"row_heading level0 row8\" >X5</th>\n",
       "                        <td id=\"T_fa89a5de_740c_11e9_8bbd_d46d6d2df482row8_col0\" class=\"data row8 col0\" >-0.00469048</td>\n",
       "                        <td id=\"T_fa89a5de_740c_11e9_8bbd_d46d6d2df482row8_col1\" class=\"data row8 col1\" >0.00279693</td>\n",
       "                        <td id=\"T_fa89a5de_740c_11e9_8bbd_d46d6d2df482row8_col2\" class=\"data row8 col2\" >-0.00137804</td>\n",
       "                        <td id=\"T_fa89a5de_740c_11e9_8bbd_d46d6d2df482row8_col3\" class=\"data row8 col3\" >0.00206698</td>\n",
       "                        <td id=\"T_fa89a5de_740c_11e9_8bbd_d46d6d2df482row8_col4\" class=\"data row8 col4\" >0.00154414</td>\n",
       "                        <td id=\"T_fa89a5de_740c_11e9_8bbd_d46d6d2df482row8_col5\" class=\"data row8 col5\" >-0.00236831</td>\n",
       "                        <td id=\"T_fa89a5de_740c_11e9_8bbd_d46d6d2df482row8_col6\" class=\"data row8 col6\" >-0.00177341</td>\n",
       "                        <td id=\"T_fa89a5de_740c_11e9_8bbd_d46d6d2df482row8_col7\" class=\"data row8 col7\" >0.000967802</td>\n",
       "                        <td id=\"T_fa89a5de_740c_11e9_8bbd_d46d6d2df482row8_col8\" class=\"data row8 col8\" >1</td>\n",
       "                        <td id=\"T_fa89a5de_740c_11e9_8bbd_d46d6d2df482row8_col9\" class=\"data row8 col9\" >-7.36434e-05</td>\n",
       "                        <td id=\"T_fa89a5de_740c_11e9_8bbd_d46d6d2df482row8_col10\" class=\"data row8 col10\" >-0.000131317</td>\n",
       "            </tr>\n",
       "            <tr>\n",
       "                        <th id=\"T_fa89a5de_740c_11e9_8bbd_d46d6d2df482level0_row9\" class=\"row_heading level0 row9\" >X6</th>\n",
       "                        <td id=\"T_fa89a5de_740c_11e9_8bbd_d46d6d2df482row9_col0\" class=\"data row9 col0\" >0.0328281</td>\n",
       "                        <td id=\"T_fa89a5de_740c_11e9_8bbd_d46d6d2df482row9_col1\" class=\"data row9 col1\" >0.0175532</td>\n",
       "                        <td id=\"T_fa89a5de_740c_11e9_8bbd_d46d6d2df482row9_col2\" class=\"data row9 col2\" >0.00457898</td>\n",
       "                        <td id=\"T_fa89a5de_740c_11e9_8bbd_d46d6d2df482row9_col3\" class=\"data row9 col3\" >0.0121984</td>\n",
       "                        <td id=\"T_fa89a5de_740c_11e9_8bbd_d46d6d2df482row9_col4\" class=\"data row9 col4\" >0.016531</td>\n",
       "                        <td id=\"T_fa89a5de_740c_11e9_8bbd_d46d6d2df482row9_col5\" class=\"data row9 col5\" >0.000528103</td>\n",
       "                        <td id=\"T_fa89a5de_740c_11e9_8bbd_d46d6d2df482row9_col6\" class=\"data row9 col6\" >0.0581475</td>\n",
       "                        <td id=\"T_fa89a5de_740c_11e9_8bbd_d46d6d2df482row9_col7\" class=\"data row9 col7\" >-0.0511142</td>\n",
       "                        <td id=\"T_fa89a5de_740c_11e9_8bbd_d46d6d2df482row9_col8\" class=\"data row9 col8\" >-7.36434e-05</td>\n",
       "                        <td id=\"T_fa89a5de_740c_11e9_8bbd_d46d6d2df482row9_col9\" class=\"data row9 col9\" >1</td>\n",
       "                        <td id=\"T_fa89a5de_740c_11e9_8bbd_d46d6d2df482row9_col10\" class=\"data row9 col10\" >-0.0727202</td>\n",
       "            </tr>\n",
       "            <tr>\n",
       "                        <th id=\"T_fa89a5de_740c_11e9_8bbd_d46d6d2df482level0_row10\" class=\"row_heading level0 row10\" >X7</th>\n",
       "                        <td id=\"T_fa89a5de_740c_11e9_8bbd_d46d6d2df482row10_col0\" class=\"data row10 col0\" >-0.00314545</td>\n",
       "                        <td id=\"T_fa89a5de_740c_11e9_8bbd_d46d6d2df482row10_col1\" class=\"data row10 col1\" >0.000984823</td>\n",
       "                        <td id=\"T_fa89a5de_740c_11e9_8bbd_d46d6d2df482row10_col2\" class=\"data row10 col2\" >0.00529302</td>\n",
       "                        <td id=\"T_fa89a5de_740c_11e9_8bbd_d46d6d2df482row10_col3\" class=\"data row10 col3\" >0.021107</td>\n",
       "                        <td id=\"T_fa89a5de_740c_11e9_8bbd_d46d6d2df482row10_col4\" class=\"data row10 col4\" >0.0636026</td>\n",
       "                        <td id=\"T_fa89a5de_740c_11e9_8bbd_d46d6d2df482row10_col5\" class=\"data row10 col5\" >-0.000807402</td>\n",
       "                        <td id=\"T_fa89a5de_740c_11e9_8bbd_d46d6d2df482row10_col6\" class=\"data row10 col6\" >-0.0944369</td>\n",
       "                        <td id=\"T_fa89a5de_740c_11e9_8bbd_d46d6d2df482row10_col7\" class=\"data row10 col7\" >0.0288947</td>\n",
       "                        <td id=\"T_fa89a5de_740c_11e9_8bbd_d46d6d2df482row10_col8\" class=\"data row10 col8\" >-0.000131317</td>\n",
       "                        <td id=\"T_fa89a5de_740c_11e9_8bbd_d46d6d2df482row10_col9\" class=\"data row10 col9\" >-0.0727202</td>\n",
       "                        <td id=\"T_fa89a5de_740c_11e9_8bbd_d46d6d2df482row10_col10\" class=\"data row10 col10\" >1</td>\n",
       "            </tr>\n",
       "    </tbody></table>"
      ],
      "text/plain": [
       "<pandas.io.formats.style.Styler at 0x1c532fb9e48>"
      ]
     },
     "execution_count": 5,
     "metadata": {},
     "output_type": "execute_result"
    }
   ],
   "source": [
    "corr = data.corr()\n",
    "corr.style.background_gradient(cmap='binary')"
   ]
  },
  {
   "cell_type": "markdown",
   "metadata": {},
   "source": [
    "Here we find 'sec_id' has a strong positive correlation with volatility.\n",
    "\n",
    "Therefore, we can probably deduce that stocks in our universe are ordered by capitalization size in a decreasing way, since low cap size companies tend to have larger volatilities.\n",
    "\n",
    "This also tells us that label 'vol' have relative less noise. We will use this characteristic later."
   ]
  },
  {
   "cell_type": "markdown",
   "metadata": {},
   "source": [
    "## 1.4. Plot population histogram."
   ]
  },
  {
   "cell_type": "markdown",
   "metadata": {},
   "source": [
    "*Note: the warning below is probably because that there are some np.nans in 'vol'. We will fix that later.*"
   ]
  },
  {
   "cell_type": "code",
   "execution_count": 6,
   "metadata": {},
   "outputs": [
    {
     "name": "stderr",
     "output_type": "stream",
     "text": [
      "C:\\Anaconda3\\lib\\site-packages\\numpy\\lib\\histograms.py:754: RuntimeWarning: invalid value encountered in greater_equal\n",
      "  keep = (tmp_a >= first_edge)\n",
      "C:\\Anaconda3\\lib\\site-packages\\numpy\\lib\\histograms.py:755: RuntimeWarning: invalid value encountered in less_equal\n",
      "  keep &= (tmp_a <= last_edge)\n"
     ]
    },
    {
     "data": {
      "image/png": "[encoded data removed]",
      "text/plain": [
       "<Figure size 1152x1152 with 9 Axes>"
      ]
     },
     "metadata": {
      "needs_background": "light"
     },
     "output_type": "display_data"
    }
   ],
   "source": [
    "plt.figure(figsize=(16, 16))\n",
    "\n",
    "for idx, column in enumerate(data.columns[2:]):\n",
    "    plt.subplot(3, 3, idx+1)\n",
    "    plt.hist(data[column], bins=50)\n",
    "    plt.xlabel('value')\n",
    "    plt.ylabel('freq')\n",
    "    plt.title(column)\n",
    "plt.show()"
   ]
  },
  {
   "cell_type": "markdown",
   "metadata": {},
   "source": [
    "We can find that 'X2' and 'X5' are very likely to be pure white noise (or at least the cases where white noise just overwhelms our signal), because they are bell-shaped, and not skewed.\n",
    "\n",
    "Personally I do not think 'X1' is pure noise, because we can find from both the histogram above and summary chart that, 'X1' seems to be right skewed.\n",
    "\n",
    "But before further investigating into that, let's reshape our data, such that each feature as well as return is a dataframe, indexed by date with each ticker per column."
   ]
  },
  {
   "cell_type": "markdown",
   "metadata": {},
   "source": [
    "## 1.5. Reshape data."
   ]
  },
  {
   "cell_type": "code",
   "execution_count": 7,
   "metadata": {},
   "outputs": [],
   "source": [
    "# index: date\n",
    "# column: ticker\n",
    "fut_ret = data.pivot(index='Date', columns='sec_id', values='fut_ret')\n",
    "vol = data.pivot(index='Date', columns='sec_id', values='vol')\n",
    "X1 = data.pivot(index='Date', columns='sec_id', values='X1')\n",
    "X2 = data.pivot(index='Date', columns='sec_id', values='X2')\n",
    "X3 = data.pivot(index='Date', columns='sec_id', values='X3')\n",
    "X4 = data.pivot(index='Date', columns='sec_id', values='X4')\n",
    "X5 = data.pivot(index='Date', columns='sec_id', values='X5')\n",
    "X6 = data.pivot(index='Date', columns='sec_id', values='X6')\n",
    "X7 = data.pivot(index='Date', columns='sec_id', values='X7')"
   ]
  },
  {
   "cell_type": "markdown",
   "metadata": {},
   "source": [
    "## 1.6. Deal with Missing Values."
   ]
  },
  {
   "cell_type": "markdown",
   "metadata": {},
   "source": [
    "First let's find out how many np.nans in raw data and our reshaped data."
   ]
  },
  {
   "cell_type": "markdown",
   "metadata": {},
   "source": [
    "Number of np.nan each column in raw data is as follows."
   ]
  },
  {
   "cell_type": "code",
   "execution_count": 8,
   "metadata": {},
   "outputs": [
    {
     "data": {
      "text/plain": [
       "Date           0\n",
       "Time           0\n",
       "sec_id         0\n",
       "fut_ret        0\n",
       "vol        30098\n",
       "X1             0\n",
       "X2             0\n",
       "X3             0\n",
       "X4             0\n",
       "X5             0\n",
       "X6             0\n",
       "X7             0\n",
       "dtype: int64"
      ]
     },
     "execution_count": 8,
     "metadata": {},
     "output_type": "execute_result"
    }
   ],
   "source": [
    "np.sum(np.isnan(data_raw), axis=0)"
   ]
  },
  {
   "cell_type": "markdown",
   "metadata": {},
   "source": [
    "Number of np.nan for each feature in reshaped data is as follows."
   ]
  },
  {
   "cell_type": "code",
   "execution_count": 9,
   "metadata": {},
   "outputs": [
    {
     "name": "stdout",
     "output_type": "stream",
     "text": [
      "number of np.nan in fut_ret: 5861\n",
      "number of np.nan in vol: 35959\n",
      "number of np.nan in X1: 5861\n",
      "number of np.nan in X2: 5861\n",
      "number of np.nan in X3: 5861\n",
      "number of np.nan in X4: 5861\n",
      "number of np.nan in X5: 5861\n",
      "number of np.nan in X6: 5861\n",
      "number of np.nan in X7: 5861\n"
     ]
    }
   ],
   "source": [
    "feature_name_lst = ['fut_ret', 'vol', 'X1', 'X2', 'X3', 'X4', 'X5', 'X6', 'X7']\n",
    "feature_lst = [fut_ret, vol, X1, X2, X3, X4, X5, X6, X7]\n",
    "\n",
    "for i in range(len(feature_lst)):\n",
    "    print('number of np.nan in '+feature_name_lst[i]+': %d'\\\n",
    "          %np.sum(np.sum(np.isnan(feature_lst[i]))))"
   ]
  },
  {
   "cell_type": "markdown",
   "metadata": {},
   "source": [
    "Now we can find that after reshaping, there are a lot more missing values than before. This is probably because that in original raw data, different stocks have slightly different time stamps.\n",
    "\n",
    "Let's see how many tickers and dates have missing values in 'fut_ret'. If there missing values are concentrated within a few tickers or dates, we can just discard them."
   ]
  },
  {
   "cell_type": "code",
   "execution_count": 10,
   "metadata": {},
   "outputs": [
    {
     "data": {
      "text/plain": [
       "200"
      ]
     },
     "execution_count": 10,
     "metadata": {},
     "output_type": "execute_result"
    }
   ],
   "source": [
    "len(fut_ret[np.isnan(fut_ret)].index)"
   ]
  },
  {
   "cell_type": "code",
   "execution_count": 11,
   "metadata": {},
   "outputs": [
    {
     "data": {
      "text/plain": [
       "1992"
      ]
     },
     "execution_count": 11,
     "metadata": {},
     "output_type": "execute_result"
    }
   ],
   "source": [
    "len(fut_ret[np.isnan(fut_ret)].columns)"
   ]
  },
  {
   "cell_type": "markdown",
   "metadata": {},
   "source": [
    "All tickers and all dates have np.nan. There is no way we can just drop a whole column or row in our dataframe."
   ]
  },
  {
   "cell_type": "markdown",
   "metadata": {},
   "source": [
    "There are two most common possibilities for missing values in a time series:\n",
    "1. A few np.nans lie in between valid data in a time series.\n",
    "2. A big chunk (or all) of data at the beginning (or in the middle) of our time period.\n",
    "\n",
    "Most of np.nan in features except for 'vol' are probably case 1. Let's deal with them first."
   ]
  },
  {
   "cell_type": "markdown",
   "metadata": {},
   "source": [
    "### 1.6.1 np.nans in Features other than 'vol'."
   ]
  },
  {
   "cell_type": "markdown",
   "metadata": {},
   "source": [
    "Due to our discussion before, in different feature dataframes (such as 'fut_ret' and 'X7'), all np.nans are in the same place. So if we fill the missing values using some moving average (such as exponential moving average), we will get $\\frac{5861}{392539}\\approx1.5\\%$ of our data points among which all the features are just filled in artificially.\n",
    "\n",
    "Thus we have to drop them in the end and leave the timestamps of the stocks somewhat different."
   ]
  },
  {
   "cell_type": "markdown",
   "metadata": {},
   "source": [
    "### 1.6.2 np.nans in 'vol."
   ]
  },
  {
   "cell_type": "markdown",
   "metadata": {},
   "source": [
    "But 'vol' is a label with relative small noise and lots of np.nans. We have to fill (at least some of) them in some way."
   ]
  },
  {
   "cell_type": "markdown",
   "metadata": {},
   "source": [
    "One way to fill np.nan is to use exponential moving average. We implement the moving average w.r.t. historical data in order to avoid lookahead bias."
   ]
  },
  {
   "cell_type": "markdown",
   "metadata": {},
   "source": [
    "But there is one parameter we have to decide: the center of mass (or effective lag of our moving average).\n",
    "\n",
    "There are two concerns:\n",
    "1. We do not want to use a too long window length, because that will incorporate too much old information;\n",
    "2. We do not want to use a too short window length either, because it will inherit the noise of its previous observation.\n",
    "\n",
    "Therefore, we have to do some kind of parameter tuning."
   ]
  },
  {
   "cell_type": "markdown",
   "metadata": {},
   "source": [
    "Notice that 'sec_id' as a strong correlation with 'vol'. Thus, one way to decide is that we try different window lengths of filling volatility, and pick the one with the strongest correlation with 'sec_id'."
   ]
  },
  {
   "cell_type": "code",
   "execution_count": 12,
   "metadata": {},
   "outputs": [],
   "source": [
    "corr_vol_ret = []\n",
    "window_lst = np.arange(1, 20)\n",
    "\n",
    "# for each window length, use EMA to fill vol.\n",
    "# then calculate pearsonr w.r.t. sec_id.\n",
    "for window in window_lst:\n",
    "    vol_ema = vol.fillna(vol.ewm(window).mean())\n",
    "    sec_id_ndarr = np.tile(vol.columns, (len(vol.index), 1))\n",
    "    \n",
    "    # we need to handle np.nan properly.\n",
    "    both_valid = (~np.isnan(vol_ema)) & (~np.isnan(sec_id_ndarr))\n",
    "    vol_ema_vld_arr = vol_ema[both_valid].values.reshape((1, -1))[0]\n",
    "    sec_id_vld_arr = sec_id_ndarr[both_valid].reshape((1, -1))[0]\n",
    "    \n",
    "    corr_vol_ret.append(pearsonr(vol_ema_vld_arr[~np.isnan(vol_ema_vld_arr)],\\\n",
    "                                 sec_id_vld_arr[~np.isnan(sec_id_vld_arr)])[0])"
   ]
  },
  {
   "cell_type": "code",
   "execution_count": 13,
   "metadata": {},
   "outputs": [
    {
     "data": {
      "image/png": "[encoded data removed]",
      "text/plain": [
       "<Figure size 432x288 with 1 Axes>"
      ]
     },
     "metadata": {
      "needs_background": "light"
     },
     "output_type": "display_data"
    }
   ],
   "source": [
    "plt.plot(window_lst, corr_vol_ret)\n",
    "plt.xlabel('effetive lag of EMA')\n",
    "plt.ylabel('corr(vol, sec_id)')\n",
    "plt.title('correlation between filled volatility and\\n\\\n",
    "            captialization size w.r.t. effective lag of EMA')\n",
    "plt.show()"
   ]
  },
  {
   "cell_type": "markdown",
   "metadata": {},
   "source": [
    "We are disappointed to see that the correlation keeps going up, and a EMA with $lag>15$ actually does not make sense."
   ]
  },
  {
   "cell_type": "markdown",
   "metadata": {},
   "source": [
    "Thus, we turn to the second strongest correlation: 'vol' and 'X1'."
   ]
  },
  {
   "cell_type": "code",
   "execution_count": 14,
   "metadata": {},
   "outputs": [],
   "source": [
    "corr_vol_ret = []\n",
    "window_lst = np.arange(1, 16)\n",
    "\n",
    "# for each window length, use EMA to fill vol.\n",
    "# then calculate pearsonr w.r.t. X1.\n",
    "for window in window_lst:\n",
    "    vol_ema = vol.fillna(vol.ewm(window).mean())\n",
    "    \n",
    "    # we need to handle np.nan properly.\n",
    "    both_valid = (~np.isnan(vol_ema)) & (~np.isnan(X1))\n",
    "    vol_ema_vld_arr = vol_ema[both_valid].values.reshape((1, -1))[0]\n",
    "    X1_vld_arr = X1[both_valid].values.reshape((1, -1))[0]\n",
    "    \n",
    "    corr_vol_ret.append(pearsonr(vol_ema_vld_arr[~np.isnan(vol_ema_vld_arr)],\\\n",
    "                                 X1_vld_arr[~np.isnan(X1_vld_arr)])[0])"
   ]
  },
  {
   "cell_type": "code",
   "execution_count": 15,
   "metadata": {},
   "outputs": [
    {
     "data": {
      "image/png": "[encoded data removed]",
      "text/plain": [
       "<Figure size 432x288 with 1 Axes>"
      ]
     },
     "metadata": {
      "needs_background": "light"
     },
     "output_type": "display_data"
    }
   ],
   "source": [
    "plt.plot(window_lst, corr_vol_ret)\n",
    "plt.xlabel('effetive lag of EMA')\n",
    "plt.ylabel('corr(vol, X1)')\n",
    "plt.title('correlation between filled volatility and\\nfeature X1 w.r.t. effective lag of EMA')\n",
    "plt.show()"
   ]
  },
  {
   "cell_type": "markdown",
   "metadata": {},
   "source": [
    "Based on this plot, we will choose $lag=10$."
   ]
  },
  {
   "cell_type": "code",
   "execution_count": 16,
   "metadata": {},
   "outputs": [],
   "source": [
    "vol = vol.fillna(vol.ewm(10).mean())"
   ]
  },
  {
   "cell_type": "code",
   "execution_count": 17,
   "metadata": {},
   "outputs": [
    {
     "data": {
      "text/plain": [
       "20887"
      ]
     },
     "execution_count": 17,
     "metadata": {},
     "output_type": "execute_result"
    }
   ],
   "source": [
    "np.sum(np.sum(np.isnan(vol)))"
   ]
  },
  {
   "cell_type": "markdown",
   "metadata": {},
   "source": [
    "Let's see again how many tickers and dates contain np.nan."
   ]
  },
  {
   "cell_type": "code",
   "execution_count": 18,
   "metadata": {},
   "outputs": [
    {
     "data": {
      "text/plain": [
       "200"
      ]
     },
     "execution_count": 18,
     "metadata": {},
     "output_type": "execute_result"
    }
   ],
   "source": [
    "len(vol[np.isnan(vol)].index)"
   ]
  },
  {
   "cell_type": "code",
   "execution_count": 19,
   "metadata": {},
   "outputs": [
    {
     "data": {
      "text/plain": [
       "1992"
      ]
     },
     "execution_count": 19,
     "metadata": {},
     "output_type": "execute_result"
    }
   ],
   "source": [
    "len(vol[np.isnan(vol)].columns)"
   ]
  },
  {
   "cell_type": "markdown",
   "metadata": {},
   "source": [
    "Now let's take a look at how number of np.nan changes w.r.t. dates."
   ]
  },
  {
   "cell_type": "code",
   "execution_count": 20,
   "metadata": {},
   "outputs": [
    {
     "data": {
      "image/png": "[encoded data removed]",
      "text/plain": [
       "<Figure size 432x288 with 1 Axes>"
      ]
     },
     "metadata": {
      "needs_background": "light"
     },
     "output_type": "display_data"
    }
   ],
   "source": [
    "plt.plot(np.sum(np.isnan(vol), axis=1))\n",
    "plt.xlabel('date')\n",
    "plt.ylabel('# of np.nan')\n",
    "plt.title('number of np.nan of volatility in our universe') \n",
    "plt.show()"
   ]
  },
  {
   "cell_type": "markdown",
   "metadata": {},
   "source": [
    "Here we kind of know what is going on. As time goes by, the number of np.nan in volatility dataframe decreases monotonically. It is very likely to be the case that some stocks do not have any obersevation of volatility at the beginning; but later more and more stocks tend of have valid volatility observations."
   ]
  },
  {
   "cell_type": "markdown",
   "metadata": {},
   "source": [
    "Thus, the most reasonable way tends to be the most naive one: we fill all remaining np.nan by 0.\n",
    "\n",
    "At start, when a stock does not have any volaitlity observation, we simply assign it to be 0 in order to 'shutdown the neuron' in regression or neural network; we only start to consider the effect of volatility for this stock from the moment when it has valid observations."
   ]
  },
  {
   "cell_type": "code",
   "execution_count": 21,
   "metadata": {},
   "outputs": [
    {
     "data": {
      "text/plain": [
       "0"
      ]
     },
     "execution_count": 21,
     "metadata": {},
     "output_type": "execute_result"
    }
   ],
   "source": [
    "vol = vol.fillna(0)\n",
    "np.sum(np.sum(np.isnan(vol)))"
   ]
  },
  {
   "cell_type": "markdown",
   "metadata": {},
   "source": [
    "## 1.7. Explore Which Features Are Dominated by Random Noise."
   ]
  },
  {
   "cell_type": "markdown",
   "metadata": {},
   "source": [
    "As discussed before, 'X2' and 'X5' are probably just noise. We will drop them in the end.\n",
    "\n",
    "Let's consider 'X1' now."
   ]
  },
  {
   "cell_type": "markdown",
   "metadata": {},
   "source": [
    "One way to further investigate whether 'X1' is noise is that for each ticker, we plot the 1st, 2nd and 3rd moment of 'X1' across the time and see if that vaies across each ticker.\n",
    "\n",
    "- If it does not vary, X1 is probably noise;\n",
    "- Otherwise X1 may contain some information."
   ]
  },
  {
   "cell_type": "code",
   "execution_count": 22,
   "metadata": {},
   "outputs": [
    {
     "data": {
      "image/png": "[encoded data removed]",
      "text/plain": [
       "<Figure size 1296x288 with 3 Axes>"
      ]
     },
     "metadata": {
      "needs_background": "light"
     },
     "output_type": "display_data"
    }
   ],
   "source": [
    "fst_mmt = moment(X1, moment=1, axis=0, nan_policy='omit')\n",
    "scd_mmt = moment(X1, moment=2, axis=0, nan_policy='omit')\n",
    "trd_mmt = moment(X1, moment=3, axis=0, nan_policy='omit')\n",
    "col = X1.columns\n",
    "\n",
    "plt.figure(figsize=(18, 4))\n",
    "plt.subplot(1, 3, 1)\n",
    "plt.plot(col, fst_mmt, color='red')\n",
    "plt.xlabel('ticker')\n",
    "plt.ylabel('1st moment')\n",
    "\n",
    "plt.subplot(1, 3, 2)\n",
    "plt.plot(col, scd_mmt, color='blue')\n",
    "plt.xlabel('ticker')\n",
    "plt.ylabel('2nd moment')\n",
    "\n",
    "plt.subplot(1, 3, 3)\n",
    "plt.plot(col, trd_mmt, color='green')\n",
    "plt.xlabel('ticker')\n",
    "plt.ylabel('3rd moment')\n",
    "\n",
    "plt.show()"
   ]
  },
  {
   "cell_type": "markdown",
   "metadata": {},
   "source": [
    "From the 2nd and 3rd moment, there may be some information in 'X1'. I will not drop it."
   ]
  },
  {
   "cell_type": "markdown",
   "metadata": {},
   "source": [
    "## 1.9. Put Everything Together."
   ]
  },
  {
   "cell_type": "markdown",
   "metadata": {},
   "source": [
    "Now we concatenate each feature back into one dataframe, just like our original raw data."
   ]
  },
  {
   "cell_type": "code",
   "execution_count": 23,
   "metadata": {},
   "outputs": [],
   "source": [
    "date_ndarr = np.tile(fut_ret.index, (fut_ret.shape[1], 1)).T\n",
    "sec_id_ndarr = np.tile(fut_ret.columns, (fut_ret.shape[0], 1))\n",
    "\n",
    "data = np.array([date_ndarr.reshape(-1,), sec_id_ndarr.reshape(-1,),\\\n",
    "                fut_ret.values.reshape(-1,), vol.values.reshape(-1,),\\\n",
    "                X1.values.reshape(-1,), X3.values.reshape(-1,),\\\n",
    "                X4.values.reshape(-1,), X6.values.reshape(-1,),\\\n",
    "                X7.values.reshape(-1,)]).T\n",
    "\n",
    "data = pd.DataFrame(data, columns=['Date', 'sec_id', 'fut_ret', 'vol', 'X1',\\\n",
    "                                   'X3', 'X4', 'X6', 'X7'])"
   ]
  },
  {
   "cell_type": "code",
   "execution_count": 24,
   "metadata": {},
   "outputs": [
    {
     "data": {
      "text/plain": [
       "Date          0\n",
       "sec_id        0\n",
       "fut_ret    5861\n",
       "vol           0\n",
       "X1         5861\n",
       "X3         5861\n",
       "X4         5861\n",
       "X6         5861\n",
       "X7         5861\n",
       "dtype: int64"
      ]
     },
     "execution_count": 24,
     "metadata": {},
     "output_type": "execute_result"
    }
   ],
   "source": [
    "np.sum(np.isnan(data), axis=0)"
   ]
  },
  {
   "cell_type": "markdown",
   "metadata": {},
   "source": [
    "Then we drop the missing observations for tickers, as discussed above."
   ]
  },
  {
   "cell_type": "code",
   "execution_count": 25,
   "metadata": {},
   "outputs": [],
   "source": [
    "data = data.drop(data['fut_ret'][np.isnan(data['fut_ret'])].index)"
   ]
  },
  {
   "cell_type": "markdown",
   "metadata": {},
   "source": [
    "Finanlly let's check if there are still any np.nans in our dataframe, and whether the new dataframe has the same length with raw data."
   ]
  },
  {
   "cell_type": "code",
   "execution_count": 26,
   "metadata": {},
   "outputs": [
    {
     "name": "stdout",
     "output_type": "stream",
     "text": [
      "number of np.nan in each column:\n",
      "Date       0\n",
      "sec_id     0\n",
      "fut_ret    0\n",
      "vol        0\n",
      "X1         0\n",
      "X3         0\n",
      "X4         0\n",
      "X6         0\n",
      "X7         0\n",
      "dtype: int64\n",
      "shape of new data:\n",
      "(392539, 9)\n",
      "shape of raw data:\n",
      "(392539, 12)\n"
     ]
    }
   ],
   "source": [
    "print('number of np.nan in each column:')\n",
    "print(np.sum(np.isnan(data), axis=0))\n",
    "print('shape of new data:')\n",
    "print(data.shape)\n",
    "print('shape of raw data:')\n",
    "print(data_raw.shape)"
   ]
  },
  {
   "cell_type": "markdown",
   "metadata": {},
   "source": [
    "## 1.8. Normalize Data."
   ]
  },
  {
   "cell_type": "markdown",
   "metadata": {},
   "source": [
    "The final step is to normalize our data.\n",
    "\n",
    "There are four cases:\n",
    "\n",
    "1. sec_id, Date: we will devide each value by the sample maximum.\n",
    "2. X2, X5: we will not normalize them because we will drop them in the end anyway.\n",
    "3. vol: we will first add a minor positive number in order to avoid numerical error, and then take log and compute z-score.\n",
    "3. X1, X3, X4, X6, X7: among these features, most values are 0. So a more natural way to compute z-score is that we keep the 0s and normalize across other non-zero data.\n",
    "\n",
    "*Note that we want to keep the 0s in case 4 because of that 0 value will be seen as inactive in machine learning models (such as OLS and NN).*"
   ]
  },
  {
   "cell_type": "code",
   "execution_count": 27,
   "metadata": {},
   "outputs": [],
   "source": [
    "# dictionaries to keep sample mean and std.\n",
    "# need to use them in prediction step.\n",
    "mean_dict, std_dict = {}, {}"
   ]
  },
  {
   "cell_type": "code",
   "execution_count": 28,
   "metadata": {},
   "outputs": [
    {
     "name": "stdout",
     "output_type": "stream",
     "text": [
      "for X1 :\n",
      "mean = 0.000388140\n",
      "std = 0.001266886\n",
      "for X3 :\n",
      "mean = -0.000771146\n",
      "std = 0.000332867\n",
      "for X4 :\n",
      "mean = 0.000554927\n",
      "std = 0.001065884\n",
      "for X6 :\n",
      "mean = -0.000228663\n",
      "std = 0.000461662\n",
      "for X7 :\n",
      "mean = 0.000026430\n",
      "std = 0.000069585\n"
     ]
    }
   ],
   "source": [
    "for column in ['X1', 'X3', 'X4', 'X6', 'X7']:\n",
    "    feature = data[column]\n",
    "    # first change 0 into np.nan.\n",
    "    feature = feature.where(feature!=0.0, other=np.nan)\n",
    "    \n",
    "    mean_dict[column] = feature.mean(skipna=True)\n",
    "    std_dict[column] = feature.std(skipna=True)\n",
    "    print('for '+column+' :')\n",
    "    print('mean = %.9f' %mean_dict[column])\n",
    "    print('std = %.9f' %std_dict[column])\n",
    "    \n",
    "    # normalize data ignoring np.nan.\n",
    "    feature = (feature-mean_dict[column])/std_dict[column]\n",
    "    # then change them back into 0.\n",
    "    feature = feature.where(data[column]!=0, other=0.0)\n",
    "    \n",
    "    data[column] = feature"
   ]
  },
  {
   "cell_type": "code",
   "execution_count": 29,
   "metadata": {},
   "outputs": [],
   "source": [
    "data['Date'] = data['Date']/data['Date'].max()\n",
    "data['sec_id'] = data['sec_id']/data['sec_id'].max()"
   ]
  },
  {
   "cell_type": "code",
   "execution_count": 30,
   "metadata": {},
   "outputs": [
    {
     "name": "stdout",
     "output_type": "stream",
     "text": [
      "for modified log vol (+1e-4, then take np.log):\n",
      "mean = -7.456139355\n",
      "std = 0.510118379\n"
     ]
    }
   ],
   "source": [
    "data['vol'] = np.log(data['vol']+(1e-4))\n",
    "mean_dict['vol'] = data['vol'].mean(skipna=True)\n",
    "std_dict['vol'] = data['vol'].std(skipna=True)\n",
    "\n",
    "print('for modified log vol (+1e-4, then take np.log):')\n",
    "print('mean = %.9f' %mean_dict['vol'])\n",
    "print('std = %.9f' %std_dict['vol'])\n",
    "\n",
    "data['vol'] = (data['vol']-mean_dict['vol'])/std_dict['vol']"
   ]
  },
  {
   "cell_type": "code",
   "execution_count": 31,
   "metadata": {},
   "outputs": [
    {
     "name": "stdout",
     "output_type": "stream",
     "text": [
      "shape of new data:\n",
      "(392539, 9)\n",
      "shape of raw data:\n",
      "(392539, 12)\n",
      "number of np.nan in each column\n",
      "Date       0\n",
      "sec_id     0\n",
      "fut_ret    0\n",
      "vol        0\n",
      "X1         0\n",
      "X3         0\n",
      "X4         0\n",
      "X6         0\n",
      "X7         0\n",
      "dtype: int64\n"
     ]
    }
   ],
   "source": [
    "print('shape of new data:')\n",
    "print(data.shape)\n",
    "print('shape of raw data:')\n",
    "print(data_raw.shape)\n",
    "print('number of np.nan in each column')\n",
    "print(np.sum(np.isnan(data), axis=0))"
   ]
  },
  {
   "cell_type": "markdown",
   "metadata": {},
   "source": [
    "## 1.9. Save Trimmed Data into a .csv File and Print Mean and Std Dictionaries."
   ]
  },
  {
   "cell_type": "code",
   "execution_count": 32,
   "metadata": {},
   "outputs": [],
   "source": [
    "data.to_csv('trimmed_data.csv')"
   ]
  },
  {
   "cell_type": "code",
   "execution_count": 33,
   "metadata": {},
   "outputs": [
    {
     "name": "stdout",
     "output_type": "stream",
     "text": [
      "mean dictionary:\n",
      "mean of X1 = 0.0003881400\n",
      "mean of X3 = -0.0007711460\n",
      "mean of X4 = 0.0005549265\n",
      "mean of X6 = -0.0002286634\n",
      "mean of X7 = 0.0000264296\n",
      "mean of vol = -7.4561393545\n",
      "std dictionary:\n",
      "std of X1 = 0.0012668864\n",
      "std of X3 = 0.0003328667\n",
      "std of X4 = 0.0010658841\n",
      "std of X6 = 0.0004616621\n",
      "std of X7 = 0.0000695849\n",
      "std of vol = 0.5101183787\n"
     ]
    }
   ],
   "source": [
    "print('mean dictionary:')\n",
    "for key, value in mean_dict.items():\n",
    "    print('mean of '+key+' = %.10f' %value)\n",
    "\n",
    "print('std dictionary:')\n",
    "for key, value in std_dict.items():\n",
    "    print('std of '+key+' = %.10f' %value)"
   ]
  },
  {
   "cell_type": "markdown",
   "metadata": {},
   "source": [
    "Note that when trimming 'vol', we need to first add 1e-4, take log and then normalize using mean and std above."
   ]
  },
  {
   "cell_type": "code",
   "execution_count": null,
   "metadata": {},
   "outputs": [],
   "source": []
  }
 ],
 "metadata": {
  "kernelspec": {
   "display_name": "Python 3",
   "language": "python",
   "name": "python3"
  },
  "language_info": {
   "codemirror_mode": {
    "name": "ipython",
    "version": 3
   },
   "file_extension": ".py",
   "mimetype": "text/x-python",
   "name": "python",
   "nbconvert_exporter": "python",
   "pygments_lexer": "ipython3",
   "version": "3.6.8"
  }
 },
 "nbformat": 4,
 "nbformat_minor": 2
}
