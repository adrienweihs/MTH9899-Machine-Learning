{
 "cells": [
  {
   "cell_type": "code",
   "execution_count": 1,
   "metadata": {
    "ExecuteTime": {
     "end_time": "2019-05-22T17:16:00.378506Z",
     "start_time": "2019-05-22T17:15:56.733532Z"
    }
   },
   "outputs": [],
   "source": [
    "import numpy as np\n",
    "import pandas as pd\n",
    "import matplotlib.pyplot as plt\n",
    "import torch\n",
    "from sklearn.model_selection import RandomizedSearchCV\n",
    "from sklearn.metrics import r2_score\n",
    "from sklearn.model_selection import train_test_split\n",
    "import pickle"
   ]
  },
  {
   "cell_type": "code",
   "execution_count": 2,
   "metadata": {
    "ExecuteTime": {
     "end_time": "2019-05-22T17:16:30.446073Z",
     "start_time": "2019-05-22T17:16:29.431931Z"
    }
   },
   "outputs": [
    {
     "data": {
      "text/html": [
       "<div>\n",
       "<style scoped>\n",
       "    .dataframe tbody tr th:only-of-type {\n",
       "        vertical-align: middle;\n",
       "    }\n",
       "\n",
       "    .dataframe tbody tr th {\n",
       "        vertical-align: top;\n",
       "    }\n",
       "\n",
       "    .dataframe thead th {\n",
       "        text-align: right;\n",
       "    }\n",
       "</style>\n",
       "<table border=\"1\" class=\"dataframe\">\n",
       "  <thead>\n",
       "    <tr style=\"text-align: right;\">\n",
       "      <th></th>\n",
       "      <th>Date</th>\n",
       "      <th>sec_id</th>\n",
       "      <th>fut_ret</th>\n",
       "      <th>vol</th>\n",
       "      <th>X1</th>\n",
       "      <th>X3</th>\n",
       "      <th>X4</th>\n",
       "      <th>X6</th>\n",
       "      <th>X7</th>\n",
       "      <th>X1_norm</th>\n",
       "      <th>X3_norm</th>\n",
       "      <th>X4_norm</th>\n",
       "      <th>X6_norm</th>\n",
       "      <th>X7_norm</th>\n",
       "      <th>log_vol</th>\n",
       "    </tr>\n",
       "  </thead>\n",
       "  <tbody>\n",
       "    <tr>\n",
       "      <th>17</th>\n",
       "      <td>0.0</td>\n",
       "      <td>0.008538</td>\n",
       "      <td>0.0</td>\n",
       "      <td>NaN</td>\n",
       "      <td>0.0</td>\n",
       "      <td>0.0</td>\n",
       "      <td>0.0</td>\n",
       "      <td>0.0</td>\n",
       "      <td>0.0</td>\n",
       "      <td>-0.273594</td>\n",
       "      <td>0.095161</td>\n",
       "      <td>-0.109858</td>\n",
       "      <td>0.180895</td>\n",
       "      <td>-0.080587</td>\n",
       "      <td>-3.438812</td>\n",
       "    </tr>\n",
       "    <tr>\n",
       "      <th>59</th>\n",
       "      <td>0.0</td>\n",
       "      <td>0.029633</td>\n",
       "      <td>0.0</td>\n",
       "      <td>NaN</td>\n",
       "      <td>0.0</td>\n",
       "      <td>0.0</td>\n",
       "      <td>0.0</td>\n",
       "      <td>0.0</td>\n",
       "      <td>0.0</td>\n",
       "      <td>-0.273594</td>\n",
       "      <td>0.095161</td>\n",
       "      <td>-0.109858</td>\n",
       "      <td>0.180895</td>\n",
       "      <td>-0.080587</td>\n",
       "      <td>-3.438812</td>\n",
       "    </tr>\n",
       "    <tr>\n",
       "      <th>68</th>\n",
       "      <td>0.0</td>\n",
       "      <td>0.034154</td>\n",
       "      <td>0.0</td>\n",
       "      <td>NaN</td>\n",
       "      <td>0.0</td>\n",
       "      <td>0.0</td>\n",
       "      <td>0.0</td>\n",
       "      <td>0.0</td>\n",
       "      <td>0.0</td>\n",
       "      <td>-0.273594</td>\n",
       "      <td>0.095161</td>\n",
       "      <td>-0.109858</td>\n",
       "      <td>0.180895</td>\n",
       "      <td>-0.080587</td>\n",
       "      <td>-3.438812</td>\n",
       "    </tr>\n",
       "    <tr>\n",
       "      <th>106</th>\n",
       "      <td>0.0</td>\n",
       "      <td>0.053240</td>\n",
       "      <td>0.0</td>\n",
       "      <td>NaN</td>\n",
       "      <td>0.0</td>\n",
       "      <td>0.0</td>\n",
       "      <td>0.0</td>\n",
       "      <td>0.0</td>\n",
       "      <td>0.0</td>\n",
       "      <td>-0.273594</td>\n",
       "      <td>0.095161</td>\n",
       "      <td>-0.109858</td>\n",
       "      <td>0.180895</td>\n",
       "      <td>-0.080587</td>\n",
       "      <td>-3.438812</td>\n",
       "    </tr>\n",
       "    <tr>\n",
       "      <th>109</th>\n",
       "      <td>0.0</td>\n",
       "      <td>0.054746</td>\n",
       "      <td>0.0</td>\n",
       "      <td>NaN</td>\n",
       "      <td>0.0</td>\n",
       "      <td>0.0</td>\n",
       "      <td>0.0</td>\n",
       "      <td>0.0</td>\n",
       "      <td>0.0</td>\n",
       "      <td>-0.273594</td>\n",
       "      <td>0.095161</td>\n",
       "      <td>-0.109858</td>\n",
       "      <td>0.180895</td>\n",
       "      <td>-0.080587</td>\n",
       "      <td>-3.438812</td>\n",
       "    </tr>\n",
       "  </tbody>\n",
       "</table>\n",
       "</div>"
      ],
      "text/plain": [
       "     Date    sec_id  fut_ret  vol   X1   X3   X4   X6   X7   X1_norm  \\\n",
       "17    0.0  0.008538      0.0  NaN  0.0  0.0  0.0  0.0  0.0 -0.273594   \n",
       "59    0.0  0.029633      0.0  NaN  0.0  0.0  0.0  0.0  0.0 -0.273594   \n",
       "68    0.0  0.034154      0.0  NaN  0.0  0.0  0.0  0.0  0.0 -0.273594   \n",
       "106   0.0  0.053240      0.0  NaN  0.0  0.0  0.0  0.0  0.0 -0.273594   \n",
       "109   0.0  0.054746      0.0  NaN  0.0  0.0  0.0  0.0  0.0 -0.273594   \n",
       "\n",
       "      X3_norm   X4_norm   X6_norm   X7_norm   log_vol  \n",
       "17   0.095161 -0.109858  0.180895 -0.080587 -3.438812  \n",
       "59   0.095161 -0.109858  0.180895 -0.080587 -3.438812  \n",
       "68   0.095161 -0.109858  0.180895 -0.080587 -3.438812  \n",
       "106  0.095161 -0.109858  0.180895 -0.080587 -3.438812  \n",
       "109  0.095161 -0.109858  0.180895 -0.080587 -3.438812  "
      ]
     },
     "execution_count": 2,
     "metadata": {},
     "output_type": "execute_result"
    }
   ],
   "source": [
    "data=pd.read_csv(\"trimmed_data_v3.csv\",index_col=0)\n",
    "data=data[np.isnan(data.vol)]\n",
    "data.head()"
   ]
  },
  {
   "cell_type": "code",
   "execution_count": 62,
   "metadata": {
    "ExecuteTime": {
     "end_time": "2019-05-22T17:55:02.026907Z",
     "start_time": "2019-05-22T17:55:02.009529Z"
    }
   },
   "outputs": [
    {
     "name": "stdout",
     "output_type": "stream",
     "text": [
      "count    20887.000000\n",
      "mean        -0.000035\n",
      "std          0.002107\n",
      "min         -0.077708\n",
      "25%          0.000000\n",
      "50%          0.000000\n",
      "75%          0.000000\n",
      "max          0.074296\n",
      "Name: fut_ret, dtype: float64\n",
      "0.0\n"
     ]
    }
   ],
   "source": [
    "print(data.fut_ret.describe())\n",
    "print(np.percentile(data.fut_ret, 99))"
   ]
  },
  {
   "cell_type": "code",
   "execution_count": 4,
   "metadata": {
    "ExecuteTime": {
     "end_time": "2019-05-22T17:20:45.103756Z",
     "start_time": "2019-05-22T17:20:45.096733Z"
    }
   },
   "outputs": [
    {
     "name": "stdout",
     "output_type": "stream",
     "text": [
      "15663 5224\n"
     ]
    }
   ],
   "source": [
    "split_point=len(data)//4*3\n",
    "data_train=data.iloc[:split_point]\n",
    "data_test=data.iloc[split_point:]\n",
    "print(len(data_train),len(data_test))"
   ]
  },
  {
   "cell_type": "markdown",
   "metadata": {},
   "source": [
    "## NN"
   ]
  },
  {
   "cell_type": "code",
   "execution_count": 3,
   "metadata": {
    "ExecuteTime": {
     "end_time": "2019-05-22T17:18:59.230059Z",
     "start_time": "2019-05-22T17:18:59.202098Z"
    }
   },
   "outputs": [],
   "source": [
    "def init_weights(m):\n",
    "    if type(m) == torch.nn.Linear:\n",
    "        torch.nn.init.torch.nn.init.kaiming_normal_(m.weight)\n",
    "        m.bias.data.fill_(0.01)\n",
    "        \n",
    "        \n",
    "def NN(data_set, test_set, nodes=[16], epoch=1000, learning_rate=1e-3, is_drop=False, l2_reg=0, is_leaky=False,\n",
    "        is_batch=False):\n",
    "    x = torch.tensor(data_set[0], dtype=torch.float32)\n",
    "    y = torch.tensor(data_set[1][:, np.newaxis], dtype=torch.float32)\n",
    "    \n",
    "    # model initialize\n",
    "    out_size = 1\n",
    "    F = x.shape[1]\n",
    "    layer_num = len(nodes)\n",
    "\n",
    "    # add layers\n",
    "    model = torch.nn.Sequential()\n",
    "    model.add_module(\"linear 0\", torch.nn.Linear(F, nodes[0]))\n",
    "    if is_batch:\n",
    "        model.add_module(\"batch 0\",torch.nn.BatchNorm1d(nodes[0]))   \n",
    "    if is_drop:\n",
    "        model.add_module(\"drop 0\", torch.nn.Dropout(0.5))\n",
    "    model.add_module(\"relu 0\", torch.nn.ReLU() if not is_leaky else torch.nn.PReLU())\n",
    "    \n",
    "\n",
    "    for i in range(layer_num-1):\n",
    "        model.add_module(\"linear \"+str(i+1),torch.nn.Linear(nodes[i], nodes[i+1]))\n",
    "        if is_batch:\n",
    "            model.add_module(\"batch \"+str(i+1),torch.nn.BatchNorm1d(nodes[i+1]))\n",
    "        if is_drop:\n",
    "            model.add_module(\"drop \"+str(i+1), torch.nn.Dropout(0.5))\n",
    "        model.add_module(\"relu \"+str(i+1), torch.nn.ReLU() if not is_leaky else torch.nn.PReLU())\n",
    "        \n",
    "    \n",
    "    # HE initial\n",
    "    model.apply(init_weights)\n",
    "    \n",
    "    #output layer\n",
    "    model.add_module(\"linear \"+str(layer_num),\n",
    "                     torch.nn.Linear(nodes[-1], out_size))\n",
    "\n",
    "    # loss\n",
    "    loss_fn = torch.nn.MSELoss()    \n",
    "    #loss_fn=torch.nn.L1Loss()\n",
    "    \n",
    "    # optimizer\n",
    "    optimizer = torch.optim.Adam(\n",
    "        model.parameters(), lr=learning_rate, weight_decay=l2_reg)\n",
    "\n",
    "    # training\n",
    "    loss_history = []\n",
    "    loss_old=float('inf')\n",
    "    loss_new=0\n",
    "    count=0\n",
    "\n",
    "    for t in range(epoch):\n",
    "        y_pred = model(x)\n",
    "\n",
    "        loss_new = loss_fn(y_pred, y)\n",
    "        \n",
    "        if abs(loss_old-loss_new)<1e-9:\n",
    "            count=count+1\n",
    "        else:\n",
    "            count=0\n",
    "            \n",
    "        if count>30:\n",
    "            print(\"converge epoch: \",t)\n",
    "            break\n",
    "            \n",
    "        loss_old = loss_new\n",
    "        \n",
    "        #if loss<0.000296:\n",
    "        #    print(\"converge epoch: \",t)\n",
    "        #    break\n",
    "\n",
    "        if t % 1000== 999:\n",
    "            print(\"epoch \", t+1, \", loss is \", loss_new.item())\n",
    "        #loss_history.append(loss.item())\n",
    "\n",
    "        optimizer.zero_grad()\n",
    "\n",
    "        loss_new.backward()\n",
    "\n",
    "        optimizer.step()\n",
    "\n",
    "    # plot loss evolution\n",
    "    #plt.figure(figsize=(14, 7))\n",
    "    #plt.plot(range(len(loss_history)), loss_history)\n",
    "    #plt.xlabel(\"epoch\")\n",
    "    #plt.ylabel(\"loss\")\n",
    "    #plt.show()\n",
    "\n",
    "    # testing\n",
    "    x_test = torch.tensor(test_set[0], dtype=torch.float32)\n",
    "    y_test = torch.tensor(test_set[1][:, np.newaxis], dtype=torch.float32)\n",
    "    \n",
    "    y_in_pred = model(x)\n",
    "    y_out_pred = model(x_test)\n",
    "    \n",
    "    err_in = loss_fn(y_in_pred, y).item()\n",
    "    err_out = loss_fn(y_out_pred, y_test).item()\n",
    "    \n",
    "       \n",
    "    y=data_set[1]\n",
    "    y_test=test_set[1]\n",
    "    y_in_pred=torch.Tensor.numpy(y_in_pred.data)\n",
    "    y_in_pred.reshape(y_in_pred.shape[0])\n",
    "    y_out_pred=torch.Tensor.numpy(y_out_pred.data)\n",
    "    y_out_pred.reshape(y_out_pred.shape[0])\n",
    "    \n",
    "    r2_in = r2_score(y, y_in_pred)\n",
    "    r2_out = r2_score(y_test, y_out_pred)\n",
    "\n",
    "    #print(\"\\nin-sample error: \", err_in)\n",
    "    #print(\"out-of-sample error: \", err_out)\n",
    "    #print(\"in-sample r2: \", r2_in)\n",
    "    #print(\"out-of-sample r2: \", r2_out)\n",
    "\n",
    "    return (model,r2_out,err_in)"
   ]
  },
  {
   "cell_type": "code",
   "execution_count": 63,
   "metadata": {
    "ExecuteTime": {
     "end_time": "2019-05-22T19:13:27.980614Z",
     "start_time": "2019-05-22T19:13:27.969835Z"
    }
   },
   "outputs": [
    {
     "name": "stdout",
     "output_type": "stream",
     "text": [
      "(15663, 6) (15663,)\n"
     ]
    }
   ],
   "source": [
    "X_train=np.array(data_train[['sec_id','X1_norm','X3_norm','X4_norm','X6_norm','X7_norm']])\n",
    "y_train=np.array(data_train['fut_ret'])\n",
    "\n",
    "train_all=(X_train,y_train)\n",
    "\n",
    "print(np.shape(X_train),np.shape(y_train))\n",
    "\n",
    "X_test=np.array(data_test[['sec_id','X1_norm','X3_norm','X4_norm','X6_norm','X7_norm']])\n",
    "y_test=np.array(data_test['fut_ret'])\n",
    "\n",
    "test_all=(X_test,y_test)"
   ]
  },
  {
   "cell_type": "code",
   "execution_count": 26,
   "metadata": {
    "ExecuteTime": {
     "end_time": "2019-05-22T17:44:08.120357Z",
     "start_time": "2019-05-22T17:44:08.113254Z"
    }
   },
   "outputs": [],
   "source": [
    "def test_r2(model,X = X_test,y = y_test, plot=True):   \n",
    "    y_pred=model(torch.tensor(Ｘ, dtype=torch.float32))\n",
    "    y_pred=torch.Tensor.numpy(y_pred.data)\n",
    "    y_pred=y_pred.reshape(y_pred.shape[0])\n",
    "    \n",
    "    if plot:\n",
    "        plt.figure(figsize=(16,7))\n",
    "        plt.subplot(1, 2, 1)\n",
    "        plt.hist(y_pred,range=(-0.1,0.1),bins=30)\n",
    "        plt.subplot(1, 2, 2)\n",
    "        plt.hist(y_test,range=(-0.1,0.1),bins=30)\n",
    "        plt.show()\n",
    "    r2 = r2_score(y, y_pred)\n",
    "    return (r2,y_pred)"
   ]
  },
  {
   "cell_type": "code",
   "execution_count": 7,
   "metadata": {
    "ExecuteTime": {
     "end_time": "2019-05-22T17:36:25.465999Z",
     "start_time": "2019-05-22T17:36:25.461407Z"
    }
   },
   "outputs": [],
   "source": [
    "grid_history=[]"
   ]
  },
  {
   "cell_type": "code",
   "execution_count": 31,
   "metadata": {
    "ExecuteTime": {
     "end_time": "2019-05-22T17:45:40.320545Z",
     "start_time": "2019-05-22T17:45:34.546408Z"
    }
   },
   "outputs": [
    {
     "name": "stdout",
     "output_type": "stream",
     "text": [
      "converge epoch:  228\n",
      "1 :  -0.0001825068249907691    3.166713668179e-06    [32, 16, 8] True 0.1 True True\n"
     ]
    },
    {
     "data": {
      "image/png": "[encoded data removed]",
      "text/plain": [
       "<Figure size 1152x504 with 2 Axes>"
      ]
     },
     "metadata": {
      "needs_background": "light"
     },
     "output_type": "display_data"
    },
    {
     "data": {
      "image/png": "[encoded data removed]",
      "text/plain": [
       "<Figure size 1152x504 with 2 Axes>"
      ]
     },
     "metadata": {
      "needs_background": "light"
     },
     "output_type": "display_data"
    },
    {
     "name": "stdout",
     "output_type": "stream",
     "text": [
      "-0.00018250777427541998 , in sample:  -1.0460716518334578e-05 \n",
      "\n"
     ]
    }
   ],
   "source": [
    "nodes_list=[\n",
    "    [32,16,8]\n",
    "]          \n",
    "\n",
    "t=1 \n",
    "for nodes in nodes_list:\n",
    "    for epoch in [1000]:\n",
    "        for lr in [1]:\n",
    "            for isdrop in [True]:\n",
    "                for l2reg in [1e-1]:\n",
    "                    for isleaky in [True]:\n",
    "                        for isbatch in [True]:\n",
    "                            model,r2,mse=NN(train_all,test_all,nodes, epoch, lr, isdrop, l2reg, isleaky, isbatch)\n",
    "                            grid_history.append([r2,model,mse,nodes, epoch, lr, isdrop, l2reg, isleaky, isbatch])\n",
    "                            print(t,\": \",r2,\"  \",mse,\"  \",nodes, isdrop, l2reg, isleaky, isbatch)\n",
    "                            t=t+1\n",
    "                            print(test_r2(model)[0],\", in sample: \",test_r2(model,X_train,y_train)[0],'\\n')\n"
   ]
  },
  {
   "cell_type": "code",
   "execution_count": 32,
   "metadata": {
    "ExecuteTime": {
     "end_time": "2019-05-22T17:45:40.390337Z",
     "start_time": "2019-05-22T17:45:40.381584Z"
    }
   },
   "outputs": [
    {
     "data": {
      "text/plain": [
       "-2.9508607e-05"
      ]
     },
     "execution_count": 32,
     "metadata": {},
     "output_type": "execute_result"
    }
   ],
   "source": [
    "np.mean(test_r2(model,plot=False)[1])"
   ]
  },
  {
   "cell_type": "markdown",
   "metadata": {},
   "source": [
    "## Regression"
   ]
  },
  {
   "cell_type": "code",
   "execution_count": 35,
   "metadata": {
    "ExecuteTime": {
     "end_time": "2019-05-22T17:47:48.539130Z",
     "start_time": "2019-05-22T17:47:48.530881Z"
    }
   },
   "outputs": [],
   "source": [
    "from sklearn.linear_model import LinearRegression\n",
    "from sklearn.linear_model import Lasso\n",
    "from sklearn.linear_model import Ridge"
   ]
  },
  {
   "cell_type": "code",
   "execution_count": 85,
   "metadata": {
    "ExecuteTime": {
     "end_time": "2019-05-22T19:40:36.905758Z",
     "start_time": "2019-05-22T19:40:36.887565Z"
    }
   },
   "outputs": [],
   "source": [
    "X_train = data_train[['sec_id', 'X1_norm']]\n",
    "y_train = data_train['fut_ret']\n",
    "\n",
    "X_test = data_test[['sec_id', 'X1_norm']]\n",
    "y_test = data_test['fut_ret']"
   ]
  },
  {
   "cell_type": "code",
   "execution_count": 87,
   "metadata": {
    "ExecuteTime": {
     "end_time": "2019-05-22T19:40:42.666005Z",
     "start_time": "2019-05-22T19:40:42.651860Z"
    }
   },
   "outputs": [
    {
     "name": "stdout",
     "output_type": "stream",
     "text": [
      "Linear regression in sample R2: 0.0015509987980583118\n",
      "Linear regression out sample R2: -0.03937824795854494\n",
      "Coefficients: [8.48376526e-05 5.14849326e-03]\n"
     ]
    }
   ],
   "source": [
    "linReg = LinearRegression().fit(X_train, y_train)\n",
    "print('Linear regression in sample R2:', linReg.score(X_train, y_train))\n",
    "print('Linear regression out sample R2:',linReg.score(X_test, y_test))\n",
    "print('Coefficients:', linReg.coef_)"
   ]
  },
  {
   "cell_type": "code",
   "execution_count": 52,
   "metadata": {
    "ExecuteTime": {
     "end_time": "2019-05-22T17:50:54.339338Z",
     "start_time": "2019-05-22T17:50:54.324168Z"
    }
   },
   "outputs": [
    {
     "name": "stdout",
     "output_type": "stream",
     "text": [
      "Linear regression in sample R2: 0.0\n",
      "Linear regression out sample R2: -0.00024065086467683905\n",
      "Coefficients: [ 0.  0.  0. -0. -0. -0.]\n"
     ]
    }
   ],
   "source": [
    "LasReg = Lasso(alpha=6e-5).fit(X_train,y_train)\n",
    "print('Linear regression in sample R2:', LasReg.score(X_train, y_train))\n",
    "print('Linear regression out sample R2:',LasReg.score(X_test, y_test))\n",
    "print('Coefficients:', LasReg.coef_)"
   ]
  },
  {
   "cell_type": "code",
   "execution_count": 65,
   "metadata": {
    "ExecuteTime": {
     "end_time": "2019-05-22T19:26:39.628396Z",
     "start_time": "2019-05-22T19:26:39.611308Z"
    }
   },
   "outputs": [
    {
     "data": {
      "text/plain": [
       "-0.00024065086467683905"
      ]
     },
     "execution_count": 65,
     "metadata": {},
     "output_type": "execute_result"
    }
   ],
   "source": [
    "r2_score(y_test,np.repeat(np.mean(y_train),len(y_test)))"
   ]
  },
  {
   "cell_type": "code",
   "execution_count": 69,
   "metadata": {
    "ExecuteTime": {
     "end_time": "2019-05-22T19:27:07.128321Z",
     "start_time": "2019-05-22T19:27:07.111199Z"
    }
   },
   "outputs": [
    {
     "name": "stdout",
     "output_type": "stream",
     "text": [
      "Linear regression out sample R2: -0.03937824795854494\n"
     ]
    }
   ],
   "source": [
    "print('Linear regression out sample R2:',linReg.score(X_test, y_test))"
   ]
  },
  {
   "cell_type": "code",
   "execution_count": 75,
   "metadata": {
    "ExecuteTime": {
     "end_time": "2019-05-22T19:31:00.783962Z",
     "start_time": "2019-05-22T19:31:00.777202Z"
    }
   },
   "outputs": [
    {
     "data": {
      "text/plain": [
       "(5224, 6)"
      ]
     },
     "execution_count": 75,
     "metadata": {},
     "output_type": "execute_result"
    }
   ],
   "source": [
    "np.shape(X_test)"
   ]
  },
  {
   "cell_type": "code",
   "execution_count": 83,
   "metadata": {
    "ExecuteTime": {
     "end_time": "2019-05-22T19:40:10.310006Z",
     "start_time": "2019-05-22T19:40:10.283160Z"
    }
   },
   "outputs": [],
   "source": [
    "def MDA(model,X = X_test,y = y_test):\n",
    "    feature_num=np.shape(X)[1]\n",
    "    r2_origin = r2_score(y,model.predict(X))\n",
    "    print(\"origin: \",r2_origin)\n",
    "    for i in range(feature_num):\n",
    "        r2_new_lst=[]\n",
    "        for j in range(10):\n",
    "            X_new=X.copy()\n",
    "            X_new=np.array(X_new)\n",
    "            np.random.shuffle(X_new[:,i])\n",
    "            r2_new=r2_score(y,model.predict(X_new))\n",
    "            r2_new_lst.append(r2_new)\n",
    "        is_valid=\" *\"\n",
    "        if np.mean(r2_new_lst)>r2_origin:\n",
    "            is_valid=\" \"\n",
    "        if abs(np.mean(r2_new_lst)-r2_origin)/abs(r2_origin)<0.01:\n",
    "            is_valid=\" \"\n",
    "        print(\"suffle feature \",i,\": \",np.mean(r2_new_lst),is_valid)"
   ]
  },
  {
   "cell_type": "code",
   "execution_count": 84,
   "metadata": {
    "ExecuteTime": {
     "end_time": "2019-05-22T19:40:17.888070Z",
     "start_time": "2019-05-22T19:40:17.810267Z"
    }
   },
   "outputs": [
    {
     "name": "stdout",
     "output_type": "stream",
     "text": [
      "origin:  -0.03937824795854494\n",
      "suffle feature  0 :  -0.03930456325767793  \n",
      "suffle feature  1 :  -0.025442214128260355  \n",
      "suffle feature  2 :  -0.03937824795854494  \n",
      "suffle feature  3 :  -0.03937824795854494  \n",
      "suffle feature  4 :  -0.03937824795854494  \n",
      "suffle feature  5 :  -0.03937824795854494  \n"
     ]
    }
   ],
   "source": [
    "MDA(linReg)"
   ]
  },
  {
   "cell_type": "code",
   "execution_count": null,
   "metadata": {},
   "outputs": [],
   "source": []
  }
 ],
 "metadata": {
  "kernelspec": {
   "display_name": "Python 3",
   "language": "python",
   "name": "python3"
  },
  "language_info": {
   "codemirror_mode": {
    "name": "ipython",
    "version": 3
   },
   "file_extension": ".py",
   "mimetype": "text/x-python",
   "name": "python",
   "nbconvert_exporter": "python",
   "pygments_lexer": "ipython3",
   "version": "3.7.3"
  },
  "latex_envs": {
   "LaTeX_envs_menu_present": true,
   "autoclose": true,
   "autocomplete": true,
   "bibliofile": "biblio.bib",
   "cite_by": "apalike",
   "current_citInitial": 1,
   "eqLabelWithNumbers": false,
   "eqNumInitial": 1,
   "hotkeys": {
    "equation": "Ctrl-E",
    "itemize": "Ctrl-I"
   },
   "labels_anchors": false,
   "latex_user_defs": false,
   "report_style_numbering": false,
   "user_envs_cfg": false
  },
  "toc": {
   "base_numbering": 1,
   "nav_menu": {},
   "number_sections": true,
   "sideBar": true,
   "skip_h1_title": false,
   "title_cell": "Table of Contents",
   "title_sidebar": "Contents",
   "toc_cell": false,
   "toc_position": {},
   "toc_section_display": true,
   "toc_window_display": false
  },
  "varInspector": {
   "cols": {
    "lenName": 16,
    "lenType": 16,
    "lenVar": 40
   },
   "kernels_config": {
    "python": {
     "delete_cmd_postfix": "",
     "delete_cmd_prefix": "del ",
     "library": "var_list.py",
     "varRefreshCmd": "print(var_dic_list())"
    },
    "r": {
     "delete_cmd_postfix": ") ",
     "delete_cmd_prefix": "rm(",
     "library": "var_list.r",
     "varRefreshCmd": "cat(var_dic_list()) "
    }
   },
   "types_to_exclude": [
    "module",
    "function",
    "builtin_function_or_method",
    "instance",
    "_Feature"
   ],
   "window_display": false
  }
 },
 "nbformat": 4,
 "nbformat_minor": 2
}
