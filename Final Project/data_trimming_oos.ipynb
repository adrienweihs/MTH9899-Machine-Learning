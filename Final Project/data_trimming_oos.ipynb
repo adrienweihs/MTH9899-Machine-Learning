{
 "cells": [
  {
   "cell_type": "code",
   "execution_count": 1,
   "metadata": {
    "ExecuteTime": {
     "end_time": "2019-05-22T16:59:13.258202Z",
     "start_time": "2019-05-22T16:59:12.561888Z"
    }
   },
   "outputs": [],
   "source": [
    "import numpy as np\n",
    "import pandas as pd\n",
    "import matplotlib.pyplot as plt\n",
    "import statsmodels.api as sm\n",
    "from scipy.stats import pearsonr, moment\n",
    "\n",
    "from IPython.display import display"
   ]
  },
  {
   "cell_type": "markdown",
   "metadata": {},
   "source": [
    "# 1. Trim our data."
   ]
  },
  {
   "cell_type": "markdown",
   "metadata": {},
   "source": [
    "## 1.1. Read in data and have a look at it."
   ]
  },
  {
   "cell_type": "code",
   "execution_count": 2,
   "metadata": {
    "ExecuteTime": {
     "end_time": "2019-05-22T16:59:13.473114Z",
     "start_time": "2019-05-22T16:59:13.259858Z"
    }
   },
   "outputs": [
    {
     "name": "stdout",
     "output_type": "stream",
     "text": [
      "head of raw data:\n"
     ]
    },
    {
     "data": {
      "text/html": [
       "<div>\n",
       "<style scoped>\n",
       "    .dataframe tbody tr th:only-of-type {\n",
       "        vertical-align: middle;\n",
       "    }\n",
       "\n",
       "    .dataframe tbody tr th {\n",
       "        vertical-align: top;\n",
       "    }\n",
       "\n",
       "    .dataframe thead th {\n",
       "        text-align: right;\n",
       "    }\n",
       "</style>\n",
       "<table border=\"1\" class=\"dataframe\">\n",
       "  <thead>\n",
       "    <tr style=\"text-align: right;\">\n",
       "      <th></th>\n",
       "      <th>Date</th>\n",
       "      <th>Time</th>\n",
       "      <th>sec_id</th>\n",
       "      <th>vol</th>\n",
       "      <th>X1</th>\n",
       "      <th>X2</th>\n",
       "      <th>X3</th>\n",
       "      <th>X4</th>\n",
       "      <th>X5</th>\n",
       "      <th>X6</th>\n",
       "      <th>X7</th>\n",
       "    </tr>\n",
       "  </thead>\n",
       "  <tbody>\n",
       "    <tr>\n",
       "      <th>0</th>\n",
       "      <td>200</td>\n",
       "      <td>0</td>\n",
       "      <td>0</td>\n",
       "      <td>0.000555</td>\n",
       "      <td>-0.000193</td>\n",
       "      <td>-0.000019</td>\n",
       "      <td>0.0</td>\n",
       "      <td>0.0</td>\n",
       "      <td>-0.000234</td>\n",
       "      <td>-0.000489</td>\n",
       "      <td>0.0</td>\n",
       "    </tr>\n",
       "    <tr>\n",
       "      <th>1</th>\n",
       "      <td>200</td>\n",
       "      <td>0</td>\n",
       "      <td>1</td>\n",
       "      <td>0.000781</td>\n",
       "      <td>0.000000</td>\n",
       "      <td>0.000248</td>\n",
       "      <td>0.0</td>\n",
       "      <td>0.0</td>\n",
       "      <td>-0.000572</td>\n",
       "      <td>0.000000</td>\n",
       "      <td>0.0</td>\n",
       "    </tr>\n",
       "    <tr>\n",
       "      <th>2</th>\n",
       "      <td>200</td>\n",
       "      <td>0</td>\n",
       "      <td>2</td>\n",
       "      <td>0.000393</td>\n",
       "      <td>0.000265</td>\n",
       "      <td>-0.000031</td>\n",
       "      <td>0.0</td>\n",
       "      <td>0.0</td>\n",
       "      <td>0.000013</td>\n",
       "      <td>0.000000</td>\n",
       "      <td>0.0</td>\n",
       "    </tr>\n",
       "    <tr>\n",
       "      <th>3</th>\n",
       "      <td>200</td>\n",
       "      <td>0</td>\n",
       "      <td>3</td>\n",
       "      <td>0.000289</td>\n",
       "      <td>0.000310</td>\n",
       "      <td>0.000362</td>\n",
       "      <td>0.0</td>\n",
       "      <td>0.0</td>\n",
       "      <td>0.000041</td>\n",
       "      <td>0.000000</td>\n",
       "      <td>0.0</td>\n",
       "    </tr>\n",
       "    <tr>\n",
       "      <th>4</th>\n",
       "      <td>200</td>\n",
       "      <td>0</td>\n",
       "      <td>4</td>\n",
       "      <td>0.000343</td>\n",
       "      <td>0.000300</td>\n",
       "      <td>0.000060</td>\n",
       "      <td>0.0</td>\n",
       "      <td>0.0</td>\n",
       "      <td>-0.000655</td>\n",
       "      <td>0.000000</td>\n",
       "      <td>0.0</td>\n",
       "    </tr>\n",
       "  </tbody>\n",
       "</table>\n",
       "</div>"
      ],
      "text/plain": [
       "   Date  Time  sec_id       vol        X1        X2   X3   X4        X5  \\\n",
       "0   200     0       0  0.000555 -0.000193 -0.000019  0.0  0.0 -0.000234   \n",
       "1   200     0       1  0.000781  0.000000  0.000248  0.0  0.0 -0.000572   \n",
       "2   200     0       2  0.000393  0.000265 -0.000031  0.0  0.0  0.000013   \n",
       "3   200     0       3  0.000289  0.000310  0.000362  0.0  0.0  0.000041   \n",
       "4   200     0       4  0.000343  0.000300  0.000060  0.0  0.0 -0.000655   \n",
       "\n",
       "         X6   X7  \n",
       "0 -0.000489  0.0  \n",
       "1  0.000000  0.0  \n",
       "2  0.000000  0.0  \n",
       "3  0.000000  0.0  \n",
       "4  0.000000  0.0  "
      ]
     },
     "metadata": {},
     "output_type": "display_data"
    },
    {
     "name": "stdout",
     "output_type": "stream",
     "text": [
      "description of raw data\n"
     ]
    },
    {
     "data": {
      "text/html": [
       "<div>\n",
       "<style scoped>\n",
       "    .dataframe tbody tr th:only-of-type {\n",
       "        vertical-align: middle;\n",
       "    }\n",
       "\n",
       "    .dataframe tbody tr th {\n",
       "        vertical-align: top;\n",
       "    }\n",
       "\n",
       "    .dataframe thead th {\n",
       "        text-align: right;\n",
       "    }\n",
       "</style>\n",
       "<table border=\"1\" class=\"dataframe\">\n",
       "  <thead>\n",
       "    <tr style=\"text-align: right;\">\n",
       "      <th></th>\n",
       "      <th>Date</th>\n",
       "      <th>Time</th>\n",
       "      <th>sec_id</th>\n",
       "      <th>vol</th>\n",
       "      <th>X1</th>\n",
       "      <th>X2</th>\n",
       "      <th>X3</th>\n",
       "      <th>X4</th>\n",
       "      <th>X5</th>\n",
       "      <th>X6</th>\n",
       "      <th>X7</th>\n",
       "    </tr>\n",
       "  </thead>\n",
       "  <tbody>\n",
       "    <tr>\n",
       "      <th>count</th>\n",
       "      <td>101643.000000</td>\n",
       "      <td>101643.0</td>\n",
       "      <td>101643.000000</td>\n",
       "      <td>94967.000000</td>\n",
       "      <td>101643.000000</td>\n",
       "      <td>1.016430e+05</td>\n",
       "      <td>101643.000000</td>\n",
       "      <td>101643.000000</td>\n",
       "      <td>1.016430e+05</td>\n",
       "      <td>101643.000000</td>\n",
       "      <td>101643.000000</td>\n",
       "    </tr>\n",
       "    <tr>\n",
       "      <th>mean</th>\n",
       "      <td>225.518157</td>\n",
       "      <td>0.0</td>\n",
       "      <td>993.212873</td>\n",
       "      <td>0.000519</td>\n",
       "      <td>0.000299</td>\n",
       "      <td>-7.845498e-07</td>\n",
       "      <td>-0.000012</td>\n",
       "      <td>0.000036</td>\n",
       "      <td>2.020710e-07</td>\n",
       "      <td>-0.000037</td>\n",
       "      <td>0.000002</td>\n",
       "    </tr>\n",
       "    <tr>\n",
       "      <th>std</th>\n",
       "      <td>14.973962</td>\n",
       "      <td>0.0</td>\n",
       "      <td>573.919878</td>\n",
       "      <td>0.000214</td>\n",
       "      <td>0.001219</td>\n",
       "      <td>3.003548e-04</td>\n",
       "      <td>0.000105</td>\n",
       "      <td>0.000313</td>\n",
       "      <td>3.008873e-04</td>\n",
       "      <td>0.000196</td>\n",
       "      <td>0.000022</td>\n",
       "    </tr>\n",
       "    <tr>\n",
       "      <th>min</th>\n",
       "      <td>200.000000</td>\n",
       "      <td>0.0</td>\n",
       "      <td>0.000000</td>\n",
       "      <td>0.000000</td>\n",
       "      <td>-0.009900</td>\n",
       "      <td>-1.281000e-03</td>\n",
       "      <td>-0.001495</td>\n",
       "      <td>0.000000</td>\n",
       "      <td>-1.400970e-03</td>\n",
       "      <td>-0.006061</td>\n",
       "      <td>0.000000</td>\n",
       "    </tr>\n",
       "    <tr>\n",
       "      <th>25%</th>\n",
       "      <td>213.000000</td>\n",
       "      <td>0.0</td>\n",
       "      <td>497.000000</td>\n",
       "      <td>0.000370</td>\n",
       "      <td>-0.000051</td>\n",
       "      <td>-2.050000e-04</td>\n",
       "      <td>0.000000</td>\n",
       "      <td>0.000000</td>\n",
       "      <td>-2.027195e-04</td>\n",
       "      <td>0.000000</td>\n",
       "      <td>0.000000</td>\n",
       "    </tr>\n",
       "    <tr>\n",
       "      <th>50%</th>\n",
       "      <td>226.000000</td>\n",
       "      <td>0.0</td>\n",
       "      <td>992.000000</td>\n",
       "      <td>0.000504</td>\n",
       "      <td>0.000046</td>\n",
       "      <td>-1.000000e-06</td>\n",
       "      <td>0.000000</td>\n",
       "      <td>0.000000</td>\n",
       "      <td>9.986749e-07</td>\n",
       "      <td>0.000000</td>\n",
       "      <td>0.000000</td>\n",
       "    </tr>\n",
       "    <tr>\n",
       "      <th>75%</th>\n",
       "      <td>238.000000</td>\n",
       "      <td>0.0</td>\n",
       "      <td>1488.500000</td>\n",
       "      <td>0.000662</td>\n",
       "      <td>0.000713</td>\n",
       "      <td>2.030000e-04</td>\n",
       "      <td>0.000000</td>\n",
       "      <td>0.000000</td>\n",
       "      <td>2.022604e-04</td>\n",
       "      <td>0.000000</td>\n",
       "      <td>0.000000</td>\n",
       "    </tr>\n",
       "    <tr>\n",
       "      <th>max</th>\n",
       "      <td>251.000000</td>\n",
       "      <td>0.0</td>\n",
       "      <td>1991.000000</td>\n",
       "      <td>0.001735</td>\n",
       "      <td>0.009900</td>\n",
       "      <td>1.282000e-03</td>\n",
       "      <td>0.000000</td>\n",
       "      <td>0.008420</td>\n",
       "      <td>1.434119e-03</td>\n",
       "      <td>0.000000</td>\n",
       "      <td>0.000931</td>\n",
       "    </tr>\n",
       "  </tbody>\n",
       "</table>\n",
       "</div>"
      ],
      "text/plain": [
       "                Date      Time         sec_id           vol             X1  \\\n",
       "count  101643.000000  101643.0  101643.000000  94967.000000  101643.000000   \n",
       "mean      225.518157       0.0     993.212873      0.000519       0.000299   \n",
       "std        14.973962       0.0     573.919878      0.000214       0.001219   \n",
       "min       200.000000       0.0       0.000000      0.000000      -0.009900   \n",
       "25%       213.000000       0.0     497.000000      0.000370      -0.000051   \n",
       "50%       226.000000       0.0     992.000000      0.000504       0.000046   \n",
       "75%       238.000000       0.0    1488.500000      0.000662       0.000713   \n",
       "max       251.000000       0.0    1991.000000      0.001735       0.009900   \n",
       "\n",
       "                 X2             X3             X4            X5  \\\n",
       "count  1.016430e+05  101643.000000  101643.000000  1.016430e+05   \n",
       "mean  -7.845498e-07      -0.000012       0.000036  2.020710e-07   \n",
       "std    3.003548e-04       0.000105       0.000313  3.008873e-04   \n",
       "min   -1.281000e-03      -0.001495       0.000000 -1.400970e-03   \n",
       "25%   -2.050000e-04       0.000000       0.000000 -2.027195e-04   \n",
       "50%   -1.000000e-06       0.000000       0.000000  9.986749e-07   \n",
       "75%    2.030000e-04       0.000000       0.000000  2.022604e-04   \n",
       "max    1.282000e-03       0.000000       0.008420  1.434119e-03   \n",
       "\n",
       "                  X6             X7  \n",
       "count  101643.000000  101643.000000  \n",
       "mean       -0.000037       0.000002  \n",
       "std         0.000196       0.000022  \n",
       "min        -0.006061       0.000000  \n",
       "25%         0.000000       0.000000  \n",
       "50%         0.000000       0.000000  \n",
       "75%         0.000000       0.000000  \n",
       "max         0.000000       0.000931  "
      ]
     },
     "execution_count": 2,
     "metadata": {},
     "output_type": "execute_result"
    }
   ],
   "source": [
    "# read raw data.\n",
    "data_raw = pd.read_csv('dat_final_oos_noy.csv')\n",
    "\n",
    "print('head of raw data:')\n",
    "display(data_raw.head())\n",
    "print('description of raw data')\n",
    "data_raw.describe()"
   ]
  },
  {
   "cell_type": "markdown",
   "metadata": {},
   "source": [
    "From the description, we notice that\n",
    "- The label 'Time' is invalid. So we drop it.\n",
    "- 'fut_ret' is more likely to be residual return rather than raw return, since its sample average is very close to 0."
   ]
  },
  {
   "cell_type": "markdown",
   "metadata": {},
   "source": [
    "## 1.2. Drop 'Time' label."
   ]
  },
  {
   "cell_type": "code",
   "execution_count": 3,
   "metadata": {
    "ExecuteTime": {
     "end_time": "2019-05-22T16:59:13.479686Z",
     "start_time": "2019-05-22T16:59:13.474837Z"
    }
   },
   "outputs": [
    {
     "data": {
      "text/plain": [
       "0"
      ]
     },
     "execution_count": 3,
     "metadata": {},
     "output_type": "execute_result"
    }
   ],
   "source": [
    "np.sum(data_raw['Time']!=0)  # make sure all values are 0."
   ]
  },
  {
   "cell_type": "code",
   "execution_count": 4,
   "metadata": {
    "ExecuteTime": {
     "end_time": "2019-05-22T16:59:13.491152Z",
     "start_time": "2019-05-22T16:59:13.481260Z"
    }
   },
   "outputs": [],
   "source": [
    "data = data_raw.drop(columns=['Time'])  # drop 'Time'."
   ]
  },
  {
   "cell_type": "markdown",
   "metadata": {},
   "source": [
    "## 1.3. Plot correlation heatmap pairwise among features."
   ]
  },
  {
   "cell_type": "code",
   "execution_count": 5,
   "metadata": {
    "ExecuteTime": {
     "end_time": "2019-05-22T16:59:14.141643Z",
     "start_time": "2019-05-22T16:59:13.492483Z"
    }
   },
   "outputs": [
    {
     "data": {
      "text/html": [
       "<style  type=\"text/css\" >\n",
       "    #T_ed7387b6_7cb2_11e9_a571_69f5ef1c399drow0_col0 {\n",
       "            background-color:  #000000;\n",
       "            color:  #f1f1f1;\n",
       "        }    #T_ed7387b6_7cb2_11e9_a571_69f5ef1c399drow0_col1 {\n",
       "            background-color:  #f9f9f9;\n",
       "            color:  #000000;\n",
       "        }    #T_ed7387b6_7cb2_11e9_a571_69f5ef1c399drow0_col2 {\n",
       "            background-color:  #ffffff;\n",
       "            color:  #000000;\n",
       "        }    #T_ed7387b6_7cb2_11e9_a571_69f5ef1c399drow0_col3 {\n",
       "            background-color:  #fcfcfc;\n",
       "            color:  #000000;\n",
       "        }    #T_ed7387b6_7cb2_11e9_a571_69f5ef1c399drow0_col4 {\n",
       "            background-color:  #fdfdfd;\n",
       "            color:  #000000;\n",
       "        }    #T_ed7387b6_7cb2_11e9_a571_69f5ef1c399drow0_col5 {\n",
       "            background-color:  #d9d9d9;\n",
       "            color:  #000000;\n",
       "        }    #T_ed7387b6_7cb2_11e9_a571_69f5ef1c399drow0_col6 {\n",
       "            background-color:  #f3f3f3;\n",
       "            color:  #000000;\n",
       "        }    #T_ed7387b6_7cb2_11e9_a571_69f5ef1c399drow0_col7 {\n",
       "            background-color:  #fefefe;\n",
       "            color:  #000000;\n",
       "        }    #T_ed7387b6_7cb2_11e9_a571_69f5ef1c399drow0_col8 {\n",
       "            background-color:  #d5d5d5;\n",
       "            color:  #000000;\n",
       "        }    #T_ed7387b6_7cb2_11e9_a571_69f5ef1c399drow0_col9 {\n",
       "            background-color:  #f9f9f9;\n",
       "            color:  #000000;\n",
       "        }    #T_ed7387b6_7cb2_11e9_a571_69f5ef1c399drow1_col0 {\n",
       "            background-color:  #e5e5e5;\n",
       "            color:  #000000;\n",
       "        }    #T_ed7387b6_7cb2_11e9_a571_69f5ef1c399drow1_col1 {\n",
       "            background-color:  #000000;\n",
       "            color:  #f1f1f1;\n",
       "        }    #T_ed7387b6_7cb2_11e9_a571_69f5ef1c399drow1_col2 {\n",
       "            background-color:  #a3a3a3;\n",
       "            color:  #000000;\n",
       "        }    #T_ed7387b6_7cb2_11e9_a571_69f5ef1c399drow1_col3 {\n",
       "            background-color:  #e8e8e8;\n",
       "            color:  #000000;\n",
       "        }    #T_ed7387b6_7cb2_11e9_a571_69f5ef1c399drow1_col4 {\n",
       "            background-color:  #fefefe;\n",
       "            color:  #000000;\n",
       "        }    #T_ed7387b6_7cb2_11e9_a571_69f5ef1c399drow1_col5 {\n",
       "            background-color:  #eaeaea;\n",
       "            color:  #000000;\n",
       "        }    #T_ed7387b6_7cb2_11e9_a571_69f5ef1c399drow1_col6 {\n",
       "            background-color:  #fdfdfd;\n",
       "            color:  #000000;\n",
       "        }    #T_ed7387b6_7cb2_11e9_a571_69f5ef1c399drow1_col7 {\n",
       "            background-color:  #ffffff;\n",
       "            color:  #000000;\n",
       "        }    #T_ed7387b6_7cb2_11e9_a571_69f5ef1c399drow1_col8 {\n",
       "            background-color:  #ebebeb;\n",
       "            color:  #000000;\n",
       "        }    #T_ed7387b6_7cb2_11e9_a571_69f5ef1c399drow1_col9 {\n",
       "            background-color:  #e7e7e7;\n",
       "            color:  #000000;\n",
       "        }    #T_ed7387b6_7cb2_11e9_a571_69f5ef1c399drow2_col0 {\n",
       "            background-color:  #ffffff;\n",
       "            color:  #000000;\n",
       "        }    #T_ed7387b6_7cb2_11e9_a571_69f5ef1c399drow2_col1 {\n",
       "            background-color:  #b1b1b1;\n",
       "            color:  #000000;\n",
       "        }    #T_ed7387b6_7cb2_11e9_a571_69f5ef1c399drow2_col2 {\n",
       "            background-color:  #000000;\n",
       "            color:  #f1f1f1;\n",
       "        }    #T_ed7387b6_7cb2_11e9_a571_69f5ef1c399drow2_col3 {\n",
       "            background-color:  #d4d4d4;\n",
       "            color:  #000000;\n",
       "        }    #T_ed7387b6_7cb2_11e9_a571_69f5ef1c399drow2_col4 {\n",
       "            background-color:  #ffffff;\n",
       "            color:  #000000;\n",
       "        }    #T_ed7387b6_7cb2_11e9_a571_69f5ef1c399drow2_col5 {\n",
       "            background-color:  #fbfbfb;\n",
       "            color:  #000000;\n",
       "        }    #T_ed7387b6_7cb2_11e9_a571_69f5ef1c399drow2_col6 {\n",
       "            background-color:  #ffffff;\n",
       "            color:  #000000;\n",
       "        }    #T_ed7387b6_7cb2_11e9_a571_69f5ef1c399drow2_col7 {\n",
       "            background-color:  #ffffff;\n",
       "            color:  #000000;\n",
       "        }    #T_ed7387b6_7cb2_11e9_a571_69f5ef1c399drow2_col8 {\n",
       "            background-color:  #efefef;\n",
       "            color:  #000000;\n",
       "        }    #T_ed7387b6_7cb2_11e9_a571_69f5ef1c399drow2_col9 {\n",
       "            background-color:  #e2e2e2;\n",
       "            color:  #000000;\n",
       "        }    #T_ed7387b6_7cb2_11e9_a571_69f5ef1c399drow3_col0 {\n",
       "            background-color:  #f1f1f1;\n",
       "            color:  #000000;\n",
       "        }    #T_ed7387b6_7cb2_11e9_a571_69f5ef1c399drow3_col1 {\n",
       "            background-color:  #f2f2f2;\n",
       "            color:  #000000;\n",
       "        }    #T_ed7387b6_7cb2_11e9_a571_69f5ef1c399drow3_col2 {\n",
       "            background-color:  #cbcbcb;\n",
       "            color:  #000000;\n",
       "        }    #T_ed7387b6_7cb2_11e9_a571_69f5ef1c399drow3_col3 {\n",
       "            background-color:  #000000;\n",
       "            color:  #f1f1f1;\n",
       "        }    #T_ed7387b6_7cb2_11e9_a571_69f5ef1c399drow3_col4 {\n",
       "            background-color:  #ffffff;\n",
       "            color:  #000000;\n",
       "        }    #T_ed7387b6_7cb2_11e9_a571_69f5ef1c399drow3_col5 {\n",
       "            background-color:  #f7f7f7;\n",
       "            color:  #000000;\n",
       "        }    #T_ed7387b6_7cb2_11e9_a571_69f5ef1c399drow3_col6 {\n",
       "            background-color:  #f5f5f5;\n",
       "            color:  #000000;\n",
       "        }    #T_ed7387b6_7cb2_11e9_a571_69f5ef1c399drow3_col7 {\n",
       "            background-color:  #fefefe;\n",
       "            color:  #000000;\n",
       "        }    #T_ed7387b6_7cb2_11e9_a571_69f5ef1c399drow3_col8 {\n",
       "            background-color:  #eaeaea;\n",
       "            color:  #000000;\n",
       "        }    #T_ed7387b6_7cb2_11e9_a571_69f5ef1c399drow3_col9 {\n",
       "            background-color:  #d9d9d9;\n",
       "            color:  #000000;\n",
       "        }    #T_ed7387b6_7cb2_11e9_a571_69f5ef1c399drow4_col0 {\n",
       "            background-color:  #e4e4e4;\n",
       "            color:  #000000;\n",
       "        }    #T_ed7387b6_7cb2_11e9_a571_69f5ef1c399drow4_col1 {\n",
       "            background-color:  #f9f9f9;\n",
       "            color:  #000000;\n",
       "        }    #T_ed7387b6_7cb2_11e9_a571_69f5ef1c399drow4_col2 {\n",
       "            background-color:  #e6e6e6;\n",
       "            color:  #000000;\n",
       "        }    #T_ed7387b6_7cb2_11e9_a571_69f5ef1c399drow4_col3 {\n",
       "            background-color:  #f0f0f0;\n",
       "            color:  #000000;\n",
       "        }    #T_ed7387b6_7cb2_11e9_a571_69f5ef1c399drow4_col4 {\n",
       "            background-color:  #000000;\n",
       "            color:  #f1f1f1;\n",
       "        }    #T_ed7387b6_7cb2_11e9_a571_69f5ef1c399drow4_col5 {\n",
       "            background-color:  #e8e8e8;\n",
       "            color:  #000000;\n",
       "        }    #T_ed7387b6_7cb2_11e9_a571_69f5ef1c399drow4_col6 {\n",
       "            background-color:  #f7f7f7;\n",
       "            color:  #000000;\n",
       "        }    #T_ed7387b6_7cb2_11e9_a571_69f5ef1c399drow4_col7 {\n",
       "            background-color:  #ffffff;\n",
       "            color:  #000000;\n",
       "        }    #T_ed7387b6_7cb2_11e9_a571_69f5ef1c399drow4_col8 {\n",
       "            background-color:  #ececec;\n",
       "            color:  #000000;\n",
       "        }    #T_ed7387b6_7cb2_11e9_a571_69f5ef1c399drow4_col9 {\n",
       "            background-color:  #e8e8e8;\n",
       "            color:  #000000;\n",
       "        }    #T_ed7387b6_7cb2_11e9_a571_69f5ef1c399drow5_col0 {\n",
       "            background-color:  #d7d7d7;\n",
       "            color:  #000000;\n",
       "        }    #T_ed7387b6_7cb2_11e9_a571_69f5ef1c399drow5_col1 {\n",
       "            background-color:  #fcfcfc;\n",
       "            color:  #000000;\n",
       "        }    #T_ed7387b6_7cb2_11e9_a571_69f5ef1c399drow5_col2 {\n",
       "            background-color:  #f8f8f8;\n",
       "            color:  #000000;\n",
       "        }    #T_ed7387b6_7cb2_11e9_a571_69f5ef1c399drow5_col3 {\n",
       "            background-color:  #ffffff;\n",
       "            color:  #000000;\n",
       "        }    #T_ed7387b6_7cb2_11e9_a571_69f5ef1c399drow5_col4 {\n",
       "            background-color:  #ffffff;\n",
       "            color:  #000000;\n",
       "        }    #T_ed7387b6_7cb2_11e9_a571_69f5ef1c399drow5_col5 {\n",
       "            background-color:  #000000;\n",
       "            color:  #f1f1f1;\n",
       "        }    #T_ed7387b6_7cb2_11e9_a571_69f5ef1c399drow5_col6 {\n",
       "            background-color:  #fdfdfd;\n",
       "            color:  #000000;\n",
       "        }    #T_ed7387b6_7cb2_11e9_a571_69f5ef1c399drow5_col7 {\n",
       "            background-color:  #fefefe;\n",
       "            color:  #000000;\n",
       "        }    #T_ed7387b6_7cb2_11e9_a571_69f5ef1c399drow5_col8 {\n",
       "            background-color:  #d9d9d9;\n",
       "            color:  #000000;\n",
       "        }    #T_ed7387b6_7cb2_11e9_a571_69f5ef1c399drow5_col9 {\n",
       "            background-color:  #ffffff;\n",
       "            color:  #000000;\n",
       "        }    #T_ed7387b6_7cb2_11e9_a571_69f5ef1c399drow6_col0 {\n",
       "            background-color:  #e2e2e2;\n",
       "            color:  #000000;\n",
       "        }    #T_ed7387b6_7cb2_11e9_a571_69f5ef1c399drow6_col1 {\n",
       "            background-color:  #ffffff;\n",
       "            color:  #000000;\n",
       "        }    #T_ed7387b6_7cb2_11e9_a571_69f5ef1c399drow6_col2 {\n",
       "            background-color:  #ededed;\n",
       "            color:  #000000;\n",
       "        }    #T_ed7387b6_7cb2_11e9_a571_69f5ef1c399drow6_col3 {\n",
       "            background-color:  #eeeeee;\n",
       "            color:  #000000;\n",
       "        }    #T_ed7387b6_7cb2_11e9_a571_69f5ef1c399drow6_col4 {\n",
       "            background-color:  #fefefe;\n",
       "            color:  #000000;\n",
       "        }    #T_ed7387b6_7cb2_11e9_a571_69f5ef1c399drow6_col5 {\n",
       "            background-color:  #ededed;\n",
       "            color:  #000000;\n",
       "        }    #T_ed7387b6_7cb2_11e9_a571_69f5ef1c399drow6_col6 {\n",
       "            background-color:  #000000;\n",
       "            color:  #f1f1f1;\n",
       "        }    #T_ed7387b6_7cb2_11e9_a571_69f5ef1c399drow6_col7 {\n",
       "            background-color:  #ffffff;\n",
       "            color:  #000000;\n",
       "        }    #T_ed7387b6_7cb2_11e9_a571_69f5ef1c399drow6_col8 {\n",
       "            background-color:  #f6f6f6;\n",
       "            color:  #000000;\n",
       "        }    #T_ed7387b6_7cb2_11e9_a571_69f5ef1c399drow6_col9 {\n",
       "            background-color:  #e4e4e4;\n",
       "            color:  #000000;\n",
       "        }    #T_ed7387b6_7cb2_11e9_a571_69f5ef1c399drow7_col0 {\n",
       "            background-color:  #e6e6e6;\n",
       "            color:  #000000;\n",
       "        }    #T_ed7387b6_7cb2_11e9_a571_69f5ef1c399drow7_col1 {\n",
       "            background-color:  #fbfbfb;\n",
       "            color:  #000000;\n",
       "        }    #T_ed7387b6_7cb2_11e9_a571_69f5ef1c399drow7_col2 {\n",
       "            background-color:  #e6e6e6;\n",
       "            color:  #000000;\n",
       "        }    #T_ed7387b6_7cb2_11e9_a571_69f5ef1c399drow7_col3 {\n",
       "            background-color:  #f0f0f0;\n",
       "            color:  #000000;\n",
       "        }    #T_ed7387b6_7cb2_11e9_a571_69f5ef1c399drow7_col4 {\n",
       "            background-color:  #ffffff;\n",
       "            color:  #000000;\n",
       "        }    #T_ed7387b6_7cb2_11e9_a571_69f5ef1c399drow7_col5 {\n",
       "            background-color:  #e8e8e8;\n",
       "            color:  #000000;\n",
       "        }    #T_ed7387b6_7cb2_11e9_a571_69f5ef1c399drow7_col6 {\n",
       "            background-color:  #f7f7f7;\n",
       "            color:  #000000;\n",
       "        }    #T_ed7387b6_7cb2_11e9_a571_69f5ef1c399drow7_col7 {\n",
       "            background-color:  #000000;\n",
       "            color:  #f1f1f1;\n",
       "        }    #T_ed7387b6_7cb2_11e9_a571_69f5ef1c399drow7_col8 {\n",
       "            background-color:  #ededed;\n",
       "            color:  #000000;\n",
       "        }    #T_ed7387b6_7cb2_11e9_a571_69f5ef1c399drow7_col9 {\n",
       "            background-color:  #e8e8e8;\n",
       "            color:  #000000;\n",
       "        }    #T_ed7387b6_7cb2_11e9_a571_69f5ef1c399drow8_col0 {\n",
       "            background-color:  #cecece;\n",
       "            color:  #000000;\n",
       "        }    #T_ed7387b6_7cb2_11e9_a571_69f5ef1c399drow8_col1 {\n",
       "            background-color:  #f6f6f6;\n",
       "            color:  #000000;\n",
       "        }    #T_ed7387b6_7cb2_11e9_a571_69f5ef1c399drow8_col2 {\n",
       "            background-color:  #e7e7e7;\n",
       "            color:  #000000;\n",
       "        }    #T_ed7387b6_7cb2_11e9_a571_69f5ef1c399drow8_col3 {\n",
       "            background-color:  #ececec;\n",
       "            color:  #000000;\n",
       "        }    #T_ed7387b6_7cb2_11e9_a571_69f5ef1c399drow8_col4 {\n",
       "            background-color:  #fcfcfc;\n",
       "            color:  #000000;\n",
       "        }    #T_ed7387b6_7cb2_11e9_a571_69f5ef1c399drow8_col5 {\n",
       "            background-color:  #d4d4d4;\n",
       "            color:  #000000;\n",
       "        }    #T_ed7387b6_7cb2_11e9_a571_69f5ef1c399drow8_col6 {\n",
       "            background-color:  #ffffff;\n",
       "            color:  #000000;\n",
       "        }    #T_ed7387b6_7cb2_11e9_a571_69f5ef1c399drow8_col7 {\n",
       "            background-color:  #fdfdfd;\n",
       "            color:  #000000;\n",
       "        }    #T_ed7387b6_7cb2_11e9_a571_69f5ef1c399drow8_col8 {\n",
       "            background-color:  #000000;\n",
       "            color:  #f1f1f1;\n",
       "        }    #T_ed7387b6_7cb2_11e9_a571_69f5ef1c399drow8_col9 {\n",
       "            background-color:  #f9f9f9;\n",
       "            color:  #000000;\n",
       "        }    #T_ed7387b6_7cb2_11e9_a571_69f5ef1c399drow9_col0 {\n",
       "            background-color:  #f7f7f7;\n",
       "            color:  #000000;\n",
       "        }    #T_ed7387b6_7cb2_11e9_a571_69f5ef1c399drow9_col1 {\n",
       "            background-color:  #f9f9f9;\n",
       "            color:  #000000;\n",
       "        }    #T_ed7387b6_7cb2_11e9_a571_69f5ef1c399drow9_col2 {\n",
       "            background-color:  #e0e0e0;\n",
       "            color:  #000000;\n",
       "        }    #T_ed7387b6_7cb2_11e9_a571_69f5ef1c399drow9_col3 {\n",
       "            background-color:  #e1e1e1;\n",
       "            color:  #000000;\n",
       "        }    #T_ed7387b6_7cb2_11e9_a571_69f5ef1c399drow9_col4 {\n",
       "            background-color:  #fefefe;\n",
       "            color:  #000000;\n",
       "        }    #T_ed7387b6_7cb2_11e9_a571_69f5ef1c399drow9_col5 {\n",
       "            background-color:  #ffffff;\n",
       "            color:  #000000;\n",
       "        }    #T_ed7387b6_7cb2_11e9_a571_69f5ef1c399drow9_col6 {\n",
       "            background-color:  #f3f3f3;\n",
       "            color:  #000000;\n",
       "        }    #T_ed7387b6_7cb2_11e9_a571_69f5ef1c399drow9_col7 {\n",
       "            background-color:  #fefefe;\n",
       "            color:  #000000;\n",
       "        }    #T_ed7387b6_7cb2_11e9_a571_69f5ef1c399drow9_col8 {\n",
       "            background-color:  #ffffff;\n",
       "            color:  #000000;\n",
       "        }    #T_ed7387b6_7cb2_11e9_a571_69f5ef1c399drow9_col9 {\n",
       "            background-color:  #000000;\n",
       "            color:  #f1f1f1;\n",
       "        }</style><table id=\"T_ed7387b6_7cb2_11e9_a571_69f5ef1c399d\" ><thead>    <tr>        <th class=\"blank level0\" ></th>        <th class=\"col_heading level0 col0\" >Date</th>        <th class=\"col_heading level0 col1\" >sec_id</th>        <th class=\"col_heading level0 col2\" >vol</th>        <th class=\"col_heading level0 col3\" >X1</th>        <th class=\"col_heading level0 col4\" >X2</th>        <th class=\"col_heading level0 col5\" >X3</th>        <th class=\"col_heading level0 col6\" >X4</th>        <th class=\"col_heading level0 col7\" >X5</th>        <th class=\"col_heading level0 col8\" >X6</th>        <th class=\"col_heading level0 col9\" >X7</th>    </tr></thead><tbody>\n",
       "                <tr>\n",
       "                        <th id=\"T_ed7387b6_7cb2_11e9_a571_69f5ef1c399dlevel0_row0\" class=\"row_heading level0 row0\" >Date</th>\n",
       "                        <td id=\"T_ed7387b6_7cb2_11e9_a571_69f5ef1c399drow0_col0\" class=\"data row0 col0\" >1</td>\n",
       "                        <td id=\"T_ed7387b6_7cb2_11e9_a571_69f5ef1c399drow0_col1\" class=\"data row0 col1\" >0.000667828</td>\n",
       "                        <td id=\"T_ed7387b6_7cb2_11e9_a571_69f5ef1c399drow0_col2\" class=\"data row0 col2\" >-0.112551</td>\n",
       "                        <td id=\"T_ed7387b6_7cb2_11e9_a571_69f5ef1c399drow0_col3\" class=\"data row0 col3\" >-0.0484156</td>\n",
       "                        <td id=\"T_ed7387b6_7cb2_11e9_a571_69f5ef1c399drow0_col4\" class=\"data row0 col4\" >0.00555759</td>\n",
       "                        <td id=\"T_ed7387b6_7cb2_11e9_a571_69f5ef1c399drow0_col5\" class=\"data row0 col5\" >0.065231</td>\n",
       "                        <td id=\"T_ed7387b6_7cb2_11e9_a571_69f5ef1c399drow0_col6\" class=\"data row0 col6\" >0.0149377</td>\n",
       "                        <td id=\"T_ed7387b6_7cb2_11e9_a571_69f5ef1c399drow0_col7\" class=\"data row0 col7\" >0.000169424</td>\n",
       "                        <td id=\"T_ed7387b6_7cb2_11e9_a571_69f5ef1c399drow0_col8\" class=\"data row0 col8\" >0.104616</td>\n",
       "                        <td id=\"T_ed7387b6_7cb2_11e9_a571_69f5ef1c399drow0_col9\" class=\"data row0 col9\" >-0.074608</td>\n",
       "            </tr>\n",
       "            <tr>\n",
       "                        <th id=\"T_ed7387b6_7cb2_11e9_a571_69f5ef1c399dlevel0_row1\" class=\"row_heading level0 row1\" >sec_id</th>\n",
       "                        <td id=\"T_ed7387b6_7cb2_11e9_a571_69f5ef1c399drow1_col0\" class=\"data row1 col0\" >0.000667828</td>\n",
       "                        <td id=\"T_ed7387b6_7cb2_11e9_a571_69f5ef1c399drow1_col1\" class=\"data row1 col1\" >1</td>\n",
       "                        <td id=\"T_ed7387b6_7cb2_11e9_a571_69f5ef1c399drow1_col2\" class=\"data row1 col2\" >0.288748</td>\n",
       "                        <td id=\"T_ed7387b6_7cb2_11e9_a571_69f5ef1c399drow1_col3\" class=\"data row1 col3\" >0.0321222</td>\n",
       "                        <td id=\"T_ed7387b6_7cb2_11e9_a571_69f5ef1c399drow1_col4\" class=\"data row1 col4\" >0.000827222</td>\n",
       "                        <td id=\"T_ed7387b6_7cb2_11e9_a571_69f5ef1c399drow1_col5\" class=\"data row1 col5\" >-0.00795471</td>\n",
       "                        <td id=\"T_ed7387b6_7cb2_11e9_a571_69f5ef1c399drow1_col6\" class=\"data row1 col6\" >-0.023786</td>\n",
       "                        <td id=\"T_ed7387b6_7cb2_11e9_a571_69f5ef1c399drow1_col7\" class=\"data row1 col7\" >-0.00426376</td>\n",
       "                        <td id=\"T_ed7387b6_7cb2_11e9_a571_69f5ef1c399drow1_col8\" class=\"data row1 col8\" >0.0125254</td>\n",
       "                        <td id=\"T_ed7387b6_7cb2_11e9_a571_69f5ef1c399drow1_col9\" class=\"data row1 col9\" >0.00320252</td>\n",
       "            </tr>\n",
       "            <tr>\n",
       "                        <th id=\"T_ed7387b6_7cb2_11e9_a571_69f5ef1c399dlevel0_row2\" class=\"row_heading level0 row2\" >vol</th>\n",
       "                        <td id=\"T_ed7387b6_7cb2_11e9_a571_69f5ef1c399drow2_col0\" class=\"data row2 col0\" >-0.112551</td>\n",
       "                        <td id=\"T_ed7387b6_7cb2_11e9_a571_69f5ef1c399drow2_col1\" class=\"data row2 col1\" >0.288748</td>\n",
       "                        <td id=\"T_ed7387b6_7cb2_11e9_a571_69f5ef1c399drow2_col2\" class=\"data row2 col2\" >1</td>\n",
       "                        <td id=\"T_ed7387b6_7cb2_11e9_a571_69f5ef1c399drow2_col3\" class=\"data row2 col3\" >0.114909</td>\n",
       "                        <td id=\"T_ed7387b6_7cb2_11e9_a571_69f5ef1c399drow2_col4\" class=\"data row2 col4\" >-0.0001273</td>\n",
       "                        <td id=\"T_ed7387b6_7cb2_11e9_a571_69f5ef1c399drow2_col5\" class=\"data row2 col5\" >-0.080117</td>\n",
       "                        <td id=\"T_ed7387b6_7cb2_11e9_a571_69f5ef1c399drow2_col6\" class=\"data row2 col6\" >-0.0306147</td>\n",
       "                        <td id=\"T_ed7387b6_7cb2_11e9_a571_69f5ef1c399drow2_col7\" class=\"data row2 col7\" >-0.00125602</td>\n",
       "                        <td id=\"T_ed7387b6_7cb2_11e9_a571_69f5ef1c399drow2_col8\" class=\"data row2 col8\" >-0.00635868</td>\n",
       "                        <td id=\"T_ed7387b6_7cb2_11e9_a571_69f5ef1c399drow2_col9\" class=\"data row2 col9\" >0.0239246</td>\n",
       "            </tr>\n",
       "            <tr>\n",
       "                        <th id=\"T_ed7387b6_7cb2_11e9_a571_69f5ef1c399dlevel0_row3\" class=\"row_heading level0 row3\" >X1</th>\n",
       "                        <td id=\"T_ed7387b6_7cb2_11e9_a571_69f5ef1c399drow3_col0\" class=\"data row3 col0\" >-0.0484156</td>\n",
       "                        <td id=\"T_ed7387b6_7cb2_11e9_a571_69f5ef1c399drow3_col1\" class=\"data row3 col1\" >0.0321222</td>\n",
       "                        <td id=\"T_ed7387b6_7cb2_11e9_a571_69f5ef1c399drow3_col2\" class=\"data row3 col2\" >0.114909</td>\n",
       "                        <td id=\"T_ed7387b6_7cb2_11e9_a571_69f5ef1c399drow3_col3\" class=\"data row3 col3\" >1</td>\n",
       "                        <td id=\"T_ed7387b6_7cb2_11e9_a571_69f5ef1c399drow3_col4\" class=\"data row3 col4\" >-0.00159335</td>\n",
       "                        <td id=\"T_ed7387b6_7cb2_11e9_a571_69f5ef1c399drow3_col5\" class=\"data row3 col5\" >-0.0645367</td>\n",
       "                        <td id=\"T_ed7387b6_7cb2_11e9_a571_69f5ef1c399drow3_col6\" class=\"data row3 col6\" >0.00873073</td>\n",
       "                        <td id=\"T_ed7387b6_7cb2_11e9_a571_69f5ef1c399drow3_col7\" class=\"data row3 col7\" >0.000469605</td>\n",
       "                        <td id=\"T_ed7387b6_7cb2_11e9_a571_69f5ef1c399drow3_col8\" class=\"data row3 col8\" >0.0150043</td>\n",
       "                        <td id=\"T_ed7387b6_7cb2_11e9_a571_69f5ef1c399drow3_col9\" class=\"data row3 col9\" >0.063183</td>\n",
       "            </tr>\n",
       "            <tr>\n",
       "                        <th id=\"T_ed7387b6_7cb2_11e9_a571_69f5ef1c399dlevel0_row4\" class=\"row_heading level0 row4\" >X2</th>\n",
       "                        <td id=\"T_ed7387b6_7cb2_11e9_a571_69f5ef1c399drow4_col0\" class=\"data row4 col0\" >0.00555759</td>\n",
       "                        <td id=\"T_ed7387b6_7cb2_11e9_a571_69f5ef1c399drow4_col1\" class=\"data row4 col1\" >0.000827222</td>\n",
       "                        <td id=\"T_ed7387b6_7cb2_11e9_a571_69f5ef1c399drow4_col2\" class=\"data row4 col2\" >-0.0001273</td>\n",
       "                        <td id=\"T_ed7387b6_7cb2_11e9_a571_69f5ef1c399drow4_col3\" class=\"data row4 col3\" >-0.00159335</td>\n",
       "                        <td id=\"T_ed7387b6_7cb2_11e9_a571_69f5ef1c399drow4_col4\" class=\"data row4 col4\" >1</td>\n",
       "                        <td id=\"T_ed7387b6_7cb2_11e9_a571_69f5ef1c399drow4_col5\" class=\"data row4 col5\" >-0.000692066</td>\n",
       "                        <td id=\"T_ed7387b6_7cb2_11e9_a571_69f5ef1c399drow4_col6\" class=\"data row4 col6\" >-5.14273e-05</td>\n",
       "                        <td id=\"T_ed7387b6_7cb2_11e9_a571_69f5ef1c399drow4_col7\" class=\"data row4 col7\" >-0.00398942</td>\n",
       "                        <td id=\"T_ed7387b6_7cb2_11e9_a571_69f5ef1c399drow4_col8\" class=\"data row4 col8\" >0.00801058</td>\n",
       "                        <td id=\"T_ed7387b6_7cb2_11e9_a571_69f5ef1c399drow4_col9\" class=\"data row4 col9\" >0.000835762</td>\n",
       "            </tr>\n",
       "            <tr>\n",
       "                        <th id=\"T_ed7387b6_7cb2_11e9_a571_69f5ef1c399dlevel0_row5\" class=\"row_heading level0 row5\" >X3</th>\n",
       "                        <td id=\"T_ed7387b6_7cb2_11e9_a571_69f5ef1c399drow5_col0\" class=\"data row5 col0\" >0.065231</td>\n",
       "                        <td id=\"T_ed7387b6_7cb2_11e9_a571_69f5ef1c399drow5_col1\" class=\"data row5 col1\" >-0.00795471</td>\n",
       "                        <td id=\"T_ed7387b6_7cb2_11e9_a571_69f5ef1c399drow5_col2\" class=\"data row5 col2\" >-0.080117</td>\n",
       "                        <td id=\"T_ed7387b6_7cb2_11e9_a571_69f5ef1c399drow5_col3\" class=\"data row5 col3\" >-0.0645367</td>\n",
       "                        <td id=\"T_ed7387b6_7cb2_11e9_a571_69f5ef1c399drow5_col4\" class=\"data row5 col4\" >-0.000692066</td>\n",
       "                        <td id=\"T_ed7387b6_7cb2_11e9_a571_69f5ef1c399drow5_col5\" class=\"data row5 col5\" >1</td>\n",
       "                        <td id=\"T_ed7387b6_7cb2_11e9_a571_69f5ef1c399drow5_col6\" class=\"data row5 col6\" >-0.023697</td>\n",
       "                        <td id=\"T_ed7387b6_7cb2_11e9_a571_69f5ef1c399drow5_col7\" class=\"data row5 col7\" >0.00146345</td>\n",
       "                        <td id=\"T_ed7387b6_7cb2_11e9_a571_69f5ef1c399drow5_col8\" class=\"data row5 col8\" >0.0860914</td>\n",
       "                        <td id=\"T_ed7387b6_7cb2_11e9_a571_69f5ef1c399drow5_col9\" class=\"data row5 col9\" >-0.101577</td>\n",
       "            </tr>\n",
       "            <tr>\n",
       "                        <th id=\"T_ed7387b6_7cb2_11e9_a571_69f5ef1c399dlevel0_row6\" class=\"row_heading level0 row6\" >X4</th>\n",
       "                        <td id=\"T_ed7387b6_7cb2_11e9_a571_69f5ef1c399drow6_col0\" class=\"data row6 col0\" >0.0149377</td>\n",
       "                        <td id=\"T_ed7387b6_7cb2_11e9_a571_69f5ef1c399drow6_col1\" class=\"data row6 col1\" >-0.023786</td>\n",
       "                        <td id=\"T_ed7387b6_7cb2_11e9_a571_69f5ef1c399drow6_col2\" class=\"data row6 col2\" >-0.0306147</td>\n",
       "                        <td id=\"T_ed7387b6_7cb2_11e9_a571_69f5ef1c399drow6_col3\" class=\"data row6 col3\" >0.00873073</td>\n",
       "                        <td id=\"T_ed7387b6_7cb2_11e9_a571_69f5ef1c399drow6_col4\" class=\"data row6 col4\" >-5.14273e-05</td>\n",
       "                        <td id=\"T_ed7387b6_7cb2_11e9_a571_69f5ef1c399drow6_col5\" class=\"data row6 col5\" >-0.023697</td>\n",
       "                        <td id=\"T_ed7387b6_7cb2_11e9_a571_69f5ef1c399drow6_col6\" class=\"data row6 col6\" >1</td>\n",
       "                        <td id=\"T_ed7387b6_7cb2_11e9_a571_69f5ef1c399drow6_col7\" class=\"data row6 col7\" >-0.000512887</td>\n",
       "                        <td id=\"T_ed7387b6_7cb2_11e9_a571_69f5ef1c399drow6_col8\" class=\"data row6 col8\" >-0.034547</td>\n",
       "                        <td id=\"T_ed7387b6_7cb2_11e9_a571_69f5ef1c399drow6_col9\" class=\"data row6 col9\" >0.0149043</td>\n",
       "            </tr>\n",
       "            <tr>\n",
       "                        <th id=\"T_ed7387b6_7cb2_11e9_a571_69f5ef1c399dlevel0_row7\" class=\"row_heading level0 row7\" >X5</th>\n",
       "                        <td id=\"T_ed7387b6_7cb2_11e9_a571_69f5ef1c399drow7_col0\" class=\"data row7 col0\" >0.000169424</td>\n",
       "                        <td id=\"T_ed7387b6_7cb2_11e9_a571_69f5ef1c399drow7_col1\" class=\"data row7 col1\" >-0.00426376</td>\n",
       "                        <td id=\"T_ed7387b6_7cb2_11e9_a571_69f5ef1c399drow7_col2\" class=\"data row7 col2\" >-0.00125602</td>\n",
       "                        <td id=\"T_ed7387b6_7cb2_11e9_a571_69f5ef1c399drow7_col3\" class=\"data row7 col3\" >0.000469605</td>\n",
       "                        <td id=\"T_ed7387b6_7cb2_11e9_a571_69f5ef1c399drow7_col4\" class=\"data row7 col4\" >-0.00398942</td>\n",
       "                        <td id=\"T_ed7387b6_7cb2_11e9_a571_69f5ef1c399drow7_col5\" class=\"data row7 col5\" >0.00146345</td>\n",
       "                        <td id=\"T_ed7387b6_7cb2_11e9_a571_69f5ef1c399drow7_col6\" class=\"data row7 col6\" >-0.000512887</td>\n",
       "                        <td id=\"T_ed7387b6_7cb2_11e9_a571_69f5ef1c399drow7_col7\" class=\"data row7 col7\" >1</td>\n",
       "                        <td id=\"T_ed7387b6_7cb2_11e9_a571_69f5ef1c399drow7_col8\" class=\"data row7 col8\" >0.00417727</td>\n",
       "                        <td id=\"T_ed7387b6_7cb2_11e9_a571_69f5ef1c399drow7_col9\" class=\"data row7 col9\" >0.00143632</td>\n",
       "            </tr>\n",
       "            <tr>\n",
       "                        <th id=\"T_ed7387b6_7cb2_11e9_a571_69f5ef1c399dlevel0_row8\" class=\"row_heading level0 row8\" >X6</th>\n",
       "                        <td id=\"T_ed7387b6_7cb2_11e9_a571_69f5ef1c399drow8_col0\" class=\"data row8 col0\" >0.104616</td>\n",
       "                        <td id=\"T_ed7387b6_7cb2_11e9_a571_69f5ef1c399drow8_col1\" class=\"data row8 col1\" >0.0125254</td>\n",
       "                        <td id=\"T_ed7387b6_7cb2_11e9_a571_69f5ef1c399drow8_col2\" class=\"data row8 col2\" >-0.00635868</td>\n",
       "                        <td id=\"T_ed7387b6_7cb2_11e9_a571_69f5ef1c399drow8_col3\" class=\"data row8 col3\" >0.0150043</td>\n",
       "                        <td id=\"T_ed7387b6_7cb2_11e9_a571_69f5ef1c399drow8_col4\" class=\"data row8 col4\" >0.00801058</td>\n",
       "                        <td id=\"T_ed7387b6_7cb2_11e9_a571_69f5ef1c399drow8_col5\" class=\"data row8 col5\" >0.0860914</td>\n",
       "                        <td id=\"T_ed7387b6_7cb2_11e9_a571_69f5ef1c399drow8_col6\" class=\"data row8 col6\" >-0.034547</td>\n",
       "                        <td id=\"T_ed7387b6_7cb2_11e9_a571_69f5ef1c399drow8_col7\" class=\"data row8 col7\" >0.00417727</td>\n",
       "                        <td id=\"T_ed7387b6_7cb2_11e9_a571_69f5ef1c399drow8_col8\" class=\"data row8 col8\" >1</td>\n",
       "                        <td id=\"T_ed7387b6_7cb2_11e9_a571_69f5ef1c399drow8_col9\" class=\"data row8 col9\" >-0.0747562</td>\n",
       "            </tr>\n",
       "            <tr>\n",
       "                        <th id=\"T_ed7387b6_7cb2_11e9_a571_69f5ef1c399dlevel0_row9\" class=\"row_heading level0 row9\" >X7</th>\n",
       "                        <td id=\"T_ed7387b6_7cb2_11e9_a571_69f5ef1c399drow9_col0\" class=\"data row9 col0\" >-0.074608</td>\n",
       "                        <td id=\"T_ed7387b6_7cb2_11e9_a571_69f5ef1c399drow9_col1\" class=\"data row9 col1\" >0.00320252</td>\n",
       "                        <td id=\"T_ed7387b6_7cb2_11e9_a571_69f5ef1c399drow9_col2\" class=\"data row9 col2\" >0.0239246</td>\n",
       "                        <td id=\"T_ed7387b6_7cb2_11e9_a571_69f5ef1c399drow9_col3\" class=\"data row9 col3\" >0.063183</td>\n",
       "                        <td id=\"T_ed7387b6_7cb2_11e9_a571_69f5ef1c399drow9_col4\" class=\"data row9 col4\" >0.000835762</td>\n",
       "                        <td id=\"T_ed7387b6_7cb2_11e9_a571_69f5ef1c399drow9_col5\" class=\"data row9 col5\" >-0.101577</td>\n",
       "                        <td id=\"T_ed7387b6_7cb2_11e9_a571_69f5ef1c399drow9_col6\" class=\"data row9 col6\" >0.0149043</td>\n",
       "                        <td id=\"T_ed7387b6_7cb2_11e9_a571_69f5ef1c399drow9_col7\" class=\"data row9 col7\" >0.00143632</td>\n",
       "                        <td id=\"T_ed7387b6_7cb2_11e9_a571_69f5ef1c399drow9_col8\" class=\"data row9 col8\" >-0.0747562</td>\n",
       "                        <td id=\"T_ed7387b6_7cb2_11e9_a571_69f5ef1c399drow9_col9\" class=\"data row9 col9\" >1</td>\n",
       "            </tr>\n",
       "    </tbody></table>"
      ],
      "text/plain": [
       "<pandas.io.formats.style.Styler at 0x7fd2c0ce7898>"
      ]
     },
     "execution_count": 5,
     "metadata": {},
     "output_type": "execute_result"
    }
   ],
   "source": [
    "corr = data.corr()\n",
    "corr.style.background_gradient(cmap='binary')"
   ]
  },
  {
   "cell_type": "markdown",
   "metadata": {},
   "source": [
    "Here we find 'sec_id' has a strong positive correlation with volatility.\n",
    "\n",
    "Therefore, we can probably deduce that stocks in our universe are ordered by capitalization size in a decreasing way, since low cap size companies tend to have larger volatilities.\n",
    "\n",
    "This also tells us that label 'vol' has relative less noise. We will use this finding later."
   ]
  },
  {
   "cell_type": "markdown",
   "metadata": {},
   "source": [
    "## 1.4. Plot population histogram."
   ]
  },
  {
   "cell_type": "code",
   "execution_count": 6,
   "metadata": {
    "ExecuteTime": {
     "end_time": "2019-05-22T16:59:16.701352Z",
     "start_time": "2019-05-22T16:59:14.144951Z"
    }
   },
   "outputs": [
    {
     "data": {
      "image/png": "[encoded data removed]",
      "text/plain": [
       "<Figure size 1152x1152 with 8 Axes>"
      ]
     },
     "metadata": {
      "needs_background": "light"
     },
     "output_type": "display_data"
    }
   ],
   "source": [
    "plt.figure(figsize=(16, 16))\n",
    "\n",
    "for idx, column in enumerate(data.columns[2:]):\n",
    "    plt.subplot(3, 3, idx+1)\n",
    "    # extract all valid data in this column.\n",
    "    data_col_vld = data[column][~np.isnan(data[column])]\n",
    "    # plot population histogram across time.\n",
    "    plt.hist(data_col_vld, bins=np.arange(min(data_col_vld), max(data_col_vld),\\\n",
    "                                          (max(data_col_vld)-min(data_col_vld))/100))\n",
    "    plt.xlabel('value')\n",
    "    plt.ylabel('freq')\n",
    "    plt.title(column)\n",
    "plt.show()"
   ]
  },
  {
   "cell_type": "markdown",
   "metadata": {},
   "source": [
    "We can find that 'X2' and 'X5' are very likely to be pure white noise (or at least the cases where white noise just overwhelms our signal), because they are bell-shaped, and not skewed.\n",
    "\n",
    "'X1' has a large portion of data very close to 0. Therefore, I think though there is some composition of white noise in 'X1', but it is not pure noise.\n",
    "\n",
    "But before further investigating into that, let's reshape our data, such that each feature (as well as return is) one dataframe, indexed by date with each ticker per column."
   ]
  },
  {
   "cell_type": "markdown",
   "metadata": {},
   "source": [
    "## 1.5. Reshape data."
   ]
  },
  {
   "cell_type": "code",
   "execution_count": 7,
   "metadata": {
    "ExecuteTime": {
     "end_time": "2019-05-22T16:59:16.845017Z",
     "start_time": "2019-05-22T16:59:16.703207Z"
    }
   },
   "outputs": [],
   "source": [
    "# reshape data to make each feature one dataframe.\n",
    "# index: date\n",
    "# column: ticker\n",
    "# fut_ret = data.pivot(index='Date', columns='sec_id', values='fut_ret')\n",
    "vol = data.pivot(index='Date', columns='sec_id', values='vol')\n",
    "X1 = data.pivot(index='Date', columns='sec_id', values='X1')\n",
    "X2 = data.pivot(index='Date', columns='sec_id', values='X2')\n",
    "X3 = data.pivot(index='Date', columns='sec_id', values='X3')\n",
    "X4 = data.pivot(index='Date', columns='sec_id', values='X4')\n",
    "X5 = data.pivot(index='Date', columns='sec_id', values='X5')\n",
    "X6 = data.pivot(index='Date', columns='sec_id', values='X6')\n",
    "X7 = data.pivot(index='Date', columns='sec_id', values='X7')"
   ]
  },
  {
   "cell_type": "markdown",
   "metadata": {},
   "source": [
    "## 1.6. Deal with Missing Values."
   ]
  },
  {
   "cell_type": "markdown",
   "metadata": {},
   "source": [
    "First let's find out how many np.nans in raw data and our reshaped data."
   ]
  },
  {
   "cell_type": "markdown",
   "metadata": {},
   "source": [
    "Number of np.nan each column in raw data is as follows."
   ]
  },
  {
   "cell_type": "code",
   "execution_count": 8,
   "metadata": {
    "ExecuteTime": {
     "end_time": "2019-05-22T16:59:16.869140Z",
     "start_time": "2019-05-22T16:59:16.846924Z"
    }
   },
   "outputs": [
    {
     "name": "stdout",
     "output_type": "stream",
     "text": [
      " in raw data, number of np.nan in each column:\n"
     ]
    },
    {
     "data": {
      "text/plain": [
       "Date         0\n",
       "Time         0\n",
       "sec_id       0\n",
       "vol       6676\n",
       "X1           0\n",
       "X2           0\n",
       "X3           0\n",
       "X4           0\n",
       "X5           0\n",
       "X6           0\n",
       "X7           0\n",
       "dtype: int64"
      ]
     },
     "execution_count": 8,
     "metadata": {},
     "output_type": "execute_result"
    }
   ],
   "source": [
    "print(' in raw data, number of np.nan in each column:')\n",
    "np.sum(np.isnan(data_raw), axis=0)"
   ]
  },
  {
   "cell_type": "markdown",
   "metadata": {},
   "source": [
    "Number of np.nan for each feature in reshaped data is as follows."
   ]
  },
  {
   "cell_type": "code",
   "execution_count": 9,
   "metadata": {
    "ExecuteTime": {
     "end_time": "2019-05-22T16:59:16.890883Z",
     "start_time": "2019-05-22T16:59:16.871235Z"
    }
   },
   "outputs": [
    {
     "name": "stdout",
     "output_type": "stream",
     "text": [
      "after reshaping, number of np.nan in each feature dataframe:\n",
      "number of np.nan in vol: 8617\n",
      "number of np.nan in X1: 1941\n",
      "number of np.nan in X2: 1941\n",
      "number of np.nan in X3: 1941\n",
      "number of np.nan in X4: 1941\n",
      "number of np.nan in X5: 1941\n",
      "number of np.nan in X6: 1941\n",
      "number of np.nan in X7: 1941\n"
     ]
    }
   ],
   "source": [
    "feature_name_lst = ['vol', 'X1', 'X2', 'X3', 'X4', 'X5', 'X6', 'X7']\n",
    "feature_lst = [vol, X1, X2, X3, X4, X5, X6, X7]\n",
    "\n",
    "print('after reshaping, number of np.nan in each feature dataframe:')\n",
    "for i in range(len(feature_lst)):\n",
    "    print('number of np.nan in '+feature_name_lst[i]+': %d'\\\n",
    "          %np.sum(np.sum(np.isnan(feature_lst[i]))))"
   ]
  },
  {
   "cell_type": "markdown",
   "metadata": {},
   "source": [
    "Now we can find that after reshaping, there are a lot more missing values than before. This is probably because that in original raw data, different stocks have slightly different time stamps.\n",
    "\n",
    "Let's see how many tickers and dates have missing values in 'fut_ret'. If the missing values are concentrated within a few tickers or dates, we can just discard them."
   ]
  },
  {
   "cell_type": "code",
   "execution_count": 10,
   "metadata": {
    "ExecuteTime": {
     "end_time": "2019-05-22T16:59:16.898874Z",
     "start_time": "2019-05-22T16:59:16.892454Z"
    }
   },
   "outputs": [
    {
     "name": "stdout",
     "output_type": "stream",
     "text": [
      "number of dates containing np.nan: 4\n"
     ]
    }
   ],
   "source": [
    "print('number of dates containing np.nan: %d' %\\\n",
    "     np.sum(np.sum(np.isnan(X1), axis=1)==0))"
   ]
  },
  {
   "cell_type": "code",
   "execution_count": 11,
   "metadata": {
    "ExecuteTime": {
     "end_time": "2019-05-22T16:59:16.910743Z",
     "start_time": "2019-05-22T16:59:16.900576Z"
    }
   },
   "outputs": [
    {
     "name": "stdout",
     "output_type": "stream",
     "text": [
      "number of tickers containing np.nan: 1776\n"
     ]
    }
   ],
   "source": [
    "print('number of tickers containing np.nan: %d' %\\\n",
    "     np.sum(np.sum(np.isnan(X1), axis=0)==0))"
   ]
  },
  {
   "cell_type": "markdown",
   "metadata": {},
   "source": [
    "1,541 (77.4%) tickers and 12 (6%) dates have np.nan. There is no way we can just drop a whole column or row in our dataframe."
   ]
  },
  {
   "cell_type": "markdown",
   "metadata": {},
   "source": [
    "There are two most common possibilities for missing values in a time series:\n",
    "1. A few np.nans lie in between valid data in a time series.\n",
    "2. A big chunk of np.nans at the beginning (or in the middle) of our time period.\n",
    "\n",
    "We can probably use some moving average to fill the np.nan in case 1; but we have to treat case 2 more seriously.\n",
    "\n",
    "Let's deal with np.nans in features except for 'vol' first."
   ]
  },
  {
   "cell_type": "markdown",
   "metadata": {},
   "source": [
    "### 1.6.1 np.nans in Features other than 'vol'."
   ]
  },
  {
   "cell_type": "markdown",
   "metadata": {},
   "source": [
    "Due to our discussion before, in different feature dataframes (such as 'fut_ret' and 'X7'), all np.nans are in the same place. So if we fill the missing values using some moving average (such as exponential moving average), we will get $\\frac{5861}{392539}\\approx1.5\\%$ of our data points among which all the features are just filled in artificially. That is unacceptable.\n",
    "\n",
    "- Thus we have to drop them in the end and leave the timestamps of the stocks somewhat different."
   ]
  },
  {
   "cell_type": "markdown",
   "metadata": {},
   "source": [
    "### 1.6.2 np.nans in 'vol'."
   ]
  },
  {
   "cell_type": "markdown",
   "metadata": {},
   "source": [
    "But 'vol' is a label with relative small noise and lots of np.nans. We have to fill (at least some of) them in some way."
   ]
  },
  {
   "cell_type": "markdown",
   "metadata": {},
   "source": [
    "One way to fill np.nan is to use exponential moving average. We implement the moving average using historical data in order to avoid lookahead bias."
   ]
  },
  {
   "cell_type": "markdown",
   "metadata": {},
   "source": [
    "But there is one parameter we have to decide: the center of mass (or effective lag) of our moving average.\n",
    "\n",
    "There are two concerns:\n",
    "1. we do not want to use a too long window length, because that will incorporate too much old information;\n",
    "2. we do not want to use a too short window length either, because it will inherit the noise of its previous observations.\n",
    "\n",
    "Therefore, we have to do some kind of parameter tuning."
   ]
  },
  {
   "cell_type": "markdown",
   "metadata": {},
   "source": [
    "Notice that 'sec_id' as a strong correlation with 'vol'. Thus, one way to decide is that we try different window lengths of filling volatility, and pick the one with the strongest correlation with 'sec_id'."
   ]
  },
  {
   "cell_type": "code",
   "execution_count": 12,
   "metadata": {
    "ExecuteTime": {
     "end_time": "2019-05-22T16:59:17.536959Z",
     "start_time": "2019-05-22T16:59:16.912540Z"
    }
   },
   "outputs": [],
   "source": [
    "corr_vol_ret = []\n",
    "window_lst = np.arange(1, 21)\n",
    "\n",
    "# for each window length, use EMA to fill vol.\n",
    "# then calculate pearsonr w.r.t. sec_id.\n",
    "for window in window_lst:\n",
    "    vol_ema = vol.fillna(vol.ewm(window).mean())\n",
    "    sec_id_ndarr = np.tile(vol.columns, (len(vol.index), 1))\n",
    "    \n",
    "    # we need to handle np.nan properly.\n",
    "    both_valid = (~np.isnan(vol_ema)) & (~np.isnan(sec_id_ndarr))\n",
    "    vol_ema_vld_arr = vol_ema[both_valid].values.reshape((1, -1))[0]\n",
    "    sec_id_vld_arr = sec_id_ndarr[both_valid].reshape((1, -1))[0]\n",
    "    \n",
    "    corr_vol_ret.append(pearsonr(vol_ema_vld_arr[~np.isnan(vol_ema_vld_arr)],\\\n",
    "                                 sec_id_vld_arr[~np.isnan(sec_id_vld_arr)])[0])"
   ]
  },
  {
   "cell_type": "code",
   "execution_count": 13,
   "metadata": {
    "ExecuteTime": {
     "end_time": "2019-05-22T16:59:17.658364Z",
     "start_time": "2019-05-22T16:59:17.538312Z"
    }
   },
   "outputs": [
    {
     "data": {
      "image/png": "[encoded data removed]",
      "text/plain": [
       "<Figure size 432x288 with 1 Axes>"
      ]
     },
     "metadata": {
      "needs_background": "light"
     },
     "output_type": "display_data"
    }
   ],
   "source": [
    "plt.plot(window_lst, corr_vol_ret)\n",
    "plt.xlabel('effetive lag of EMA')\n",
    "plt.ylabel('corr(vol, sec_id)')\n",
    "plt.title('correlation between filled volatility and\\n\\\n",
    "            captialization size w.r.t. effective lag of EMA')\n",
    "plt.show()"
   ]
  },
  {
   "cell_type": "markdown",
   "metadata": {},
   "source": [
    "We are disappointed to see that the correlation keeps going up, and a EMA with $lag>15$ actually does not make sense."
   ]
  },
  {
   "cell_type": "markdown",
   "metadata": {},
   "source": [
    "Thus, we turn to the second strongest correlation: 'vol' and 'X1'."
   ]
  },
  {
   "cell_type": "code",
   "execution_count": 14,
   "metadata": {
    "ExecuteTime": {
     "end_time": "2019-05-22T16:59:18.167848Z",
     "start_time": "2019-05-22T16:59:17.660217Z"
    }
   },
   "outputs": [],
   "source": [
    "corr_vol_ret = []\n",
    "window_lst = np.arange(1, 16)\n",
    "\n",
    "# for each window length, use EMA to fill vol.\n",
    "# then calculate pearsonr w.r.t. X1.\n",
    "for window in window_lst:\n",
    "    vol_ema = vol.fillna(vol.ewm(window).mean())\n",
    "    \n",
    "    # we need to handle np.nan properly.\n",
    "    both_valid = (~np.isnan(vol_ema)) & (~np.isnan(X1))\n",
    "    vol_ema_vld_arr = vol_ema[both_valid].values.reshape((1, -1))[0]\n",
    "    X1_vld_arr = X1[both_valid].values.reshape((1, -1))[0]\n",
    "    \n",
    "    corr_vol_ret.append(pearsonr(vol_ema_vld_arr[~np.isnan(vol_ema_vld_arr)],\\\n",
    "                                 X1_vld_arr[~np.isnan(X1_vld_arr)])[0])"
   ]
  },
  {
   "cell_type": "code",
   "execution_count": 15,
   "metadata": {
    "ExecuteTime": {
     "end_time": "2019-05-22T16:59:18.296670Z",
     "start_time": "2019-05-22T16:59:18.169133Z"
    }
   },
   "outputs": [
    {
     "data": {
      "image/png": "[encoded data removed]",
      "text/plain": [
       "<Figure size 432x288 with 1 Axes>"
      ]
     },
     "metadata": {
      "needs_background": "light"
     },
     "output_type": "display_data"
    }
   ],
   "source": [
    "plt.plot(window_lst, corr_vol_ret)\n",
    "plt.xlabel('effetive lag of EMA')\n",
    "plt.ylabel('corr(vol, X1)')\n",
    "plt.title('correlation between filled volatility and\\nfeature X1 w.r.t. effective lag of EMA')\n",
    "plt.show()"
   ]
  },
  {
   "cell_type": "code",
   "execution_count": 16,
   "metadata": {
    "ExecuteTime": {
     "end_time": "2019-05-22T16:59:18.301895Z",
     "start_time": "2019-05-22T16:59:18.298357Z"
    }
   },
   "outputs": [
    {
     "data": {
      "text/plain": [
       "4"
      ]
     },
     "execution_count": 16,
     "metadata": {},
     "output_type": "execute_result"
    }
   ],
   "source": [
    "# find best window length.\n",
    "window_lst[np.argmax(np.array(corr_vol_ret))]"
   ]
  },
  {
   "cell_type": "markdown",
   "metadata": {},
   "source": [
    "- Based on this plot, we will choose $lag=10$."
   ]
  },
  {
   "cell_type": "markdown",
   "metadata": {},
   "source": [
    "Let's see if there are consecutive np.nans in the middle of time series."
   ]
  },
  {
   "cell_type": "code",
   "execution_count": 17,
   "metadata": {
    "ExecuteTime": {
     "end_time": "2019-05-22T16:59:18.594276Z",
     "start_time": "2019-05-22T16:59:18.303830Z"
    }
   },
   "outputs": [
    {
     "data": {
      "image/png": "[encoded data removed]",
      "text/plain": [
       "<Figure size 432x288 with 1 Axes>"
      ]
     },
     "metadata": {
      "needs_background": "light"
     },
     "output_type": "display_data"
    }
   ],
   "source": [
    "vol_nan_num_lst = []\n",
    "for i in range(0, 10):\n",
    "    if i==0:\n",
    "        pass\n",
    "    else:\n",
    "        vol = vol.fillna(vol.ewm(10).mean())\n",
    "    vol_nan_num_lst.append(np.sum(np.sum(np.isnan(vol))))\n",
    "\n",
    "plt.figure()\n",
    "plt.plot(np.arange(0, 10), vol_nan_num_lst)\n",
    "plt.xlabel('EMA filling times')\n",
    "plt.ylabel('number of np.nan in \"vol\" dataframe')\n",
    "plt.show()"
   ]
  },
  {
   "cell_type": "markdown",
   "metadata": {},
   "source": [
    "That is to say, there are no consecutive (i.e., more than one) np.nans in the middle of our 'vol' dataframe."
   ]
  },
  {
   "cell_type": "code",
   "execution_count": 18,
   "metadata": {
    "ExecuteTime": {
     "end_time": "2019-05-22T16:59:18.600866Z",
     "start_time": "2019-05-22T16:59:18.595829Z"
    }
   },
   "outputs": [
    {
     "data": {
      "text/plain": [
       "5853"
      ]
     },
     "execution_count": 18,
     "metadata": {},
     "output_type": "execute_result"
    }
   ],
   "source": [
    "np.sum(np.sum(np.isnan(vol)))"
   ]
  },
  {
   "cell_type": "markdown",
   "metadata": {},
   "source": [
    "Let's see again how many tickers and dates contain np.nan."
   ]
  },
  {
   "cell_type": "code",
   "execution_count": 19,
   "metadata": {
    "ExecuteTime": {
     "end_time": "2019-05-22T16:59:18.614807Z",
     "start_time": "2019-05-22T16:59:18.602105Z"
    }
   },
   "outputs": [
    {
     "name": "stdout",
     "output_type": "stream",
     "text": [
      "number of dates containing np.nan: 4\n",
      "number of tickers containing np.nan: 1776\n"
     ]
    }
   ],
   "source": [
    "print('number of dates containing np.nan: %d' %\\\n",
    "     np.sum(np.sum(np.isnan(X1), axis=1)==0))\n",
    "print('number of tickers containing np.nan: %d' %\\\n",
    "     np.sum(np.sum(np.isnan(X1), axis=0)==0))"
   ]
  },
  {
   "cell_type": "markdown",
   "metadata": {},
   "source": [
    "We still cannot drop rows and columns.\n",
    "\n",
    "Now let's take a look at how number of np.nan changes w.r.t. dates."
   ]
  },
  {
   "cell_type": "code",
   "execution_count": 20,
   "metadata": {
    "ExecuteTime": {
     "end_time": "2019-05-22T16:59:18.736490Z",
     "start_time": "2019-05-22T16:59:18.616213Z"
    }
   },
   "outputs": [
    {
     "data": {
      "image/png": "[encoded data removed]",
      "text/plain": [
       "<Figure size 432x288 with 1 Axes>"
      ]
     },
     "metadata": {
      "needs_background": "light"
     },
     "output_type": "display_data"
    }
   ],
   "source": [
    "plt.plot(np.sum(np.isnan(vol), axis=1))\n",
    "plt.xlabel('date')\n",
    "plt.ylabel('# of np.nan')\n",
    "plt.title('number of np.nan of volatility in our universe') \n",
    "plt.show()"
   ]
  },
  {
   "cell_type": "markdown",
   "metadata": {},
   "source": [
    "Here we kind of know what is going on. As time goes by, the number of np.nan in volatility dataframe decreases monotonically. It is very likely to be the case that some stocks do not have any obersevation of volatility at the beginning; but later more and more stocks tend to have valid volatility observations."
   ]
  },
  {
   "cell_type": "markdown",
   "metadata": {},
   "source": [
    "Thus, in this notebook we implement the following idea:\n",
    "1. fill as many np.nans as possible by using exponential moving average. (Note that this is already done.)\n",
    "2. leave all remaining np.nans unfilled."
   ]
  },
  {
   "cell_type": "markdown",
   "metadata": {},
   "source": [
    "## 1.7. Explore Which Features Are Dominated by Random Noise."
   ]
  },
  {
   "cell_type": "markdown",
   "metadata": {},
   "source": [
    "As discussed before, 'X2' and 'X5' are probably just noise. Let's verify our assumptions."
   ]
  },
  {
   "cell_type": "markdown",
   "metadata": {},
   "source": [
    "One way to further investigate whether a feature 'X\\*' is noise is that for each ticker, we plot the 1st, 2nd and 3rd moment of 'X\\*' across the time, and see if the value varies across each ticker.\n",
    "\n",
    "- If it does not vary, X is probably noise.\n",
    "- Otherwise X may contain some information."
   ]
  },
  {
   "cell_type": "code",
   "execution_count": 21,
   "metadata": {
    "ExecuteTime": {
     "end_time": "2019-05-22T16:59:18.743543Z",
     "start_time": "2019-05-22T16:59:18.737881Z"
    }
   },
   "outputs": [],
   "source": [
    "# plot first three moments of feature X acorss each ticker.\n",
    "def plot_mmt(X):\n",
    "    fst_mmt = moment(X, moment=1, axis=0, nan_policy='omit')\n",
    "    scd_mmt = moment(X, moment=2, axis=0, nan_policy='omit')\n",
    "    trd_mmt = moment(X, moment=3, axis=0, nan_policy='omit')\n",
    "    col = X.columns\n",
    "\n",
    "    plt.figure(figsize=(18, 4))\n",
    "    plt.subplot(1, 3, 1)\n",
    "    plt.plot(col, fst_mmt, color='red')\n",
    "    plt.xlabel('ticker')\n",
    "    plt.ylabel('1st moment')\n",
    "\n",
    "    plt.subplot(1, 3, 2)\n",
    "    plt.plot(col, scd_mmt, color='blue')\n",
    "    plt.xlabel('ticker')\n",
    "    plt.ylabel('2nd moment')\n",
    "\n",
    "    plt.subplot(1, 3, 3)\n",
    "    plt.plot(col, trd_mmt, color='green')\n",
    "    plt.xlabel('ticker')\n",
    "    plt.ylabel('3rd moment')\n",
    "\n",
    "    plt.show()"
   ]
  },
  {
   "cell_type": "code",
   "execution_count": 22,
   "metadata": {
    "ExecuteTime": {
     "end_time": "2019-05-22T16:59:19.109452Z",
     "start_time": "2019-05-22T16:59:18.744916Z"
    }
   },
   "outputs": [
    {
     "data": {
      "image/png": "[encoded data removed]",
      "text/plain": [
       "<Figure size 1296x288 with 3 Axes>"
      ]
     },
     "metadata": {
      "needs_background": "light"
     },
     "output_type": "display_data"
    }
   ],
   "source": [
    "plot_mmt(X2)"
   ]
  },
  {
   "cell_type": "code",
   "execution_count": 23,
   "metadata": {
    "ExecuteTime": {
     "end_time": "2019-05-22T16:59:19.565659Z",
     "start_time": "2019-05-22T16:59:19.112662Z"
    }
   },
   "outputs": [
    {
     "data": {
      "image/png": "[encoded data removed]",
      "text/plain": [
       "<Figure size 1296x288 with 3 Axes>"
      ]
     },
     "metadata": {
      "needs_background": "light"
     },
     "output_type": "display_data"
    }
   ],
   "source": [
    "plot_mmt(X5)"
   ]
  },
  {
   "cell_type": "markdown",
   "metadata": {},
   "source": [
    "- Now we can conclude that 'X2' and 'X5' are just noise."
   ]
  },
  {
   "cell_type": "markdown",
   "metadata": {},
   "source": [
    "Let's consider 'X1' now."
   ]
  },
  {
   "cell_type": "code",
   "execution_count": 24,
   "metadata": {
    "ExecuteTime": {
     "end_time": "2019-05-22T16:59:19.917066Z",
     "start_time": "2019-05-22T16:59:19.568038Z"
    }
   },
   "outputs": [
    {
     "data": {
      "image/png": "[encoded data removed]",
      "text/plain": [
       "<Figure size 1296x288 with 3 Axes>"
      ]
     },
     "metadata": {
      "needs_background": "light"
     },
     "output_type": "display_data"
    }
   ],
   "source": [
    "plot_mmt(X1)"
   ]
  },
  {
   "cell_type": "markdown",
   "metadata": {},
   "source": [
    "- From the 2nd and 3rd moment, there is some information in 'X1'. I will not drop it."
   ]
  },
  {
   "cell_type": "markdown",
   "metadata": {},
   "source": [
    "## 1.9. Put Everything Together."
   ]
  },
  {
   "cell_type": "markdown",
   "metadata": {},
   "source": [
    "Now we concatenate each feature back into one dataframe, just like our original raw data."
   ]
  },
  {
   "cell_type": "code",
   "execution_count": 25,
   "metadata": {
    "ExecuteTime": {
     "end_time": "2019-05-22T16:59:19.928596Z",
     "start_time": "2019-05-22T16:59:19.918633Z"
    }
   },
   "outputs": [],
   "source": [
    "date_ndarr = np.tile(X1.index, (X1.shape[1], 1)).T\n",
    "sec_id_ndarr = np.tile(X1.columns, (X1.shape[0], 1))\n",
    "\n",
    "data = np.array([date_ndarr.reshape(-1,), sec_id_ndarr.reshape(-1,),\\\n",
    "                vol.values.reshape(-1,),\\\n",
    "                X1.values.reshape(-1,), X3.values.reshape(-1,),\\\n",
    "                X4.values.reshape(-1,), X6.values.reshape(-1,),\\\n",
    "                X7.values.reshape(-1,)]).T\n",
    "\n",
    "data = pd.DataFrame(data, columns=['Date', 'sec_id', 'vol', 'X1',\\\n",
    "                                   'X3', 'X4', 'X6', 'X7'])"
   ]
  },
  {
   "cell_type": "code",
   "execution_count": 26,
   "metadata": {
    "ExecuteTime": {
     "end_time": "2019-05-22T16:59:19.950063Z",
     "start_time": "2019-05-22T16:59:19.930427Z"
    }
   },
   "outputs": [
    {
     "data": {
      "text/plain": [
       "Date         0\n",
       "sec_id       0\n",
       "vol       5853\n",
       "X1        1941\n",
       "X3        1941\n",
       "X4        1941\n",
       "X6        1941\n",
       "X7        1941\n",
       "dtype: int64"
      ]
     },
     "execution_count": 26,
     "metadata": {},
     "output_type": "execute_result"
    }
   ],
   "source": [
    "np.sum(np.isnan(data), axis=0)"
   ]
  },
  {
   "cell_type": "markdown",
   "metadata": {},
   "source": [
    "Then we drop the missing observations for tickers, as discussed above."
   ]
  },
  {
   "cell_type": "code",
   "execution_count": 27,
   "metadata": {
    "ExecuteTime": {
     "end_time": "2019-05-22T16:59:19.964157Z",
     "start_time": "2019-05-22T16:59:19.951429Z"
    }
   },
   "outputs": [],
   "source": [
    "data = data.drop(data['X1'][np.isnan(data['X1'])].index)"
   ]
  },
  {
   "cell_type": "markdown",
   "metadata": {},
   "source": [
    "Finanlly let's check if there are still any np.nans in our dataframe, and whether the new dataframe has the same length with raw data."
   ]
  },
  {
   "cell_type": "code",
   "execution_count": 28,
   "metadata": {
    "ExecuteTime": {
     "end_time": "2019-05-22T16:59:19.984606Z",
     "start_time": "2019-05-22T16:59:19.965749Z"
    }
   },
   "outputs": [
    {
     "name": "stdout",
     "output_type": "stream",
     "text": [
      "number of np.nan in each column:\n",
      "Date         0\n",
      "sec_id       0\n",
      "vol       5392\n",
      "X1           0\n",
      "X3           0\n",
      "X4           0\n",
      "X6           0\n",
      "X7           0\n",
      "dtype: int64\n",
      "shape of new data:\n",
      "(101643, 8)\n",
      "shape of raw data:\n",
      "(101643, 11)\n"
     ]
    }
   ],
   "source": [
    "print('number of np.nan in each column:')\n",
    "print(np.sum(np.isnan(data), axis=0))\n",
    "print('shape of new data:')\n",
    "print(data.shape)\n",
    "print('shape of raw data:')\n",
    "print(data_raw.shape)"
   ]
  },
  {
   "cell_type": "markdown",
   "metadata": {},
   "source": [
    "## 1.8. Normalize Data."
   ]
  },
  {
   "cell_type": "markdown",
   "metadata": {},
   "source": [
    "The final step is to normalize our data.\n",
    "\n",
    "We set our features into four sets and treat them differently:\n",
    "\n",
    "1. sec_id, Date: we will devide each value by the sample maximum.\n",
    "2. X2, X5: we will not normalize them because we will drop them in the end anyway.\n",
    "3. vol: after filling all np.nans by 0, we will first add a minor positive number in order to avoid numerical error, and then take log and compute z-score. New feature will be named 'log_vol'.\n",
    "3. X1, X3, X4, X6, X7: we will compute z-score of them directly. New features will be named 'X\\*\\_norm'."
   ]
  },
  {
   "cell_type": "code",
   "execution_count": 29,
   "metadata": {
    "ExecuteTime": {
     "end_time": "2019-05-22T16:59:19.990277Z",
     "start_time": "2019-05-22T16:59:19.986092Z"
    }
   },
   "outputs": [],
   "source": [
    "# dictionaries to keep sample mean and std.\n",
    "# need to use them in prediction step.\n",
    "mean_dict = {'X1':0.0003150029, 'X3':-0.0000082097, 'X4':0.0000310304,\\\n",
    "                      'X6':-0.0000367788, 'X7':0.0000013526, 'log_vol':-7.4561393545}\n",
    "std_dict = {'X1':0.0011513509, 'X3':0.0000862716, 'X4':0.0002824588,\\\n",
    "                      'X6':0.0002033164, 'X7':0.0000167842, 'log_vol':0.5101183787}"
   ]
  },
  {
   "cell_type": "code",
   "execution_count": 30,
   "metadata": {
    "ExecuteTime": {
     "end_time": "2019-05-22T16:59:20.011013Z",
     "start_time": "2019-05-22T16:59:19.992496Z"
    }
   },
   "outputs": [],
   "source": [
    "for column in ['X1', 'X3', 'X4', 'X6', 'X7']:\n",
    "    feature = data[column]\n",
    "    \n",
    "    #mean_dict[column] = feature.mean(skipna=True)\n",
    "    #std_dict[column] = feature.std(skipna=True)\n",
    "    #print('for '+column+' :')\n",
    "    #print('mean = %.9f' %mean_dict[column])\n",
    "    #print('std = %.9f' %std_dict[column])\n",
    "    \n",
    "    feature = (feature-mean_dict[column])/std_dict[column]\n",
    "    data[column+'_norm'] = feature"
   ]
  },
  {
   "cell_type": "code",
   "execution_count": 31,
   "metadata": {
    "ExecuteTime": {
     "end_time": "2019-05-22T16:59:20.020385Z",
     "start_time": "2019-05-22T16:59:20.013322Z"
    }
   },
   "outputs": [],
   "source": [
    "data['Date'] = data['Date']/data['Date'].max()\n",
    "data['sec_id'] = data['sec_id']/data['sec_id'].max()"
   ]
  },
  {
   "cell_type": "code",
   "execution_count": 32,
   "metadata": {
    "ExecuteTime": {
     "end_time": "2019-05-22T16:59:20.034878Z",
     "start_time": "2019-05-22T16:59:20.021901Z"
    }
   },
   "outputs": [],
   "source": [
    "data['log_vol'] = np.log(data['vol'].fillna(0)+(1e-4))\n",
    "#mean_dict['log_vol'] = data['log_vol'].mean(skipna=True)\n",
    "#std_dict['log_vol'] = data['log_vol'].std(skipna=True)\n",
    "\n",
    "#print('for modified log vol (+1e-4, then take np.log):')\n",
    "#print('mean = %.9f' %mean_dict['log_vol'])\n",
    "#print('std = %.9f' %std_dict['log_vol'])\n",
    "\n",
    "data['log_vol'] = (data['log_vol']-mean_dict['log_vol'])/std_dict['log_vol']"
   ]
  },
  {
   "cell_type": "code",
   "execution_count": 33,
   "metadata": {
    "ExecuteTime": {
     "end_time": "2019-05-22T16:59:20.080280Z",
     "start_time": "2019-05-22T16:59:20.036462Z"
    }
   },
   "outputs": [
    {
     "name": "stdout",
     "output_type": "stream",
     "text": [
      "shape of new data:\n",
      "(101643, 14)\n",
      "shape of raw data:\n",
      "(101643, 11)\n",
      "number of np.nan in each column\n",
      "Date          0\n",
      "sec_id        0\n",
      "vol        5392\n",
      "X1            0\n",
      "X3            0\n",
      "X4            0\n",
      "X6            0\n",
      "X7            0\n",
      "X1_norm       0\n",
      "X3_norm       0\n",
      "X4_norm       0\n",
      "X6_norm       0\n",
      "X7_norm       0\n",
      "log_vol       0\n",
      "dtype: int64\n"
     ]
    }
   ],
   "source": [
    "print('shape of new data:')\n",
    "print(data.shape)\n",
    "print('shape of raw data:')\n",
    "print(data_raw.shape)\n",
    "print('number of np.nan in each column')\n",
    "print(np.sum(np.isnan(data), axis=0))"
   ]
  },
  {
   "cell_type": "markdown",
   "metadata": {},
   "source": [
    "## 1.9. Save Trimmed Data into a .csv File and Print Mean and Std Dictionaries."
   ]
  },
  {
   "cell_type": "code",
   "execution_count": 34,
   "metadata": {
    "ExecuteTime": {
     "end_time": "2019-05-22T16:59:21.782995Z",
     "start_time": "2019-05-22T16:59:20.082873Z"
    }
   },
   "outputs": [],
   "source": [
    "data = data.fillna(0)\n",
    "data.to_csv('data_oos.csv')"
   ]
  },
  {
   "cell_type": "code",
   "execution_count": 35,
   "metadata": {
    "ExecuteTime": {
     "end_time": "2019-05-22T16:59:21.789900Z",
     "start_time": "2019-05-22T16:59:21.784349Z"
    }
   },
   "outputs": [
    {
     "name": "stdout",
     "output_type": "stream",
     "text": [
      "mean dictionary:\n",
      "mean of X1 = 0.0003150029\n",
      "mean of X3 = -0.0000082097\n",
      "mean of X4 = 0.0000310304\n",
      "mean of X6 = -0.0000367788\n",
      "mean of X7 = 0.0000013526\n",
      "mean of log_vol = -7.4561393545\n",
      "\n",
      "std dictionary:\n",
      "std of X1 = 0.0011513509\n",
      "std of X3 = 0.0000862716\n",
      "std of X4 = 0.0002824588\n",
      "std of X6 = 0.0002033164\n",
      "std of X7 = 0.0000167842\n",
      "std of log_vol = 0.5101183787\n"
     ]
    }
   ],
   "source": [
    "print('mean dictionary:')\n",
    "for key, value in mean_dict.items():\n",
    "    print('mean of '+key+' = %.10f' %value)\n",
    "\n",
    "print('\\nstd dictionary:')\n",
    "for key, value in std_dict.items():\n",
    "    print('std of '+key+' = %.10f' %value)"
   ]
  },
  {
   "cell_type": "markdown",
   "metadata": {},
   "source": [
    "Note that when trimming 'vol', we need to first add 1e-4, take log and then normalize using mean and std above."
   ]
  },
  {
   "cell_type": "code",
   "execution_count": 36,
   "metadata": {
    "ExecuteTime": {
     "end_time": "2019-05-22T16:59:21.833071Z",
     "start_time": "2019-05-22T16:59:21.791488Z"
    }
   },
   "outputs": [
    {
     "name": "stdout",
     "output_type": "stream",
     "text": [
      "Date       0\n",
      "sec_id     0\n",
      "vol        0\n",
      "X1         0\n",
      "X3         0\n",
      "X4         0\n",
      "X6         0\n",
      "X7         0\n",
      "X1_norm    0\n",
      "X3_norm    0\n",
      "X4_norm    0\n",
      "X6_norm    0\n",
      "X7_norm    0\n",
      "log_vol    0\n",
      "dtype: int64\n"
     ]
    }
   ],
   "source": [
    "print(np.sum(np.isnan(data), axis=0))"
   ]
  },
  {
   "cell_type": "code",
   "execution_count": null,
   "metadata": {},
   "outputs": [],
   "source": []
  }
 ],
 "metadata": {
  "kernelspec": {
   "display_name": "Python 3",
   "language": "python",
   "name": "python3"
  },
  "language_info": {
   "codemirror_mode": {
    "name": "ipython",
    "version": 3
   },
   "file_extension": ".py",
   "mimetype": "text/x-python",
   "name": "python",
   "nbconvert_exporter": "python",
   "pygments_lexer": "ipython3",
   "version": "3.7.3"
  },
  "latex_envs": {
   "LaTeX_envs_menu_present": true,
   "autoclose": true,
   "autocomplete": true,
   "bibliofile": "biblio.bib",
   "cite_by": "apalike",
   "current_citInitial": 1,
   "eqLabelWithNumbers": false,
   "eqNumInitial": 1,
   "hotkeys": {
    "equation": "Ctrl-E",
    "itemize": "Ctrl-I"
   },
   "labels_anchors": false,
   "latex_user_defs": false,
   "report_style_numbering": false,
   "user_envs_cfg": false
  },
  "toc": {
   "base_numbering": 1,
   "nav_menu": {},
   "number_sections": true,
   "sideBar": true,
   "skip_h1_title": false,
   "title_cell": "Table of Contents",
   "title_sidebar": "Contents",
   "toc_cell": false,
   "toc_position": {},
   "toc_section_display": true,
   "toc_window_display": false
  },
  "varInspector": {
   "cols": {
    "lenName": 16,
    "lenType": 16,
    "lenVar": 40
   },
   "kernels_config": {
    "python": {
     "delete_cmd_postfix": "",
     "delete_cmd_prefix": "del ",
     "library": "var_list.py",
     "varRefreshCmd": "print(var_dic_list())"
    },
    "r": {
     "delete_cmd_postfix": ") ",
     "delete_cmd_prefix": "rm(",
     "library": "var_list.r",
     "varRefreshCmd": "cat(var_dic_list()) "
    }
   },
   "types_to_exclude": [
    "module",
    "function",
    "builtin_function_or_method",
    "instance",
    "_Feature"
   ],
   "window_display": false
  }
 },
 "nbformat": 4,
 "nbformat_minor": 2
}
