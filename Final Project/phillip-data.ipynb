{
 "cells": [
  {
   "cell_type": "code",
   "execution_count": 31,
   "metadata": {
    "ExecuteTime": {
     "end_time": "2019-05-12T23:57:02.451963Z",
     "start_time": "2019-05-12T23:57:02.449587Z"
    }
   },
   "outputs": [],
   "source": [
    "import numpy as np\n",
    "import pandas as pd\n",
    "import matplotlib.pyplot as plt"
   ]
  },
  {
   "cell_type": "code",
   "execution_count": 32,
   "metadata": {
    "ExecuteTime": {
     "end_time": "2019-05-12T23:57:03.592236Z",
     "start_time": "2019-05-12T23:57:03.093610Z"
    }
   },
   "outputs": [
    {
     "data": {
      "text/html": [
       "<div>\n",
       "<style scoped>\n",
       "    .dataframe tbody tr th:only-of-type {\n",
       "        vertical-align: middle;\n",
       "    }\n",
       "\n",
       "    .dataframe tbody tr th {\n",
       "        vertical-align: top;\n",
       "    }\n",
       "\n",
       "    .dataframe thead th {\n",
       "        text-align: right;\n",
       "    }\n",
       "</style>\n",
       "<table border=\"1\" class=\"dataframe\">\n",
       "  <thead>\n",
       "    <tr style=\"text-align: right;\">\n",
       "      <th></th>\n",
       "      <th>Date</th>\n",
       "      <th>sec_id</th>\n",
       "      <th>fut_ret</th>\n",
       "      <th>vol</th>\n",
       "      <th>X1</th>\n",
       "      <th>X3</th>\n",
       "      <th>X4</th>\n",
       "      <th>X6</th>\n",
       "      <th>X7</th>\n",
       "    </tr>\n",
       "  </thead>\n",
       "  <tbody>\n",
       "    <tr>\n",
       "      <th>0</th>\n",
       "      <td>0.0</td>\n",
       "      <td>0.000000</td>\n",
       "      <td>0.037521</td>\n",
       "      <td>0.269877</td>\n",
       "      <td>1.876823</td>\n",
       "      <td>0.000000</td>\n",
       "      <td>0.0</td>\n",
       "      <td>0.0</td>\n",
       "      <td>0.000000</td>\n",
       "    </tr>\n",
       "    <tr>\n",
       "      <th>1</th>\n",
       "      <td>0.0</td>\n",
       "      <td>0.000502</td>\n",
       "      <td>0.005565</td>\n",
       "      <td>0.879423</td>\n",
       "      <td>-0.670540</td>\n",
       "      <td>0.000000</td>\n",
       "      <td>0.0</td>\n",
       "      <td>0.0</td>\n",
       "      <td>0.000000</td>\n",
       "    </tr>\n",
       "    <tr>\n",
       "      <th>2</th>\n",
       "      <td>0.0</td>\n",
       "      <td>0.001005</td>\n",
       "      <td>-0.008732</td>\n",
       "      <td>0.331473</td>\n",
       "      <td>0.940755</td>\n",
       "      <td>0.923608</td>\n",
       "      <td>0.0</td>\n",
       "      <td>0.0</td>\n",
       "      <td>-0.379818</td>\n",
       "    </tr>\n",
       "    <tr>\n",
       "      <th>3</th>\n",
       "      <td>0.0</td>\n",
       "      <td>0.001507</td>\n",
       "      <td>0.000695</td>\n",
       "      <td>-0.598987</td>\n",
       "      <td>-0.114191</td>\n",
       "      <td>0.000000</td>\n",
       "      <td>0.0</td>\n",
       "      <td>0.0</td>\n",
       "      <td>0.000000</td>\n",
       "    </tr>\n",
       "    <tr>\n",
       "      <th>4</th>\n",
       "      <td>0.0</td>\n",
       "      <td>0.002009</td>\n",
       "      <td>-0.002755</td>\n",
       "      <td>-0.057603</td>\n",
       "      <td>-0.101973</td>\n",
       "      <td>0.000000</td>\n",
       "      <td>0.0</td>\n",
       "      <td>0.0</td>\n",
       "      <td>0.000000</td>\n",
       "    </tr>\n",
       "  </tbody>\n",
       "</table>\n",
       "</div>"
      ],
      "text/plain": [
       "   Date    sec_id   fut_ret       vol        X1        X3   X4   X6        X7\n",
       "0   0.0  0.000000  0.037521  0.269877  1.876823  0.000000  0.0  0.0  0.000000\n",
       "1   0.0  0.000502  0.005565  0.879423 -0.670540  0.000000  0.0  0.0  0.000000\n",
       "2   0.0  0.001005 -0.008732  0.331473  0.940755  0.923608  0.0  0.0 -0.379818\n",
       "3   0.0  0.001507  0.000695 -0.598987 -0.114191  0.000000  0.0  0.0  0.000000\n",
       "4   0.0  0.002009 -0.002755 -0.057603 -0.101973  0.000000  0.0  0.0  0.000000"
      ]
     },
     "execution_count": 32,
     "metadata": {},
     "output_type": "execute_result"
    }
   ],
   "source": [
    "data = pd.read_csv('trimmed_data.csv', index_col=0)\n",
    "data.head()"
   ]
  },
  {
   "cell_type": "code",
   "execution_count": 33,
   "metadata": {
    "ExecuteTime": {
     "end_time": "2019-05-12T23:57:04.373835Z",
     "start_time": "2019-05-12T23:57:04.318490Z"
    }
   },
   "outputs": [],
   "source": [
    "sec_id_lst = list(set(data['sec_id']))\n",
    "sec_id_lst.sort()"
   ]
  },
  {
   "cell_type": "code",
   "execution_count": 34,
   "metadata": {
    "ExecuteTime": {
     "end_time": "2019-05-12T23:57:05.043137Z",
     "start_time": "2019-05-12T23:57:05.039189Z"
    }
   },
   "outputs": [],
   "source": [
    "mean_lst, std_lst = [], []"
   ]
  },
  {
   "cell_type": "code",
   "execution_count": 35,
   "metadata": {
    "ExecuteTime": {
     "end_time": "2019-05-12T23:57:34.798615Z",
     "start_time": "2019-05-12T23:57:05.594652Z"
    }
   },
   "outputs": [
    {
     "name": "stderr",
     "output_type": "stream",
     "text": [
      "/home/zecophy/Documents/anaconda3/lib/python3.7/site-packages/ipykernel_launcher.py:7: SettingWithCopyWarning: \n",
      "A value is trying to be set on a copy of a slice from a DataFrame\n",
      "\n",
      "See the caveats in the documentation: http://pandas.pydata.org/pandas-docs/stable/indexing.html#indexing-view-versus-copy\n",
      "  import sys\n",
      "/home/zecophy/Documents/anaconda3/lib/python3.7/site-packages/ipykernel_launcher.py:8: SettingWithCopyWarning: \n",
      "A value is trying to be set on a copy of a slice from a DataFrame\n",
      "\n",
      "See the caveats in the documentation: http://pandas.pydata.org/pandas-docs/stable/indexing.html#indexing-view-versus-copy\n",
      "  \n",
      "/home/zecophy/Documents/anaconda3/lib/python3.7/site-packages/ipykernel_launcher.py:9: SettingWithCopyWarning: \n",
      "A value is trying to be set on a copy of a slice from a DataFrame\n",
      "\n",
      "See the caveats in the documentation: http://pandas.pydata.org/pandas-docs/stable/indexing.html#indexing-view-versus-copy\n",
      "  if __name__ == '__main__':\n"
     ]
    }
   ],
   "source": [
    "data['mean']=0\n",
    "data['std']=0\n",
    "for sec_id in sec_id_lst:\n",
    "    ret_this_id = data['fut_ret'][data['sec_id']==sec_id]\n",
    "    mean_lst.append(ret_this_id.mean(skipna=True))\n",
    "    std_lst.append(ret_this_id.std(skipna=True))\n",
    "    data['fut_ret'][data['sec_id']==sec_id] = (ret_this_id-mean_lst[-1])/std_lst[-1]\n",
    "    data['mean'][data['sec_id']==sec_id] = mean_lst[-1]\n",
    "    data['std'][data['sec_id']==sec_id] = std_lst[-1]"
   ]
  },
  {
   "cell_type": "code",
   "execution_count": 39,
   "metadata": {
    "ExecuteTime": {
     "end_time": "2019-05-12T23:59:03.735840Z",
     "start_time": "2019-05-12T23:59:03.634421Z"
    }
   },
   "outputs": [],
   "source": [
    "data=data.dropna()"
   ]
  },
  {
   "cell_type": "code",
   "execution_count": 40,
   "metadata": {
    "ExecuteTime": {
     "end_time": "2019-05-12T23:59:07.527801Z",
     "start_time": "2019-05-12T23:59:07.521697Z"
    }
   },
   "outputs": [],
   "source": [
    "mean_std_df = pd.DataFrame(np.array([mean_lst, std_lst]).T, index=sec_id_lst, columns=['mean', 'std'])"
   ]
  },
  {
   "cell_type": "code",
   "execution_count": 41,
   "metadata": {
    "ExecuteTime": {
     "end_time": "2019-05-12T23:59:08.103912Z",
     "start_time": "2019-05-12T23:59:08.077377Z"
    }
   },
   "outputs": [],
   "source": [
    "mean_std_df.to_csv('phillip_mean_std_dataframe.csv')"
   ]
  },
  {
   "cell_type": "code",
   "execution_count": 42,
   "metadata": {
    "ExecuteTime": {
     "end_time": "2019-05-12T23:59:29.263889Z",
     "start_time": "2019-05-12T23:59:24.818282Z"
    }
   },
   "outputs": [],
   "source": [
    "data.to_csv('new_data.csv')"
   ]
  },
  {
   "cell_type": "code",
   "execution_count": null,
   "metadata": {},
   "outputs": [],
   "source": []
  }
 ],
 "metadata": {
  "kernelspec": {
   "display_name": "Python 3",
   "language": "python",
   "name": "python3"
  },
  "language_info": {
   "codemirror_mode": {
    "name": "ipython",
    "version": 3
   },
   "file_extension": ".py",
   "mimetype": "text/x-python",
   "name": "python",
   "nbconvert_exporter": "python",
   "pygments_lexer": "ipython3",
   "version": "3.7.3"
  },
  "latex_envs": {
   "LaTeX_envs_menu_present": true,
   "autoclose": true,
   "autocomplete": true,
   "bibliofile": "biblio.bib",
   "cite_by": "apalike",
   "current_citInitial": 1,
   "eqLabelWithNumbers": false,
   "eqNumInitial": 1,
   "hotkeys": {
    "equation": "Ctrl-E",
    "itemize": "Ctrl-I"
   },
   "labels_anchors": false,
   "latex_user_defs": false,
   "report_style_numbering": false,
   "user_envs_cfg": false
  },
  "toc": {
   "base_numbering": 1,
   "nav_menu": {},
   "number_sections": true,
   "sideBar": true,
   "skip_h1_title": false,
   "title_cell": "Table of Contents",
   "title_sidebar": "Contents",
   "toc_cell": false,
   "toc_position": {},
   "toc_section_display": true,
   "toc_window_display": false
  },
  "varInspector": {
   "cols": {
    "lenName": 16,
    "lenType": 16,
    "lenVar": 40
   },
   "kernels_config": {
    "python": {
     "delete_cmd_postfix": "",
     "delete_cmd_prefix": "del ",
     "library": "var_list.py",
     "varRefreshCmd": "print(var_dic_list())"
    },
    "r": {
     "delete_cmd_postfix": ") ",
     "delete_cmd_prefix": "rm(",
     "library": "var_list.r",
     "varRefreshCmd": "cat(var_dic_list()) "
    }
   },
   "types_to_exclude": [
    "module",
    "function",
    "builtin_function_or_method",
    "instance",
    "_Feature"
   ],
   "window_display": false
  }
 },
 "nbformat": 4,
 "nbformat_minor": 2
}
