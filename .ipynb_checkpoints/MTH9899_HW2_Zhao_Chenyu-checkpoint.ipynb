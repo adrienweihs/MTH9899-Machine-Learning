{
 "cells": [
  {
   "cell_type": "code",
   "execution_count": 1,
   "metadata": {
    "ExecuteTime": {
     "end_time": "2019-05-02T14:11:52.000961Z",
     "start_time": "2019-05-02T14:11:49.994608Z"
    }
   },
   "outputs": [],
   "source": [
    "import numpy as np\n",
    "import math\n",
    "import matplotlib.pyplot as plt\n",
    "from sklearn.metrics import r2_score"
   ]
  },
  {
   "cell_type": "code",
   "execution_count": 2,
   "metadata": {
    "ExecuteTime": {
     "end_time": "2019-05-02T14:11:52.011202Z",
     "start_time": "2019-05-02T14:11:52.004454Z"
    }
   },
   "outputs": [],
   "source": [
    "# I modified this function by adding larger noise at the final step\n",
    "def generate_test_data(N):\n",
    "    x = np.random.randn(N, 5)\n",
    "    y = np.where(x[:, 0] > 0, 2, 5)\n",
    "    y = y + np.where(x[:, 1] > 0, -3, 3)\n",
    "    y = y + np.where(x[:, 2] > 0, 0, 0.5)\n",
    "    \n",
    "    # larger noise\n",
    "    y = y + 10*np.random.randn(N)\n",
    "    return x, y"
   ]
  },
  {
   "cell_type": "code",
   "execution_count": 3,
   "metadata": {
    "ExecuteTime": {
     "end_time": "2019-05-02T14:11:52.037338Z",
     "start_time": "2019-05-02T14:11:52.014081Z"
    }
   },
   "outputs": [],
   "source": [
    "class TreeNode:\n",
    "    def predict(x, y):\n",
    "        assert False\n",
    "\n",
    "    def depth(self):\n",
    "        assert False\n",
    "\n",
    "\n",
    "class BranchNode(TreeNode):\n",
    "    def __init__(self, left, right, split_var_index, split_var_value):\n",
    "        self.left = left\n",
    "        self.right = right\n",
    "        self.split_var_index = split_var_index\n",
    "        self.split_var_value = split_var_value\n",
    "\n",
    "    def predict(self, x):\n",
    "        svar = x[:, self.split_var_index]\n",
    "        is_left = svar < self.split_var_value\n",
    "        leftx = x[is_left]\n",
    "        rightx = x[~is_left]\n",
    "\n",
    "        rv = np.zeros(x.shape[0])\n",
    "        rv[is_left] = self.left.predict(leftx)\n",
    "        rv[~is_left] = self.right.predict(rightx)\n",
    "\n",
    "        return rv\n",
    "\n",
    "    def depth(self):\n",
    "        return 1 + max(self.left.depth(), self.right.depth())\n",
    "\n",
    "\n",
    "class LeafNode(TreeNode):\n",
    "    def __init__(self, mu):\n",
    "        self.mu = mu\n",
    "\n",
    "    def predict(self, x):\n",
    "        return np.repeat(self.mu, x.shape[0])\n",
    "\n",
    "    def depth(self):\n",
    "        return 1\n",
    "\n",
    "\n",
    "class RegressionTree:\n",
    "    def __init__(self, max_depth, min_points_in_leaf, feature_portion=1):\n",
    "        self.max_depth = max_depth\n",
    "        self.min_points_in_leaf = min_points_in_leaf\n",
    "        self.feature_portion=feature_portion\n",
    "\n",
    "    def predict(self, x):\n",
    "        assert self.fitted\n",
    "        return self.root.predict(x)\n",
    "\n",
    "    def fit(self, x, y):\n",
    "        self.fitted = True\n",
    "        self.root = self.fit_internal(x, y, 1)\n",
    "\n",
    "    def fit_internal(self, x, y, current_depth):\n",
    "        # implement this\n",
    "        num_features = x.shape[1]\n",
    "        num_rows = x.shape[0]\n",
    "        var_orig = np.var(y)\n",
    "\n",
    "        if current_depth == self.max_depth:\n",
    "            return LeafNode(np.mean(y))\n",
    "\n",
    "        best_variable = None\n",
    "        best_split_point = None\n",
    "        vr_gain = 0\n",
    "\n",
    "        # Here, we have to loop over all features and figure out which one\n",
    "        # might be splittable, and if it is, how to split it to maximize Variance Reduction\n",
    "        \n",
    "        # randomly choose features as potential split feature\n",
    "        feature_chosen=np.random.choice(num_features,math.ceil(num_features*self.feature_portion),False)\n",
    "        for i in feature_chosen:\n",
    "            # a lot of code goes here\n",
    "            # pass\n",
    "            svar = x[:, i]\n",
    "            max_val = max(svar)\n",
    "            min_val = min(svar)\n",
    "            for j in range(4):\n",
    "                # divide into 5 equal bins\n",
    "                split_point = (max_val-min_val)/5*(j+1)+min_val\n",
    "                is_left = svar < split_point\n",
    "                leftx = x[is_left]\n",
    "                rightx = x[~is_left]\n",
    "                lefty = y[is_left]\n",
    "                righty = y[~is_left]\n",
    "                \n",
    "                # if number of points in leaf is too small\n",
    "                if len(lefty) < self.min_points_in_leaf or len(righty) < self.min_points_in_leaf:\n",
    "                    continue\n",
    "                \n",
    "                # calculate VR gain\n",
    "                vr_now = var_orig-np.var(lefty)*len(lefty)/(len(lefty)+len(righty)) \\\n",
    "                    - np.var(righty)*len(righty)/(len(lefty)+len(righty))\n",
    "                \n",
    "                # if bigger than recorded maximum VR gain, update\n",
    "                if vr_now > vr_gain:\n",
    "                    vr_gain = vr_now\n",
    "                    best_variable = i\n",
    "                    best_split_point = split_point\n",
    "\n",
    "        # it is a leaf note\n",
    "        if best_variable is None:\n",
    "            return LeafNode(np.mean(y))\n",
    "        \n",
    "        # it is not a leaf note\n",
    "        else:\n",
    "            # return BranchNode(....) FILL THIS IN\n",
    "            # pass\n",
    "            svar = x[:, best_variable]\n",
    "            is_left = svar < best_split_point\n",
    "            leftx = x[is_left]\n",
    "            rightx = x[~is_left]\n",
    "            lefty = y[is_left]\n",
    "            righty = y[~is_left]\n",
    "            # recursively build the tree\n",
    "            return BranchNode(self.fit_internal(leftx, lefty, current_depth+1),\n",
    "                              self.fit_internal(\n",
    "                                  rightx, righty, current_depth+1),\n",
    "                              best_variable,\n",
    "                              best_split_point)\n",
    "\n",
    "    def depth(self):\n",
    "        return self.root.depth()"
   ]
  },
  {
   "cell_type": "code",
   "execution_count": 4,
   "metadata": {
    "ExecuteTime": {
     "end_time": "2019-05-02T14:11:52.085947Z",
     "start_time": "2019-05-02T14:11:52.039590Z"
    }
   },
   "outputs": [],
   "source": [
    "# NOTE: I modified generate_test_data by adding larger noise in final step\n",
    "# see second code block where this function is defined for more detail\n",
    "x_train,y_train=generate_test_data(50000)\n",
    "x_test,y_test=generate_test_data(50000)"
   ]
  },
  {
   "cell_type": "markdown",
   "metadata": {},
   "source": [
    "## i)\n",
    "\n",
    "Let minimum points number in leaf be 100. We build regression tree model with different max depth and see how it influence in-sample and out-of-sample R square."
   ]
  },
  {
   "cell_type": "code",
   "execution_count": 5,
   "metadata": {
    "ExecuteTime": {
     "end_time": "2019-05-02T14:12:07.793682Z",
     "start_time": "2019-05-02T14:11:52.088564Z"
    }
   },
   "outputs": [],
   "source": [
    "depths=range(1,20)\n",
    "in_sample_r2=[]\n",
    "\n",
    "for depth in depths:\n",
    "    model=RegressionTree(depth,100)\n",
    "    model.fit(x_train,y_train)\n",
    "    in_sample_r2.append(r2_score(y_train,model.predict(x_train)))"
   ]
  },
  {
   "cell_type": "code",
   "execution_count": 6,
   "metadata": {
    "ExecuteTime": {
     "end_time": "2019-05-02T14:12:23.656802Z",
     "start_time": "2019-05-02T14:12:07.794828Z"
    }
   },
   "outputs": [],
   "source": [
    "out_of_sample_r2=[]\n",
    "\n",
    "for depth in depths:\n",
    "    model=RegressionTree(depth,100)\n",
    "    model.fit(x_train,y_train)\n",
    "    out_of_sample_r2.append(r2_score(y_test,model.predict(x_test)))"
   ]
  },
  {
   "cell_type": "code",
   "execution_count": 7,
   "metadata": {
    "ExecuteTime": {
     "end_time": "2019-05-02T14:12:23.895280Z",
     "start_time": "2019-05-02T14:12:23.658663Z"
    }
   },
   "outputs": [
    {
     "data": {
      "image/png": "[encoded data removed]",
      "text/plain": [
       "<Figure size 1008x504 with 1 Axes>"
      ]
     },
     "metadata": {
      "needs_background": "light"
     },
     "output_type": "display_data"
    }
   ],
   "source": [
    "plt.figure(figsize=(14,7))\n",
    "plt.plot(depths,in_sample_r2,\"bo--\",label=\"in-sample r2\")\n",
    "plt.plot(depths,out_of_sample_r2,\"ro--\",label=\"out-of-sample r2\")\n",
    "plt.xlabel(\"depth\")\n",
    "plt.ylabel(\"R2\")\n",
    "plt.legend()\n",
    "plt.show()"
   ]
  },
  {
   "cell_type": "markdown",
   "metadata": {},
   "source": [
    "When increase max-depth, we grid X-pace into more sub-area hence we can fit train data better. So when we increase max-depth, the in-sample R2 always increase. But this will cause over-fitting problem, when max-depth is bigger than some optimal value, the out-of-sample R2 will decrease. This is a typical over-fitting phenomenon. \n",
    "\n",
    "In test sense, the best max-depth is 7."
   ]
  },
  {
   "cell_type": "markdown",
   "metadata": {},
   "source": [
    "## ii)"
   ]
  },
  {
   "cell_type": "code",
   "execution_count": 8,
   "metadata": {
    "ExecuteTime": {
     "end_time": "2019-05-02T14:12:23.906068Z",
     "start_time": "2019-05-02T14:12:23.897713Z"
    }
   },
   "outputs": [],
   "source": [
    "class RandomForest:\n",
    "    def __init__(self, max_tree_num, max_depth, min_points_in_leaf, feature_portion):\n",
    "        self.max_tree_num = max_tree_num\n",
    "        self.max_depth = max_depth\n",
    "        self.min_points_in_leaf = min_points_in_leaf\n",
    "        self.feature_portion = feature_portion\n",
    "\n",
    "    def Bootstrap(self, x, y):\n",
    "        length = len(y)\n",
    "        # sample with replacement\n",
    "        choice = np.random.choice(length, length)\n",
    "        return x[choice], y[choice]\n",
    "\n",
    "    def fit(self, x, y):\n",
    "        self.fitted = True\n",
    "        trees = []\n",
    "        # build max_tree_num regression trees and fit\n",
    "        for i in range(self.max_tree_num):\n",
    "            x_, y_ = self.Bootstrap(x, y)\n",
    "            tree = RegressionTree(\n",
    "                self.max_depth, self.min_points_in_leaf, self.feature_portion)\n",
    "            tree.fit(x_, y_)\n",
    "            trees.append(tree)\n",
    "        self.trees = np.array(trees)\n",
    "\n",
    "    def predict(self, x, tree_num):\n",
    "        assert self.fitted\n",
    "        if tree_num > self.max_tree_num:\n",
    "            assert False\n",
    "        \n",
    "        # random choose tree_num trees in fitted trees with replacement\n",
    "        trees_idx = np.random.choice(self.max_tree_num, tree_num)\n",
    "        trees = self.trees[trees_idx]\n",
    "        \n",
    "        # all prediction from chosed trees\n",
    "        predicts = []\n",
    "        for tree in trees:\n",
    "            predicts.append(tree.predict(x))\n",
    "\n",
    "        # return average prediction as forest's prediction\n",
    "        return np.mean(predicts, axis=0), predicts"
   ]
  },
  {
   "cell_type": "code",
   "execution_count": 9,
   "metadata": {
    "ExecuteTime": {
     "end_time": "2019-05-02T14:12:45.877121Z",
     "start_time": "2019-05-02T14:12:23.908817Z"
    }
   },
   "outputs": [],
   "source": [
    "# create a forest with 100 trees. max_depth = 7 from previous result\n",
    "# min_leaf_node = 100 and feature_portion = 1/3\n",
    "model = RandomForest(100, 7, 100, 1/3)\n",
    "\n",
    "# fit data\n",
    "model.fit(x_train, y_train)"
   ]
  },
  {
   "cell_type": "markdown",
   "metadata": {},
   "source": [
    "For each T, generate 10 forests and calculate their median and average R2."
   ]
  },
  {
   "cell_type": "code",
   "execution_count": 10,
   "metadata": {
    "ExecuteTime": {
     "end_time": "2019-05-02T14:19:27.967280Z",
     "start_time": "2019-05-02T14:12:45.878497Z"
    }
   },
   "outputs": [],
   "source": [
    "Ts = [1, 2, 5, 10, 20, 30, 50, 75, 100]\n",
    "\n",
    "averageR2 = []\n",
    "medianR2 = []\n",
    "correlations = []\n",
    "for T in Ts:\n",
    "    R2 = []\n",
    "    # record all trees prediction to calculate pairwise correlation\n",
    "    all_predicts = None\n",
    "    # generate 10 forests\n",
    "    for i in range(10):\n",
    "        y_predict,tree_predicts = model.predict(x_test, T)\n",
    "        R2.append(r2_score(y_test, y_predict))\n",
    "        \n",
    "        # record all predictions from each tree\n",
    "        if all_predicts == None:\n",
    "            all_predicts = tree_predicts\n",
    "        else:\n",
    "            all_predicts = all_predicts+tree_predicts\n",
    "\n",
    "    averageR2.append(np.mean(R2))\n",
    "    medianR2.append(np.median(R2))\n",
    "    \n",
    "    # calculate pairwise correlations\n",
    "    # warning: very time consuming\n",
    "    all_correlations = []\n",
    "    for i in range(len(all_predicts)-1):\n",
    "        for j in range(i+1, len(all_predicts)):\n",
    "            all_correlations.append(np.corrcoef(\n",
    "                all_predicts[i], all_predicts[j])[1][0])\n",
    "    correlations.append(np.mean(all_correlations))\n"
   ]
  },
  {
   "cell_type": "code",
   "execution_count": 11,
   "metadata": {
    "ExecuteTime": {
     "end_time": "2019-05-02T14:19:28.151931Z",
     "start_time": "2019-05-02T14:19:27.968645Z"
    }
   },
   "outputs": [
    {
     "data": {
      "image/png": "[encoded data removed]",
      "text/plain": [
       "<Figure size 1008x504 with 1 Axes>"
      ]
     },
     "metadata": {
      "needs_background": "light"
     },
     "output_type": "display_data"
    }
   ],
   "source": [
    "plt.figure(figsize=(14,7))\n",
    "plt.plot(Ts,averageR2,\"bo--\",label=\"average r2\")\n",
    "plt.plot(Ts,medianR2,\"ro--\",label=\"median r2\")\n",
    "plt.xlabel(\"T\")\n",
    "plt.ylabel(\"R2\")\n",
    "plt.legend()\n",
    "plt.show()"
   ]
  },
  {
   "cell_type": "code",
   "execution_count": 12,
   "metadata": {
    "ExecuteTime": {
     "end_time": "2019-05-02T14:19:28.305519Z",
     "start_time": "2019-05-02T14:19:28.153308Z"
    }
   },
   "outputs": [
    {
     "data": {
      "image/png": "[encoded data removed]",
      "text/plain": [
       "<Figure size 1008x504 with 1 Axes>"
      ]
     },
     "metadata": {
      "needs_background": "light"
     },
     "output_type": "display_data"
    }
   ],
   "source": [
    "plt.figure(figsize=(14,7))\n",
    "plt.plot(Ts,correlations,\"bo--\",label=\"pairwise correlation\")\n",
    "plt.xlabel(\"T\")\n",
    "plt.ylabel(\"correlation\")\n",
    "plt.legend()\n",
    "plt.show()"
   ]
  },
  {
   "cell_type": "markdown",
   "metadata": {},
   "source": [
    "## iii)"
   ]
  },
  {
   "cell_type": "code",
   "execution_count": 13,
   "metadata": {
    "ExecuteTime": {
     "end_time": "2019-05-02T14:20:18.418974Z",
     "start_time": "2019-05-02T14:19:28.306729Z"
    }
   },
   "outputs": [],
   "source": [
    "# create a forest with 100 trees. max_depth = 7 from previous result\n",
    "# min_leaf_node = 100 and feature_portion = 1\n",
    "model = RandomForest(100, 7, 100, 1)\n",
    "\n",
    "# fit data\n",
    "model.fit(x_train, y_train)"
   ]
  },
  {
   "cell_type": "code",
   "execution_count": 14,
   "metadata": {
    "ExecuteTime": {
     "end_time": "2019-05-02T14:26:42.170243Z",
     "start_time": "2019-05-02T14:20:18.420095Z"
    }
   },
   "outputs": [],
   "source": [
    "Ts = [1, 2, 5, 10, 20, 30, 50, 75, 100]\n",
    "\n",
    "averageR2 = []\n",
    "medianR2 = []\n",
    "correlations = []\n",
    "for T in Ts:\n",
    "    R2 = []\n",
    "    # record all trees prediction to calculate pairwise correlation\n",
    "    all_predicts = None\n",
    "    # generate 10 forests\n",
    "    for i in range(10):\n",
    "        y_predict,tree_predicts = model.predict(x_test, T)\n",
    "        R2.append(r2_score(y_test, y_predict))\n",
    "        \n",
    "        # record all predictions from each tree\n",
    "        if all_predicts == None:\n",
    "            all_predicts = tree_predicts\n",
    "        else:\n",
    "            all_predicts = all_predicts+tree_predicts\n",
    "\n",
    "    averageR2.append(np.mean(R2))\n",
    "    medianR2.append(np.median(R2))\n",
    "    \n",
    "    # calculate pairwise correlations\n",
    "    # warning: very time consuming\n",
    "    all_correlations = []\n",
    "    for i in range(len(all_predicts)-1):\n",
    "        for j in range(i+1, len(all_predicts)):\n",
    "            all_correlations.append(np.corrcoef(\n",
    "                all_predicts[i], all_predicts[j])[1][0])\n",
    "    correlations.append(np.mean(all_correlations))\n"
   ]
  },
  {
   "cell_type": "code",
   "execution_count": 15,
   "metadata": {
    "ExecuteTime": {
     "end_time": "2019-05-02T14:26:42.429885Z",
     "start_time": "2019-05-02T14:26:42.172947Z"
    }
   },
   "outputs": [
    {
     "data": {
      "image/png": "[encoded data removed]",
      "text/plain": [
       "<Figure size 1008x504 with 1 Axes>"
      ]
     },
     "metadata": {
      "needs_background": "light"
     },
     "output_type": "display_data"
    }
   ],
   "source": [
    "plt.figure(figsize=(14,7))\n",
    "plt.plot(Ts,averageR2,\"bo--\",label=\"average r2\")\n",
    "plt.plot(Ts,medianR2,\"ro--\",label=\"median r2\")\n",
    "plt.xlabel(\"T\")\n",
    "plt.ylabel(\"R2\")\n",
    "plt.legend()\n",
    "plt.show()"
   ]
  },
  {
   "cell_type": "code",
   "execution_count": 16,
   "metadata": {
    "ExecuteTime": {
     "end_time": "2019-05-02T14:26:42.662699Z",
     "start_time": "2019-05-02T14:26:42.432290Z"
    }
   },
   "outputs": [
    {
     "data": {
      "image/png": "[encoded data removed]",
      "text/plain": [
       "<Figure size 1008x504 with 1 Axes>"
      ]
     },
     "metadata": {
      "needs_background": "light"
     },
     "output_type": "display_data"
    }
   ],
   "source": [
    "plt.figure(figsize=(14,7))\n",
    "plt.plot(Ts,correlations,\"bo--\",label=\"pairwise correlation\")\n",
    "plt.xlabel(\"T\")\n",
    "plt.ylabel(\"correlation\")\n",
    "plt.legend()\n",
    "plt.show()"
   ]
  },
  {
   "cell_type": "markdown",
   "metadata": {},
   "source": [
    "It is higher than the correlation when set portion of feature to $\\frac 1 3$, which is consistent with what we expected. "
   ]
  },
  {
   "cell_type": "code",
   "execution_count": 18,
   "metadata": {
    "ExecuteTime": {
     "end_time": "2019-05-02T14:31:24.659284Z",
     "start_time": "2019-05-02T14:31:24.035216Z"
    }
   },
   "outputs": [
    {
     "name": "stdout",
     "output_type": "stream",
     "text": [
      "alabaster==0.7.12\n",
      "anaconda-client==1.7.2\n",
      "anaconda-navigator==1.9.7\n",
      "anaconda-project==0.8.2\n",
      "appdirs==1.4.3\n",
      "asn1crypto==0.24.0\n",
      "asteval==0.9.13\n",
      "astroid==2.2.5\n",
      "astropy==3.1.2\n",
      "atomicwrites==1.3.0\n",
      "attrs==19.1.0\n",
      "Automat==0.7.0\n",
      "autopep8==1.4.3\n",
      "Babel==2.6.0\n",
      "backcall==0.1.0\n",
      "backports.os==0.1.1\n",
      "backports.shutil-get-terminal-size==1.0.0\n",
      "beautifulsoup4==4.7.1\n",
      "bitarray==0.8.3\n",
      "bkcharts==0.2\n",
      "blaze==0.11.3\n",
      "bleach==3.1.0\n",
      "bokeh==1.0.4\n",
      "boto==2.49.0\n",
      "Bottleneck==1.2.1\n",
      "certifi==2019.3.9\n",
      "cffi==1.12.2\n",
      "chardet==3.0.4\n",
      "Click==7.0\n",
      "cloudpickle==0.8.0\n",
      "clyent==1.2.2\n",
      "colorama==0.4.1\n",
      "conda==4.6.11\n",
      "conda-build==3.17.8\n",
      "constantly==15.1.0\n",
      "contextlib2==0.5.5\n",
      "cryptography==2.6.1\n",
      "cycler==0.10.0\n",
      "Cython==0.29.6\n",
      "cytoolz==0.9.0.1\n",
      "dask==1.1.4\n",
      "datashape==0.5.4\n",
      "decorator==4.4.0\n",
      "defusedxml==0.5.0\n",
      "distributed==1.26.0\n",
      "docutils==0.14\n",
      "entrypoints==0.3\n",
      "et-xmlfile==1.0.1\n",
      "fastcache==1.0.2\n",
      "filelock==3.0.10\n",
      "Flask==1.0.2\n",
      "Flask-Cors==3.0.7\n",
      "gevent==1.4.0\n",
      "glob2==0.6\n",
      "gmpy2==2.0.8\n",
      "greenlet==0.4.15\n",
      "h5py==2.9.0\n",
      "heapdict==1.0.0\n",
      "html5lib==1.0.1\n",
      "hyperlink==18.0.0\n",
      "idna==2.8\n",
      "imageio==2.5.0\n",
      "imagesize==1.1.0\n",
      "importlib-metadata==0.0.0\n",
      "incremental==17.5.0\n",
      "ipykernel==5.1.0\n",
      "ipython==7.4.0\n",
      "ipython-genutils==0.2.0\n",
      "ipywidgets==7.4.2\n",
      "isort==4.3.16\n",
      "itsdangerous==1.1.0\n",
      "jdcal==1.4\n",
      "jedi==0.13.3\n",
      "jeepney==0.4\n",
      "Jinja2==2.10\n",
      "jsonschema==3.0.1\n",
      "jupyter==1.0.0\n",
      "jupyter-client==5.2.4\n",
      "jupyter-console==6.0.0\n",
      "jupyter-contrib-core==0.3.3\n",
      "jupyter-contrib-nbextensions==0.5.1\n",
      "jupyter-core==4.4.0\n",
      "jupyter-highlight-selected-word==0.2.0\n",
      "jupyter-latex-envs==1.4.6\n",
      "jupyter-nbextensions-configurator==0.4.1\n",
      "jupyterlab==0.35.4\n",
      "jupyterlab-launcher==0.13.1\n",
      "jupyterlab-server==0.2.0\n",
      "keyring==18.0.0\n",
      "kiwisolver==1.0.1\n",
      "lazy-object-proxy==1.3.1\n",
      "libarchive-c==2.8\n",
      "lief==0.9.0\n",
      "llvmlite==0.28.0\n",
      "lmfit==0.9.12\n",
      "locket==0.2.0\n",
      "lxml==4.3.2\n",
      "MarkupSafe==1.1.1\n",
      "matplotlib==3.0.3\n",
      "mccabe==0.6.1\n",
      "mistune==0.8.4\n",
      "mkl-fft==1.0.10\n",
      "mkl-random==1.0.2\n",
      "more-itertools==6.0.0\n",
      "mpmath==1.1.0\n",
      "msgpack==0.6.1\n",
      "multipledispatch==0.6.0\n",
      "navigator-updater==0.2.1\n",
      "nbconvert==5.4.1\n",
      "nbformat==4.4.0\n",
      "networkx==2.2\n",
      "nltk==3.4\n",
      "nose==1.3.7\n",
      "notebook==5.7.8\n",
      "numba==0.43.1\n",
      "numexpr==2.6.8\n",
      "numpy==1.16.2\n",
      "numpydoc==0.8.0\n",
      "odo==0.5.1\n",
      "olefile==0.46\n",
      "openpyxl==2.6.1\n",
      "packaging==19.0\n",
      "pandas==0.24.2\n",
      "pandocfilters==1.4.2\n",
      "parso==0.3.4\n",
      "partd==0.3.10\n",
      "path.py==11.5.0\n",
      "pathlib2==2.3.3\n",
      "patsy==0.5.1\n",
      "pep8==1.7.1\n",
      "pexpect==4.6.0\n",
      "pickleshare==0.7.5\n",
      "Pillow==5.4.1\n",
      "pkginfo==1.5.0.1\n",
      "pluggy==0.9.0\n",
      "ply==3.11\n",
      "prometheus-client==0.6.0\n",
      "prompt-toolkit==2.0.9\n",
      "psutil==5.6.1\n",
      "ptyprocess==0.6.0\n",
      "py==1.8.0\n",
      "pyasn1==0.4.5\n",
      "pyasn1-modules==0.2.4\n",
      "pycodestyle==2.5.0\n",
      "pycosat==0.6.3\n",
      "pycparser==2.19\n",
      "pycrypto==2.6.1\n",
      "pycurl==7.43.0.2\n",
      "pyflakes==2.1.1\n",
      "Pygments==2.3.1\n",
      "PyHamcrest==1.9.0\n",
      "pylint==2.3.1\n",
      "pyodbc==4.0.26\n",
      "pyOpenSSL==19.0.0\n",
      "pyparsing==2.3.1\n",
      "pyrsistent==0.14.11\n",
      "PySocks==1.6.8\n",
      "pytest==4.3.1\n",
      "pytest-arraydiff==0.3\n",
      "pytest-astropy==0.5.0\n",
      "pytest-doctestplus==0.3.0\n",
      "pytest-openfiles==0.3.2\n",
      "pytest-remotedata==0.3.1\n",
      "python-dateutil==2.8.0\n",
      "pytz==2018.9\n",
      "PyWavelets==1.0.2\n",
      "PyYAML==5.1\n",
      "pyzmq==18.0.0\n",
      "QtAwesome==0.5.7\n",
      "qtconsole==4.4.3\n",
      "QtPy==1.7.0\n",
      "requests==2.21.0\n",
      "rope==0.12.0\n",
      "ruamel-yaml==0.15.46\n",
      "scikit-image==0.14.2\n",
      "scikit-learn==0.20.3\n",
      "scipy==1.2.1\n",
      "seaborn==0.9.0\n",
      "SecretStorage==3.1.1\n",
      "Send2Trash==1.5.0\n",
      "service-identity==18.1.0\n",
      "simplegeneric==0.8.1\n",
      "singledispatch==3.4.0.3\n",
      "six==1.12.0\n",
      "snowballstemmer==1.2.1\n",
      "sortedcollections==1.1.2\n",
      "sortedcontainers==2.1.0\n",
      "soupsieve==1.8\n",
      "Sphinx==1.8.5\n",
      "sphinxcontrib-websupport==1.1.0\n",
      "spyder==3.3.3\n",
      "spyder-kernels==0.4.2\n",
      "SQLAlchemy==1.3.1\n",
      "statsmodels==0.9.0\n",
      "sympy==1.3\n",
      "tables==3.4.4\n",
      "tblib==1.3.2\n",
      "terminado==0.8.1\n",
      "testpath==0.4.2\n",
      "toolz==0.9.0\n",
      "torch==1.0.1.post2\n",
      "torchvision==0.2.2\n",
      "tornado==6.0.2\n",
      "tqdm==4.31.1\n",
      "traitlets==4.3.2\n",
      "Twisted==18.9.0\n",
      "uncertainties==3.0.2\n",
      "unicodecsv==0.14.1\n",
      "urllib3==1.24.1\n",
      "wcwidth==0.1.7\n",
      "webencodings==0.5.1\n",
      "Werkzeug==0.14.1\n",
      "widgetsnbextension==3.4.2\n",
      "wrapt==1.11.1\n",
      "wurlitzer==1.0.2\n",
      "xlrd==1.2.0\n",
      "XlsxWriter==1.1.5\n",
      "xlwt==1.3.0\n",
      "zict==0.1.4\n",
      "zipp==0.3.3\n",
      "zope.interface==4.6.0\n",
      "Note: you may need to restart the kernel to use updated packages.\n"
     ]
    }
   ],
   "source": [
    "# pip freeze"
   ]
  }
 ],
 "metadata": {
  "kernelspec": {
   "display_name": "Python 3",
   "language": "python",
   "name": "python3"
  },
  "language_info": {
   "codemirror_mode": {
    "name": "ipython",
    "version": 3
   },
   "file_extension": ".py",
   "mimetype": "text/x-python",
   "name": "python",
   "nbconvert_exporter": "python",
   "pygments_lexer": "ipython3",
   "version": "3.7.3"
  },
  "latex_envs": {
   "LaTeX_envs_menu_present": true,
   "autoclose": true,
   "autocomplete": true,
   "bibliofile": "biblio.bib",
   "cite_by": "apalike",
   "current_citInitial": 1,
   "eqLabelWithNumbers": false,
   "eqNumInitial": 1,
   "hotkeys": {
    "equation": "Ctrl-E",
    "itemize": "Ctrl-I"
   },
   "labels_anchors": false,
   "latex_user_defs": false,
   "report_style_numbering": false,
   "user_envs_cfg": false
  },
  "toc": {
   "base_numbering": 1,
   "nav_menu": {},
   "number_sections": true,
   "sideBar": true,
   "skip_h1_title": false,
   "title_cell": "Table of Contents",
   "title_sidebar": "Contents",
   "toc_cell": false,
   "toc_position": {},
   "toc_section_display": true,
   "toc_window_display": false
  },
  "varInspector": {
   "cols": {
    "lenName": 16,
    "lenType": 16,
    "lenVar": 40
   },
   "kernels_config": {
    "python": {
     "delete_cmd_postfix": "",
     "delete_cmd_prefix": "del ",
     "library": "var_list.py",
     "varRefreshCmd": "print(var_dic_list())"
    },
    "r": {
     "delete_cmd_postfix": ") ",
     "delete_cmd_prefix": "rm(",
     "library": "var_list.r",
     "varRefreshCmd": "cat(var_dic_list()) "
    }
   },
   "types_to_exclude": [
    "module",
    "function",
    "builtin_function_or_method",
    "instance",
    "_Feature"
   ],
   "window_display": false
  }
 },
 "nbformat": 4,
 "nbformat_minor": 2
}
