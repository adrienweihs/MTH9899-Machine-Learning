{
 "cells": [
  {
   "cell_type": "code",
   "execution_count": 1,
   "metadata": {
    "ExecuteTime": {
     "end_time": "2019-05-15T13:06:17.747070Z",
     "start_time": "2019-05-15T13:06:12.901406Z"
    }
   },
   "outputs": [],
   "source": [
    "import numpy as np\n",
    "import pandas as pd\n",
    "import matplotlib.pyplot as plt\n",
    "import torch\n",
    "from sklearn.model_selection import RandomizedSearchCV\n",
    "from sklearn.metrics import r2_score\n",
    "from sklearn.model_selection import train_test_split\n",
    "import pickle"
   ]
  },
  {
   "cell_type": "code",
   "execution_count": 2,
   "metadata": {
    "ExecuteTime": {
     "end_time": "2019-05-15T13:06:48.945899Z",
     "start_time": "2019-05-15T13:06:47.915000Z"
    }
   },
   "outputs": [
    {
     "data": {
      "text/html": [
       "<div>\n",
       "<style scoped>\n",
       "    .dataframe tbody tr th:only-of-type {\n",
       "        vertical-align: middle;\n",
       "    }\n",
       "\n",
       "    .dataframe tbody tr th {\n",
       "        vertical-align: top;\n",
       "    }\n",
       "\n",
       "    .dataframe thead th {\n",
       "        text-align: right;\n",
       "    }\n",
       "</style>\n",
       "<table border=\"1\" class=\"dataframe\">\n",
       "  <thead>\n",
       "    <tr style=\"text-align: right;\">\n",
       "      <th></th>\n",
       "      <th>Date</th>\n",
       "      <th>sec_id</th>\n",
       "      <th>fut_ret</th>\n",
       "      <th>vol</th>\n",
       "      <th>X1</th>\n",
       "      <th>X3</th>\n",
       "      <th>X4</th>\n",
       "      <th>X6</th>\n",
       "      <th>X7</th>\n",
       "      <th>X1_norm</th>\n",
       "      <th>X3_norm</th>\n",
       "      <th>X4_norm</th>\n",
       "      <th>X6_norm</th>\n",
       "      <th>X7_norm</th>\n",
       "      <th>log_vol</th>\n",
       "    </tr>\n",
       "  </thead>\n",
       "  <tbody>\n",
       "    <tr>\n",
       "      <th>0</th>\n",
       "      <td>0.0</td>\n",
       "      <td>0.000000</td>\n",
       "      <td>0.037521</td>\n",
       "      <td>0.000563</td>\n",
       "      <td>0.002766</td>\n",
       "      <td>0.000000</td>\n",
       "      <td>0.0</td>\n",
       "      <td>0.0</td>\n",
       "      <td>0.000000e+00</td>\n",
       "      <td>2.128681</td>\n",
       "      <td>0.095161</td>\n",
       "      <td>-0.109858</td>\n",
       "      <td>0.180895</td>\n",
       "      <td>-0.080587</td>\n",
       "      <td>0.269877</td>\n",
       "    </tr>\n",
       "    <tr>\n",
       "      <th>1</th>\n",
       "      <td>0.0</td>\n",
       "      <td>0.000502</td>\n",
       "      <td>0.005565</td>\n",
       "      <td>0.000805</td>\n",
       "      <td>-0.000461</td>\n",
       "      <td>0.000000</td>\n",
       "      <td>0.0</td>\n",
       "      <td>0.0</td>\n",
       "      <td>0.000000e+00</td>\n",
       "      <td>-0.674305</td>\n",
       "      <td>0.095161</td>\n",
       "      <td>-0.109858</td>\n",
       "      <td>0.180895</td>\n",
       "      <td>-0.080587</td>\n",
       "      <td>0.879423</td>\n",
       "    </tr>\n",
       "    <tr>\n",
       "      <th>2</th>\n",
       "      <td>0.0</td>\n",
       "      <td>0.001005</td>\n",
       "      <td>-0.008732</td>\n",
       "      <td>0.000584</td>\n",
       "      <td>0.001580</td>\n",
       "      <td>-0.000464</td>\n",
       "      <td>0.0</td>\n",
       "      <td>0.0</td>\n",
       "      <td>3.921761e-13</td>\n",
       "      <td>1.098681</td>\n",
       "      <td>-5.279814</td>\n",
       "      <td>-0.109858</td>\n",
       "      <td>0.180895</td>\n",
       "      <td>-0.080587</td>\n",
       "      <td>0.331473</td>\n",
       "    </tr>\n",
       "    <tr>\n",
       "      <th>3</th>\n",
       "      <td>0.0</td>\n",
       "      <td>0.001507</td>\n",
       "      <td>0.000695</td>\n",
       "      <td>0.000326</td>\n",
       "      <td>0.000243</td>\n",
       "      <td>0.000000</td>\n",
       "      <td>0.0</td>\n",
       "      <td>0.0</td>\n",
       "      <td>0.000000e+00</td>\n",
       "      <td>-0.062127</td>\n",
       "      <td>0.095161</td>\n",
       "      <td>-0.109858</td>\n",
       "      <td>0.180895</td>\n",
       "      <td>-0.080587</td>\n",
       "      <td>-0.598987</td>\n",
       "    </tr>\n",
       "    <tr>\n",
       "      <th>4</th>\n",
       "      <td>0.0</td>\n",
       "      <td>0.002009</td>\n",
       "      <td>-0.002755</td>\n",
       "      <td>0.000461</td>\n",
       "      <td>0.000259</td>\n",
       "      <td>0.000000</td>\n",
       "      <td>0.0</td>\n",
       "      <td>0.0</td>\n",
       "      <td>0.000000e+00</td>\n",
       "      <td>-0.048683</td>\n",
       "      <td>0.095161</td>\n",
       "      <td>-0.109858</td>\n",
       "      <td>0.180895</td>\n",
       "      <td>-0.080587</td>\n",
       "      <td>-0.057603</td>\n",
       "    </tr>\n",
       "  </tbody>\n",
       "</table>\n",
       "</div>"
      ],
      "text/plain": [
       "   Date    sec_id   fut_ret       vol        X1        X3   X4   X6  \\\n",
       "0   0.0  0.000000  0.037521  0.000563  0.002766  0.000000  0.0  0.0   \n",
       "1   0.0  0.000502  0.005565  0.000805 -0.000461  0.000000  0.0  0.0   \n",
       "2   0.0  0.001005 -0.008732  0.000584  0.001580 -0.000464  0.0  0.0   \n",
       "3   0.0  0.001507  0.000695  0.000326  0.000243  0.000000  0.0  0.0   \n",
       "4   0.0  0.002009 -0.002755  0.000461  0.000259  0.000000  0.0  0.0   \n",
       "\n",
       "             X7   X1_norm   X3_norm   X4_norm   X6_norm   X7_norm   log_vol  \n",
       "0  0.000000e+00  2.128681  0.095161 -0.109858  0.180895 -0.080587  0.269877  \n",
       "1  0.000000e+00 -0.674305  0.095161 -0.109858  0.180895 -0.080587  0.879423  \n",
       "2  3.921761e-13  1.098681 -5.279814 -0.109858  0.180895 -0.080587  0.331473  \n",
       "3  0.000000e+00 -0.062127  0.095161 -0.109858  0.180895 -0.080587 -0.598987  \n",
       "4  0.000000e+00 -0.048683  0.095161 -0.109858  0.180895 -0.080587 -0.057603  "
      ]
     },
     "execution_count": 2,
     "metadata": {},
     "output_type": "execute_result"
    }
   ],
   "source": [
    "data=pd.read_csv(\"trimmed_data_v3.csv\",index_col=0)\n",
    "data.head()"
   ]
  },
  {
   "cell_type": "code",
   "execution_count": 3,
   "metadata": {
    "ExecuteTime": {
     "end_time": "2019-05-15T13:07:32.844974Z",
     "start_time": "2019-05-15T13:07:32.790487Z"
    }
   },
   "outputs": [
    {
     "data": {
      "text/plain": [
       "20887"
      ]
     },
     "execution_count": 3,
     "metadata": {},
     "output_type": "execute_result"
    }
   ],
   "source": [
    "sum(np.isnan(data.vol))"
   ]
  },
  {
   "cell_type": "code",
   "execution_count": 4,
   "metadata": {
    "ExecuteTime": {
     "end_time": "2019-05-15T13:07:51.020653Z",
     "start_time": "2019-05-15T13:07:50.970281Z"
    }
   },
   "outputs": [
    {
     "data": {
      "text/plain": [
       "1852"
      ]
     },
     "execution_count": 4,
     "metadata": {},
     "output_type": "execute_result"
    }
   ],
   "source": [
    "sum(data.vol==0)"
   ]
  },
  {
   "cell_type": "code",
   "execution_count": 9,
   "metadata": {
    "ExecuteTime": {
     "end_time": "2019-05-15T13:10:53.080777Z",
     "start_time": "2019-05-15T13:10:53.009102Z"
    }
   },
   "outputs": [],
   "source": [
    "data=data[~np.isnan(data.vol)]\n",
    "data=data[data.vol!=0]\n",
    "data['ret_vol']=data.fut_ret/data.vol"
   ]
  },
  {
   "cell_type": "code",
   "execution_count": 28,
   "metadata": {
    "ExecuteTime": {
     "end_time": "2019-05-15T13:34:38.868886Z",
     "start_time": "2019-05-15T13:34:38.855139Z"
    }
   },
   "outputs": [],
   "source": [
    "mid_ran=(np.max(np.array(data.ret_vol))+np.min(np.array(data.ret_vol)))/2\n",
    "half_ran=(np.max(np.array(data.ret_vol))-np.min(np.array(data.ret_vol)))/2\n",
    "data['ret_vol_scale']=(data['ret_vol']-mid_ran)/half_ran"
   ]
  },
  {
   "cell_type": "code",
   "execution_count": 32,
   "metadata": {
    "ExecuteTime": {
     "end_time": "2019-05-15T13:36:07.854163Z",
     "start_time": "2019-05-15T13:36:07.628788Z"
    }
   },
   "outputs": [
    {
     "data": {
      "image/png": "[encoded data removed]",
      "text/plain": [
       "<Figure size 1152x504 with 1 Axes>"
      ]
     },
     "metadata": {
      "needs_background": "light"
     },
     "output_type": "display_data"
    }
   ],
   "source": [
    "plt.figure(figsize=(16,7))\n",
    "plt.hist(np.array(data['ret_vol']),range=(-100,100),bins=30)\n",
    "plt.show()"
   ]
  },
  {
   "cell_type": "code",
   "execution_count": 110,
   "metadata": {
    "ExecuteTime": {
     "end_time": "2019-05-16T01:55:55.886469Z",
     "start_time": "2019-05-16T01:55:55.810973Z"
    }
   },
   "outputs": [
    {
     "name": "stdout",
     "output_type": "stream",
     "text": [
      "(221880, 7)\n",
      "(221880, 5)\n"
     ]
    }
   ],
   "source": [
    "X=np.array(data[['sec_id','log_vol','X1_norm','X3','X6','fut_ret','vol']])\n",
    "#X=np.array(data[['sec_id','X1','X3','X4','X6','X7']])\n",
    "#X=np.array(data[['sec_id','vol','X1','X']])\n",
    "y=np.array(data['ret_vol'])\n",
    "\n",
    "# test:cv:train=2:2:6\n",
    "X_train, X_test, y_train, y_test = train_test_split(X, y, test_size=0.2)\n",
    "X_train, X_cv, y_train, y_cv = train_test_split(X_train, y_train, test_size=0.25)\n",
    "print(np.shape(X_train))\n",
    "\n",
    "Z_train=X_train[:,-2:]\n",
    "Z_test=X_test[:,-2:]\n",
    "Z_cv=X_cv[:,-2:]\n",
    "\n",
    "X_train=X_train[:,:-2]\n",
    "X_test=X_test[:,:-2]\n",
    "X_cv=X_cv[:,:-2]\n",
    "print(np.shape(X_train))\n",
    "\n",
    "train_all=(X_train,y_train)\n",
    "cv_all=(X_cv,y_cv)"
   ]
  },
  {
   "cell_type": "code",
   "execution_count": 111,
   "metadata": {
    "ExecuteTime": {
     "end_time": "2019-05-16T01:56:00.470705Z",
     "start_time": "2019-05-16T01:56:00.453538Z"
    }
   },
   "outputs": [],
   "source": [
    "def init_weights(m):\n",
    "    if type(m) == torch.nn.Linear:\n",
    "        torch.nn.init.torch.nn.init.kaiming_normal_(m.weight)\n",
    "        m.bias.data.fill_(0.01)\n",
    "        \n",
    "        \n",
    "def NN( data_set, test_set, nodes=[16], epoch=1000, learning_rate=1e-3, is_drop=False, l2_reg=0, is_leaky=False,\n",
    "        is_batch=False):\n",
    "    x = torch.tensor(data_set[0], dtype=torch.float32)\n",
    "    y = torch.tensor(data_set[1][:, np.newaxis], dtype=torch.float32)\n",
    "    \n",
    "    # model initialize\n",
    "    out_size = 1\n",
    "    F = x.shape[1]\n",
    "    layer_num = len(nodes)\n",
    "\n",
    "    # add layers\n",
    "    model = torch.nn.Sequential()\n",
    "    model.add_module(\"linear 0\", torch.nn.Linear(F, nodes[0]))\n",
    "    if is_batch:\n",
    "        model.add_module(\"batch 0\",torch.nn.BatchNorm1d(nodes[0]))   \n",
    "    if is_drop:\n",
    "        model.add_module(\"drop 0\", torch.nn.Dropout(0.5))\n",
    "    model.add_module(\"relu 0\", torch.nn.ReLU() if not is_leaky else torch.nn.PReLU())\n",
    "    \n",
    "\n",
    "    for i in range(layer_num-1):\n",
    "        model.add_module(\"linear \"+str(i+1),torch.nn.Linear(nodes[i], nodes[i+1]))\n",
    "        if is_batch:\n",
    "            model.add_module(\"batch \"+str(i+1),torch.nn.BatchNorm1d(nodes[i+1]))\n",
    "        if is_drop:\n",
    "            model.add_module(\"drop \"+str(i+1), torch.nn.Dropout(0.5))\n",
    "        model.add_module(\"relu \"+str(i+1), torch.nn.ReLU() if not is_leaky else torch.nn.PReLU())\n",
    "        \n",
    "    \n",
    "    # HE initial\n",
    "    model.apply(init_weights)\n",
    "    \n",
    "    #output layer\n",
    "    model.add_module(\"linear \"+str(layer_num),\n",
    "                     torch.nn.Linear(nodes[-1], out_size))\n",
    "\n",
    "    # loss\n",
    "    loss_fn = torch.nn.MSELoss()    \n",
    "    #loss_fn=torch.nn.L1Loss()\n",
    "    \n",
    "    # optimizer\n",
    "    optimizer = torch.optim.Adam(\n",
    "        model.parameters(), lr=learning_rate, weight_decay=l2_reg)\n",
    "\n",
    "    # training\n",
    "    loss_history = []\n",
    "    loss_old=float('inf')\n",
    "    loss_new=0\n",
    "    count=0\n",
    "\n",
    "    for t in range(epoch):\n",
    "        y_pred = model(x)\n",
    "\n",
    "        loss_new = loss_fn(y_pred, y)\n",
    "        \n",
    "        if abs(loss_old-loss_new)<1e-9:\n",
    "            count=count+1\n",
    "        else:\n",
    "            count=0\n",
    "            \n",
    "        if count>30:\n",
    "            print(\"converge epoch: \",t)\n",
    "            break\n",
    "            \n",
    "        loss_old = loss_new\n",
    "        \n",
    "        #if loss<0.000296:\n",
    "        #    print(\"converge epoch: \",t)\n",
    "        #    break\n",
    "\n",
    "        if t % 1000== 999:\n",
    "            print(\"epoch \", t+1, \", loss is \", loss_new.item())\n",
    "        #loss_history.append(loss.item())\n",
    "\n",
    "        optimizer.zero_grad()\n",
    "\n",
    "        loss_new.backward()\n",
    "\n",
    "        optimizer.step()\n",
    "\n",
    "    # plot loss evolution\n",
    "    #plt.figure(figsize=(14, 7))\n",
    "    #plt.plot(range(len(loss_history)), loss_history)\n",
    "    #plt.xlabel(\"epoch\")\n",
    "    #plt.ylabel(\"loss\")\n",
    "    #plt.show()\n",
    "\n",
    "    # testing\n",
    "    x_test = torch.tensor(test_set[0], dtype=torch.float32)\n",
    "    y_test = torch.tensor(test_set[1][:, np.newaxis], dtype=torch.float32)\n",
    "    \n",
    "    y_in_pred = model(x)\n",
    "    y_out_pred = model(x_test)\n",
    "    \n",
    "    err_in = loss_fn(y_in_pred, y).item()\n",
    "    err_out = loss_fn(y_out_pred, y_test).item()\n",
    "    \n",
    "       \n",
    "    y=data_set[1]\n",
    "    y_test=test_set[1]\n",
    "    y_in_pred=torch.Tensor.numpy(y_in_pred.data)\n",
    "    y_in_pred.reshape(y_in_pred.shape[0])\n",
    "    y_out_pred=torch.Tensor.numpy(y_out_pred.data)\n",
    "    y_out_pred.reshape(y_out_pred.shape[0])\n",
    "    \n",
    "    r2_in = r2_score(y, y_in_pred)\n",
    "    r2_out = r2_score(y_test, y_out_pred)\n",
    "\n",
    "    #print(\"\\nin-sample error: \", err_in)\n",
    "    #print(\"out-of-sample error: \", err_out)\n",
    "    #print(\"in-sample r2: \", r2_in)\n",
    "    #print(\"out-of-sample r2: \", r2_out)\n",
    "\n",
    "    return (model,r2_out,err_in)"
   ]
  },
  {
   "cell_type": "code",
   "execution_count": 112,
   "metadata": {
    "ExecuteTime": {
     "end_time": "2019-05-16T01:56:02.784302Z",
     "start_time": "2019-05-16T01:56:02.772407Z"
    }
   },
   "outputs": [],
   "source": [
    "# for test\n",
    "def test_r2(model,X = X_test,y = y_test, Z = Z_test, plot=True):   \n",
    "    y_pred=model(torch.tensor(Ｘ, dtype=torch.float32))\n",
    "    y_pred=torch.Tensor.numpy(y_pred.data)\n",
    "    y_pred=y_pred.reshape(y_pred.shape[0])\n",
    "    # reverse back to none scale\n",
    "    #y_pred=y_pred*half_ran+mid_ran\n",
    "    \n",
    "    y_pred=y_pred*Z[:,1]\n",
    "    if plot:\n",
    "        plt.figure(figsize=(16,7))\n",
    "        plt.subplot(1, 2, 1)\n",
    "        plt.hist(y_pred,range=(-0.1,0.1),bins=30)\n",
    "        plt.subplot(1, 2, 2)\n",
    "        plt.hist(Z[:,0],range=(-0.1,0.1),bins=30)\n",
    "        plt.show()\n",
    "    r2 = r2_score(Z[:,0], y_pred)\n",
    "    return r2\n",
    "\n",
    "\n",
    "def MDA(model,X = X_test,y = y_test, Z = Z_test):\n",
    "    feature_num=X.shape[1]\n",
    "    r2_origin = test_r2(model,X,y,Z,plot=False)\n",
    "    print(\"origin: \",r2_origin)\n",
    "    for i in range(feature_num):\n",
    "        r2_new_lst=[]\n",
    "        for j in range(10):\n",
    "            X_new=X.copy()\n",
    "            np.random.shuffle(X_new[:,i])\n",
    "            r2_new=test_r2(model,X_new,y,Z,plot=False)\n",
    "            r2_new_lst.append(r2_new)\n",
    "        is_valid=\" *\"\n",
    "        if np.mean(r2_new_lst)>r2_origin:\n",
    "            is_valid=\" \"\n",
    "        if abs(np.mean(r2_new_lst)-r2_origin)/abs(r2_origin)<0.01:\n",
    "            is_valid=\" \"\n",
    "        print(\"suffle feature \",i,\": \",np.mean(r2_new_lst),is_valid)"
   ]
  },
  {
   "cell_type": "markdown",
   "metadata": {},
   "source": [
    "## Experiment"
   ]
  },
  {
   "cell_type": "code",
   "execution_count": 77,
   "metadata": {
    "ExecuteTime": {
     "end_time": "2019-05-15T14:02:37.880444Z",
     "start_time": "2019-05-15T14:02:37.877627Z"
    }
   },
   "outputs": [],
   "source": [
    "#grid_history=[]"
   ]
  },
  {
   "cell_type": "code",
   "execution_count": null,
   "metadata": {},
   "outputs": [],
   "source": [
    "model,r2,mse=NN(train_all,cv_all,[128], 10000, 1e-3, False, 1e-2, True,False)\n",
    "grid_history.append([r2,model,mse,[128], 10000, 1e-3, False, 1e-2, True])\n",
    "print(t,\": \",r2,\"  \",mse,\"  \",[128], False, 1e-2, True)"
   ]
  },
  {
   "cell_type": "code",
   "execution_count": 113,
   "metadata": {
    "ExecuteTime": {
     "end_time": "2019-05-16T02:09:44.414161Z",
     "start_time": "2019-05-16T01:56:08.726454Z"
    }
   },
   "outputs": [
    {
     "name": "stdout",
     "output_type": "stream",
     "text": [
      "epoch  1000 , loss is  806.517822265625\n",
      "1 :  0.0007631079649790262    806.4929809570312    [64] True 0.01 True True\n"
     ]
    }
   ],
   "source": [
    "nodes_list=[\n",
    "    [64]\n",
    "]          \n",
    "\n",
    "t=1 \n",
    "for nodes in nodes_list:\n",
    "    for epoch in [1000]:\n",
    "        for lr in [1e-1]:\n",
    "            for isdrop in [True]:\n",
    "                for l2reg in [1e-2]:\n",
    "                    for isleaky in [True]:\n",
    "                        for isbatch in [True]:\n",
    "                            model,r2,mse=NN(train_all,cv_all,nodes, epoch, lr, isdrop, l2reg, isleaky, isbatch)\n",
    "                            grid_history.append([r2,model,mse,nodes, epoch, lr, isdrop, l2reg, isleaky, isbatch])\n",
    "                            print(t,\": \",r2,\"  \",mse,\"  \",nodes, isdrop, l2reg, isleaky, isbatch)\n",
    "                            t=t+1\n",
    "\n"
   ]
  },
  {
   "cell_type": "code",
   "execution_count": 108,
   "metadata": {
    "ExecuteTime": {
     "end_time": "2019-05-16T01:32:10.937911Z",
     "start_time": "2019-05-16T01:32:09.727066Z"
    }
   },
   "outputs": [
    {
     "name": "stdout",
     "output_type": "stream",
     "text": [
      "[0.00030000045080669224, [64, 16], 1000, 0.1, True, 0.01, True, True]\n",
      "-0.01921935825862553\n"
     ]
    },
    {
     "data": {
      "image/png": "[encoded data removed]",
      "text/plain": [
       "<Figure size 1152x504 with 2 Axes>"
      ]
     },
     "metadata": {
      "needs_background": "light"
     },
     "output_type": "display_data"
    },
    {
     "data": {
      "image/png": "[encoded data removed]",
      "text/plain": [
       "<Figure size 1152x504 with 2 Axes>"
      ]
     },
     "metadata": {
      "needs_background": "light"
     },
     "output_type": "display_data"
    },
    {
     "name": "stdout",
     "output_type": "stream",
     "text": [
      "-0.020671835141501838 , in sample:  -0.01857185730686961 \n",
      "\n"
     ]
    }
   ],
   "source": [
    "#for i in range(1,len(grid_history)+1):\n",
    "i=1\n",
    "print(grid_history[-i][2:])\n",
    "print(grid_history[-i][0])\n",
    "print(test_r2(grid_history[-i][1]),\", in sample: \",test_r2(grid_history[-i][1],X_train,y_train,Z_train),'\\n')\n",
    "\n"
   ]
  },
  {
   "cell_type": "code",
   "execution_count": 109,
   "metadata": {
    "ExecuteTime": {
     "end_time": "2019-05-16T01:53:34.973089Z",
     "start_time": "2019-05-16T01:53:27.069503Z"
    }
   },
   "outputs": [
    {
     "name": "stdout",
     "output_type": "stream",
     "text": [
      "origin:  -0.0206718398852892\n",
      "suffle feature  0 :  -0.020671806419238915  \n",
      "suffle feature  1 :  -0.02067181122283641  \n",
      "suffle feature  2 :  -0.020671819401825477  \n",
      "suffle feature  3 :  -0.02067181542916634  \n",
      "suffle feature  4 :  -0.020671815827182007  \n",
      "suffle feature  5 :  -0.020671811153426846  \n",
      "suffle feature  6 :  -0.020671817473626806  \n"
     ]
    }
   ],
   "source": [
    "MDA(grid_history[-i][1])"
   ]
  },
  {
   "cell_type": "code",
   "execution_count": null,
   "metadata": {},
   "outputs": [],
   "source": []
  }
 ],
 "metadata": {
  "kernelspec": {
   "display_name": "Python 3",
   "language": "python",
   "name": "python3"
  },
  "language_info": {
   "codemirror_mode": {
    "name": "ipython",
    "version": 3
   },
   "file_extension": ".py",
   "mimetype": "text/x-python",
   "name": "python",
   "nbconvert_exporter": "python",
   "pygments_lexer": "ipython3",
   "version": "3.7.3"
  },
  "latex_envs": {
   "LaTeX_envs_menu_present": true,
   "autoclose": true,
   "autocomplete": true,
   "bibliofile": "biblio.bib",
   "cite_by": "apalike",
   "current_citInitial": 1,
   "eqLabelWithNumbers": false,
   "eqNumInitial": 1,
   "hotkeys": {
    "equation": "Ctrl-E",
    "itemize": "Ctrl-I"
   },
   "labels_anchors": false,
   "latex_user_defs": false,
   "report_style_numbering": false,
   "user_envs_cfg": false
  },
  "toc": {
   "base_numbering": 1,
   "nav_menu": {},
   "number_sections": true,
   "sideBar": true,
   "skip_h1_title": false,
   "title_cell": "Table of Contents",
   "title_sidebar": "Contents",
   "toc_cell": false,
   "toc_position": {},
   "toc_section_display": true,
   "toc_window_display": false
  },
  "varInspector": {
   "cols": {
    "lenName": 16,
    "lenType": 16,
    "lenVar": 40
   },
   "kernels_config": {
    "python": {
     "delete_cmd_postfix": "",
     "delete_cmd_prefix": "del ",
     "library": "var_list.py",
     "varRefreshCmd": "print(var_dic_list())"
    },
    "r": {
     "delete_cmd_postfix": ") ",
     "delete_cmd_prefix": "rm(",
     "library": "var_list.r",
     "varRefreshCmd": "cat(var_dic_list()) "
    }
   },
   "types_to_exclude": [
    "module",
    "function",
    "builtin_function_or_method",
    "instance",
    "_Feature"
   ],
   "window_display": false
  }
 },
 "nbformat": 4,
 "nbformat_minor": 2
}
