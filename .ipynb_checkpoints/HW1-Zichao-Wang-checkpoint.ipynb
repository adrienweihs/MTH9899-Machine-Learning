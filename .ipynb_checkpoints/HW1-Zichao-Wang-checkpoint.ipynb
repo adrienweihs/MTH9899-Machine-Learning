{
 "cells": [
  {
   "cell_type": "markdown",
   "metadata": {},
   "source": [
    "# Machine Learning HW1\n",
    "\n",
    "### Name: Zichao (David) Wang"
   ]
  },
  {
   "cell_type": "code",
   "execution_count": 1,
   "metadata": {},
   "outputs": [],
   "source": [
    "import numpy as np\n",
    "import torch\n",
    "from sklearn.linear_model import RidgeCV, LassoCV\n",
    "from sklearn.metrics import mean_squared_error\n",
    "import matplotlib.pyplot as plt"
   ]
  },
  {
   "cell_type": "markdown",
   "metadata": {},
   "source": [
    "## Problem 1"
   ]
  },
  {
   "cell_type": "markdown",
   "metadata": {},
   "source": [
    "Solution:\n",
    "\n",
    "We have N data points, and F regressors.\n",
    "\n",
    "For each iteration $i=1,...,K$, let $X_{-i},y_{-i}$ denote input matrix $X$ and depend variable $y$ with the i*th* fold omitted.\n",
    "\n",
    "Then for iteration i, we want to compute Ridge estimator $\\hat{\\beta_i}=(X_{-i}^TX_{-i}+\\lambda I)^{-1}X_{-i}^Ty_{-i}$.\n",
    "\n",
    "The computation complexity of each part is as follows.\n",
    "\n",
    "- $X_{-i}^TX_{-i}: \\mathcal{O}(F^2N\\cdot\\frac{K-1}K)$\n",
    "- $+\\lambda I: \\mathcal{O}(F)$\n",
    "- $^{-1}:O(F^3)$ (suppose we use some naive matrix inversion algorithm such as Gauss-Jordan elimination)\n",
    "- $\\cdot X_{-i}^T: \\mathcal{O}(F^2N\\cdot\\frac{K-1}K)$\n",
    "- $\\cdot y_{-i}: \\mathcal{O}(FN\\cdot\\frac{K-1}K)$\n",
    "\n",
    "Thus in each iteration, the time complexity is $\\mathcal{O}(F^2N\\cdot\\frac{N-1}N)$.\n",
    "\n",
    "Therefore, the complexity of the whole CV is $\\mathcal{O}(F^2N(K-1))=\\mathcal{O}(F^2NK)$."
   ]
  },
  {
   "cell_type": "markdown",
   "metadata": {},
   "source": [
    "## Problem 2"
   ]
  },
  {
   "cell_type": "markdown",
   "metadata": {},
   "source": [
    "Solution:\n",
    "\n",
    "We know that\n",
    "\n",
    "$$\n",
    "X_{-i}^TX_{-i}=\\sum_{j=1}^KX_j^TX_j-X_i^TX_i=X^TX-X_i^TX_i\n",
    "$$\n",
    "\n",
    "Thus a more efficient algorithm to compute all $X_{-i}^TX_{-i}\\ (i=1,...,K)$ is as below."
   ]
  },
  {
   "cell_type": "markdown",
   "metadata": {},
   "source": [
    "1. Compute $X^TX$ first. The complexity is $\\mathcal{O}(F^2N)$.\n",
    "2. For each $i=1,..,K$, compute $X_i^TX_i$, and get $X_{-i}^TX_{-i}=X^TX-X_i^TX_i$. The complexity is $\\mathcal{O}(F^2\\frac NK)$.\n",
    "\n",
    "Thus the complexity of the whole algorithm is $\\mathcal{O}(F^2N)$, while the complexity of the original algo to compute all $X_{-i}^TX_{-i}\\ (i=1,...,K)$ is $\\mathcal{O}(F^2N\\frac{K-1}K\\cdot K)=\\mathcal{O}(F^2NK)$."
   ]
  },
  {
   "cell_type": "markdown",
   "metadata": {},
   "source": [
    "## Problem 3"
   ]
  },
  {
   "cell_type": "code",
   "execution_count": 2,
   "metadata": {},
   "outputs": [],
   "source": [
    "def generate_test_data_set1(n, test_sample = False):\n",
    "    f = 5\n",
    "    np.random.seed(0)\n",
    "    true_betas = np.random.randn(f)\n",
    "    \n",
    "    print('true beta of generator 1:')\n",
    "    print(true_betas)\n",
    "    \n",
    "    np.random.seed(1 if test_sample else 2)\n",
    "    \n",
    "    X = np.random.randn(n, f)\n",
    "    Y = np.random.randn(n) + X.dot(true_betas)\n",
    "    \n",
    "    return (X, Y)"
   ]
  },
  {
   "cell_type": "code",
   "execution_count": 3,
   "metadata": {},
   "outputs": [],
   "source": [
    "def generate_test_data_set2(n, test_sample = False):\n",
    "    f = 5\n",
    "    np.random.seed(0)\n",
    "    true_betas = np.random.randn(f)\n",
    "    true_betas[-2:] = 0\n",
    "    \n",
    "    print('true beta of generator 2:')\n",
    "    print(true_betas)\n",
    "    \n",
    "    np.random.seed(1 if test_sample else 2)\n",
    "    \n",
    "    X = np.random.randn(n, f)\n",
    "    Y = np.random.randn(n) + X.dot(true_betas)\n",
    "    \n",
    "    return (X, Y)"
   ]
  },
  {
   "cell_type": "code",
   "execution_count": 4,
   "metadata": {},
   "outputs": [],
   "source": [
    "# part 1 of problem 3\n",
    "\n",
    "# input:\n",
    "# n: size of training set, int\n",
    "# alphas: alphas we will try, np.array-like type\n",
    "# data_generator: data generator function\n",
    "\n",
    "# return: [ridge_model.coef_, ridge_model.alpha_, lasso_model.coef_, lasso_model.alpha_, alphas]\n",
    "\n",
    "def p3_part1(n, alphas, data_generator):\n",
    "\n",
    "    # first use training set to train models.\n",
    "    # generate training set.\n",
    "    X_train, Y_train = data_generator(n, False)\n",
    "\n",
    "    # use Ridge to fit.\n",
    "    # use default leave-one-out CV scheme.\n",
    "    ridge_model = RidgeCV(alphas=alphas, fit_intercept=False).fit(X_train, Y_train)\n",
    "\n",
    "    print('coefficients given by Ridge:')\n",
    "    print(*ridge_model.coef_, sep=', ')\n",
    "    print('alpha given by Ridge: %f' %ridge_model.alpha_)\n",
    "\n",
    "    # use Lasso to fit.\n",
    "    # use 5-fold CV scheme.\n",
    "    lasso_model = LassoCV(alphas=alphas, fit_intercept=False, cv=5).fit(X_train, Y_train)\n",
    "\n",
    "    print('coefficients given by Lasso:')\n",
    "    print(*lasso_model.coef_, sep=', ')\n",
    "    print('alpha given by Lasso: %f' %lasso_model.alpha_)\n",
    "    \n",
    "    return [ridge_model.coef_, ridge_model.alpha_, lasso_model.coef_, lasso_model.alpha_, alphas]\n"
   ]
  },
  {
   "cell_type": "code",
   "execution_count": 5,
   "metadata": {},
   "outputs": [
    {
     "name": "stdout",
     "output_type": "stream",
     "text": [
      "true beta of generator 1:\n",
      "[1.76405235 0.40015721 0.97873798 2.2408932  1.86755799]\n",
      "coefficients given by Ridge:\n",
      "1.7580439845978617, 0.39168339200692515, 0.9807464693550116, 2.248016348010491, 1.8669207669920915\n",
      "alpha given by Ridge: 0.360000\n",
      "coefficients given by Lasso:\n",
      "1.748031089574632, 0.38171980172555237, 0.970774394943728, 2.23792224057554, 1.8571527530532417\n",
      "alpha given by Lasso: 0.010000\n"
     ]
    }
   ],
   "source": [
    "# train data set 1.\n",
    "res1 = p3_part1(n=10000, alphas=np.arange(0.01, 5, 0.01), data_generator=generate_test_data_set1)"
   ]
  },
  {
   "cell_type": "code",
   "execution_count": 6,
   "metadata": {},
   "outputs": [
    {
     "name": "stdout",
     "output_type": "stream",
     "text": [
      "true beta of generator 2:\n",
      "[1.76405235 0.40015721 0.97873798 0.         0.        ]\n",
      "coefficients given by Ridge:\n",
      "1.757917985660498, 0.3916564227614998, 0.9806761332681901, 0.0072035851833121, -0.0005698132840370462\n",
      "alpha given by Ridge: 1.070000\n",
      "coefficients given by Lasso:\n",
      "1.7479398833102768, 0.38171652253557325, 0.9708265873137527, 0.0, -0.0\n",
      "alpha given by Lasso: 0.010000\n"
     ]
    }
   ],
   "source": [
    "# train data set 2.\n",
    "res2 = p3_part1(n=10000, alphas=np.arange(0.01, 5, 0.01), data_generator=generate_test_data_set2)"
   ]
  },
  {
   "cell_type": "code",
   "execution_count": 7,
   "metadata": {},
   "outputs": [],
   "source": [
    "# part 2 of problem 3\n",
    "# input:\n",
    "# n: size of training set, int\n",
    "# alphas: alphas we will try, np.array-like type\n",
    "# data_generator: data generator function\n",
    "\n",
    "# return: None\n",
    "\n",
    "def p3_part2(n, alphas, data_generator):\n",
    "\n",
    "    # generate training and test set.\n",
    "    X_train, Y_train = data_generator(n, test_sample=False)\n",
    "    X_test, Y_test = data_generator(n, test_sample=True)\n",
    "\n",
    "    ridge_mse_test = []\n",
    "    lasso_mse_test = []\n",
    "    ridge_mse_train = []\n",
    "    lasso_mse_train = []\n",
    "\n",
    "    # loop over alphas\n",
    "    for alpha in alphas:\n",
    "\n",
    "        # compute and store training and test mse for this alpha,\n",
    "        # for both Ridge and Lasso model.\n",
    "        ridge_model = RidgeCV(alphas=np.array([alpha]), fit_intercept=False, store_cv_values=True).fit(X_train, Y_train)\n",
    "        ridge_mse_train.append(np.mean(ridge_model.cv_values_))\n",
    "        y_pred_ridge = ridge_model.predict(X_test)\n",
    "        ridge_mse_test.append(mean_squared_error(y_pred_ridge, Y_test))\n",
    "\n",
    "        lasso_model = LassoCV(alphas=np.array([alpha]), fit_intercept=False, cv=5).fit(X_train, Y_train)\n",
    "        lasso_mse_train.append(np.mean(lasso_model.mse_path_))\n",
    "        y_pred_lasso = lasso_model.predict(X_test)\n",
    "        lasso_mse_test.append(mean_squared_error(y_pred_lasso, Y_test))\n",
    "\n",
    "\n",
    "    # plot training and test set mse w.r.t alpha for Ridge and Lasso.\n",
    "    fig1 = plt.figure()\n",
    "    plt.plot(alphas, ridge_mse_train)\n",
    "    plt.xlabel('alpha')\n",
    "    plt.ylabel('MSE')\n",
    "    plt.title('training set MSE for Ridge')\n",
    "    plt.show()\n",
    "\n",
    "    fig2 = plt.figure()\n",
    "    plt.plot(alphas, ridge_mse_test)\n",
    "    plt.xlabel('alpha')\n",
    "    plt.ylabel('MSE')\n",
    "    plt.title('test set MSE for Ridge')\n",
    "    plt.show()\n",
    "\n",
    "    fig3 = plt.figure()\n",
    "    plt.plot(alphas, lasso_mse_train)\n",
    "    plt.xlabel('alpha')\n",
    "    plt.ylabel('MSE')\n",
    "    plt.title('training set MSE for Lasso')\n",
    "    plt.show()\n",
    "\n",
    "    fig4 = plt.figure()\n",
    "    plt.plot(alphas, lasso_mse_test)\n",
    "    plt.xlabel('alpha')\n",
    "    plt.ylabel('MSE')\n",
    "    plt.title('test set MSE for Lasso')\n",
    "    plt.show()\n",
    "    \n",
    "    print('minimum MSE for training set in Ridge: %f' %np.min(ridge_mse_train))\n",
    "    print('minimum MSE for test set in Ridge: %f' %np.min(ridge_mse_test))\n",
    "    print('minimum MSE for training set in Lasso: %f' %np.min(lasso_mse_train))\n",
    "    print('minimum MSE for test set in Lasso: %f' %np.min(lasso_mse_test))"
   ]
  },
  {
   "cell_type": "code",
   "execution_count": 8,
   "metadata": {},
   "outputs": [
    {
     "name": "stdout",
     "output_type": "stream",
     "text": [
      "true beta of generator 1:\n",
      "[1.76405235 0.40015721 0.97873798 2.2408932  1.86755799]\n",
      "true beta of generator 1:\n",
      "[1.76405235 0.40015721 0.97873798 2.2408932  1.86755799]\n"
     ]
    },
    {
     "data": {
      "image/png": "[encoded data removed]",
      "text/plain": [
       "<Figure size 432x288 with 1 Axes>"
      ]
     },
     "metadata": {
      "needs_background": "light"
     },
     "output_type": "display_data"
    },
    {
     "data": {
      "image/png": "[encoded data removed]",
      "text/plain": [
       "<Figure size 432x288 with 1 Axes>"
      ]
     },
     "metadata": {
      "needs_background": "light"
     },
     "output_type": "display_data"
    },
    {
     "data": {
      "image/png": "[encoded data removed]",
      "text/plain": [
       "<Figure size 432x288 with 1 Axes>"
      ]
     },
     "metadata": {
      "needs_background": "light"
     },
     "output_type": "display_data"
    },
    {
     "data": {
      "image/png": "[encoded data removed]",
      "text/plain": [
       "<Figure size 432x288 with 1 Axes>"
      ]
     },
     "metadata": {
      "needs_background": "light"
     },
     "output_type": "display_data"
    },
    {
     "name": "stdout",
     "output_type": "stream",
     "text": [
      "minimum MSE for training set in Ridge: 0.998711\n",
      "minimum MSE for test set in Ridge: 1.009890\n",
      "minimum MSE for training set in Lasso: 0.998907\n",
      "minimum MSE for test set in Lasso: 1.010364\n"
     ]
    }
   ],
   "source": [
    "# for data set 1\n",
    "p3_part2(10000, np.arange(0.01, 5, 0.01), data_generator=generate_test_data_set1)"
   ]
  },
  {
   "cell_type": "code",
   "execution_count": 9,
   "metadata": {},
   "outputs": [
    {
     "name": "stdout",
     "output_type": "stream",
     "text": [
      "true beta of generator 2:\n",
      "[1.76405235 0.40015721 0.97873798 0.         0.        ]\n",
      "true beta of generator 2:\n",
      "[1.76405235 0.40015721 0.97873798 0.         0.        ]\n"
     ]
    },
    {
     "data": {
      "image/png": "[encoded data removed]",
      "text/plain": [
       "<Figure size 432x288 with 1 Axes>"
      ]
     },
     "metadata": {
      "needs_background": "light"
     },
     "output_type": "display_data"
    },
    {
     "data": {
      "image/png": "[encoded data removed]",
      "text/plain": [
       "<Figure size 432x288 with 1 Axes>"
      ]
     },
     "metadata": {
      "needs_background": "light"
     },
     "output_type": "display_data"
    },
    {
     "data": {
      "image/png": "[encoded data removed]",
      "text/plain": [
       "<Figure size 432x288 with 1 Axes>"
      ]
     },
     "metadata": {
      "needs_background": "light"
     },
     "output_type": "display_data"
    },
    {
     "data": {
      "image/png": "[encoded data removed]",
      "text/plain": [
       "<Figure size 432x288 with 1 Axes>"
      ]
     },
     "metadata": {
      "needs_background": "light"
     },
     "output_type": "display_data"
    },
    {
     "name": "stdout",
     "output_type": "stream",
     "text": [
      "minimum MSE for training set in Ridge: 0.998711\n",
      "minimum MSE for test set in Ridge: 1.009902\n",
      "minimum MSE for training set in Lasso: 0.998575\n",
      "minimum MSE for test set in Lasso: 1.010528\n"
     ]
    }
   ],
   "source": [
    "# for data set 2\n",
    "p3_part2(10000, np.arange(0.01, 5, 0.01), data_generator=generate_test_data_set2)"
   ]
  },
  {
   "cell_type": "markdown",
   "metadata": {},
   "source": [
    "Although I am not quite sure about the meaning of \"higher optimal value of $\\alpha$\" in the HW problem, but\n",
    "\n",
    "- it is apparent that Lasso performs much better in dataset 2 (with highest out-of-sample MSE $\\approx5$) than in dataset 1 (with highest out-of-sample MSE $\\approx14$).\n",
    "- Ridge performs similarly in these two datasets."
   ]
  },
  {
   "cell_type": "markdown",
   "metadata": {},
   "source": [
    "## Problem 4"
   ]
  },
  {
   "cell_type": "code",
   "execution_count": 10,
   "metadata": {},
   "outputs": [],
   "source": [
    "# train NN, and report in and out-of sample MSE.\n",
    "\n",
    "# input\n",
    "# F: number of features\n",
    "# H: neurons in this only hidden layer\n",
    "# out_size: output neuron number\n",
    "# n: size of training set, int\n",
    "# data_generator: data generator function\n",
    "\n",
    "# return: None\n",
    "\n",
    "\n",
    "def train_NN(data_generator, F = 5, H = 10, out_size = 1, n = 10000):\n",
    "    \n",
    "    # NN pattern:\n",
    "    # input layer: F neurons -> 2nd layer: H hidden neurons -> output layer: out_size neurons\n",
    "\n",
    "    # create input and output tensor\n",
    "    xin, yin = data_generator(n, test_sample=False)\n",
    "    x = torch.tensor(xin, dtype=torch.float32)\n",
    "    y = torch.tensor(yin[:, np.newaxis], dtype=torch.float32)\n",
    "\n",
    "    # create model.\n",
    "    model = torch.nn.Sequential(torch.nn.Linear(F, H), torch.nn.Tanh(), torch.nn.Linear(H, out_size))\n",
    "\n",
    "    # define loss function as MSE type.\n",
    "    loss_fn = torch.nn.MSELoss()\n",
    "\n",
    "    learning_rate = 5e-2\n",
    "    optimizer = torch.optim.Adam(model.parameters(), lr=learning_rate)\n",
    "\n",
    "    for t in range(1500):\n",
    "        y_pred = model(x)  # fwd prop\n",
    "\n",
    "        # compute and print loss\n",
    "        loss = loss_fn(y_pred, y)\n",
    "\n",
    "        # zero out gradients to avoid accumulation\n",
    "        optimizer.zero_grad()\n",
    "\n",
    "        loss.backward()  # backward prop\n",
    "\n",
    "        # optimize for one step.\n",
    "        optimizer.step()\n",
    "\n",
    "    # print final in-sample and out-of-sample MSE.\n",
    "    yin_pred = model(x)\n",
    "    loss = loss_fn(yin_pred, y)\n",
    "    print('in-sample MSE: %f' %loss.item())\n",
    "\n",
    "    xout, yout = data_generator(n, test_sample=True)\n",
    "    xout = torch.tensor(xout, dtype=torch.float32)\n",
    "    yout = torch.tensor(yout[:, np.newaxis], dtype=torch.float32)\n",
    "    yout_pred = model(xout)\n",
    "    loss = loss_fn(yout_pred, yout)\n",
    "    print('out-of-sample MSE: %f' %loss.item())"
   ]
  },
  {
   "cell_type": "code",
   "execution_count": 11,
   "metadata": {},
   "outputs": [
    {
     "name": "stdout",
     "output_type": "stream",
     "text": [
      "true beta of generator 1:\n",
      "[1.76405235 0.40015721 0.97873798 2.2408932  1.86755799]\n",
      "in-sample MSE: 0.989194\n",
      "true beta of generator 1:\n",
      "[1.76405235 0.40015721 0.97873798 2.2408932  1.86755799]\n",
      "out-of-sample MSE: 1.017650\n"
     ]
    }
   ],
   "source": [
    "# for data set 1\n",
    "train_NN(generate_test_data_set1)"
   ]
  },
  {
   "cell_type": "code",
   "execution_count": 12,
   "metadata": {},
   "outputs": [
    {
     "name": "stdout",
     "output_type": "stream",
     "text": [
      "true beta of generator 2:\n",
      "[1.76405235 0.40015721 0.97873798 0.         0.        ]\n",
      "in-sample MSE: 0.988821\n",
      "true beta of generator 2:\n",
      "[1.76405235 0.40015721 0.97873798 0.         0.        ]\n",
      "out-of-sample MSE: 1.020878\n"
     ]
    }
   ],
   "source": [
    "# for data set 2\n",
    "train_NN(generate_test_data_set2)"
   ]
  },
  {
   "cell_type": "markdown",
   "metadata": {},
   "source": [
    "The in and out-of sample MSE for dataset 1 and dataset 2 are summarized as follows.\n",
    "\n",
    "- Dataset 1\n",
    "\n",
    "|model  |insample |outofsample  | \n",
    "|:-----:|:-------:|:-----------:|\n",
    "|Ridge  |0.9987   |1.0099       |\n",
    "|Lasso  |0.9989   |1.0104       |\n",
    "|NN     |0.9881   |1.0194       |\n",
    "\n",
    "- Dataset 2\n",
    "\n",
    "|model  |insample |outofsample  | \n",
    "|:-----:|:-------:|:-----------:|\n",
    "|Ridge  |0.9987   |1.0099       |\n",
    "|Lasso  |0.9986   |1.0105       |\n",
    "|NN     |0.9875   |1.0192       |\n",
    "\n",
    "- We can find from the results above that NN tends to have a lower in-sample MSE and higher out-of-sample MSE, compared to Ridge and Lasso.\n",
    "- This may be an evidence that NN is easier to overfit the data."
   ]
  },
  {
   "cell_type": "code",
   "execution_count": 13,
   "metadata": {},
   "outputs": [],
   "source": [
    "# find out the number of iteration NN requires to converge\n",
    "# under different activating functions.\n",
    "\n",
    "# input\n",
    "# F: number of features\n",
    "# H: neurons in this only hidden layer\n",
    "# out_size: output neuron number\n",
    "# n: size of training set, int\n",
    "# data_generator: data generator function\n",
    "# threshold: threshold of loss percentage change to see if NN has converged\n",
    "# active_func: activating function\n",
    "\n",
    "# return: t, the iterations used by NN to finally converge\n",
    "def NN_converge(activate_func, threshold, data_generator=generate_test_data_set1, F = 5, H = 10, out_size = 1, n = 10000):\n",
    "    \n",
    "    # NN pattern:\n",
    "    # input layer: F neurons -> 2nd layer: H hidden neurons -> output layer: out_size neurons\n",
    "\n",
    "    # create input and output tensor\n",
    "    xin, yin = data_generator(n, test_sample=False)\n",
    "    x = torch.tensor(xin, dtype=torch.float32)\n",
    "    y = torch.tensor(yin[:, np.newaxis], dtype=torch.float32)\n",
    "\n",
    "    # create model.\n",
    "    model = torch.nn.Sequential(torch.nn.Linear(F, H), activate_func, torch.nn.Linear(H, out_size))\n",
    "\n",
    "    # define loss function as MSE type.\n",
    "    loss_fn = torch.nn.MSELoss()\n",
    "\n",
    "    learning_rate = 5e-2\n",
    "    optimizer = torch.optim.Adam(model.parameters(), lr=learning_rate)\n",
    "    \n",
    "    old_loss, new_loss = 100, 100\n",
    "\n",
    "    for t in range(1500):\n",
    "        y_pred = model(x)  # fwd prop\n",
    "\n",
    "        # compute and update loss\n",
    "        loss = loss_fn(y_pred, y)\n",
    "        old_loss = new_loss\n",
    "        new_loss = loss.item()\n",
    "        \n",
    "        # if loss percentage change < threshold,\n",
    "        # we think that NN has converged.\n",
    "        if np.abs(new_loss-old_loss) / old_loss < threshold:\n",
    "            break\n",
    "\n",
    "        # zero out gradients to avoid accumulation\n",
    "        optimizer.zero_grad()\n",
    "\n",
    "        loss.backward()  # backward prop\n",
    "\n",
    "        # optimize for one step.\n",
    "        optimizer.step()\n",
    "\n",
    "    return t"
   ]
  },
  {
   "cell_type": "code",
   "execution_count": 14,
   "metadata": {},
   "outputs": [
    {
     "name": "stdout",
     "output_type": "stream",
     "text": [
      "true beta of generator 1:\n",
      "[1.76405235 0.40015721 0.97873798 2.2408932  1.86755799]\n",
      "using tanh(), NN converges after 478 steps.\n"
     ]
    }
   ],
   "source": [
    "print('using tanh(), NN converges after %d steps.' %NN_converge(torch.nn.Tanh(), 1e-5))"
   ]
  },
  {
   "cell_type": "code",
   "execution_count": 15,
   "metadata": {},
   "outputs": [
    {
     "name": "stdout",
     "output_type": "stream",
     "text": [
      "true beta of generator 1:\n",
      "[1.76405235 0.40015721 0.97873798 2.2408932  1.86755799]\n",
      "using ReLU(), NN converges after 253 steps.\n"
     ]
    }
   ],
   "source": [
    "print('using ReLU(), NN converges after %d steps.' %NN_converge(torch.nn.ReLU(), 1e-5))"
   ]
  },
  {
   "cell_type": "markdown",
   "metadata": {},
   "source": [
    "Thus we conclude that ReLU generally leads to a faster convergence speed."
   ]
  },
  {
   "cell_type": "code",
   "execution_count": null,
   "metadata": {},
   "outputs": [],
   "source": []
  }
 ],
 "metadata": {
  "kernelspec": {
   "display_name": "Python 3",
   "language": "python",
   "name": "python3"
  },
  "language_info": {
   "codemirror_mode": {
    "name": "ipython",
    "version": 3
   },
   "file_extension": ".py",
   "mimetype": "text/x-python",
   "name": "python",
   "nbconvert_exporter": "python",
   "pygments_lexer": "ipython3",
   "version": "3.7.3"
  }
 },
 "nbformat": 4,
 "nbformat_minor": 2
}
