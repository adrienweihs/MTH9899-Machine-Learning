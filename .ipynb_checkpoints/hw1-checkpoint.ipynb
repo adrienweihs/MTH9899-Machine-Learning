{
 "cells": [
  {
   "cell_type": "code",
   "execution_count": 1,
   "metadata": {},
   "outputs": [],
   "source": [
    "import numpy as np\n",
    "import matplotlib.pyplot as plt\n",
    "from sklearn.linear_model import RidgeCV\n",
    "from sklearn.linear_model import LassoCV\n",
    "from sklearn.linear_model import Ridge\n",
    "from sklearn.linear_model import Lasso\n",
    "from sklearn.metrics import mean_squared_error\n",
    "import torch"
   ]
  },
  {
   "cell_type": "markdown",
   "metadata": {},
   "source": [
    "<font color = 'darkblue'>\n",
    "    \n",
    "### Problem 1\n",
    "    \n",
    "**Ignoring more sophisticated algorithms, like the Strassen algorithm,\n",
    "multiplying an a × b matrix by a b × c matrix takes O(abc). Please work out the time\n",
    "complexity of computing a naive K-Fold Cross Validation Ridge Regression on an\n",
    "N × F input matrix.**"
   ]
  },
  {
   "cell_type": "markdown",
   "metadata": {},
   "source": [
    "### Answer\n",
    "\n",
    "$$\n",
    "\\beta_{ridge}=(X^TX+\\lambda I)^{-1}X^Ty\n",
    "$$\n",
    "\n",
    "to calculate $X^TX$, it costs $O(F^2N)$\n",
    "\n",
    "to calculate $X^TX+\\lambda I$, the adding costs $O(F)$\n",
    "\n",
    "to calculate $(X^TX+\\lambda I)^{-1}$, the inversion costs $O(F^3)$\n",
    "\n",
    "to calculate $X^Ty$, it costs $O(FN)$\n",
    "\n",
    "to calculate $[(X^TX+\\lambda I)^{-1}](X^Ty)$, it costs $O(F^2)$\n",
    "\n",
    "In big O notation, we only count dominant term. N must be bigger than F, otherwise the first part connot be invertible, So $O(F^2N)$ dominates $O(F^3)$.\n",
    "\n",
    "So ridge's cost should be $O(F^2N)$. And here we also do K-Fold Cross Validation, so the cost should time K.\n",
    "\n",
    "So the final cost is $O(F^2NK)$\n",
    "\n",
    "To be strict, we should multiply this result with $\\frac{k-1}{k}$, as each training we only use this portion of data and use the rest to do the validation."
   ]
  },
  {
   "cell_type": "markdown",
   "metadata": {},
   "source": [
    "<font color = 'darkblue'>\n",
    "\n",
    "### Problem 2\n",
    "    \n",
    "**We can be more efficient. We don’t have to compute $(XX^T )^{ −1}$\n",
    "completely each time. In particular, if you break up X into K chunks, there is a faster\n",
    "way.**\n",
    "\n",
    "$$\n",
    "X=[X_1,X_2,\\dots,X_k]^T\n",
    "$$\n",
    "\n",
    "**Define $X_{−i}$ as X with the ith fold omitted. Given these hints, write a description\n",
    "of how you can efficiently compute $X_{ −i}^TX_{ −i}$ for all K folds.**"
   ]
  },
  {
   "cell_type": "markdown",
   "metadata": {},
   "source": [
    "### Answer\n",
    "\n",
    "$$\n",
    "X^TX=\\sum_{i=1}^k X_i^TX_i\n",
    "$$\n",
    "\n",
    "where $X_i$ has size $n_1\\times F$, and $\\sum_{i=1}^k n_i=N$\n",
    "\n",
    "And \n",
    "$$\n",
    "X_{-i}^TX_{-i}=\\sum_{j=1,j\\ne i}^k X_j^TX_j\n",
    "$$\n",
    "\n",
    "So we can fist calculate each $X_{i}^TX_{i}$ and store the results, and sum them up to get $X^TX$. Each time when we want to calculate $X_{-i}^TX_{-i}$, we use \n",
    "$$\n",
    "X_{-i}^TX_{-i}=X^TX-X_{i}^TX_{i}\n",
    "$$\n",
    "\n",
    "to do the calculation. So we can save a lot of time without repeatedly calculating matrix multiplying, but do adding and subtraction. Thus the complexity of this algorithm is $O(F^2N)$, because for each $X_i^TX_i$, we need $O(F^2\\frac{N}{K})$, and we do it for $K$ times. As for matrix adding and subtraction, complexity is $O(F^2)$, which is dominated by $O(F^2N)$. \n",
    "\n",
    "So the time complexity of this algorithm is $O(F^2N)$, much quicker than problem 1."
   ]
  },
  {
   "cell_type": "markdown",
   "metadata": {},
   "source": [
    "<font color = 'darkblue'>\n",
    "\n",
    "#### Data Generating"
   ]
  },
  {
   "cell_type": "code",
   "execution_count": 2,
   "metadata": {},
   "outputs": [],
   "source": [
    "def generate_test_data_set1(n,test_sample=False):\n",
    "    f=5\n",
    "    np.random.seed(0)\n",
    "    true_betas=np.random.randn(f)\n",
    "    \n",
    "    np.random.seed(1 if test_sample else 2)   \n",
    "    X=np.random.randn(n,f)\n",
    "    Y=np.random.randn(n)+X.dot(true_betas)\n",
    "    \n",
    "    return (X,Y)\n",
    "\n",
    "def generate_test_data_set2(n,test_sample=False):\n",
    "    f=5\n",
    "    np.random.seed(0)\n",
    "    true_betas=np.random.randn(f)\n",
    "    true_betas[-2:]=0\n",
    "    \n",
    "    np.random.seed(1 if test_sample else 2)   \n",
    "    X=np.random.randn(n,f)\n",
    "    Y=np.random.randn(n)+X.dot(true_betas)\n",
    "    \n",
    "    return (X,Y)"
   ]
  },
  {
   "cell_type": "code",
   "execution_count": 3,
   "metadata": {},
   "outputs": [],
   "source": [
    "data_set1=generate_test_data_set1(10000)\n",
    "data_set2=generate_test_data_set2(10000)\n",
    "test_set1=generate_test_data_set1(10000,True)\n",
    "test_set2=generate_test_data_set2(10000,True)"
   ]
  },
  {
   "cell_type": "markdown",
   "metadata": {},
   "source": [
    "<font color = 'darkblue'>\n",
    "\n",
    "### Problem 3\n",
    "    \n",
    "**Use sklearn’s implementation of RidgeCV and LassoCV to fit data\n",
    "set 1 and 2 from above on 10,000 rows. If you run a simple LassoCV fit with the default\n",
    "parameters, it will try different values of α, which is their version of a regularization\n",
    "parameter. After it fits, you can see the alpha values it tried (x.alphas ) as well as the\n",
    "value of α that it chose (x.alpha ). Plot the out-of-sample error by generating a new\n",
    "test data set, also of size 10,000, for various values of α. Which data set leads a higher\n",
    "optimal value of α? Why?**"
   ]
  },
  {
   "cell_type": "code",
   "execution_count": 4,
   "metadata": {},
   "outputs": [],
   "source": [
    "alphas=[]\n",
    "i=1e-6\n",
    "while i<=1e8:\n",
    "    alphas.append(i)\n",
    "    i*=10"
   ]
  },
  {
   "cell_type": "markdown",
   "metadata": {},
   "source": [
    "#### Data Set I"
   ]
  },
  {
   "cell_type": "code",
   "execution_count": 5,
   "metadata": {},
   "outputs": [
    {
     "name": "stdout",
     "output_type": "stream",
     "text": [
      "Ridge CV: \n",
      "  alphas: [1e-06, 9.999999999999999e-06, 9.999999999999999e-05, 0.001, 0.01, 0.1, 1.0, 10.0, 100.0, 1000.0, 10000.0, 100000.0, 1000000.0, 10000000.0, 100000000.0] \n",
      "  chosen alpha:  0.1\n",
      "Lasso CV: \n",
      "  alphas: [1e-06, 9.999999999999999e-06, 9.999999999999999e-05, 0.001, 0.01, 0.1, 1.0, 10.0, 100.0, 1000.0, 10000.0, 100000.0, 1000000.0, 10000000.0, 100000000.0] \n",
      "  chosen alpha:  1e-06\n"
     ]
    }
   ],
   "source": [
    "ridgeCV = RidgeCV(alphas).fit(data_set1[0],data_set1[1])\n",
    "lassoCV = LassoCV(alphas=alphas,cv=5).fit(data_set1[0],data_set1[1])\n",
    "\n",
    "print(\"Ridge CV:\",\"\\n  alphas:\",alphas,\"\\n  chosen alpha: \",ridgeCV.alpha_)\n",
    "print(\"Lasso CV:\",\"\\n  alphas:\",alphas,\"\\n  chosen alpha: \",lassoCV.alpha_)"
   ]
  },
  {
   "cell_type": "markdown",
   "metadata": {},
   "source": [
    "In Ridge, we use leave one out cross validation, and chosen alpha is 0.1.\n",
    "\n",
    "In Lasso, we use 5-fold corss validation, and chose alpha is 1e-6."
   ]
  },
  {
   "cell_type": "code",
   "execution_count": 6,
   "metadata": {},
   "outputs": [
    {
     "data": {
      "image/png": "[encoded data removed]",
      "text/plain": [
       "<Figure size 1008x504 with 1 Axes>"
      ]
     },
     "metadata": {
      "needs_background": "light"
     },
     "output_type": "display_data"
    }
   ],
   "source": [
    "mse1_ridge_test=[]\n",
    "mse1_lasso_test=[]\n",
    "mse1_ridge_train=[]\n",
    "mse1_lasso_train=[]\n",
    "\n",
    "for alpha in alphas:\n",
    "    ridge=Ridge(alpha=alpha).fit(data_set1[0],data_set1[1])\n",
    "    mse1_ridge_train.append(mean_squared_error(data_set1[1],ridge.predict(data_set1[0])))\n",
    "    mse1_ridge_test.append(mean_squared_error(test_set1[1],ridge.predict(test_set1[0])))\n",
    "    \n",
    "    lasso=Lasso(alpha=alpha).fit(data_set1[0],data_set1[1])\n",
    "    mse1_lasso_train.append(mean_squared_error(data_set1[1],lasso.predict(data_set1[0])))\n",
    "    mse1_lasso_test.append(mean_squared_error(test_set1[1],lasso.predict(test_set1[0])))\n",
    "\n",
    "lg_alphas=[np.log10(alpha) for alpha in alphas]\n",
    "\n",
    "plt.figure(figsize=(14,7))\n",
    "plt.plot(lg_alphas,mse1_ridge_test,'bo--',label=\"ridge test\")\n",
    "plt.plot(lg_alphas,mse1_lasso_test,\"ro--\",label=\"lasso test\")\n",
    "#plt.plot(lg_alphas,mse1_ridge_train,\"b+--\",label=\"ridge train\")\n",
    "#plt.plot(lg_alphas,mse1_lasso_train,\"r+--\",label=\"lasso train\")\n",
    "\n",
    "plt.xlabel(\"lg(alpha)\")\n",
    "plt.ylabel(\"mse\")\n",
    "plt.title(\"test set I mse under different alpha\")\n",
    "plt.legend()\n",
    "plt.show()"
   ]
  },
  {
   "cell_type": "markdown",
   "metadata": {},
   "source": [
    "#### Data Set II"
   ]
  },
  {
   "cell_type": "code",
   "execution_count": 7,
   "metadata": {},
   "outputs": [
    {
     "name": "stdout",
     "output_type": "stream",
     "text": [
      "Ridge CV: \n",
      "  alphas: [1e-06, 9.999999999999999e-06, 9.999999999999999e-05, 0.001, 0.01, 0.1, 1.0, 10.0, 100.0, 1000.0, 10000.0, 100000.0, 1000000.0, 10000000.0, 100000000.0] \n",
      "  chosen alpha:  1.0\n",
      "Lasso CV: \n",
      "  alphas: [1e-06, 9.999999999999999e-06, 9.999999999999999e-05, 0.001, 0.01, 0.1, 1.0, 10.0, 100.0, 1000.0, 10000.0, 100000.0, 1000000.0, 10000000.0, 100000000.0] \n",
      "  chosen alpha:  0.001\n"
     ]
    }
   ],
   "source": [
    "ridgeCV = RidgeCV(alphas).fit(data_set2[0],data_set2[1])\n",
    "lassoCV = LassoCV(alphas=alphas,cv=5).fit(data_set2[0],data_set2[1])\n",
    "\n",
    "print(\"Ridge CV:\",\"\\n  alphas:\",alphas,\"\\n  chosen alpha: \",ridgeCV.alpha_)\n",
    "print(\"Lasso CV:\",\"\\n  alphas:\",alphas,\"\\n  chosen alpha: \",lassoCV.alpha_)"
   ]
  },
  {
   "cell_type": "markdown",
   "metadata": {},
   "source": [
    "In Ridge, we use leave one out cross validation, and chosen alpha is 1.\n",
    "\n",
    "In Lasso, we use 5-fold corss validation, and chose alpha is 0.001."
   ]
  },
  {
   "cell_type": "code",
   "execution_count": 8,
   "metadata": {},
   "outputs": [
    {
     "data": {
      "image/png": "[encoded data removed]",
      "text/plain": [
       "<Figure size 1008x504 with 1 Axes>"
      ]
     },
     "metadata": {
      "needs_background": "light"
     },
     "output_type": "display_data"
    }
   ],
   "source": [
    "mse2_ridge_test=[]\n",
    "mse2_lasso_test=[]\n",
    "mse2_ridge_train=[]\n",
    "mse2_lasso_train=[]\n",
    "\n",
    "for alpha in alphas:\n",
    "    ridge=Ridge(alpha=alpha).fit(data_set2[0],data_set2[1])\n",
    "    mse2_ridge_train.append(mean_squared_error(data_set2[1],ridge.predict(data_set2[0])))\n",
    "    mse2_ridge_test.append(mean_squared_error(test_set2[1],ridge.predict(test_set2[0])))\n",
    "    \n",
    "    lasso=Lasso(alpha=alpha).fit(data_set2[0],data_set2[1])\n",
    "    mse2_lasso_train.append(mean_squared_error(data_set2[1],lasso.predict(data_set2[0])))\n",
    "    mse2_lasso_test.append(mean_squared_error(test_set2[1],lasso.predict(test_set2[0])))\n",
    "\n",
    "lg_alphas=[np.log10(alpha) for alpha in alphas]\n",
    "\n",
    "plt.figure(figsize=(14,7))\n",
    "plt.plot(lg_alphas,mse2_ridge_test,'bo--',label=\"ridge test\")\n",
    "plt.plot(lg_alphas,mse2_lasso_test,\"ro--\",label=\"lasso test\")\n",
    "#plt.plot(lg_alphas,mse2_ridge_train,\"b+--\",label=\"ridge train\")\n",
    "#plt.plot(lg_alphas,mse2_lasso_train,\"r+--\",label=\"lasso train\")\n",
    "\n",
    "plt.xlabel(\"lg(alpha)\")\n",
    "plt.ylabel(\"mse\")\n",
    "plt.title(\"test set II mse under different alpha\")\n",
    "plt.legend()\n",
    "plt.show()"
   ]
  },
  {
   "cell_type": "markdown",
   "metadata": {},
   "source": [
    "**data set II leads to a higher alpha, because it has redundant subsets of features (in data generation, data set II has 0 betas). We need higher alpha to either shrink the zero-beta (in ridge) or discard it (in lasso), in order to increase accuracy of our model.**"
   ]
  },
  {
   "cell_type": "markdown",
   "metadata": {},
   "source": [
    "<font color='darkblue' >\n",
    "    \n",
    "### Problem 4\n",
    "\n",
    "Implement a simple 1 hidden layer neural network in PyTorch. Let’s\n",
    "use tanh as our activation function and a hidden layer of 10 neurons. Use this to fit\n",
    "the 2 data sets from Problem 3. Sample code to start you off is below. Talk about:\n",
    "\n",
    "• Using the same test data sets as before, calculate the in-sample and out-of-sample\n",
    "error for the network.\n",
    "\n",
    "• How does this compare to the error from the RidgeCV and LassoCV fits above?\n",
    "\n",
    "• Just for the 1st data set, roughly how many epochs did it take to converge?\n",
    "\n",
    "• Just for the 1st data set, roughly how many epochs does it take to converge if we\n",
    "change the activation function to ReLu?"
   ]
  },
  {
   "cell_type": "markdown",
   "metadata": {},
   "source": [
    "#### 1)"
   ]
  },
  {
   "cell_type": "markdown",
   "metadata": {},
   "source": [
    "#### Data Set I"
   ]
  },
  {
   "cell_type": "code",
   "execution_count": 9,
   "metadata": {},
   "outputs": [],
   "source": [
    "F,H,out_size=5,10,1\n",
    "\n",
    "x=torch.tensor(data_set1[0],dtype=torch.float32)\n",
    "y=torch.tensor(data_set1[1][:,np.newaxis],dtype=torch.float32)\n",
    "\n",
    "model=torch.nn.Sequential(\n",
    "    torch.nn.Linear(F,H),\n",
    "    torch.nn.Tanh(),\n",
    "    torch.nn.Linear(H,out_size),\n",
    "    )\n",
    "\n",
    "loss_fn=torch.nn.MSELoss()\n",
    "\n",
    "learning_rate=5e-2\n",
    "optimizer=torch.optim.Adam(model.parameters(),lr=learning_rate)"
   ]
  },
  {
   "cell_type": "code",
   "execution_count": 10,
   "metadata": {},
   "outputs": [
    {
     "data": {
      "image/png": "[encoded data removed]",
      "text/plain": [
       "<Figure size 1008x504 with 1 Axes>"
      ]
     },
     "metadata": {
      "needs_background": "light"
     },
     "output_type": "display_data"
    }
   ],
   "source": [
    "epoch=2500\n",
    "loss_history_1=[]\n",
    "\n",
    "\n",
    "for t in range(epoch):\n",
    "    y_pred=model(x)\n",
    "    \n",
    "    loss=loss_fn(y_pred,y)\n",
    "    #print(t,loss.item())\n",
    "    loss_history_1.append(loss.item())\n",
    "    \n",
    "    optimizer.zero_grad()\n",
    "    \n",
    "    loss.backward()\n",
    "    \n",
    "    optimizer.step()\n",
    "\n",
    "plt.figure(figsize=(14,7))\n",
    "plt.plot(range(len(loss_history_1)),loss_history_1)\n",
    "plt.xlabel(\"epoch\")\n",
    "plt.ylabel(\"loss\")\n",
    "plt.show()"
   ]
  },
  {
   "cell_type": "code",
   "execution_count": 11,
   "metadata": {},
   "outputs": [
    {
     "name": "stdout",
     "output_type": "stream",
     "text": [
      "Data Set I:\n",
      "\n",
      "in-sample error:  0.9881792664527893 \n",
      "\n",
      "out-of-sample error:  1.0184941291809082\n"
     ]
    }
   ],
   "source": [
    "x_test=torch.tensor(test_set1[0],dtype=torch.float32)\n",
    "y_test=torch.tensor(test_set1[1][:,np.newaxis],dtype=torch.float32)\n",
    "\n",
    "err1_in=loss_fn(model(x),y).item()\n",
    "err1_out=loss_fn(model(x_test),y_test).item()\n",
    "\n",
    "print(\"Data Set I:\\n\")\n",
    "print(\"in-sample error: \",err1_in,\"\\n\")\n",
    "print(\"out-of-sample error: \",err1_out)"
   ]
  },
  {
   "cell_type": "markdown",
   "metadata": {},
   "source": [
    "#### Date Set II"
   ]
  },
  {
   "cell_type": "code",
   "execution_count": 12,
   "metadata": {},
   "outputs": [
    {
     "data": {
      "image/png": "[encoded data removed]",
      "text/plain": [
       "<Figure size 1008x504 with 1 Axes>"
      ]
     },
     "metadata": {
      "needs_background": "light"
     },
     "output_type": "display_data"
    }
   ],
   "source": [
    "x=torch.tensor(data_set2[0],dtype=torch.float32)\n",
    "y=torch.tensor(data_set2[1][:,np.newaxis],dtype=torch.float32)\n",
    "x_test=torch.tensor(test_set2[0],dtype=torch.float32)\n",
    "y_test=torch.tensor(test_set2[1][:,np.newaxis],dtype=torch.float32)\n",
    "\n",
    "model=torch.nn.Sequential(\n",
    "    torch.nn.Linear(F,H),\n",
    "    torch.nn.Tanh(),\n",
    "    torch.nn.Linear(H,out_size),\n",
    "    )\n",
    "\n",
    "loss_fn=torch.nn.MSELoss()\n",
    "\n",
    "learning_rate=5e-2\n",
    "optimizer=torch.optim.Adam(model.parameters(),lr=learning_rate)\n",
    "\n",
    "\n",
    "epoch=2500\n",
    "loss_history_2=[]\n",
    "\n",
    "for t in range(epoch):\n",
    "    y_pred=model(x)\n",
    "    \n",
    "    loss=loss_fn(y_pred,y)\n",
    "    #print(t,loss.item())\n",
    "    loss_history_2.append(loss.item())\n",
    "    \n",
    "    optimizer.zero_grad()\n",
    "    \n",
    "    loss.backward()\n",
    "    \n",
    "    optimizer.step()\n",
    "\n",
    "plt.figure(figsize=(14,7))\n",
    "plt.plot(range(len(loss_history_2)),loss_history_2)\n",
    "plt.xlabel(\"epoch\")\n",
    "plt.ylabel(\"loss\")\n",
    "plt.show()"
   ]
  },
  {
   "cell_type": "code",
   "execution_count": 13,
   "metadata": {},
   "outputs": [
    {
     "name": "stdout",
     "output_type": "stream",
     "text": [
      "Data Set II:\n",
      "\n",
      "in-sample error:  0.9882960319519043 \n",
      "\n",
      "out-of-sample error:  1.0195080041885376\n"
     ]
    }
   ],
   "source": [
    "err2_in=loss_fn(model(x),y).item()\n",
    "err2_out=loss_fn(model(x_test),y_test).item()\n",
    "\n",
    "print(\"Data Set II:\\n\")\n",
    "print(\"in-sample error: \",err2_in,\"\\n\")\n",
    "print(\"out-of-sample error: \",err2_out)"
   ]
  },
  {
   "cell_type": "markdown",
   "metadata": {},
   "source": [
    "#### 2)"
   ]
  },
  {
   "cell_type": "markdown",
   "metadata": {},
   "source": [
    "We compare Ridge and Lasso results under best cross-validation alpha with neutral network."
   ]
  },
  {
   "cell_type": "code",
   "execution_count": 14,
   "metadata": {},
   "outputs": [
    {
     "name": "stdout",
     "output_type": "stream",
     "text": [
      "data set I:\n",
      "  Lasso:\n",
      "    train:  0.9976911151951062\n",
      "    test:   1.0100305858523435\n",
      "  Ridge:\n",
      "    train:  0.997691116466355\n",
      "    test:   1.010030288962445\n",
      "  Neutral Network:\n",
      "    train:  0.9881792664527893\n",
      "    test:   1.0184941291809082\n",
      "data set II:\n",
      "  Lasso:\n",
      "    train:  0.9976954062855984\n",
      "    test:   1.0100769985024736\n",
      "  Ridge:\n",
      "    train:  0.9976911575479255\n",
      "    test:   1.0100334242401687\n",
      "  Neutral Network:\n",
      "    train:  0.9882960319519043\n",
      "    test:   1.0195080041885376\n"
     ]
    }
   ],
   "source": [
    "print(\"data set I:\")\n",
    "print(\"  Lasso:\")\n",
    "print(\"    train: \",mse1_lasso_train[0])\n",
    "print(\"    test:  \",mse1_lasso_test[0])\n",
    "print(\"  Ridge:\")\n",
    "print(\"    train: \",mse1_ridge_train[5])\n",
    "print(\"    test:  \",mse1_ridge_test[5])\n",
    "print(\"  Neutral Network:\")\n",
    "print(\"    train: \",err1_in)\n",
    "print(\"    test:  \",err1_out)\n",
    "\n",
    "print(\"data set II:\")\n",
    "print(\"  Lasso:\")\n",
    "print(\"    train: \",mse2_lasso_train[3])\n",
    "print(\"    test:  \",mse2_lasso_test[3])\n",
    "print(\"  Ridge:\")\n",
    "print(\"    train: \",mse2_ridge_train[6])\n",
    "print(\"    test:  \",mse2_ridge_test[6])\n",
    "print(\"  Neutral Network:\")\n",
    "print(\"    train: \",err2_in)\n",
    "print(\"    test:  \",err2_out)"
   ]
  },
  {
   "cell_type": "markdown",
   "metadata": {},
   "source": [
    "In both data set, neural network's in-sample error is little smaller than Lasso and Ridge under best cross-validation alpha.\n",
    "\n",
    "In both data set, neutral newwork's out-of-sample error is little greater than Lasso and Ridge under best cross-validation alpha.\n",
    "\n",
    "So we can conclude neutral network is easy to over-fit. In general, they have the same level ability in predicting in both data sets, as the difference is rather small."
   ]
  },
  {
   "cell_type": "markdown",
   "metadata": {},
   "source": [
    "#### 3)\n",
    "\n",
    "Zoom in the figure of loss history of data set I during the training."
   ]
  },
  {
   "cell_type": "code",
   "execution_count": 15,
   "metadata": {},
   "outputs": [
    {
     "data": {
      "image/png": "[encoded data removed]",
      "text/plain": [
       "<Figure size 1008x504 with 1 Axes>"
      ]
     },
     "metadata": {
      "needs_background": "light"
     },
     "output_type": "display_data"
    }
   ],
   "source": [
    "plt.figure(figsize=(14,7))\n",
    "plt.plot(range(len(loss_history_1))[100:],loss_history_1[100:])\n",
    "plt.xlabel(\"epoch\")\n",
    "plt.ylabel(\"loss\")\n",
    "plt.show()"
   ]
  },
  {
   "cell_type": "markdown",
   "metadata": {},
   "source": [
    "As we can see, though after 100 epochs, the mse seems to be convergent, if we zoom in, mse keep decreasing until 500 epochs. Also after 500 epochs, the trend of mse is still decreasing, but slower and with peroidically bounce up. In order to decide after how many epochs, the model converges, we need a quantitative criterion. Here we define if the improvement of mse in one epoch is smaller than 1e-6, than we say model converges."
   ]
  },
  {
   "cell_type": "code",
   "execution_count": 27,
   "metadata": {},
   "outputs": [
    {
     "name": "stdout",
     "output_type": "stream",
     "text": [
      "Tanh activation converges after 627 epochs\n"
     ]
    }
   ],
   "source": [
    "for i in range(1,epoch):\n",
    "    if loss_history_1[i-1]>loss_history_1[i] and loss_history_1[i-1]-loss_history_1[i]<1e-6:\n",
    "        print(\"Tanh activation converges after\",i,\"epochs\")\n",
    "        break"
   ]
  },
  {
   "cell_type": "markdown",
   "metadata": {},
   "source": [
    "#### 4)"
   ]
  },
  {
   "cell_type": "code",
   "execution_count": 16,
   "metadata": {},
   "outputs": [
    {
     "data": {
      "image/png": "[encoded data removed]",
      "text/plain": [
       "<Figure size 1008x504 with 1 Axes>"
      ]
     },
     "metadata": {
      "needs_background": "light"
     },
     "output_type": "display_data"
    }
   ],
   "source": [
    "x=torch.tensor(data_set1[0],dtype=torch.float32)\n",
    "y=torch.tensor(data_set1[1][:,np.newaxis],dtype=torch.float32)\n",
    "\n",
    "## change activation to ReLu\n",
    "model=torch.nn.Sequential(\n",
    "    torch.nn.Linear(F,H),\n",
    "    torch.nn.ReLU(),\n",
    "    torch.nn.Linear(H,out_size),\n",
    "    )\n",
    "\n",
    "loss_fn=torch.nn.MSELoss()\n",
    "\n",
    "learning_rate=5e-2\n",
    "optimizer=torch.optim.Adam(model.parameters(),lr=learning_rate)\n",
    "\n",
    "\n",
    "epoch=2500\n",
    "loss_history_11=[]\n",
    "\n",
    "for t in range(epoch):\n",
    "    y_pred=model(x)\n",
    "    \n",
    "    loss=loss_fn(y_pred,y)\n",
    "    #print(t,loss.item())\n",
    "    loss_history_11.append(loss.item())\n",
    "    \n",
    "    optimizer.zero_grad()\n",
    "    \n",
    "    loss.backward()\n",
    "    \n",
    "    optimizer.step()\n",
    "\n",
    "plt.figure(figsize=(14,7))\n",
    "plt.plot(range(len(loss_history_11)),loss_history_11)\n",
    "plt.xlabel(\"epoch\")\n",
    "plt.ylabel(\"loss\")\n",
    "plt.show()"
   ]
  },
  {
   "cell_type": "markdown",
   "metadata": {},
   "source": [
    "Zoom in the last figure"
   ]
  },
  {
   "cell_type": "code",
   "execution_count": 17,
   "metadata": {},
   "outputs": [
    {
     "data": {
      "image/png": "[encoded data removed]",
      "text/plain": [
       "<Figure size 1008x504 with 1 Axes>"
      ]
     },
     "metadata": {
      "needs_background": "light"
     },
     "output_type": "display_data"
    }
   ],
   "source": [
    "plt.figure(figsize=(14,7))\n",
    "plt.plot(range(len(loss_history_11))[100:],loss_history_1[100:])\n",
    "plt.xlabel(\"epoch\")\n",
    "plt.ylabel(\"loss\")\n",
    "plt.show()"
   ]
  },
  {
   "cell_type": "markdown",
   "metadata": {},
   "source": [
    "Here we see same pattern in convergence. Apply same quantitaive criterion for convergence, if the improvement of mse in one epoch is smaller than 1e-6, than we say model converges."
   ]
  },
  {
   "cell_type": "code",
   "execution_count": 29,
   "metadata": {},
   "outputs": [
    {
     "name": "stdout",
     "output_type": "stream",
     "text": [
      "ReLu activation converges after 455 epochs\n"
     ]
    }
   ],
   "source": [
    "for i in range(1,epoch):\n",
    "    if loss_history_2[i-1]>loss_history_2[i] and loss_history_2[i-1]-loss_history_2[i]<1e-6:\n",
    "        print(\"ReLu activation converges after\",i,\"epochs\")\n",
    "        break"
   ]
  },
  {
   "cell_type": "markdown",
   "metadata": {},
   "source": [
    "We can conclude in this data set, ReLu activation converges faster than Tanh activation."
   ]
  }
 ],
 "metadata": {
  "kernelspec": {
   "display_name": "Python 3",
   "language": "python",
   "name": "python3"
  },
  "language_info": {
   "codemirror_mode": {
    "name": "ipython",
    "version": 3
   },
   "file_extension": ".py",
   "mimetype": "text/x-python",
   "name": "python",
   "nbconvert_exporter": "python",
   "pygments_lexer": "ipython3",
   "version": "3.7.3"
  }
 },
 "nbformat": 4,
 "nbformat_minor": 2
}
